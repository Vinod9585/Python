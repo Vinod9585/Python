{
 "cells": [
  {
   "cell_type": "markdown",
   "metadata": {},
   "source": [
    "## In any programming language there are 2 types of errors are possible.\n",
    "### 1. Syntax Errors\n",
    "### 2. Runtime Errors"
   ]
  },
  {
   "cell_type": "markdown",
   "metadata": {},
   "source": [
    "# 1) Syntax Error :\n",
    "### The errors which occurs because of invalid syntax are called syntax errors."
   ]
  },
  {
   "cell_type": "code",
   "execution_count": 5,
   "metadata": {},
   "outputs": [
    {
     "ename": "SyntaxError",
     "evalue": "invalid syntax (<ipython-input-5-596856267d01>, line 3)",
     "output_type": "error",
     "traceback": [
      "\u001b[1;36m  File \u001b[1;32m\"<ipython-input-5-596856267d01>\"\u001b[1;36m, line \u001b[1;32m3\u001b[0m\n\u001b[1;33m    if x==10\u001b[0m\n\u001b[1;37m            ^\u001b[0m\n\u001b[1;31mSyntaxError\u001b[0m\u001b[1;31m:\u001b[0m invalid syntax\n"
     ]
    }
   ],
   "source": [
    "x = 10\n",
    "\n",
    "if x==10\n",
    "    print(\"hello\")"
   ]
  },
  {
   "cell_type": "code",
   "execution_count": 12,
   "metadata": {},
   "outputs": [
    {
     "ename": "SyntaxError",
     "evalue": "Missing parentheses in call to 'print'. Did you mean print(\"vinod\")? (<ipython-input-12-0c42f2f501be>, line 1)",
     "output_type": "error",
     "traceback": [
      "\u001b[1;36m  File \u001b[1;32m\"<ipython-input-12-0c42f2f501be>\"\u001b[1;36m, line \u001b[1;32m1\u001b[0m\n\u001b[1;33m    print \"vinod\"\u001b[0m\n\u001b[1;37m          ^\u001b[0m\n\u001b[1;31mSyntaxError\u001b[0m\u001b[1;31m:\u001b[0m Missing parentheses in call to 'print'. Did you mean print(\"vinod\")?\n"
     ]
    }
   ],
   "source": [
    "print \"vinod\""
   ]
  },
  {
   "cell_type": "markdown",
   "metadata": {},
   "source": [
    "## Note: Programmer is responsible to correct these syntax errors. Once all syntax errors are corrected then only program execution will be started."
   ]
  },
  {
   "cell_type": "markdown",
   "metadata": {},
   "source": [
    "# 2) Runtime Error :\n",
    "### Also known as exceptions.\n",
    "### While executing the program if something goes wrong because of end user input or programming logic or memory problems etc then we will get Runtime Errors."
   ]
  },
  {
   "cell_type": "code",
   "execution_count": 7,
   "metadata": {},
   "outputs": [
    {
     "ename": "ZeroDivisionError",
     "evalue": "division by zero",
     "output_type": "error",
     "traceback": [
      "\u001b[1;31m---------------------------------------------------------------------------\u001b[0m",
      "\u001b[1;31mZeroDivisionError\u001b[0m                         Traceback (most recent call last)",
      "\u001b[1;32m<ipython-input-7-fe01563e1bc6>\u001b[0m in \u001b[0;36m<module>\u001b[1;34m\u001b[0m\n\u001b[1;32m----> 1\u001b[1;33m \u001b[0mprint\u001b[0m\u001b[1;33m(\u001b[0m\u001b[1;36m10\u001b[0m\u001b[1;33m/\u001b[0m\u001b[1;36m0\u001b[0m\u001b[1;33m)\u001b[0m\u001b[1;33m\u001b[0m\u001b[1;33m\u001b[0m\u001b[0m\n\u001b[0m",
      "\u001b[1;31mZeroDivisionError\u001b[0m: division by zero"
     ]
    }
   ],
   "source": [
    "print(10/0)"
   ]
  },
  {
   "cell_type": "code",
   "execution_count": 8,
   "metadata": {},
   "outputs": [
    {
     "ename": "TypeError",
     "evalue": "unsupported operand type(s) for /: 'int' and 'str'",
     "output_type": "error",
     "traceback": [
      "\u001b[1;31m---------------------------------------------------------------------------\u001b[0m",
      "\u001b[1;31mTypeError\u001b[0m                                 Traceback (most recent call last)",
      "\u001b[1;32m<ipython-input-8-5b0f17ebac5b>\u001b[0m in \u001b[0;36m<module>\u001b[1;34m\u001b[0m\n\u001b[1;32m----> 1\u001b[1;33m \u001b[0mprint\u001b[0m\u001b[1;33m(\u001b[0m\u001b[1;36m10\u001b[0m\u001b[1;33m/\u001b[0m\u001b[1;34m\"ten\"\u001b[0m\u001b[1;33m)\u001b[0m\u001b[1;33m\u001b[0m\u001b[1;33m\u001b[0m\u001b[0m\n\u001b[0m",
      "\u001b[1;31mTypeError\u001b[0m: unsupported operand type(s) for /: 'int' and 'str'"
     ]
    }
   ],
   "source": [
    "print(10/\"ten\")"
   ]
  },
  {
   "cell_type": "code",
   "execution_count": 9,
   "metadata": {
    "scrolled": true
   },
   "outputs": [
    {
     "name": "stdout",
     "output_type": "stream",
     "text": [
      "Enter Number: ten\n"
     ]
    },
    {
     "ename": "ValueError",
     "evalue": "invalid literal for int() with base 10: 'ten'",
     "output_type": "error",
     "traceback": [
      "\u001b[1;31m---------------------------------------------------------------------------\u001b[0m",
      "\u001b[1;31mValueError\u001b[0m                                Traceback (most recent call last)",
      "\u001b[1;32m<ipython-input-9-82a2e4cbdbb0>\u001b[0m in \u001b[0;36m<module>\u001b[1;34m\u001b[0m\n\u001b[1;32m----> 1\u001b[1;33m \u001b[0mx\u001b[0m \u001b[1;33m=\u001b[0m \u001b[0mint\u001b[0m\u001b[1;33m(\u001b[0m\u001b[0minput\u001b[0m\u001b[1;33m(\u001b[0m\u001b[1;34m\"Enter Number: \"\u001b[0m\u001b[1;33m)\u001b[0m\u001b[1;33m)\u001b[0m\u001b[1;33m\u001b[0m\u001b[1;33m\u001b[0m\u001b[0m\n\u001b[0m\u001b[0;32m      2\u001b[0m \u001b[0mprint\u001b[0m\u001b[1;33m(\u001b[0m\u001b[0mx\u001b[0m\u001b[1;33m)\u001b[0m\u001b[1;33m\u001b[0m\u001b[1;33m\u001b[0m\u001b[0m\n",
      "\u001b[1;31mValueError\u001b[0m: invalid literal for int() with base 10: 'ten'"
     ]
    }
   ],
   "source": [
    "x = int(input(\"Enter Number: \"))\n",
    "print(x)"
   ]
  },
  {
   "cell_type": "markdown",
   "metadata": {},
   "source": [
    "## Note: Exception Handling concept is applicable for Runtime Errors but not for syntax errors"
   ]
  },
  {
   "cell_type": "code",
   "execution_count": null,
   "metadata": {},
   "outputs": [],
   "source": []
  },
  {
   "cell_type": "code",
   "execution_count": null,
   "metadata": {},
   "outputs": [],
   "source": []
  },
  {
   "cell_type": "markdown",
   "metadata": {},
   "source": [
    "# What is Exception?\n",
    "\n",
    "### An unwanted and unexpected event that disturbs normal flow of program is called exception.\n",
    "\n",
    "### Eg:\n",
    "##### ZeroDivisionError\n",
    "##### TypeError\n",
    "##### ValueError\n",
    "##### FileNotFoundError\n",
    "##### EOFError\n",
    "\n",
    "### It is highly recommended to handle exceptions. The main objective of exception handling is Graceful Termination of the program(i.e we should not block our resources and we should not miss anything)\n",
    "### Exception handling does not mean repairing exception. We have to define alternative way to continue rest of the program normally."
   ]
  },
  {
   "cell_type": "code",
   "execution_count": null,
   "metadata": {},
   "outputs": [],
   "source": []
  },
  {
   "cell_type": "markdown",
   "metadata": {},
   "source": [
    "# Default Exception Handling in Python :\n",
    "\n",
    "### Every exception in Python is an object. For every exception type the corresponding classes are available.\n",
    "### Whevever an exception occurs PVM will create the corresponding exception object and will check for handling code. If handling code is not available then Python interpreter terminates the program abnormally and prints corresponding exception information to the console.\n",
    "### The rest of the program won't be executed."
   ]
  },
  {
   "cell_type": "code",
   "execution_count": 10,
   "metadata": {},
   "outputs": [
    {
     "name": "stdout",
     "output_type": "stream",
     "text": [
      "hello\n"
     ]
    },
    {
     "ename": "ZeroDivisionError",
     "evalue": "division by zero",
     "output_type": "error",
     "traceback": [
      "\u001b[1;31m---------------------------------------------------------------------------\u001b[0m",
      "\u001b[1;31mZeroDivisionError\u001b[0m                         Traceback (most recent call last)",
      "\u001b[1;32m<ipython-input-10-84700869c8cd>\u001b[0m in \u001b[0;36m<module>\u001b[1;34m\u001b[0m\n\u001b[0;32m      1\u001b[0m \u001b[0mprint\u001b[0m\u001b[1;33m(\u001b[0m\u001b[1;34m\"hello\"\u001b[0m\u001b[1;33m)\u001b[0m\u001b[1;33m\u001b[0m\u001b[1;33m\u001b[0m\u001b[0m\n\u001b[1;32m----> 2\u001b[1;33m \u001b[0mprint\u001b[0m\u001b[1;33m(\u001b[0m\u001b[1;36m10\u001b[0m\u001b[1;33m/\u001b[0m\u001b[1;36m0\u001b[0m\u001b[1;33m)\u001b[0m\u001b[1;33m\u001b[0m\u001b[1;33m\u001b[0m\u001b[0m\n\u001b[0m\u001b[0;32m      3\u001b[0m \u001b[0mprint\u001b[0m\u001b[1;33m(\u001b[0m\u001b[1;34m\"world\"\u001b[0m\u001b[1;33m)\u001b[0m\u001b[1;33m\u001b[0m\u001b[1;33m\u001b[0m\u001b[0m\n",
      "\u001b[1;31mZeroDivisionError\u001b[0m: division by zero"
     ]
    }
   ],
   "source": [
    "print(\"hello\")\n",
    "print(10/0)\n",
    "print(\"world\")"
   ]
  },
  {
   "cell_type": "markdown",
   "metadata": {},
   "source": [
    "# Python's Exception Hierarchy"
   ]
  },
  {
   "cell_type": "markdown",
   "metadata": {},
   "source": [
    "### Every Exception in Python is a class. \n",
    "### All exception classes are child classes of BaseException.i.e every exception class extends BaseException either directly or indirectly. Hence BaseException acts as root for PythonException Hierarchy.\n",
    "### Most of the times being a programmer we have to concentrate Exception and its child classes."
   ]
  },
  {
   "cell_type": "markdown",
   "metadata": {},
   "source": [
    "# Customized Exception Handling by using try-except :"
   ]
  },
  {
   "cell_type": "markdown",
   "metadata": {},
   "source": [
    "### It is highly recommended to handle exceptions.\n",
    "### The code which may raise exception is called risky code and we have to take risky code inside try block. The corresponding handling code we have to take inside except block.\n",
    "\n",
    "#### try:\n",
    "    Risky Code\n",
    "#### except XXX:\n",
    "    Handling code/Alternative Code"
   ]
  },
  {
   "cell_type": "markdown",
   "metadata": {},
   "source": [
    "### Without try-except :"
   ]
  },
  {
   "cell_type": "code",
   "execution_count": 3,
   "metadata": {},
   "outputs": [
    {
     "name": "stdout",
     "output_type": "stream",
     "text": [
      "statement-1\n"
     ]
    },
    {
     "ename": "ZeroDivisionError",
     "evalue": "division by zero",
     "output_type": "error",
     "traceback": [
      "\u001b[1;31m---------------------------------------------------------------------------\u001b[0m",
      "\u001b[1;31mZeroDivisionError\u001b[0m                         Traceback (most recent call last)",
      "\u001b[1;32m<ipython-input-3-baa052bfc452>\u001b[0m in \u001b[0;36m<module>\u001b[1;34m\u001b[0m\n\u001b[0;32m      1\u001b[0m \u001b[0mprint\u001b[0m\u001b[1;33m(\u001b[0m\u001b[1;34m\"statement-1\"\u001b[0m\u001b[1;33m)\u001b[0m\u001b[1;33m\u001b[0m\u001b[1;33m\u001b[0m\u001b[0m\n\u001b[1;32m----> 2\u001b[1;33m \u001b[0mprint\u001b[0m\u001b[1;33m(\u001b[0m\u001b[1;36m10\u001b[0m\u001b[1;33m/\u001b[0m\u001b[1;36m0\u001b[0m\u001b[1;33m)\u001b[0m\u001b[1;33m\u001b[0m\u001b[1;33m\u001b[0m\u001b[0m\n\u001b[0m\u001b[0;32m      3\u001b[0m \u001b[0mprint\u001b[0m\u001b[1;33m(\u001b[0m\u001b[1;34m\"statement-3\"\u001b[0m\u001b[1;33m)\u001b[0m\u001b[1;33m\u001b[0m\u001b[1;33m\u001b[0m\u001b[0m\n",
      "\u001b[1;31mZeroDivisionError\u001b[0m: division by zero"
     ]
    }
   ],
   "source": [
    "print(\"statement-1\")\n",
    "print(10/0)\n",
    "print(\"statement-3\")"
   ]
  },
  {
   "cell_type": "markdown",
   "metadata": {},
   "source": [
    "### With try-except :"
   ]
  },
  {
   "cell_type": "code",
   "execution_count": 7,
   "metadata": {},
   "outputs": [
    {
     "name": "stdout",
     "output_type": "stream",
     "text": [
      "statement-1\n",
      "5.0\n",
      "statement-3\n"
     ]
    }
   ],
   "source": [
    "print(\"statement-1\")\n",
    "try:\n",
    "    print(10/0)\n",
    "except ZeroDivisionError:\n",
    "    print(10/2)\n",
    "print(\"statement-3\")"
   ]
  },
  {
   "cell_type": "markdown",
   "metadata": {},
   "source": [
    "# Control Flow in try-except :"
   ]
  },
  {
   "cell_type": "markdown",
   "metadata": {},
   "source": [
    "#### try:\n",
    "    stmt-1\n",
    "    stmt-2\n",
    "    stmt-3\n",
    "#### except XXX:\n",
    "    stmt-4\n",
    "stmt-5"
   ]
  },
  {
   "cell_type": "markdown",
   "metadata": {},
   "source": [
    "### Case-1: If there is no exception ===> 1,2,3,5 and Normal Termination\n",
    "\n",
    "### case-2: If an exception raised at stmt-2 and corresponding except block matched ===> 1,4,5 Normal Termination\n",
    "             \n",
    "### case-3: If an exception raised at stmt-2 and corresponding except block not matched ===> 1, Abnormal Termination\n",
    "             \n",
    "### case-4: If an exception raised at stmt-4 or at stmt-5 then it is always abnormal termination."
   ]
  },
  {
   "cell_type": "markdown",
   "metadata": {},
   "source": [
    "## Conclusion :\n",
    "#### 1. within the try block if anywhere exception raised then rest of the try block won't be executed eventhough we handled that exception. Hence we have to take only risky code inside try block and length of the try block should be as less as possible.\n",
    "#### 2. In addition to try block,there may be a chance of raising exceptions inside except and finally blocks also.\n",
    "#### 3. If any statement which is not part of try block raises an exception then it is always abnormal termination."
   ]
  },
  {
   "cell_type": "markdown",
   "metadata": {},
   "source": [
    "## How to print Exception Information:"
   ]
  },
  {
   "cell_type": "code",
   "execution_count": 11,
   "metadata": {},
   "outputs": [
    {
     "name": "stdout",
     "output_type": "stream",
     "text": [
      "Exception raised and its description is: division by zero\n"
     ]
    }
   ],
   "source": [
    "try:\n",
    "    print(10/0)\n",
    "except ZeroDivisionError as msg:\n",
    "    print(\"Exception raised and its description is:\",msg)"
   ]
  },
  {
   "cell_type": "code",
   "execution_count": null,
   "metadata": {},
   "outputs": [],
   "source": []
  },
  {
   "cell_type": "markdown",
   "metadata": {},
   "source": [
    "# try with multiple except block :\n",
    "\n",
    "### The way of handling exception is varied from exception to exception.Hence for every exception type a seperate except block we have to provide. i.e try with multiple except blocks is possible and recommended to use.\n",
    "\n",
    "### Eg:\n",
    "##### try:\n",
    "    -------\n",
    "    -------\n",
    "    -------\n",
    "##### except ZeroDivisionError:\n",
    "    perform alternative \n",
    "    arithmetic operations\n",
    "##### except FileNotFoundError:\n",
    "    use local file instead of remote file"
   ]
  },
  {
   "cell_type": "markdown",
   "metadata": {},
   "source": [
    "### If try with multiple except blocks available then based on raised exception the corresponding except block will be executed."
   ]
  },
  {
   "cell_type": "code",
   "execution_count": 5,
   "metadata": {},
   "outputs": [
    {
     "name": "stdout",
     "output_type": "stream",
     "text": [
      "Enter first value: ten\n",
      "Please provide int value only\n"
     ]
    }
   ],
   "source": [
    "try:\n",
    "    x = int(input(\"Enter first value: \"))\n",
    "    y = int(input(\"Enter second value: \"))\n",
    "    print(x/y)\n",
    "except ZeroDivisionError:\n",
    "    print(\"Can't divide by zero!!!\")\n",
    "except ValueError:\n",
    "    print(\"Please provide int value only\")"
   ]
  },
  {
   "cell_type": "code",
   "execution_count": 6,
   "metadata": {},
   "outputs": [
    {
     "name": "stdout",
     "output_type": "stream",
     "text": [
      "Enter first value: 1\n",
      "Enter second value: 0\n",
      "Can't divide by zero!!!\n"
     ]
    }
   ],
   "source": [
    "try:\n",
    "    x = int(input(\"Enter first value: \"))\n",
    "    y = int(input(\"Enter second value: \"))\n",
    "    print(x/y)\n",
    "except ZeroDivisionError:\n",
    "    print(\"Can't divide by zero!!!\")\n",
    "except ValueError:\n",
    "    print(\"Please provide int value only\")"
   ]
  },
  {
   "cell_type": "markdown",
   "metadata": {},
   "source": [
    "### If try with multiple except blocks available then the order of these except blocks is important.\n",
    "### Python interpreter will always consider from TOP to BOTTOM until matched except block identified."
   ]
  },
  {
   "cell_type": "code",
   "execution_count": 7,
   "metadata": {},
   "outputs": [
    {
     "name": "stdout",
     "output_type": "stream",
     "text": [
      "Enter first value: 10\n",
      "Enter second value: 0\n",
      "ArithmeticError\n"
     ]
    }
   ],
   "source": [
    "try:\n",
    "    x = int(input(\"Enter first value: \"))\n",
    "    y = int(input(\"Enter second value: \"))\n",
    "    print(x/y)\n",
    "except ArithmeticError:                 # parent class of ZeroDivisionError\n",
    "    print(\"ArithmeticError\")\n",
    "except ZeroDivisionError:               # child class of ArithmeticError\n",
    "    print(\"ZeroDivisionError\")"
   ]
  },
  {
   "cell_type": "code",
   "execution_count": 12,
   "metadata": {},
   "outputs": [
    {
     "name": "stdout",
     "output_type": "stream",
     "text": [
      "Enter first value: 10\n",
      "Enter second value: 0\n",
      "ZeroDivisionError\n"
     ]
    }
   ],
   "source": [
    "try:\n",
    "    x = int(input(\"Enter first value: \"))\n",
    "    y = int(input(\"Enter second value: \"))\n",
    "    print(x/y)\n",
    "    \"\"\"except ArithmeticError:\n",
    "        print(\"ArithmeticError\")\"\"\"\n",
    "except ZeroDivisionError:          # child class of ArithmeticError \n",
    "    print(\"ZeroDivisionError\")"
   ]
  },
  {
   "cell_type": "markdown",
   "metadata": {},
   "source": [
    "# Single except block that can handle multiple exceptions: \n",
    "### We can write a single except block that can handle multiple different types of exceptions.\n",
    "### except (Exception1,Exception2,exception3,..): or\n",
    "### except (Exception1,Exception2,exception3,..) as msg : \n",
    "## Parenthesis are mandatory and this group of exceptions internally considered as tuple."
   ]
  },
  {
   "cell_type": "code",
   "execution_count": 2,
   "metadata": {},
   "outputs": [
    {
     "name": "stdout",
     "output_type": "stream",
     "text": [
      "Enter first value: 10\n",
      "Enter second value: 0\n",
      "Plz provide valid numbers only!!!!!\n"
     ]
    }
   ],
   "source": [
    "try:\n",
    "    x = int(input(\"Enter first value: \"))\n",
    "    y = int(input(\"Enter second value: \"))\n",
    "    print(x/y)\n",
    "except (ZeroDivisionError,ValueError):\n",
    "    print(\"Plz provide valid numbers only!!!!!\")"
   ]
  },
  {
   "cell_type": "code",
   "execution_count": 15,
   "metadata": {},
   "outputs": [
    {
     "name": "stdout",
     "output_type": "stream",
     "text": [
      "Enter first value: 10\n",
      "Enter second value: ten\n",
      "Plz provide valid numbers only and problem is:  invalid literal for int() with base 10: 'ten'\n"
     ]
    }
   ],
   "source": [
    "try:\n",
    "    x = int(input(\"Enter first value: \"))\n",
    "    y = int(input(\"Enter second value: \"))\n",
    "    print(x/y)\n",
    "except (ZeroDivisionError,ValueError) as msg:\n",
    "    print(\"Plz provide valid numbers only and problem is: \",msg)"
   ]
  },
  {
   "cell_type": "code",
   "execution_count": 18,
   "metadata": {},
   "outputs": [
    {
     "name": "stdout",
     "output_type": "stream",
     "text": [
      "Enter first value: 10\n",
      "Enter second value: 0\n",
      "Plz provide valid numbers only and problem is:  division by zero\n"
     ]
    }
   ],
   "source": [
    "try:\n",
    "    x = int(input(\"Enter first value: \"))\n",
    "    y = int(input(\"Enter second value: \"))\n",
    "    print(x/y)\n",
    "except (ZeroDivisionError,ValueError) as msg:\n",
    "    print(\"Plz provide valid numbers only and problem is: \",msg)"
   ]
  },
  {
   "cell_type": "code",
   "execution_count": null,
   "metadata": {},
   "outputs": [],
   "source": []
  },
  {
   "cell_type": "code",
   "execution_count": null,
   "metadata": {},
   "outputs": [],
   "source": []
  },
  {
   "cell_type": "markdown",
   "metadata": {},
   "source": [
    "# Default except Block : \n",
    "### We can use default except block to handle any type of exceptions.\n",
    "### In default except block generally we can print normal error messages.\n",
    "## Syntax: \n",
    "#### except:\n",
    "    statements"
   ]
  },
  {
   "cell_type": "code",
   "execution_count": 20,
   "metadata": {},
   "outputs": [
    {
     "name": "stdout",
     "output_type": "stream",
     "text": [
      "Enter first value: 10\n",
      "Enter second value: 0\n",
      "Can't divide by zero!!!\n"
     ]
    }
   ],
   "source": [
    "try:\n",
    "    x = int(input(\"Enter first value: \"))\n",
    "    y = int(input(\"Enter second value: \"))\n",
    "    print(x/y)\n",
    "except ZeroDivisionError:\n",
    "    print(\"Can't divide by zero!!!\")\n",
    "except:\n",
    "    print(\"Default except: Please provide valid value only\")\n"
   ]
  },
  {
   "cell_type": "code",
   "execution_count": 3,
   "metadata": {},
   "outputs": [
    {
     "name": "stdout",
     "output_type": "stream",
     "text": [
      "Enter first value: 10\n",
      "Enter second value: ten\n",
      "Default except: Please provide valid value only\n"
     ]
    }
   ],
   "source": [
    "try:\n",
    "    x = int(input(\"Enter first value: \"))\n",
    "    y = int(input(\"Enter second value: \"))\n",
    "    print(x/y)\n",
    "except ZeroDivisionError:\n",
    "    print(\"Can't divide by zero!!!\")\n",
    "except:\n",
    "    print(\"Default except: Please provide valid value only\")\n"
   ]
  },
  {
   "cell_type": "markdown",
   "metadata": {},
   "source": [
    "# ***Note: If try with multiple except blocks available then default except block should be last,otherwise we will get SyntaxError.\n"
   ]
  },
  {
   "cell_type": "code",
   "execution_count": 22,
   "metadata": {},
   "outputs": [
    {
     "ename": "SyntaxError",
     "evalue": "default 'except:' must be last (<ipython-input-22-9bcc9fa8a6d2>, line 4)",
     "output_type": "error",
     "traceback": [
      "\u001b[1;36m  File \u001b[1;32m\"<ipython-input-22-9bcc9fa8a6d2>\"\u001b[1;36m, line \u001b[1;32m4\u001b[0m\n\u001b[1;33m    print(x/y)\u001b[0m\n\u001b[1;37m    ^\u001b[0m\n\u001b[1;31mSyntaxError\u001b[0m\u001b[1;31m:\u001b[0m default 'except:' must be last\n"
     ]
    }
   ],
   "source": [
    "try:\n",
    "    x = int(input(\"Enter first value: \"))\n",
    "    y = int(input(\"Enter second value: \"))\n",
    "    print(x/y)\n",
    "except:              # SyntaxError: default 'except:' must be last\n",
    "    print(\"Default except: Please provide valid value only\")\n",
    "except ZeroDivisionError:\n",
    "    print(\"Can't divide by zero!!!\")\n"
   ]
  },
  {
   "cell_type": "markdown",
   "metadata": {},
   "source": [
    "## Note:\n",
    "### The following are various possible combinations of except blocks\n",
    "#### 1. except ZeroDivisionError:\n",
    "#### 2. except ZeroDivisionError as msg:\n",
    "#### 3. except (ZeroDivisionError,ValueError) :\n",
    "#### 4. except (ZeroDivisionError,ValueError) as msg:\n",
    "#### 5. except :"
   ]
  },
  {
   "cell_type": "code",
   "execution_count": null,
   "metadata": {},
   "outputs": [],
   "source": []
  },
  {
   "cell_type": "code",
   "execution_count": null,
   "metadata": {},
   "outputs": [],
   "source": []
  },
  {
   "cell_type": "markdown",
   "metadata": {},
   "source": [
    "# finally block :\n",
    "### 1. It is not recommended to maintain clean up code(Resource Deallocating Code or Resource Releasing code) inside try block because there is no guarentee for the execution of every statement inside try block always.\n",
    "### 2. It is not recommended to maintain clean up code inside except block, because if there is no exception then except block won't be executed.\n",
    "### Hence we required some place to maintain clean up code which should be executed always irrespective of whether exception raised or not raised and whether exception handled or not handled. Such type of best place is nothing but finally block.\n",
    "### Hence the main purpose of finally block is to maintain clean up code.\n",
    "##### try:\n",
    "    Risky Code\n",
    "##### except: \n",
    "    Handling Code\n",
    "##### finally:\n",
    "    Cleanup code\n",
    "### The speciality of finally block is it will be executed always whether exception raised or not raised and whether exception handled or not handled."
   ]
  },
  {
   "cell_type": "markdown",
   "metadata": {},
   "source": [
    "## Case-1: If there is no exception"
   ]
  },
  {
   "cell_type": "code",
   "execution_count": 4,
   "metadata": {},
   "outputs": [
    {
     "name": "stdout",
     "output_type": "stream",
     "text": [
      "try\n",
      "finally\n"
     ]
    }
   ],
   "source": [
    "try:\n",
    "    print(\"try\")\n",
    "except:\n",
    "    print(\"except\")\n",
    "finally:\n",
    "    print(\"finally\")"
   ]
  },
  {
   "cell_type": "markdown",
   "metadata": {},
   "source": [
    "## Case-2: If there is an exception raised but handled:"
   ]
  },
  {
   "cell_type": "code",
   "execution_count": 5,
   "metadata": {},
   "outputs": [
    {
     "name": "stdout",
     "output_type": "stream",
     "text": [
      "try\n",
      "except\n",
      "finally\n"
     ]
    }
   ],
   "source": [
    "try:\n",
    "    print(\"try\")\n",
    "    print(10/0)\n",
    "except ZeroDivisionError:\n",
    "    print(\"except\")\n",
    "finally:\n",
    "    print(\"finally\")"
   ]
  },
  {
   "cell_type": "markdown",
   "metadata": {},
   "source": [
    "## Case-3: If there is an exception raised but not handled:"
   ]
  },
  {
   "cell_type": "code",
   "execution_count": 6,
   "metadata": {},
   "outputs": [
    {
     "name": "stdout",
     "output_type": "stream",
     "text": [
      "try\n",
      "finally\n"
     ]
    },
    {
     "ename": "ZeroDivisionError",
     "evalue": "division by zero",
     "output_type": "error",
     "traceback": [
      "\u001b[1;31m---------------------------------------------------------------------------\u001b[0m",
      "\u001b[1;31mZeroDivisionError\u001b[0m                         Traceback (most recent call last)",
      "\u001b[1;32m<ipython-input-6-0010f7c00949>\u001b[0m in \u001b[0;36m<module>\u001b[1;34m\u001b[0m\n\u001b[0;32m      1\u001b[0m \u001b[1;32mtry\u001b[0m\u001b[1;33m:\u001b[0m\u001b[1;33m\u001b[0m\u001b[1;33m\u001b[0m\u001b[0m\n\u001b[0;32m      2\u001b[0m     \u001b[0mprint\u001b[0m\u001b[1;33m(\u001b[0m\u001b[1;34m\"try\"\u001b[0m\u001b[1;33m)\u001b[0m\u001b[1;33m\u001b[0m\u001b[1;33m\u001b[0m\u001b[0m\n\u001b[1;32m----> 3\u001b[1;33m     \u001b[0mprint\u001b[0m\u001b[1;33m(\u001b[0m\u001b[1;36m10\u001b[0m\u001b[1;33m/\u001b[0m\u001b[1;36m0\u001b[0m\u001b[1;33m)\u001b[0m\u001b[1;33m\u001b[0m\u001b[1;33m\u001b[0m\u001b[0m\n\u001b[0m\u001b[0;32m      4\u001b[0m \u001b[1;32mexcept\u001b[0m \u001b[0mNameError\u001b[0m\u001b[1;33m:\u001b[0m\u001b[1;33m\u001b[0m\u001b[1;33m\u001b[0m\u001b[0m\n\u001b[0;32m      5\u001b[0m     \u001b[0mprint\u001b[0m\u001b[1;33m(\u001b[0m\u001b[1;34m\"except\"\u001b[0m\u001b[1;33m)\u001b[0m\u001b[1;33m\u001b[0m\u001b[1;33m\u001b[0m\u001b[0m\n",
      "\u001b[1;31mZeroDivisionError\u001b[0m: division by zero"
     ]
    }
   ],
   "source": [
    "try:\n",
    "    print(\"try\")\n",
    "    print(10/0)\n",
    "except NameError:\n",
    "    print(\"except\")\n",
    "finally:\n",
    "    print(\"finally\")"
   ]
  },
  {
   "cell_type": "markdown",
   "metadata": {},
   "source": [
    "## *** Note: There is only one situation where finally block won't be executed i.e, whenever we are using os._exit(0) function.\n",
    "## Whenever we are using os._exit(0) function then Python Virtual Machine itself will be shutdown.In this particular case finally won't be executed."
   ]
  },
  {
   "cell_type": "code",
   "execution_count": null,
   "metadata": {},
   "outputs": [],
   "source": [
    "import os\n",
    "try:\n",
    "    print(\"try\")\n",
    "    os._exit(0)\n",
    "except NameError:\n",
    "    print(\"except\")\n",
    "finally:\n",
    "    print(\"finally\")"
   ]
  },
  {
   "cell_type": "markdown",
   "metadata": {},
   "source": [
    "output : try\n",
    "\n",
    "we are not going to get output bcoz kernel is going to dead.try to run .py file."
   ]
  },
  {
   "cell_type": "markdown",
   "metadata": {},
   "source": [
    "## Note:\n",
    "### os._exit(0)\n",
    "### where 0 represents status code and it indicates normal termination\n",
    "### There are multiple status codes are possible."
   ]
  },
  {
   "cell_type": "code",
   "execution_count": null,
   "metadata": {},
   "outputs": [],
   "source": []
  },
  {
   "cell_type": "markdown",
   "metadata": {},
   "source": [
    "# Control flow in try-except-finally:"
   ]
  },
  {
   "cell_type": "markdown",
   "metadata": {},
   "source": [
    "##### try:\n",
    "    stmt-1\n",
    "    stmt-2\n",
    "    stmt-3\n",
    "##### except:\n",
    "    stmt-4\n",
    "##### finally:\n",
    "    stmt-5\n",
    "stmt6"
   ]
  },
  {
   "cell_type": "markdown",
   "metadata": {},
   "source": [
    "### Case-1: If there is no exception : ===> 1,2,3,5,6 Normal Termination\n",
    "### Case-2: If an exception raised at stmt2 and the corresponding except block matched : ===> 1,4,5,6 Normal Termination\n",
    "### Case-3: If an exception raised at stmt2 but the corresponding except block not matched : ===> 1,5 Abnormal Termination\n",
    "### Case-4:If an exception raised at stmt4 then it is always abnormal termination but before that finally block will be executed.\n",
    "### Case-5: If an exception raised at stmt-5 or at stmt-6 then it is always abnormal termination"
   ]
  },
  {
   "cell_type": "markdown",
   "metadata": {},
   "source": [
    "      "
   ]
  },
  {
   "cell_type": "markdown",
   "metadata": {},
   "source": [
    "       "
   ]
  },
  {
   "cell_type": "markdown",
   "metadata": {},
   "source": [
    "# Nested try-except-finally blocks:\n",
    "\n",
    "\n",
    "\n",
    "## We can take try-except-finally blocks inside try or except or finally blocks.i.e nesting of try-except-finally is possible.\n",
    "\n",
    "##### try:\n",
    "    ----------\n",
    "    ----------\n",
    "    ----------\n",
    "    try:\n",
    "        --------------\n",
    "        --------------\n",
    "        --------------\n",
    "    except:\n",
    "        --------------\n",
    "        --------------\n",
    "        --------------\n",
    "        --------------\n",
    "    finally:\n",
    "        ------------\n",
    "        ------------\n",
    "        ------------\n",
    "##### except:\n",
    "    -----------\n",
    "    -----------\n",
    "    -----------\n",
    "##### finally:\n",
    "    ------------\n",
    "    ------------\n",
    "    ------------\n",
    "### General Risky code we have to take inside outer try block and too much risky code we have to take inside inner try block. Inside Inner try block if an exception raised then inner except block is responsible to handle. If it is unable to handle then outer except block is responsible to handle."
   ]
  },
  {
   "cell_type": "code",
   "execution_count": 1,
   "metadata": {},
   "outputs": [
    {
     "name": "stdout",
     "output_type": "stream",
     "text": [
      "outer try block\n",
      "inner try block\n",
      "can't divide by zero (inner except block))\n",
      "inner finally block\n",
      "outer finally block\n"
     ]
    }
   ],
   "source": [
    "try:\n",
    "    print(\"outer try block\")\n",
    "    try:\n",
    "        print(\"inner try block\")\n",
    "        print(10/0)\n",
    "    except ZeroDivisionError:\n",
    "        print(\"can't divide by zero (inner except block))\")\n",
    "    finally:\n",
    "        print(\"inner finally block\")\n",
    "except:\n",
    "    print(\"outer except block\")\n",
    "finally:\n",
    "    print(\"outer finally block\")\n",
    "        "
   ]
  },
  {
   "cell_type": "code",
   "execution_count": 2,
   "metadata": {},
   "outputs": [
    {
     "name": "stdout",
     "output_type": "stream",
     "text": [
      "outer try block\n",
      "inner try block\n",
      "inner finally block\n",
      "outer except block\n",
      "outer finally block\n"
     ]
    }
   ],
   "source": [
    "try:\n",
    "    print(\"outer try block\")\n",
    "    try:\n",
    "        print(\"inner try block\")\n",
    "        print(10/0)\n",
    "    except ValueError:   # this block is unable to handle exception\n",
    "        print(\"inner except block\")\n",
    "    finally:\n",
    "        print(\"inner finally block\")\n",
    "except ZeroDivisionError:   # then, this block will handle that error \n",
    "    print(\"outer except block\")\n",
    "finally:\n",
    "    print(\"outer finally block\")\n",
    "        "
   ]
  },
  {
   "cell_type": "markdown",
   "metadata": {},
   "source": [
    "     "
   ]
  },
  {
   "cell_type": "markdown",
   "metadata": {},
   "source": [
    "      "
   ]
  },
  {
   "cell_type": "markdown",
   "metadata": {},
   "source": [
    "# Control flow in nested try-except-finally :"
   ]
  },
  {
   "cell_type": "markdown",
   "metadata": {},
   "source": [
    "##### try:\n",
    "    stmt-1\n",
    "    stmt-2\n",
    "    stmt-3\n",
    "    try:\n",
    "        stmt-4\n",
    "        stmt-5\n",
    "        stmt-6\n",
    "    except X:\n",
    "        stmt-7\n",
    "    finally:\n",
    "        stmt-8\n",
    "    stmt-9\n",
    "##### except Y:\n",
    "    stmt-10\n",
    "##### finally:\n",
    "    stmt-11\n",
    "stmt-12\n"
   ]
  },
  {
   "cell_type": "markdown",
   "metadata": {},
   "source": [
    "#### case-1: If there is no exception\n",
    "            ===> 1,2,3,4,5,6,8,9,11,12 Normal Termination\n",
    "#### case-2: If an exception raised at stmt-2 and the corresponding except block matched\n",
    "            ===> 1,10,11,12 Normal Termination\n",
    "#### case-3: If an exceptiion raised at stmt-2 and the corresponding except block not matched\n",
    "            ===> 1,11,Abnormal Termination\n",
    "#### case-4: If an exception raised at stmt-5 and inner except block matched \n",
    "            ===> 1,2,3,4,7,8,9,11,12 Normal Termination\n",
    "#### case-5: If an exception raised at stmt-5 and inner except block not matched but outer except block matched\n",
    "            ===> 1,2,3,4,8,10,11,12,Normal Termination\n",
    "#### case-6:If an exception raised at stmt-5 and both inner and outer except blocks are not matched \n",
    "            ===> 1,2,3,4,8,11,Abnormal Termination\n",
    "#### case-7: If an exception raised at stmt-7 and corresponding except block matched\n",
    "            ===> 1,2,3,.,.,.,8,10,11,12,Normal Termination\n",
    "#### case-8: If an exception raised at stmt-7 and corresponding except block not matched\n",
    "            ===> 1,2,3,.,.,.,8,11,Abnormal Termination\n",
    "#### case-9: If an exception raised at stmt-8 and corresponding except block matched\n",
    "            ===> 1,2,3,.,.,.,.,10,11,12 Normal Termination\n",
    "#### case-10: If an exception raised at stmt-8 and corresponding except block not matched\n",
    "            ===> 1,2,3,.,.,.,.,11,Abnormal Termination\n",
    "#### case-11: If an exception raised at stmt-9 and corresponding except block matched\n",
    "            ===> 1,2,3,.,.,.,.,8,10,11,12,Normal Termination\n",
    "#### case-12: If an exception raised at stmt-9 and corresponding except block not matched\n",
    "            ===> 1,2,3,.,.,.,.,8,11,Abnormal Termination\n",
    "#### case-13: If an exception raised at stmt-10 then it is always abonormal termination but before abnormal termination finally block(stmt-11) will be executed.\n",
    "#### case-14: If an exception raised at stmt-11 or stmt-12 then it is always abnormal termination.\n",
    "\n",
    "## Note: If the control entered into try block then compulsary finally block will be executed.\n",
    "## If the control not entered into try block then finally block won't be executed.\n"
   ]
  },
  {
   "cell_type": "code",
   "execution_count": null,
   "metadata": {},
   "outputs": [],
   "source": []
  },
  {
   "cell_type": "code",
   "execution_count": null,
   "metadata": {},
   "outputs": [],
   "source": []
  },
  {
   "cell_type": "markdown",
   "metadata": {},
   "source": [
    "# else block with try-except-finally :"
   ]
  },
  {
   "cell_type": "markdown",
   "metadata": {},
   "source": [
    "### We can use else block with try-except-finally blocks.\n",
    "\n",
    "## else block will be executed if and only if there are no exceptions inside try block.\n",
    "\n",
    "##### try:\n",
    "    Risky Code\n",
    "##### except:\n",
    "    will be executed if exception inside try\n",
    "##### else:\n",
    "    will be executed if there is no exception inside try\n",
    "##### finally:\n",
    "    will be executed whether exception raised or not raised and handled or not handled"
   ]
  },
  {
   "cell_type": "code",
   "execution_count": 3,
   "metadata": {},
   "outputs": [
    {
     "name": "stdout",
     "output_type": "stream",
     "text": [
      "try\n",
      "else\n",
      "finally\n"
     ]
    }
   ],
   "source": [
    "try:\n",
    "    print(\"try\")\n",
    "    #print(10/0)\n",
    "except:\n",
    "    print(\"except\")\n",
    "else:\n",
    "    print(\"else\")\n",
    "finally:\n",
    "    print(\"finally\")"
   ]
  },
  {
   "cell_type": "code",
   "execution_count": 4,
   "metadata": {},
   "outputs": [
    {
     "name": "stdout",
     "output_type": "stream",
     "text": [
      "try\n",
      "except\n",
      "finally\n"
     ]
    }
   ],
   "source": [
    "try:\n",
    "    print(\"try\")\n",
    "    print(10/0)\n",
    "except:\n",
    "    print(\"except\")\n",
    "else:\n",
    "    print(\"else\")\n",
    "finally:\n",
    "    print(\"finally\")"
   ]
  },
  {
   "cell_type": "markdown",
   "metadata": {},
   "source": [
    "    "
   ]
  },
  {
   "cell_type": "markdown",
   "metadata": {},
   "source": [
    "      "
   ]
  },
  {
   "cell_type": "markdown",
   "metadata": {},
   "source": [
    "# Various possible combinations of try-except-else-finally:"
   ]
  },
  {
   "cell_type": "markdown",
   "metadata": {},
   "source": [
    "### 1. Whenever we are writing try block, compulsory we should write except or finally block.i.e without except or finally block we cannot write try block.\n",
    "### 2. Wheneever we are writing except block, compulsory we should write try block. i.e except without try is always invalid.\n",
    "### 3. Whenever we are writing finally block, compulsory we should write try block. i.e finally without try is always invalid.\n",
    "### 4. We can write multiple except blocks for the same try,but we cannot write multiple finally blocks for the same try\n",
    "### 5. Whenever we are writing else block compulsory except block should be there. i.e without except we cannot write else block.\n",
    "### 6. In try-except-else-finally order is important.\n",
    "### 7. We can define try-except-else-finally inside try,except,else and finally blocks. i.e nesting of try-except-else-finally is always possible."
   ]
  },
  {
   "cell_type": "code",
   "execution_count": 23,
   "metadata": {},
   "outputs": [
    {
     "name": "stdout",
     "output_type": "stream",
     "text": [
      "dfghj\n",
      "dsa\n",
      "rgfd\n"
     ]
    }
   ],
   "source": [
    "try:\n",
    "    print(\"dfghj\")\n",
    "except:\n",
    "    print(\"qwer\")\n",
    "else:\n",
    "    print(\"dsa\")\n",
    "finally:\n",
    "    print(\"rgfd\")"
   ]
  },
  {
   "cell_type": "code",
   "execution_count": null,
   "metadata": {},
   "outputs": [],
   "source": []
  },
  {
   "cell_type": "code",
   "execution_count": null,
   "metadata": {},
   "outputs": [],
   "source": []
  },
  {
   "cell_type": "markdown",
   "metadata": {},
   "source": [
    "      "
   ]
  },
  {
   "cell_type": "markdown",
   "metadata": {},
   "source": [
    "          "
   ]
  },
  {
   "cell_type": "markdown",
   "metadata": {},
   "source": [
    "# Types of Exceptions:\n",
    "### In Python there are 2 types of exceptions are possible.\n",
    "#### 1. Predefined Exceptions\n",
    "#### 2. User Definded Exceptions"
   ]
  },
  {
   "cell_type": "markdown",
   "metadata": {},
   "source": [
    "# 1. Predefined Exceptions:\n",
    "### Also known as in-built exceptions\n",
    "### The exceptions which are raised automatically by Python virtual machine whenver a particular event occurs, are called pre defined exceptions.\n",
    "### Eg 1: Whenever we are trying to perform Division by zero, automatically Python will raise ZeroDivisionError.\n",
    "#### print(10/0)\n",
    "### Eg 2: Whenever we are trying to convert input value to int type and if input value is not int value then Python will raise ValueError automatically\n",
    "#### x=int(\"ten\")===>ValueError\n"
   ]
  },
  {
   "cell_type": "markdown",
   "metadata": {},
   "source": [
    "# 2. User Defined Exceptions:\n",
    "### Also known as Customized Exceptions or Programatic Exceptions\n",
    "### Some time we have to define and raise exceptions explicitly to indicate that something goes wrong ,such type of exceptions are called User Defined Exceptions or Customized Exceptions\n",
    "### Programmer is responsible to define these exceptions and Python not having any idea about these. Hence we have to raise explicitly based on our requirement by using \"raise\" keyword.\n",
    "### Eg:\n",
    "#### InSufficientFundsException\n",
    "#### InvalidInputException"
   ]
  },
  {
   "cell_type": "markdown",
   "metadata": {},
   "source": [
    "## How to Define and Raise Customized Exceptions:\n",
    "### Every exception in Python is a class that extends Exception class either directly or indirectly."
   ]
  },
  {
   "cell_type": "markdown",
   "metadata": {},
   "source": [
    "### Syntax :\n",
    "             class class_name(predefined_exception_class_name):\n",
    "                 def __init__(self,arg):\n",
    "                     self.msg = arg"
   ]
  },
  {
   "cell_type": "markdown",
   "metadata": {},
   "source": [
    "### Eg:\n",
    "    class TooYoungException(Exception): \n",
    "       def __ init__(self,arg): \n",
    "           self.msg=arg \n",
    "\n",
    "\n",
    "### TooYoungException is our class name which is the child class of Exception\n",
    "### We can raise exception by using raise keyword as follows\n",
    "#### raise TooYoungException(\"message\")"
   ]
  },
  {
   "cell_type": "code",
   "execution_count": 29,
   "metadata": {},
   "outputs": [
    {
     "name": "stdout",
     "output_type": "stream",
     "text": [
      "Enter age: 65\n"
     ]
    },
    {
     "ename": "TooOldException",
     "evalue": "You have already crossed marriage age!!!!!!",
     "output_type": "error",
     "traceback": [
      "\u001b[1;31m---------------------------------------------------------------------------\u001b[0m",
      "\u001b[1;31mTooOldException\u001b[0m                           Traceback (most recent call last)",
      "\u001b[1;32m<ipython-input-29-c01d09741541>\u001b[0m in \u001b[0;36m<module>\u001b[1;34m\u001b[0m\n\u001b[0;32m     10\u001b[0m \u001b[1;33m\u001b[0m\u001b[0m\n\u001b[0;32m     11\u001b[0m \u001b[1;32mif\u001b[0m \u001b[0mage\u001b[0m\u001b[1;33m>\u001b[0m\u001b[1;36m60\u001b[0m\u001b[1;33m:\u001b[0m\u001b[1;33m\u001b[0m\u001b[1;33m\u001b[0m\u001b[0m\n\u001b[1;32m---> 12\u001b[1;33m     \u001b[1;32mraise\u001b[0m \u001b[0mTooOldException\u001b[0m\u001b[1;33m(\u001b[0m\u001b[1;34m\"You have already crossed marriage age!!!!!!\"\u001b[0m\u001b[1;33m)\u001b[0m\u001b[1;33m\u001b[0m\u001b[1;33m\u001b[0m\u001b[0m\n\u001b[0m\u001b[0;32m     13\u001b[0m \u001b[1;32melif\u001b[0m \u001b[0mage\u001b[0m\u001b[1;33m<\u001b[0m\u001b[1;36m18\u001b[0m\u001b[1;33m:\u001b[0m\u001b[1;33m\u001b[0m\u001b[1;33m\u001b[0m\u001b[0m\n\u001b[0;32m     14\u001b[0m     \u001b[1;32mraise\u001b[0m \u001b[0mTooYoungException\u001b[0m\u001b[1;33m(\u001b[0m\u001b[1;34m\"Your age is not eligible for marriage!!!!!\"\u001b[0m\u001b[1;33m)\u001b[0m\u001b[1;33m\u001b[0m\u001b[1;33m\u001b[0m\u001b[0m\n",
      "\u001b[1;31mTooOldException\u001b[0m: You have already crossed marriage age!!!!!!"
     ]
    }
   ],
   "source": [
    "class TooYoungException(Exception):\n",
    "    def __init__(self,arg):\n",
    "        self.msg = arg\n",
    "        \n",
    "class TooOldException(Exception):\n",
    "    def __init__(self,arg):\n",
    "        self.msg = arg\n",
    "        \n",
    "age = int(input(\"Enter age: \"))\n",
    "\n",
    "if age>60:\n",
    "    raise TooOldException(\"You have already crossed marriage age!!!!!!\")\n",
    "elif age<18:\n",
    "    raise TooYoungException(\"Your age is not eligible for marriage!!!!!\")\n",
    "else:\n",
    "    print(\"Thanks for registration..... You will get match details by mail soon\")"
   ]
  },
  {
   "cell_type": "markdown",
   "metadata": {},
   "source": [
    "## Note:raise keyword is best suitable for customized exceptions but not for pre defined exceptions.\n"
   ]
  },
  {
   "cell_type": "code",
   "execution_count": null,
   "metadata": {},
   "outputs": [],
   "source": []
  },
  {
   "cell_type": "code",
   "execution_count": null,
   "metadata": {},
   "outputs": [],
   "source": []
  },
  {
   "cell_type": "code",
   "execution_count": null,
   "metadata": {},
   "outputs": [],
   "source": []
  },
  {
   "cell_type": "code",
   "execution_count": null,
   "metadata": {},
   "outputs": [],
   "source": []
  }
 ],
 "metadata": {
  "kernelspec": {
   "display_name": "Python 3",
   "language": "python",
   "name": "python3"
  },
  "language_info": {
   "codemirror_mode": {
    "name": "ipython",
    "version": 3
   },
   "file_extension": ".py",
   "mimetype": "text/x-python",
   "name": "python",
   "nbconvert_exporter": "python",
   "pygments_lexer": "ipython3",
   "version": "3.8.3"
  }
 },
 "nbformat": 4,
 "nbformat_minor": 4
}
