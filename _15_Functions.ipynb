{
 "cells": [
  {
   "cell_type": "markdown",
   "metadata": {},
   "source": [
    "# 1) Built-in / Pre-defined Functions :"
   ]
  },
  {
   "cell_type": "markdown",
   "metadata": {},
   "source": [
    "type()"
   ]
  },
  {
   "cell_type": "markdown",
   "metadata": {},
   "source": [
    "id()"
   ]
  },
  {
   "cell_type": "markdown",
   "metadata": {},
   "source": [
    "len()"
   ]
  },
  {
   "cell_type": "markdown",
   "metadata": {},
   "source": [
    "input()"
   ]
  },
  {
   "cell_type": "markdown",
   "metadata": {},
   "source": [
    "sorted()"
   ]
  },
  {
   "cell_type": "markdown",
   "metadata": {},
   "source": [
    "print()"
   ]
  },
  {
   "cell_type": "markdown",
   "metadata": {},
   "source": [
    "etc......."
   ]
  },
  {
   "cell_type": "markdown",
   "metadata": {},
   "source": [
    "# 2) User defined Functions : \n",
    "\n",
    "### syntax ==> def  function_name(parameters):"
   ]
  },
  {
   "cell_type": "code",
   "execution_count": 2,
   "metadata": {},
   "outputs": [
    {
     "name": "stdout",
     "output_type": "stream",
     "text": [
      "good evening\n",
      "good evening\n",
      "good evening\n"
     ]
    }
   ],
   "source": [
    "def wish():\n",
    "    \"\"\"function to wish\"\"\"\n",
    "    print(\"good evening\")\n",
    "    print(\"good evening\")\n",
    "    print(\"good evening\")\n",
    "    \n",
    "wish()"
   ]
  },
  {
   "cell_type": "code",
   "execution_count": 28,
   "metadata": {},
   "outputs": [
    {
     "name": "stdout",
     "output_type": "stream",
     "text": [
      "good evening\n",
      "good evening\n",
      "good evening\n"
     ]
    }
   ],
   "source": [
    "def wish():\n",
    "    \"\"\"function to wish\"\"\"\n",
    "    print(\"good evening\")\n",
    "    \n",
    "wish()\n",
    "wish()\n",
    "wish()"
   ]
  },
  {
   "cell_type": "code",
   "execution_count": null,
   "metadata": {},
   "outputs": [],
   "source": []
  },
  {
   "cell_type": "code",
   "execution_count": null,
   "metadata": {},
   "outputs": [],
   "source": []
  },
  {
   "cell_type": "markdown",
   "metadata": {},
   "source": [
    "# Parameters :"
   ]
  },
  {
   "cell_type": "code",
   "execution_count": 26,
   "metadata": {},
   "outputs": [
    {
     "name": "stdout",
     "output_type": "stream",
     "text": [
      "hello vinod good evening\n",
      "hello swapnil good evening\n",
      "hello apurv good evening\n"
     ]
    }
   ],
   "source": [
    "def wish(name):\n",
    "    print(\"hello\",name,\"good evening\")\n",
    "    \n",
    "wish(\"vinod\")\n",
    "wish(\"swapnil\")\n",
    "wish(\"apurv\")"
   ]
  },
  {
   "cell_type": "code",
   "execution_count": 27,
   "metadata": {},
   "outputs": [
    {
     "name": "stdout",
     "output_type": "stream",
     "text": [
      "square of 1 is 1\n",
      "square of 2 is 4\n",
      "square of 3 is 9\n",
      "square of 4 is 16\n",
      "square of 5 is 25\n",
      "square of 6 is 36\n"
     ]
    }
   ],
   "source": [
    "def square(num):\n",
    "    \n",
    "    print(f\"square of {num} is {num**2}\")\n",
    "\n",
    "square(1) \n",
    "square(2)\n",
    "square(3)\n",
    "square(4)\n",
    "square(5)\n",
    "square(6)"
   ]
  },
  {
   "cell_type": "code",
   "execution_count": null,
   "metadata": {},
   "outputs": [],
   "source": []
  },
  {
   "cell_type": "code",
   "execution_count": null,
   "metadata": {},
   "outputs": [],
   "source": []
  },
  {
   "cell_type": "markdown",
   "metadata": {},
   "source": [
    "# Return Statement :"
   ]
  },
  {
   "cell_type": "code",
   "execution_count": 29,
   "metadata": {},
   "outputs": [
    {
     "data": {
      "text/plain": [
       "60"
      ]
     },
     "execution_count": 29,
     "metadata": {},
     "output_type": "execute_result"
    }
   ],
   "source": [
    "def add(a,b):\n",
    "    return a+b\n",
    "\n",
    "add(10,20)\n",
    "add(20,40)"
   ]
  },
  {
   "cell_type": "code",
   "execution_count": 30,
   "metadata": {},
   "outputs": [
    {
     "name": "stdout",
     "output_type": "stream",
     "text": [
      "The sum is: 30\n",
      "The sum is: 60\n"
     ]
    }
   ],
   "source": [
    "def add(a,b):\n",
    "    return f\"The sum is: {a+b}\"\n",
    "\n",
    "\n",
    "print(add(10,20))\n",
    "print(add(20,40))"
   ]
  },
  {
   "cell_type": "code",
   "execution_count": 31,
   "metadata": {},
   "outputs": [
    {
     "name": "stdout",
     "output_type": "stream",
     "text": [
      "Hello\n",
      "None\n"
     ]
    }
   ],
   "source": [
    "def f1():\n",
    "    print(\"Hello\")\n",
    "    \n",
    "print(f1())"
   ]
  },
  {
   "cell_type": "code",
   "execution_count": 43,
   "metadata": {},
   "outputs": [
    {
     "name": "stdout",
     "output_type": "stream",
     "text": [
      "12 is EVEN\n",
      "33 is ODD\n",
      "10 is EVEN\n",
      "10.5 is ODD\n"
     ]
    }
   ],
   "source": [
    "def even_odd(num):\n",
    "    if  num % 2 == 0:\n",
    "        return f\"{num} is EVEN\"\n",
    "    else:\n",
    "        return f\"{num} is ODD\"\n",
    "    \n",
    "print(even_odd(12))\n",
    "print(even_odd(33))\n",
    "print(even_odd(10))\n",
    "print(even_odd(10.5))"
   ]
  },
  {
   "cell_type": "code",
   "execution_count": 51,
   "metadata": {},
   "outputs": [
    {
     "name": "stdout",
     "output_type": "stream",
     "text": [
      "factorial of 1 is 1\n",
      "factorial of 2 is 2\n",
      "factorial of 3 is 6\n",
      "factorial of 4 is 24\n",
      "factorial of 5 is 120\n",
      "factorial of 6 is 720\n",
      "factorial of 7 is 5040\n",
      "factorial of 8 is 40320\n",
      "factorial of 9 is 362880\n",
      "factorial of 10 is 3628800\n"
     ]
    }
   ],
   "source": [
    "def fact(num):\n",
    "    factorial = 1\n",
    "    while num >= 1:\n",
    "        factorial *= num\n",
    "        num = num-1\n",
    "    return factorial\n",
    "\n",
    "for i in range(1,11):\n",
    "    print(f\"factorial of {i} is {fact(i)}\")"
   ]
  },
  {
   "cell_type": "markdown",
   "metadata": {},
   "source": [
    "## Returning multiple values from a function : "
   ]
  },
  {
   "cell_type": "code",
   "execution_count": 52,
   "metadata": {},
   "outputs": [
    {
     "name": "stdout",
     "output_type": "stream",
     "text": [
      "the sum :  30\n",
      "the sub :  -10\n"
     ]
    }
   ],
   "source": [
    "def sum_sub(a,b):\n",
    "    add = a+b\n",
    "    sub = a-b\n",
    "    return add,sub\n",
    "\n",
    "x,y = sum_sub(10,20)\n",
    "print(\"the sum : \",x)\n",
    "print(\"the sub : \",y)"
   ]
  },
  {
   "cell_type": "code",
   "execution_count": 2,
   "metadata": {},
   "outputs": [
    {
     "name": "stdout",
     "output_type": "stream",
     "text": [
      "<class 'tuple'>\n",
      "the results are : \n",
      "40\n",
      "20\n",
      "300\n",
      "3.0\n"
     ]
    }
   ],
   "source": [
    "def calc(a,b):\n",
    "    add = a+b\n",
    "    sub = a-b\n",
    "    mul = a*b\n",
    "    div = a/b\n",
    "    return add,sub,mul,div\n",
    "\n",
    "t = calc(30,10)\n",
    "print(type(t))\n",
    "print(\"the results are : \")\n",
    "for i in t:\n",
    "    print(i)"
   ]
  },
  {
   "cell_type": "code",
   "execution_count": 13,
   "metadata": {},
   "outputs": [
    {
     "name": "stdout",
     "output_type": "stream",
     "text": [
      "(80, 20, 1500, 1.6666666666666667)\n",
      "40\n",
      "20\n"
     ]
    }
   ],
   "source": [
    "def calc(a,b):\n",
    "    add = a+b\n",
    "    sub = a-b\n",
    "    mul = a*b\n",
    "    div = a/b\n",
    "    return add,sub,mul,div\n",
    "\n",
    "print(calc(50,30))\n",
    "print(calc(30,10)[0])\n",
    "print(calc(10,10)[0])"
   ]
  },
  {
   "cell_type": "code",
   "execution_count": null,
   "metadata": {},
   "outputs": [],
   "source": []
  },
  {
   "cell_type": "markdown",
   "metadata": {},
   "source": [
    "# Types of Arguments :"
   ]
  },
  {
   "cell_type": "markdown",
   "metadata": {},
   "source": [
    "## 1) Positional Arguments :"
   ]
  },
  {
   "cell_type": "code",
   "execution_count": 57,
   "metadata": {},
   "outputs": [
    {
     "data": {
      "text/plain": [
       "100"
      ]
     },
     "execution_count": 57,
     "metadata": {},
     "output_type": "execute_result"
    }
   ],
   "source": [
    "def sub(a,b):\n",
    "    return a-b\n",
    "\n",
    "sub(200,100)"
   ]
  },
  {
   "cell_type": "markdown",
   "metadata": {},
   "source": [
    "## 2) Keyword Arguments : "
   ]
  },
  {
   "cell_type": "code",
   "execution_count": 62,
   "metadata": {},
   "outputs": [
    {
     "name": "stdout",
     "output_type": "stream",
     "text": [
      "hello vinod good morning\n",
      "hello vinod good morning\n",
      "hello apurv good evening\n"
     ]
    }
   ],
   "source": [
    "def wish(name,msg):\n",
    "    print(\"hello\",name,msg)\n",
    "    \n",
    "wish(name = \"vinod\",msg = \"good morning\")\n",
    "wish(msg = \"good morning\",name = \"vinod\")\n",
    "wish(\"apurv\",msg=\"good evening\") # both positional and keyword arguments simultaneously \n",
    "        \n",
    "        "
   ]
  },
  {
   "cell_type": "code",
   "execution_count": 14,
   "metadata": {},
   "outputs": [
    {
     "ename": "SyntaxError",
     "evalue": "positional argument follows keyword argument (<ipython-input-14-26728d3c7013>, line 7)",
     "output_type": "error",
     "traceback": [
      "\u001b[1;36m  File \u001b[1;32m\"<ipython-input-14-26728d3c7013>\"\u001b[1;36m, line \u001b[1;32m7\u001b[0m\n\u001b[1;33m    wish(msg=\"good evening\",\"apurv\") # SyntaxError: positional argument follows keyword argument\u001b[0m\n\u001b[1;37m                            ^\u001b[0m\n\u001b[1;31mSyntaxError\u001b[0m\u001b[1;31m:\u001b[0m positional argument follows keyword argument\n"
     ]
    }
   ],
   "source": [
    "def wish(name,msg):\n",
    "    print(\"hello\",name,msg)\n",
    "    \n",
    "wish(name = \"vinod\",msg = \"good morning\")\n",
    "wish(msg = \"good morning\",name = \"vinod\")\n",
    "wish(\"apurv\",msg=\"good evening\") # both positional and keyword arguments simultaneously \n",
    "wish(msg=\"good evening\",\"apurv\") # SyntaxError: positional argument follows keyword argument\n"
   ]
  },
  {
   "cell_type": "code",
   "execution_count": 19,
   "metadata": {},
   "outputs": [
    {
     "ename": "SyntaxError",
     "evalue": "positional argument follows keyword argument (<ipython-input-19-c32f81b8a33b>, line 9)",
     "output_type": "error",
     "traceback": [
      "\u001b[1;36m  File \u001b[1;32m\"<ipython-input-19-c32f81b8a33b>\"\u001b[1;36m, line \u001b[1;32m9\u001b[0m\n\u001b[1;33m    print(calc(b=50,30))   # SyntaxError: positional argument follows keyword argument\u001b[0m\n\u001b[1;37m                    ^\u001b[0m\n\u001b[1;31mSyntaxError\u001b[0m\u001b[1;31m:\u001b[0m positional argument follows keyword argument\n"
     ]
    }
   ],
   "source": [
    "def calc(a,b):\n",
    "    add = a+b\n",
    "    sub = a-b\n",
    "    mul = a*b\n",
    "    div = a/b\n",
    "    return add,sub,mul,div\n",
    "\n",
    "print(calc(50,b=30))\n",
    "print(calc(b=50,30))   # SyntaxError: positional argument follows keyword argument\n",
    "print(calc(50,a=30))    # TypeError: calc() got multiple values for argument 'a'\n"
   ]
  },
  {
   "cell_type": "code",
   "execution_count": null,
   "metadata": {},
   "outputs": [],
   "source": []
  },
  {
   "cell_type": "code",
   "execution_count": null,
   "metadata": {},
   "outputs": [],
   "source": []
  },
  {
   "cell_type": "markdown",
   "metadata": {},
   "source": [
    "## 3) Default Arguments : "
   ]
  },
  {
   "cell_type": "code",
   "execution_count": 64,
   "metadata": {},
   "outputs": [
    {
     "name": "stdout",
     "output_type": "stream",
     "text": [
      "hello vinod good morning\n",
      "hello Guest good morning\n"
     ]
    }
   ],
   "source": [
    "def wish(name = \"Guest\"):\n",
    "    print(\"hello\",name,\"good morning\")\n",
    "    \n",
    "wish(\"vinod\")\n",
    "wish()   # by default it will take \"Guest\" as name"
   ]
  },
  {
   "cell_type": "code",
   "execution_count": 38,
   "metadata": {},
   "outputs": [
    {
     "ename": "SyntaxError",
     "evalue": "non-default argument follows default argument (<ipython-input-38-f94329da51e2>, line 1)",
     "output_type": "error",
     "traceback": [
      "\u001b[1;36m  File \u001b[1;32m\"<ipython-input-38-f94329da51e2>\"\u001b[1;36m, line \u001b[1;32m1\u001b[0m\n\u001b[1;33m    def wish(name = \"Guest\",msg):   #SyntaxError: non-default argument follows default argument\u001b[0m\n\u001b[1;37m             ^\u001b[0m\n\u001b[1;31mSyntaxError\u001b[0m\u001b[1;31m:\u001b[0m non-default argument follows default argument\n"
     ]
    }
   ],
   "source": [
    "def wish(name = \"Guest\",msg):   #SyntaxError: non-default argument follows default argument\n",
    "\n",
    "    print(\"hello\",name,msg)\n",
    "    \n",
    "wish(\"vinod\",\"good morning\")\n"
   ]
  },
  {
   "cell_type": "code",
   "execution_count": 40,
   "metadata": {},
   "outputs": [
    {
     "name": "stdout",
     "output_type": "stream",
     "text": [
      "1 2 8 3\n"
     ]
    }
   ],
   "source": [
    "def f1(a1,a2,a3=8,a4=9):\n",
    "    print(a1,a2,a3,a4)\n",
    "    \n",
    "f1(a4=3,a1=1,a2=2)"
   ]
  },
  {
   "cell_type": "code",
   "execution_count": 73,
   "metadata": {
    "scrolled": true
   },
   "outputs": [
    {
     "name": "stdout",
     "output_type": "stream",
     "text": [
      "\n",
      "student name:  swapnil\n",
      "student age:  39\n",
      "student marks:  200\n",
      "message:  hello\n",
      "\n",
      "student name:  vinod\n",
      "student age:  20\n",
      "student marks:  500\n",
      "message:  good night\n",
      "\n",
      "student name:  guest\n",
      "student age:  30\n",
      "student marks:  100\n",
      "message:  good morning\n"
     ]
    }
   ],
   "source": [
    "def wish(marks, age, name = \"guest\", msg = \"good morning\"):\n",
    "    print(\"\\nstudent name: \",name)\n",
    "    print(\"student age: \",age)\n",
    "    print(\"student marks: \",marks)\n",
    "    print(\"message: \",msg)\n",
    "    \n",
    "wish(200,39,name = \"swapnil\",msg = \"hello\")\n",
    "wish(500,20,name = \"vinod\",msg = \"good night\")\n",
    "wish(100,30)"
   ]
  },
  {
   "cell_type": "markdown",
   "metadata": {},
   "source": [
    "## 4) Variable Length Arguments : \n",
    "#### We can declare a variable length argument with * symbol as follows:\n",
    "### syntax ==> def function_name(*arg-name)\n",
    "#### We can call this function by passing any number of arguments including zero number.\n",
    "#### Internally all these values represented in the form of TUPLE.\n"
   ]
  },
  {
   "cell_type": "code",
   "execution_count": 24,
   "metadata": {},
   "outputs": [
    {
     "name": "stdout",
     "output_type": "stream",
     "text": [
      "The sum by:  1\n",
      "The sum by:  3\n",
      "The sum by:  55\n"
     ]
    }
   ],
   "source": [
    "def sum(*num):\n",
    "    result = 0\n",
    "    for x in num:\n",
    "        result = result + x\n",
    "    print(\"The sum by: \",result)\n",
    "    \n",
    "sum(1)\n",
    "sum(1,2)\n",
    "sum(1,2,3,4,5,6,7,8,9,10)"
   ]
  },
  {
   "cell_type": "code",
   "execution_count": 33,
   "metadata": {},
   "outputs": [
    {
     "name": "stdout",
     "output_type": "stream",
     "text": [
      "The sum by vinod :  1\n",
      "The sum by swapnil :  3\n",
      "The sum by apurv :  55\n"
     ]
    }
   ],
   "source": [
    "def sum(name,*num):\n",
    "    result = 0\n",
    "    for x in num:\n",
    "        result = result + x\n",
    "    print(\"The sum by\",name,\": \",result)\n",
    "    \n",
    "sum('vinod',1)\n",
    "sum('swapnil',1,2)\n",
    "sum('apurv',1,2,3,4,5,6,7,8,9,10)"
   ]
  },
  {
   "cell_type": "code",
   "execution_count": 2,
   "metadata": {},
   "outputs": [
    {
     "name": "stdout",
     "output_type": "stream",
     "text": [
      "The sum by vinod :  1\n",
      "The sum by swapnil :  3\n",
      "The sum by apurv :  55\n"
     ]
    }
   ],
   "source": [
    "def sum(*num,name):\n",
    "    result = 0\n",
    "    for x in num:\n",
    "        result = result + x\n",
    "    print(\"The sum by\",name,\": \",result)\n",
    "    \n",
    "sum(1,name = 'vinod')\n",
    "sum(1,2,name ='swapnil')\n",
    "sum(1,2,3,4,5,6,7,8,9,10, name = 'apurv')\n",
    "\n",
    "\n",
    "# After variable length argument, if we are taking any other arguments then we should provide values as keyword arguments"
   ]
  },
  {
   "cell_type": "code",
   "execution_count": null,
   "metadata": {},
   "outputs": [],
   "source": []
  },
  {
   "cell_type": "code",
   "execution_count": null,
   "metadata": {},
   "outputs": [],
   "source": []
  },
  {
   "cell_type": "markdown",
   "metadata": {},
   "source": [
    "### Keyword variable length arguments :\n",
    "#### We can declare a Keyword variable length argument with ** symbol as follows:\n",
    "#### syntax ==> def function_name(**arg-name)\n",
    "#### We can call this function by passing any number of keyword arguments including zero number.\n",
    "#### Internally all these values represented in the form of DICTIONARY."
   ]
  },
  {
   "cell_type": "code",
   "execution_count": 1,
   "metadata": {},
   "outputs": [
    {
     "name": "stdout",
     "output_type": "stream",
     "text": [
      "n1 === 10\n",
      "n2 === 20\n",
      "n3 === 30\n",
      "n4 === 40\n",
      "rno === 100\n",
      "name === vinod\n",
      "subject === python\n",
      "marks === 50\n"
     ]
    }
   ],
   "source": [
    "def display(**kwargs):\n",
    "    for k,v in kwargs.items():\n",
    "        print(k,\"===\",v)\n",
    "        \n",
    "display(n1=10,n2=20,n3=30,n4=40)\n",
    "display(rno=100,name='vinod',subject=\"python\",marks=50)"
   ]
  },
  {
   "cell_type": "code",
   "execution_count": null,
   "metadata": {},
   "outputs": [],
   "source": []
  },
  {
   "cell_type": "code",
   "execution_count": null,
   "metadata": {},
   "outputs": [],
   "source": []
  },
  {
   "cell_type": "markdown",
   "metadata": {},
   "source": [
    "# Types of Variables : \n",
    "### 1)Global Variables\n",
    "### 2)Local Variables"
   ]
  },
  {
   "cell_type": "markdown",
   "metadata": {},
   "source": [
    "## 1. Global Variables\n",
    "#### Declared outside of a function\n",
    "#### Can be accessed in all functions of that module\n"
   ]
  },
  {
   "cell_type": "code",
   "execution_count": 3,
   "metadata": {},
   "outputs": [
    {
     "name": "stdout",
     "output_type": "stream",
     "text": [
      "f1 :  10\n",
      "f2 :  10\n"
     ]
    }
   ],
   "source": [
    "a = 10       # Global Variable\n",
    "def f1():\n",
    "    print(\"f1 : \",a)\n",
    "def f2():\n",
    "    print(\"f2 : \",a)\n",
    "\n",
    "f1()\n",
    "f2()"
   ]
  },
  {
   "cell_type": "code",
   "execution_count": null,
   "metadata": {},
   "outputs": [],
   "source": []
  },
  {
   "cell_type": "code",
   "execution_count": null,
   "metadata": {},
   "outputs": [],
   "source": []
  },
  {
   "cell_type": "code",
   "execution_count": null,
   "metadata": {},
   "outputs": [],
   "source": []
  },
  {
   "cell_type": "markdown",
   "metadata": {},
   "source": [
    "## 2. Local Variables\n",
    "#### Declared inside of a function\n",
    "#### Available only for the function in which we declared it"
   ]
  },
  {
   "cell_type": "code",
   "execution_count": 5,
   "metadata": {},
   "outputs": [
    {
     "name": "stdout",
     "output_type": "stream",
     "text": [
      "f1 :  10\n"
     ]
    },
    {
     "ename": "NameError",
     "evalue": "name 'b' is not defined",
     "output_type": "error",
     "traceback": [
      "\u001b[1;31m---------------------------------------------------------------------------\u001b[0m",
      "\u001b[1;31mNameError\u001b[0m                                 Traceback (most recent call last)",
      "\u001b[1;32m<ipython-input-5-a614cf2b931f>\u001b[0m in \u001b[0;36m<module>\u001b[1;34m\u001b[0m\n\u001b[0;32m      6\u001b[0m \u001b[1;33m\u001b[0m\u001b[0m\n\u001b[0;32m      7\u001b[0m \u001b[0mf1\u001b[0m\u001b[1;33m(\u001b[0m\u001b[1;33m)\u001b[0m\u001b[1;33m\u001b[0m\u001b[1;33m\u001b[0m\u001b[0m\n\u001b[1;32m----> 8\u001b[1;33m \u001b[0mf2\u001b[0m\u001b[1;33m(\u001b[0m\u001b[1;33m)\u001b[0m\u001b[1;33m\u001b[0m\u001b[1;33m\u001b[0m\u001b[0m\n\u001b[0m",
      "\u001b[1;32m<ipython-input-5-a614cf2b931f>\u001b[0m in \u001b[0;36mf2\u001b[1;34m()\u001b[0m\n\u001b[0;32m      3\u001b[0m     \u001b[0mprint\u001b[0m\u001b[1;33m(\u001b[0m\u001b[1;34m\"f1 : \"\u001b[0m\u001b[1;33m,\u001b[0m\u001b[0mb\u001b[0m\u001b[1;33m)\u001b[0m\u001b[1;33m\u001b[0m\u001b[1;33m\u001b[0m\u001b[0m\n\u001b[0;32m      4\u001b[0m \u001b[1;32mdef\u001b[0m \u001b[0mf2\u001b[0m\u001b[1;33m(\u001b[0m\u001b[1;33m)\u001b[0m\u001b[1;33m:\u001b[0m\u001b[1;33m\u001b[0m\u001b[1;33m\u001b[0m\u001b[0m\n\u001b[1;32m----> 5\u001b[1;33m     \u001b[0mprint\u001b[0m\u001b[1;33m(\u001b[0m\u001b[1;34m\"f2 : \"\u001b[0m\u001b[1;33m,\u001b[0m\u001b[0mb\u001b[0m\u001b[1;33m)\u001b[0m\u001b[1;33m\u001b[0m\u001b[1;33m\u001b[0m\u001b[0m\n\u001b[0m\u001b[0;32m      6\u001b[0m \u001b[1;33m\u001b[0m\u001b[0m\n\u001b[0;32m      7\u001b[0m \u001b[0mf1\u001b[0m\u001b[1;33m(\u001b[0m\u001b[1;33m)\u001b[0m\u001b[1;33m\u001b[0m\u001b[1;33m\u001b[0m\u001b[0m\n",
      "\u001b[1;31mNameError\u001b[0m: name 'b' is not defined"
     ]
    }
   ],
   "source": [
    "def f1():\n",
    "    b = 10           # local Variable\n",
    "    print(\"f1 : \",b)\n",
    "def f2():\n",
    "    print(\"f2 : \",b)    # NameError: name 'b' is not defined\n",
    "\n",
    "f1()\n",
    "f2()"
   ]
  },
  {
   "cell_type": "code",
   "execution_count": 6,
   "metadata": {},
   "outputs": [
    {
     "name": "stdout",
     "output_type": "stream",
     "text": [
      "f1 :  10\n",
      "f2 :  20\n"
     ]
    }
   ],
   "source": [
    "def f1():\n",
    "    x = 10           # local Variable 1\n",
    "    print(\"f1 : \",x)\n",
    "def f2():\n",
    "    y =20\n",
    "    print(\"f2 : \",y)    # local Variable 2\n",
    "\n",
    "f1()\n",
    "f2()"
   ]
  },
  {
   "cell_type": "code",
   "execution_count": null,
   "metadata": {},
   "outputs": [],
   "source": []
  },
  {
   "cell_type": "code",
   "execution_count": null,
   "metadata": {},
   "outputs": [],
   "source": []
  },
  {
   "cell_type": "markdown",
   "metadata": {},
   "source": [
    "# global keyword :\n",
    "#### 1) To declare global variables inside function\n",
    "#### 2) To make global variable available to the function so that we can perform required modifications"
   ]
  },
  {
   "cell_type": "code",
   "execution_count": 2,
   "metadata": {},
   "outputs": [
    {
     "name": "stdout",
     "output_type": "stream",
     "text": [
      "f1 :  700\n",
      "f2 :  200\n"
     ]
    }
   ],
   "source": [
    "a = 200      # Global Variable\n",
    "def f1():\n",
    "    a = 700    # Local Variable\n",
    "    print(\"f1 : \",a)\n",
    "def f2():\n",
    "    print(\"f2 : \",a)\n",
    "    \n",
    "f1()\n",
    "f2()"
   ]
  },
  {
   "cell_type": "code",
   "execution_count": 3,
   "metadata": {},
   "outputs": [
    {
     "name": "stdout",
     "output_type": "stream",
     "text": [
      "f1 :  700\n",
      "f2 :  700\n"
     ]
    }
   ],
   "source": [
    "a = 200      # Global Variable\n",
    "def f1():\n",
    "    global a    # now a has become the GLOBAL VARIABLE\n",
    "    a = 700    # Global Variable\n",
    "    print(\"f1 : \",a)\n",
    "def f2():\n",
    "    print(\"f2 : \",a)\n",
    "    \n",
    "f1()\n",
    "f2()"
   ]
  },
  {
   "cell_type": "code",
   "execution_count": 4,
   "metadata": {},
   "outputs": [
    {
     "name": "stdout",
     "output_type": "stream",
     "text": [
      "f2 :  200\n",
      "f1 :  700\n"
     ]
    }
   ],
   "source": [
    "a = 200      # Global Variable\n",
    "def f1():\n",
    "    global a    # now a has become the GLOBAL VARIABLE\n",
    "    print(\"f1 : \",a)\n",
    "def f2():\n",
    "    print(\"f2 : \",a)\n",
    "\n",
    "    \n",
    "f2()    # f2 : 200, bacause we call f2() first.\n",
    "f1()"
   ]
  },
  {
   "cell_type": "code",
   "execution_count": 6,
   "metadata": {
    "scrolled": true
   },
   "outputs": [
    {
     "name": "stdout",
     "output_type": "stream",
     "text": [
      "f1 :  700\n",
      "f2 :  999\n",
      "f3 :  999\n"
     ]
    }
   ],
   "source": [
    "def f1():\n",
    "    global a    # now a has become the GLOBAL VARIABLE\n",
    "    a = 700    # Global Variable\n",
    "    print(\"f1 : \",a)\n",
    "def f2():\n",
    "    global a    # now this a has become the GLOBAL VARIABLE\n",
    "    a = 999    # Global Variable\n",
    "    print(\"f2 : \",a)\n",
    "def f3():\n",
    "    print(\" f3 : \",a)\n",
    "    \n",
    "f1()\n",
    "f2()\n",
    "f3()\n",
    "\n",
    "# a's value depend on which function we call first"
   ]
  },
  {
   "cell_type": "markdown",
   "metadata": {},
   "source": [
    "### Note : If global variable and local variable having the SAME NAME then we can access global variable inside a function as follows :"
   ]
  },
  {
   "cell_type": "code",
   "execution_count": 7,
   "metadata": {},
   "outputs": [
    {
     "name": "stdout",
     "output_type": "stream",
     "text": [
      "local a :  30\n",
      "global a :  10\n"
     ]
    }
   ],
   "source": [
    "a = 10\n",
    "\n",
    "def f1():\n",
    "    a = 30\n",
    "    print(\"local a : \",a)\n",
    "    print(\"global a : \",globals()['a'])  # globals() is a dictionary which contains all the global variables\n",
    "    \n",
    "f1()"
   ]
  },
  {
   "cell_type": "code",
   "execution_count": 2,
   "metadata": {},
   "outputs": [
    {
     "name": "stdout",
     "output_type": "stream",
     "text": [
      "{'__name__': '__main__', '__doc__': 'Automatically created module for IPython interactive environment', '__package__': None, '__loader__': None, '__spec__': None, '__builtin__': <module 'builtins' (built-in)>, '__builtins__': <module 'builtins' (built-in)>, '_ih': ['', 'globals()\\n\\n# globals() is a dictionary which contains all the global variables', 'print(globals())\\n\\n# globals() is a dictionary which contains all the global variables'], '_oh': {1: {...}}, '_dh': ['C:\\\\Users\\\\91774\\\\MY PYTHON STUFF\\\\DURGA PYTHON'], 'In': ['', 'globals()\\n\\n# globals() is a dictionary which contains all the global variables', 'print(globals())\\n\\n# globals() is a dictionary which contains all the global variables'], 'Out': {1: {...}}, 'get_ipython': <bound method InteractiveShell.get_ipython of <ipykernel.zmqshell.ZMQInteractiveShell object at 0x0000018246C01C70>>, 'exit': <IPython.core.autocall.ZMQExitAutocall object at 0x0000018246CA57F0>, 'quit': <IPython.core.autocall.ZMQExitAutocall object at 0x0000018246CA57F0>, '_': {...}, '__': '', '___': '', '_i': 'globals()\\n\\n# globals() is a dictionary which contains all the global variables', '_ii': '', '_iii': '', '_i1': 'globals()\\n\\n# globals() is a dictionary which contains all the global variables', '_1': {...}, '_i2': 'print(globals())\\n\\n# globals() is a dictionary which contains all the global variables'}\n"
     ]
    }
   ],
   "source": [
    "print(globals())\n",
    "\n",
    "# globals() is a dictionary which contains all the global variables"
   ]
  },
  {
   "cell_type": "code",
   "execution_count": null,
   "metadata": {},
   "outputs": [],
   "source": []
  },
  {
   "cell_type": "code",
   "execution_count": null,
   "metadata": {},
   "outputs": [],
   "source": []
  },
  {
   "cell_type": "markdown",
   "metadata": {},
   "source": [
    "# Recursive Functions :\n",
    "### A function that calls itself is called Recursive Function"
   ]
  },
  {
   "cell_type": "code",
   "execution_count": 11,
   "metadata": {},
   "outputs": [
    {
     "name": "stdout",
     "output_type": "stream",
     "text": [
      "factorial of 4 is : 24\n",
      "factorial of 0 is : 1\n",
      "factorial of 10 is : 3628800\n"
     ]
    }
   ],
   "source": [
    "def factorial(n):\n",
    "    if n == 0:\n",
    "        result = 1\n",
    "    else:\n",
    "        result = n * factorial(n-1)\n",
    "    return result\n",
    "\n",
    "print(f\"factorial of {4} is : {factorial(4)}\")\n",
    "print(f\"factorial of {0} is : {factorial(0)}\")\n",
    "print(f\"factorial of {10} is : {factorial(10)}\")\n"
   ]
  },
  {
   "cell_type": "code",
   "execution_count": null,
   "metadata": {},
   "outputs": [],
   "source": []
  },
  {
   "cell_type": "code",
   "execution_count": null,
   "metadata": {},
   "outputs": [],
   "source": []
  },
  {
   "cell_type": "code",
   "execution_count": null,
   "metadata": {},
   "outputs": [],
   "source": []
  },
  {
   "cell_type": "code",
   "execution_count": null,
   "metadata": {},
   "outputs": [],
   "source": []
  },
  {
   "cell_type": "markdown",
   "metadata": {},
   "source": [
    "# Anonymous Functions :\n",
    "\n",
    "## We can declare a function without any name, such type of nameless functions are called Anonymous function or lambda function.\n",
    "\n",
    "## main purpose is just for instant use(i.e for one time usage)"
   ]
  },
  {
   "cell_type": "code",
   "execution_count": null,
   "metadata": {},
   "outputs": [],
   "source": []
  },
  {
   "cell_type": "markdown",
   "metadata": {},
   "source": [
    "# Normal Function :\n",
    "### defined by using def keyword"
   ]
  },
  {
   "cell_type": "code",
   "execution_count": 12,
   "metadata": {},
   "outputs": [
    {
     "data": {
      "text/plain": [
       "25"
      ]
     },
     "execution_count": 12,
     "metadata": {},
     "output_type": "execute_result"
    }
   ],
   "source": [
    "def squareit(n):\n",
    "    return n*n\n",
    "\n",
    "squareit(5)"
   ]
  },
  {
   "cell_type": "markdown",
   "metadata": {},
   "source": [
    "# Lambda Function :\n",
    "## defined by using lambda keyword =====> e.g.  lambda n:n*n\n",
    "## syntax --> lambda argument_list : expression"
   ]
  },
  {
   "cell_type": "code",
   "execution_count": 13,
   "metadata": {},
   "outputs": [
    {
     "data": {
      "text/plain": [
       "25"
      ]
     },
     "execution_count": 13,
     "metadata": {},
     "output_type": "execute_result"
    }
   ],
   "source": [
    "def squareit(n):     # normal function\n",
    "    return n*n\n",
    "\n",
    "squareit(5)"
   ]
  },
  {
   "cell_type": "code",
   "execution_count": 19,
   "metadata": {},
   "outputs": [
    {
     "name": "stdout",
     "output_type": "stream",
     "text": [
      "1\n",
      "4\n",
      "9\n",
      "16\n",
      "25\n"
     ]
    }
   ],
   "source": [
    "square = lambda n:n*n      # lambda unction\n",
    "print(square(1))\n",
    "print(square(2))\n",
    "print(square(3))\n",
    "print(square(4))\n",
    "print(square(5))"
   ]
  },
  {
   "cell_type": "code",
   "execution_count": 20,
   "metadata": {},
   "outputs": [
    {
     "name": "stdout",
     "output_type": "stream",
     "text": [
      "30\n"
     ]
    }
   ],
   "source": [
    "sum = lambda a,b:a+b\n",
    "print(sum(10,20))"
   ]
  },
  {
   "cell_type": "code",
   "execution_count": 30,
   "metadata": {},
   "outputs": [
    {
     "name": "stdout",
     "output_type": "stream",
     "text": [
      "Bigger number is 15\n"
     ]
    }
   ],
   "source": [
    "bigger = lambda a,b:a if a>b else b\n",
    "\n",
    "print(f\"Bigger number is {bigger(15,10)}\")"
   ]
  },
  {
   "cell_type": "code",
   "execution_count": null,
   "metadata": {},
   "outputs": [],
   "source": []
  },
  {
   "cell_type": "code",
   "execution_count": null,
   "metadata": {},
   "outputs": [],
   "source": []
  },
  {
   "cell_type": "markdown",
   "metadata": {},
   "source": [
    "### Note : Lambda function internally returns expression value and we don't required to write return statement explicitly"
   ]
  },
  {
   "cell_type": "markdown",
   "metadata": {},
   "source": [
    "### Note : Sometimes we can pass function as argument to another function."
   ]
  },
  {
   "cell_type": "markdown",
   "metadata": {},
   "source": [
    "### We can use lambda functions very commonly with filter(), map() and reduce() dunctions, because these functions expect function as argument.\n",
    "\n",
    "# filter() Function :\n",
    "### used to filter values from the given sequence based on some condition.\n",
    "### syntax ---> filter(function,sequence)\n",
    "#### When function argument is responsible to perform conditional check sequence can be LIST or TUPLE or STRING."
   ]
  },
  {
   "cell_type": "markdown",
   "metadata": {},
   "source": [
    "### Without Lambda Function : "
   ]
  },
  {
   "cell_type": "code",
   "execution_count": 37,
   "metadata": {},
   "outputs": [
    {
     "name": "stdout",
     "output_type": "stream",
     "text": [
      "even numbers : [44, 222, 434, 100]\n"
     ]
    }
   ],
   "source": [
    "def iseven(x):\n",
    "    if x%2 == 0:\n",
    "        return True\n",
    "    else:\n",
    "        return False\n",
    "    \n",
    "l = [23,44,665,43,222,434,333,100,105]\n",
    "l1 = list(filter(iseven,l))\n",
    "print(\"even numbers :\",l1)"
   ]
  },
  {
   "cell_type": "markdown",
   "metadata": {},
   "source": [
    "### With Lambda Function :"
   ]
  },
  {
   "cell_type": "code",
   "execution_count": 40,
   "metadata": {},
   "outputs": [
    {
     "name": "stdout",
     "output_type": "stream",
     "text": [
      "even numbers : [44, 222, 434, 100]\n"
     ]
    }
   ],
   "source": [
    "l = [23,44,665,43,222,434,333,100,105]\n",
    "l1 = list(filter(lambda x:x%2==0,l))\n",
    "print(\"even numbers :\",l1)"
   ]
  },
  {
   "cell_type": "code",
   "execution_count": 39,
   "metadata": {},
   "outputs": [
    {
     "name": "stdout",
     "output_type": "stream",
     "text": [
      "odd numbers : [23, 665, 43, 333, 105]\n"
     ]
    }
   ],
   "source": [
    "l = [23,44,665,43,222,434,333,100,105]\n",
    "l2 = list(filter(lambda x:x%2!=0,l))\n",
    "print(\"odd numbers :\",l2)"
   ]
  },
  {
   "cell_type": "code",
   "execution_count": null,
   "metadata": {},
   "outputs": [],
   "source": []
  },
  {
   "cell_type": "markdown",
   "metadata": {},
   "source": [
    "# map() Function :\n",
    "#### For every element present in the given sequence, apply some functionality and generate new element with the required modification. For this requirement we should go for map() function.\n",
    "### syntax ----> map(function,sequence)"
   ]
  },
  {
   "cell_type": "markdown",
   "metadata": {},
   "source": [
    "### Without Lambda Function : "
   ]
  },
  {
   "cell_type": "code",
   "execution_count": 43,
   "metadata": {},
   "outputs": [
    {
     "name": "stdout",
     "output_type": "stream",
     "text": [
      "[10, 20, 30, 40, 50, 60, 70, 80, 90, 100]\n"
     ]
    }
   ],
   "source": [
    "def double(x):\n",
    "    return 2*x\n",
    "\n",
    "l = [5,10,15,20,25,30,35,40,45,50]\n",
    "l1 = list(map(double,l))\n",
    "print(l1)"
   ]
  },
  {
   "cell_type": "markdown",
   "metadata": {},
   "source": [
    "### With Lambda Function : "
   ]
  },
  {
   "cell_type": "code",
   "execution_count": 47,
   "metadata": {},
   "outputs": [
    {
     "name": "stdout",
     "output_type": "stream",
     "text": [
      "[10, 20, 30, 40, 50, 60, 70, 80, 90, 100]\n"
     ]
    }
   ],
   "source": [
    "l = [5,10,15,20,25,30,35,40,45,50]\n",
    "\n",
    "l1 = list(map(lambda x:x*2,l))\n",
    "print(l1)"
   ]
  },
  {
   "cell_type": "code",
   "execution_count": 50,
   "metadata": {},
   "outputs": [
    {
     "name": "stdout",
     "output_type": "stream",
     "text": [
      "square list : [25, 100, 225, 400, 625, 900, 1225, 1600, 2025, 2500]\n"
     ]
    }
   ],
   "source": [
    "l = [5,10,15,20,25,30,35,40,45,50]\n",
    "\n",
    "l2 = list(map(lambda x:x*x,l))\n",
    "print(\"square list :\",l2)"
   ]
  },
  {
   "cell_type": "markdown",
   "metadata": {},
   "source": [
    "#### We can aply map() function on multiple lists also."
   ]
  },
  {
   "cell_type": "code",
   "execution_count": 52,
   "metadata": {},
   "outputs": [
    {
     "name": "stdout",
     "output_type": "stream",
     "text": [
      "[10, 40, 90, 160, 250]\n"
     ]
    }
   ],
   "source": [
    "l1 = [1,2,3,4,5]\n",
    "l2 = [10,20,30,40,50,60]\n",
    "\n",
    "l3 = list(map(lambda x,y:x*y,l1,l2))\n",
    "print(l3)"
   ]
  },
  {
   "cell_type": "markdown",
   "metadata": {},
   "source": [
    "# reduce() Function :\n",
    "###  Reduces sequence of elements into a single element by applying the specified function\n",
    "### Syntax ---> reduce(function,sequence)\n",
    "## reduce() function present in the ' functools ' module"
   ]
  },
  {
   "cell_type": "markdown",
   "metadata": {},
   "source": [
    "### Without lambda function : "
   ]
  },
  {
   "cell_type": "code",
   "execution_count": null,
   "metadata": {},
   "outputs": [],
   "source": []
  },
  {
   "cell_type": "code",
   "execution_count": null,
   "metadata": {},
   "outputs": [],
   "source": []
  },
  {
   "cell_type": "markdown",
   "metadata": {},
   "source": [
    "### With lambda Function : "
   ]
  },
  {
   "cell_type": "code",
   "execution_count": 1,
   "metadata": {},
   "outputs": [
    {
     "name": "stdout",
     "output_type": "stream",
     "text": [
      "55\n"
     ]
    }
   ],
   "source": [
    "from functools import *\n",
    "\n",
    "l = [1,2,3,4,5,6,7,8,9,10]\n",
    "result = reduce(lambda x,y:x+y,l)\n",
    "\n",
    "print(result)"
   ]
  },
  {
   "cell_type": "code",
   "execution_count": 39,
   "metadata": {},
   "outputs": [
    {
     "name": "stdout",
     "output_type": "stream",
     "text": [
      "3628800\n"
     ]
    }
   ],
   "source": [
    "from functools import reduce\n",
    "\n",
    "result = reduce(lambda x,y:x*y,range(1,11))\n",
    "\n",
    "print(result)"
   ]
  },
  {
   "cell_type": "markdown",
   "metadata": {},
   "source": [
    "# Everything is an OBJECT :\n",
    "## In python everything is treated as object.\n",
    "## functions also internally treated as objects only."
   ]
  },
  {
   "cell_type": "code",
   "execution_count": 40,
   "metadata": {},
   "outputs": [
    {
     "name": "stdout",
     "output_type": "stream",
     "text": [
      "hello\n",
      "None\n",
      "<function f1 at 0x00000167567471F0>\n",
      "1543343731184\n"
     ]
    }
   ],
   "source": [
    "def f1():\n",
    "    print(\"hello\")\n",
    "print(f1())\n",
    "print(f1)\n",
    "print(id(f1))"
   ]
  },
  {
   "cell_type": "code",
   "execution_count": null,
   "metadata": {},
   "outputs": [],
   "source": []
  },
  {
   "cell_type": "markdown",
   "metadata": {},
   "source": [
    "# Function Aliasing :\n",
    "## for existing function we can give another name, which nothing but function aliasing\n",
    "### Syntax ==> new_name = original_name"
   ]
  },
  {
   "cell_type": "code",
   "execution_count": 57,
   "metadata": {},
   "outputs": [
    {
     "name": "stdout",
     "output_type": "stream",
     "text": [
      "Good Morning, vinod\n",
      "Good Morning, vinod\n",
      "ID if wish:      1543343732624\n",
      "ID if greeting:  1543343732624\n"
     ]
    }
   ],
   "source": [
    "def wish(name):\n",
    "    print(\"Good Morning,\",name)\n",
    "    \n",
    "greeting = wish               # syntax --> new_name = original_name\n",
    "\n",
    "wish(\"vinod\")\n",
    "greeting(\"vinod\")\n",
    "print(\"ID if wish:     \",id(wish))\n",
    "print(\"ID if greeting: \",id(greeting))"
   ]
  },
  {
   "cell_type": "code",
   "execution_count": null,
   "metadata": {},
   "outputs": [],
   "source": []
  },
  {
   "cell_type": "markdown",
   "metadata": {},
   "source": [
    "### Note: 1) In the above example only one function is available but we can call that function by using EITHER ORIGINAL NAME OR THE ALIAS NAME.\n",
    "### 2) If we delete one name still we can access that function by using alias name."
   ]
  },
  {
   "cell_type": "code",
   "execution_count": 56,
   "metadata": {},
   "outputs": [
    {
     "name": "stdout",
     "output_type": "stream",
     "text": [
      "Good Morning, vinod\n",
      "ID if greeting:  1543343732192\n"
     ]
    }
   ],
   "source": [
    "def wish(name):\n",
    "    print(\"Good Morning,\",name)\n",
    "    \n",
    "greeting = wish     # syntax --> new_name = original_name\n",
    "\n",
    "del wish    # deleted original name, still we can call function with NEW_NAME\n",
    "\n",
    "greeting(\"vinod\")\n",
    "print(\"ID if greeting: \",id(greeting))"
   ]
  },
  {
   "cell_type": "code",
   "execution_count": 58,
   "metadata": {},
   "outputs": [
    {
     "name": "stdout",
     "output_type": "stream",
     "text": [
      "Good Morning, vinod\n",
      "Good Morning, apurv\n",
      "Good Morning, swapnil\n",
      "ID if wish:      1543343731328\n",
      "ID if greeting:  1543343731328\n",
      "ID if morning:  1543343731328\n"
     ]
    }
   ],
   "source": [
    "def wish(name):\n",
    "    print(\"Good Morning,\",name)\n",
    "    \n",
    "greeting = wish     # function aliasing\n",
    "morning = greeting   # function aliasing\n",
    "\n",
    "wish(\"vinod\")\n",
    "greeting(\"apurv\")\n",
    "morning('swapnil')\n",
    "\n",
    "print(\"ID if wish:     \",id(wish))\n",
    "print(\"ID if greeting: \",id(greeting))\n",
    "print(\"ID if morning: \",id(morning))"
   ]
  },
  {
   "cell_type": "code",
   "execution_count": null,
   "metadata": {},
   "outputs": [],
   "source": []
  },
  {
   "cell_type": "markdown",
   "metadata": {},
   "source": [
    "# Nested Functions : \n",
    "### Declaring a function inside another function, such type of functions are called Nested functions."
   ]
  },
  {
   "cell_type": "code",
   "execution_count": 67,
   "metadata": {},
   "outputs": [
    {
     "name": "stdout",
     "output_type": "stream",
     "text": [
      "Outer function started\n",
      "outer function calling inner function\n",
      "inner function execution\n"
     ]
    }
   ],
   "source": [
    "def outer():\n",
    "    print(\"Outer function started\")\n",
    "    def inner():\n",
    "        print(\"inner function execution\")\n",
    "    print(\"outer function calling inner function\")\n",
    "    inner()    # calling inner()_function inside outer()_fuction\n",
    "    \n",
    "outer()"
   ]
  },
  {
   "cell_type": "code",
   "execution_count": 69,
   "metadata": {},
   "outputs": [
    {
     "name": "stdout",
     "output_type": "stream",
     "text": [
      "Outer function execution\n"
     ]
    },
    {
     "ename": "NameError",
     "evalue": "name 'inner' is not defined",
     "output_type": "error",
     "traceback": [
      "\u001b[1;31m---------------------------------------------------------------------------\u001b[0m",
      "\u001b[1;31mNameError\u001b[0m                                 Traceback (most recent call last)",
      "\u001b[1;32m<ipython-input-69-bad7f2047aa6>\u001b[0m in \u001b[0;36m<module>\u001b[1;34m\u001b[0m\n\u001b[0;32m      6\u001b[0m \u001b[1;33m\u001b[0m\u001b[0m\n\u001b[0;32m      7\u001b[0m \u001b[0mouter\u001b[0m\u001b[1;33m(\u001b[0m\u001b[1;33m)\u001b[0m\u001b[1;33m\u001b[0m\u001b[1;33m\u001b[0m\u001b[0m\n\u001b[1;32m----> 8\u001b[1;33m \u001b[0minner\u001b[0m\u001b[1;33m(\u001b[0m\u001b[1;33m)\u001b[0m      \u001b[1;31m# NameError: name 'inner' is not defined\u001b[0m\u001b[1;33m\u001b[0m\u001b[1;33m\u001b[0m\u001b[0m\n\u001b[0m",
      "\u001b[1;31mNameError\u001b[0m: name 'inner' is not defined"
     ]
    }
   ],
   "source": [
    "def outer():\n",
    "    print(\"Outer function execution\")\n",
    "    def inner():\n",
    "        print(\"inner function execution\")\n",
    "    \n",
    "    \n",
    "outer()\n",
    "inner()      # NameError: name 'inner' is not defined"
   ]
  },
  {
   "cell_type": "code",
   "execution_count": 74,
   "metadata": {},
   "outputs": [
    {
     "name": "stdout",
     "output_type": "stream",
     "text": [
      "sum     :  30\n",
      "Average :  15.0 \n",
      "\n",
      "sum     :  70\n",
      "Average :  35.0 \n",
      "\n",
      "sum     :  110\n",
      "Average :  55.0 \n",
      "\n",
      "sum     :  150\n",
      "Average :  75.0 \n",
      "\n"
     ]
    }
   ],
   "source": [
    "def f1():\n",
    "    def calc(a,b):\n",
    "        print(\"sum     : \",a+b)\n",
    "        print(\"Average : \",(a+b)/2,\"\\n\")\n",
    "    calc(10,20)\n",
    "    calc(30,40)\n",
    "    calc(50,60)\n",
    "    calc(70,80)\n",
    "\n",
    "f1()"
   ]
  },
  {
   "cell_type": "code",
   "execution_count": null,
   "metadata": {},
   "outputs": [],
   "source": []
  },
  {
   "cell_type": "markdown",
   "metadata": {},
   "source": [
    "## In the above example inner() function is local to outer() function and hence it is not possible to call directly from outside of outer() function."
   ]
  },
  {
   "cell_type": "markdown",
   "metadata": {},
   "source": [
    "### Note : A function can return another function."
   ]
  },
  {
   "cell_type": "code",
   "execution_count": 1,
   "metadata": {
    "scrolled": true
   },
   "outputs": [
    {
     "name": "stdout",
     "output_type": "stream",
     "text": [
      "outer function started\n",
      "outer function returning inner function\n"
     ]
    },
    {
     "data": {
      "text/plain": [
       "<function __main__.outer.<locals>.inner()>"
      ]
     },
     "execution_count": 1,
     "metadata": {},
     "output_type": "execute_result"
    }
   ],
   "source": [
    "def outer():\n",
    "    print(\"outer function started\")\n",
    "    def inner():\n",
    "        print(\"inner function execution\")\n",
    "    print(\"outer function returning inner function\")\n",
    "    return inner      # returning inner function\n",
    "\n",
    "outer()"
   ]
  },
  {
   "cell_type": "code",
   "execution_count": 35,
   "metadata": {},
   "outputs": [
    {
     "name": "stdout",
     "output_type": "stream",
     "text": [
      "outer function started\n",
      "outer function returning inner function\n",
      "inner function execution\n"
     ]
    }
   ],
   "source": [
    "def outer():\n",
    "    print(\"outer function started\")\n",
    "    def inner():\n",
    "        print(\"inner function execution\")\n",
    "    print(\"outer function returning inner function\")  \n",
    "    return inner     # returning inner function\n",
    "    \n",
    "\n",
    "f1 = outer()  # return value of outer() function will be assigned to f1\n",
    "f1()     # returns inner function"
   ]
  },
  {
   "cell_type": "code",
   "execution_count": 6,
   "metadata": {
    "scrolled": true
   },
   "outputs": [
    {
     "name": "stdout",
     "output_type": "stream",
     "text": [
      "outer function started\n",
      "outer function returning inner function\n",
      "inner function execution\n",
      "inner function execution\n",
      "inner function execution\n",
      "inner function execution\n"
     ]
    }
   ],
   "source": [
    "def outer():\n",
    "    print(\"outer function started\")\n",
    "    def inner():\n",
    "        print(\"inner function execution\")\n",
    "    print(\"outer function returning inner function\")\n",
    "    return inner      # returning inner function\n",
    "\n",
    "f1 = outer()    # return value of outer() will be assigned to f1\n",
    "f1()       # returns inner function\n",
    "f1()       # returns inner function\n",
    "f1()       # returns inner function\n",
    "f1()       # returns inner function"
   ]
  },
  {
   "cell_type": "code",
   "execution_count": 15,
   "metadata": {},
   "outputs": [
    {
     "name": "stdout",
     "output_type": "stream",
     "text": [
      "outer function started\n",
      "outer function returning inner function\n",
      "inner function execution\n"
     ]
    },
    {
     "ename": "TypeError",
     "evalue": "'NoneType' object is not callable",
     "output_type": "error",
     "traceback": [
      "\u001b[1;31m---------------------------------------------------------------------------\u001b[0m",
      "\u001b[1;31mTypeError\u001b[0m                                 Traceback (most recent call last)",
      "\u001b[1;32m<ipython-input-15-5e89a52f84cf>\u001b[0m in \u001b[0;36m<module>\u001b[1;34m\u001b[0m\n\u001b[0;32m      7\u001b[0m \u001b[1;33m\u001b[0m\u001b[0m\n\u001b[0;32m      8\u001b[0m \u001b[0mf1\u001b[0m \u001b[1;33m=\u001b[0m \u001b[0mouter\u001b[0m\u001b[1;33m(\u001b[0m\u001b[1;33m)\u001b[0m\u001b[1;33m\u001b[0m\u001b[1;33m\u001b[0m\u001b[0m\n\u001b[1;32m----> 9\u001b[1;33m \u001b[0mf1\u001b[0m\u001b[1;33m(\u001b[0m\u001b[1;33m)\u001b[0m\u001b[1;33m\u001b[0m\u001b[1;33m\u001b[0m\u001b[0m\n\u001b[0m",
      "\u001b[1;31mTypeError\u001b[0m: 'NoneType' object is not callable"
     ]
    }
   ],
   "source": [
    "def outer():\n",
    "    print(\"outer function started\")\n",
    "    def inner():\n",
    "        print(\"inner function execution\")\n",
    "    print(\"outer function returning inner function\")\n",
    "    return inner()     # returning inner function\n",
    "\n",
    "f1 = outer()\n",
    "f1()"
   ]
  },
  {
   "cell_type": "code",
   "execution_count": null,
   "metadata": {},
   "outputs": [],
   "source": []
  }
 ],
 "metadata": {
  "kernelspec": {
   "display_name": "Python 3",
   "language": "python",
   "name": "python3"
  },
  "language_info": {
   "codemirror_mode": {
    "name": "ipython",
    "version": 3
   },
   "file_extension": ".py",
   "mimetype": "text/x-python",
   "name": "python",
   "nbconvert_exporter": "python",
   "pygments_lexer": "ipython3",
   "version": "3.8.3"
  }
 },
 "nbformat": 4,
 "nbformat_minor": 4
}
