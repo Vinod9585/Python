{
 "cells": [
  {
   "cell_type": "markdown",
   "metadata": {},
   "source": [
    "# Polymorphism"
   ]
  },
  {
   "cell_type": "markdown",
   "metadata": {},
   "source": [
    "## 1) Duck Typing Philosophy of Python :"
   ]
  },
  {
   "cell_type": "code",
   "execution_count": 8,
   "metadata": {},
   "outputs": [
    {
     "name": "stdout",
     "output_type": "stream",
     "text": [
      "Quack Quack Quack...\n",
      "Bow Bow Bow...\n",
      "Myah Myah Myah...\n",
      "Meow Meow Meow...\n"
     ]
    }
   ],
   "source": [
    "class Duck:\n",
    "    def talk(self):\n",
    "        print(\"Quack Quack Quack...\")\n",
    "        \n",
    "class Dog:\n",
    "    def talk(self):\n",
    "        print(\"Bow Bow Bow...\")\n",
    "        \n",
    "class Cat:\n",
    "    def talk(self):\n",
    "        print(\"Meow Meow Meow...\")\n",
    "        \n",
    "class Goat:\n",
    "    def talk(self):\n",
    "        print(\"Myah Myah Myah...\")\n",
    "        \n",
    "l = [Duck(),Dog(),Goat(),Cat()]\n",
    "for obj in l:\n",
    "    obj.talk()\n",
    "    "
   ]
  },
  {
   "cell_type": "code",
   "execution_count": 9,
   "metadata": {},
   "outputs": [
    {
     "name": "stdout",
     "output_type": "stream",
     "text": [
      "Quack Quack Quack...\n"
     ]
    },
    {
     "ename": "AttributeError",
     "evalue": "'Dog' object has no attribute 'talk'",
     "output_type": "error",
     "traceback": [
      "\u001b[1;31m---------------------------------------------------------------------------\u001b[0m",
      "\u001b[1;31mAttributeError\u001b[0m                            Traceback (most recent call last)",
      "\u001b[1;32m<ipython-input-9-1b46cacf5dc8>\u001b[0m in \u001b[0;36m<module>\u001b[1;34m\u001b[0m\n\u001b[0;32m     17\u001b[0m \u001b[0ml\u001b[0m \u001b[1;33m=\u001b[0m \u001b[1;33m[\u001b[0m\u001b[0mDuck\u001b[0m\u001b[1;33m(\u001b[0m\u001b[1;33m)\u001b[0m\u001b[1;33m,\u001b[0m\u001b[0mDog\u001b[0m\u001b[1;33m(\u001b[0m\u001b[1;33m)\u001b[0m\u001b[1;33m,\u001b[0m\u001b[0mGoat\u001b[0m\u001b[1;33m(\u001b[0m\u001b[1;33m)\u001b[0m\u001b[1;33m,\u001b[0m\u001b[0mCat\u001b[0m\u001b[1;33m(\u001b[0m\u001b[1;33m)\u001b[0m\u001b[1;33m]\u001b[0m\u001b[1;33m\u001b[0m\u001b[1;33m\u001b[0m\u001b[0m\n\u001b[0;32m     18\u001b[0m \u001b[1;32mfor\u001b[0m \u001b[0mobj\u001b[0m \u001b[1;32min\u001b[0m \u001b[0ml\u001b[0m\u001b[1;33m:\u001b[0m\u001b[1;33m\u001b[0m\u001b[1;33m\u001b[0m\u001b[0m\n\u001b[1;32m---> 19\u001b[1;33m     \u001b[0mobj\u001b[0m\u001b[1;33m.\u001b[0m\u001b[0mtalk\u001b[0m\u001b[1;33m(\u001b[0m\u001b[1;33m)\u001b[0m\u001b[1;33m\u001b[0m\u001b[1;33m\u001b[0m\u001b[0m\n\u001b[0m\u001b[0;32m     20\u001b[0m \u001b[1;33m\u001b[0m\u001b[0m\n",
      "\u001b[1;31mAttributeError\u001b[0m: 'Dog' object has no attribute 'talk'"
     ]
    }
   ],
   "source": [
    "class Duck:\n",
    "    def talk(self):\n",
    "        print(\"Quack Quack Quack...\")\n",
    "        \n",
    "class Dog:\n",
    "    def bark(self):\n",
    "        print(\"Bow Bow Bow...\")\n",
    "        \n",
    "class Cat:\n",
    "    def talk(self):\n",
    "        print(\"Meow Meow Meow...\")\n",
    "        \n",
    "class Goat:\n",
    "    def talk(self):\n",
    "        print(\"Myah Myah Myah...\")\n",
    "        \n",
    "l = [Duck(),Dog(),Goat(),Cat()]\n",
    "for obj in l:\n",
    "    obj.talk()\n",
    "    "
   ]
  },
  {
   "cell_type": "code",
   "execution_count": 7,
   "metadata": {},
   "outputs": [
    {
     "name": "stdout",
     "output_type": "stream",
     "text": [
      "Quack Quack Quack...\n",
      "Bow Bow Bow...\n",
      "Myah Myah Myah...\n",
      "Meow Meow Meow...\n"
     ]
    }
   ],
   "source": [
    "class Duck:\n",
    "    def talk(self):\n",
    "        print(\"Quack Quack Quack...\")\n",
    "        \n",
    "class Dog:\n",
    "    def talk(self):\n",
    "        print(\"Bow Bow Bow...\")\n",
    "        \n",
    "class Cat:\n",
    "    def talk(self):\n",
    "        print(\"Meow Meow Meow...\")\n",
    "        \n",
    "class Goat:\n",
    "    def talk(self):\n",
    "        print(\"Myah Myah Myah...\")\n",
    "        \n",
    "l = [Duck(),Dog(),Goat(),Cat()]\n",
    "for obj in l:\n",
    "    if hasattr(obj,\"talk\"):\n",
    "        obj.talk()\n",
    "    elif hasattr(obj,\"bark\"):\n",
    "        obj.bark()\n",
    "  "
   ]
  },
  {
   "cell_type": "code",
   "execution_count": null,
   "metadata": {},
   "outputs": [],
   "source": []
  },
  {
   "cell_type": "code",
   "execution_count": null,
   "metadata": {},
   "outputs": [],
   "source": []
  },
  {
   "cell_type": "markdown",
   "metadata": {},
   "source": [
    "## 2) Overloading :\n",
    "#### 1) Operator Overloading\n",
    "#### 2) Method Overloading\n",
    "#### 3) Constructor Overloading"
   ]
  },
  {
   "cell_type": "markdown",
   "metadata": {},
   "source": [
    "### 1) Operator Overloading :"
   ]
  },
  {
   "cell_type": "code",
   "execution_count": 10,
   "metadata": {},
   "outputs": [
    {
     "data": {
      "text/plain": [
       "30"
      ]
     },
     "execution_count": 10,
     "metadata": {},
     "output_type": "execute_result"
    }
   ],
   "source": [
    "10 + 20"
   ]
  },
  {
   "cell_type": "code",
   "execution_count": 11,
   "metadata": {},
   "outputs": [
    {
     "data": {
      "text/plain": [
       "'Vinod Shende'"
      ]
     },
     "execution_count": 11,
     "metadata": {},
     "output_type": "execute_result"
    }
   ],
   "source": [
    "\"Vinod \" + \"Shende\""
   ]
  },
  {
   "cell_type": "code",
   "execution_count": 12,
   "metadata": {},
   "outputs": [
    {
     "data": {
      "text/plain": [
       "200"
      ]
     },
     "execution_count": 12,
     "metadata": {},
     "output_type": "execute_result"
    }
   ],
   "source": [
    "10 * 20"
   ]
  },
  {
   "cell_type": "code",
   "execution_count": 13,
   "metadata": {},
   "outputs": [
    {
     "data": {
      "text/plain": [
       "'Vinod Vinod Vinod Vinod Vinod '"
      ]
     },
     "execution_count": 13,
     "metadata": {},
     "output_type": "execute_result"
    }
   ],
   "source": [
    "\"Vinod \"*5"
   ]
  },
  {
   "cell_type": "code",
   "execution_count": 16,
   "metadata": {
    "scrolled": true
   },
   "outputs": [
    {
     "ename": "TypeError",
     "evalue": "unsupported operand type(s) for +: 'Book' and 'Book'",
     "output_type": "error",
     "traceback": [
      "\u001b[1;31m---------------------------------------------------------------------------\u001b[0m",
      "\u001b[1;31mTypeError\u001b[0m                                 Traceback (most recent call last)",
      "\u001b[1;32m<ipython-input-16-c38896d24561>\u001b[0m in \u001b[0;36m<module>\u001b[1;34m\u001b[0m\n\u001b[0;32m      6\u001b[0m \u001b[0mb2\u001b[0m \u001b[1;33m=\u001b[0m \u001b[0mBook\u001b[0m\u001b[1;33m(\u001b[0m\u001b[1;36m200\u001b[0m\u001b[1;33m)\u001b[0m\u001b[1;33m\u001b[0m\u001b[1;33m\u001b[0m\u001b[0m\n\u001b[0;32m      7\u001b[0m \u001b[1;33m\u001b[0m\u001b[0m\n\u001b[1;32m----> 8\u001b[1;33m \u001b[0mprint\u001b[0m\u001b[1;33m(\u001b[0m\u001b[1;34m\"Total no. of pages :\"\u001b[0m\u001b[1;33m,\u001b[0m\u001b[0mb1\u001b[0m\u001b[1;33m+\u001b[0m\u001b[0mb2\u001b[0m\u001b[1;33m)\u001b[0m\u001b[1;33m\u001b[0m\u001b[1;33m\u001b[0m\u001b[0m\n\u001b[0m",
      "\u001b[1;31mTypeError\u001b[0m: unsupported operand type(s) for +: 'Book' and 'Book'"
     ]
    }
   ],
   "source": [
    "class Book:\n",
    "    def __init__(self,pages):\n",
    "        self.pages = pages\n",
    "        \n",
    "b1 = Book(100)\n",
    "b2 = Book(200)\n",
    "\n",
    "print(\"Total no. of pages :\",b1+b2)"
   ]
  },
  {
   "cell_type": "code",
   "execution_count": 30,
   "metadata": {},
   "outputs": [
    {
     "name": "stdout",
     "output_type": "stream",
     "text": [
      "Total no. of pages : 300\n"
     ]
    }
   ],
   "source": [
    "class Book:\n",
    "    def __init__(self,pages):\n",
    "        self.pages = pages\n",
    "        \n",
    "    def __add__(self,other):\n",
    "        return self.pages + other.pages\n",
    "        \n",
    "b1 = Book(100)\n",
    "b2 = Book(200)\n",
    "\n",
    "print(\"Total no. of pages :\",b1+b2)"
   ]
  },
  {
   "cell_type": "code",
   "execution_count": 5,
   "metadata": {},
   "outputs": [
    {
     "name": "stdout",
     "output_type": "stream",
     "text": [
      "s1>s2 : False\n",
      "s1<s2 : True\n",
      "s1>=s2 : False\n",
      "s1<=s2 : True\n"
     ]
    }
   ],
   "source": [
    "class Student:\n",
    "    def __init__(self,name,marks):\n",
    "        self.name = name\n",
    "        self.marks = marks\n",
    "        \n",
    "    def __gt__(self,other):\n",
    "        return self.marks > other.marks\n",
    "    \n",
    "    def __lt__(self,other):\n",
    "        return self.marks <= other.marks\n",
    "        \n",
    "s1 = Student(\"Vinod\",100)\n",
    "s2 = Student(\"Swapnil\",100)\n",
    "print(\"s1>s2 :\",s1>s2)\n",
    "print(\"s1<s2 :\",s1<s2)\n",
    "print(\"s1>=s2 :\",s1>s2)\n",
    "print(\"s1<=s2 :\",s1<s2)"
   ]
  },
  {
   "cell_type": "code",
   "execution_count": 14,
   "metadata": {},
   "outputs": [
    {
     "name": "stdout",
     "output_type": "stream",
     "text": [
      "This month's salary : 12500\n"
     ]
    }
   ],
   "source": [
    "class Employee:\n",
    "    def __init__(self,name,salary):\n",
    "        self.name = name\n",
    "        self.salary = salary\n",
    "        \n",
    "    def __mul__(self,other):\n",
    "        return self.salary * other.days\n",
    "        \n",
    "class Timesheet:\n",
    "    def __init__(self,name,days):\n",
    "        self.name = name\n",
    "        self.days = days\n",
    "        \n",
    "e = Employee(\"Vinod\",500)\n",
    "t = Timesheet(\"Vinod\",25)\n",
    "\n",
    "print(\"This month's salary :\",e*t)\n",
    "#print(\"This month's salary :\",t*e)    # TypeError: unsupported operand type(s) for *: 'Timesheet' and 'Employee'"
   ]
  },
  {
   "cell_type": "code",
   "execution_count": null,
   "metadata": {},
   "outputs": [],
   "source": []
  },
  {
   "cell_type": "code",
   "execution_count": null,
   "metadata": {},
   "outputs": [],
   "source": []
  },
  {
   "cell_type": "markdown",
   "metadata": {},
   "source": [
    "## 2) Method Overloading :\n",
    "#### If two methods having same name but different type of arguments then those methods are said to be overloaded methods.\n",
    "    Eg: m1(int a)\n",
    "     m1(double d)\n",
    "### But in Python Method overloading is not possible.\n",
    "#### If we are trying to declare multiple methods with same name and different number of arguments \n",
    "#### then Python will always consider only last method."
   ]
  },
  {
   "cell_type": "code",
   "execution_count": 17,
   "metadata": {},
   "outputs": [
    {
     "name": "stdout",
     "output_type": "stream",
     "text": [
      "Two-arg method\n"
     ]
    }
   ],
   "source": [
    "class Test:\n",
    "    def m1(self):\n",
    "        print(\"No-arg method\")\n",
    "        \n",
    "    def m1(self,a):\n",
    "        print(\"One-arg method\")\n",
    "        \n",
    "    def m1(self,a,b):\n",
    "        print(\"Two-arg method\")\n",
    "        \n",
    "t = Test()\n",
    "#t.m1()\n",
    "#t.m1(10)\n",
    "t.m1(10,20)\n",
    "\n",
    "# In the above program python will consider only last method."
   ]
  },
  {
   "cell_type": "markdown",
   "metadata": {},
   "source": [
    "### How we can handle overloaded method requirements in Python:\n",
    "#### Most of the times, if method with variable number of arguments required then we can handle with default arguments or with variable number of argument methods."
   ]
  },
  {
   "cell_type": "markdown",
   "metadata": {},
   "source": [
    "### Method with Default Arguments :"
   ]
  },
  {
   "cell_type": "code",
   "execution_count": 18,
   "metadata": {},
   "outputs": [
    {
     "name": "stdout",
     "output_type": "stream",
     "text": [
      "The Sum of 3 numbers : 60\n",
      "The sum of 2 numbers : 30\n",
      "Please provide 2 or 3 arguments.\n"
     ]
    }
   ],
   "source": [
    "class Test:\n",
    "    def sum(self,a=None, b=None,c=None):\n",
    "        if a!=None and b!=None and c!=None:\n",
    "            print(\"The Sum of 3 numbers :\",a+b+c)\n",
    "        elif a!=None and b!=None:\n",
    "            print(\"The sum of 2 numbers :\",a+b)\n",
    "        else:\n",
    "            print(\"Please provide 2 or 3 arguments.\")\n",
    "            \n",
    "t = Test()\n",
    "t.sum(10,20,30)\n",
    "t.sum(10,20)\n",
    "t.sum(10)"
   ]
  },
  {
   "cell_type": "code",
   "execution_count": null,
   "metadata": {},
   "outputs": [],
   "source": []
  },
  {
   "cell_type": "markdown",
   "metadata": {},
   "source": [
    "### Method with Variable Number of Arguments :"
   ]
  },
  {
   "cell_type": "code",
   "execution_count": 21,
   "metadata": {},
   "outputs": [
    {
     "name": "stdout",
     "output_type": "stream",
     "text": [
      "The sum : 30\n",
      "The sum : 60\n",
      "The sum : 150\n"
     ]
    }
   ],
   "source": [
    "class Test:\n",
    "    def sum(self,*a):\n",
    "        total = 0\n",
    "        for i in a:\n",
    "            total += i\n",
    "            \n",
    "        print(\"The sum :\",total)\n",
    "        \n",
    "t = Test()\n",
    "t.sum(10,20)\n",
    "t.sum(10,20,30)\n",
    "t.sum(10,20,30,40,50)"
   ]
  },
  {
   "cell_type": "code",
   "execution_count": null,
   "metadata": {},
   "outputs": [],
   "source": []
  },
  {
   "cell_type": "markdown",
   "metadata": {},
   "source": [
    "## 3) Constructor Overloading :\n",
    "### Constructor overloading is not possible in Python.\n",
    "#### If we define multiple constructors then the last constructor will be considered.\n"
   ]
  },
  {
   "cell_type": "code",
   "execution_count": 24,
   "metadata": {},
   "outputs": [
    {
     "name": "stdout",
     "output_type": "stream",
     "text": [
      "Two Args Constructor\n"
     ]
    }
   ],
   "source": [
    "class Test:\n",
    "    def __init__(self):\n",
    "        print(\"No Args constructor\")\n",
    "        \n",
    "    def __init__(self,a):\n",
    "        print(\"One Arg Constructor\")\n",
    "        \n",
    "    def __init__(self,a,b):\n",
    "        print(\"Two Args Constructor\")\n",
    "        \n",
    "#t = Test()\n",
    "#t = Test(10)\n",
    "t = Test(10,20)\n",
    "\n",
    "# In the above program only Two-Arg Constructor is available."
   ]
  },
  {
   "cell_type": "markdown",
   "metadata": {},
   "source": [
    "### Based on our requirement we can declare constructor with default arguments and variable number of arguments."
   ]
  },
  {
   "cell_type": "markdown",
   "metadata": {},
   "source": [
    "### Constructor with Default Argumeents :"
   ]
  },
  {
   "cell_type": "code",
   "execution_count": 26,
   "metadata": {},
   "outputs": [
    {
     "name": "stdout",
     "output_type": "stream",
     "text": [
      "Constructor with 0/1/2/3 number of arguments\n",
      "Constructor with 0/1/2/3 number of arguments\n",
      "Constructor with 0/1/2/3 number of arguments\n",
      "Constructor with 0/1/2/3 number of arguments\n"
     ]
    }
   ],
   "source": [
    "class Test:\n",
    "    def __init__(self,a=None,b=None,c=None):\n",
    "        print(\"Constructor with 0/1/2/3 number of arguments\")\n",
    "        \n",
    "t1 = Test()\n",
    "t1 = Test(10)\n",
    "t1 = Test(10,20)\n",
    "t1 = Test(10,20,30)\n"
   ]
  },
  {
   "cell_type": "code",
   "execution_count": null,
   "metadata": {},
   "outputs": [],
   "source": []
  },
  {
   "cell_type": "markdown",
   "metadata": {},
   "source": [
    "### Constructor with Variable Number of Arguments :"
   ]
  },
  {
   "cell_type": "code",
   "execution_count": 28,
   "metadata": {
    "scrolled": true
   },
   "outputs": [
    {
     "name": "stdout",
     "output_type": "stream",
     "text": [
      "Constructor with variable number of arguments\n",
      "Constructor with variable number of arguments\n",
      "Constructor with variable number of arguments\n",
      "Constructor with variable number of arguments\n",
      "Constructor with variable number of arguments\n"
     ]
    }
   ],
   "source": [
    "class Test:\n",
    "    def __init__(self,*a):\n",
    "        print(\"Constructor with variable number of arguments\")\n",
    "        \n",
    "t1 = Test()\n",
    "t1 = Test(10)\n",
    "t1 = Test(10,20)\n",
    "t1 = Test(10,20,30)\n",
    "t1 = Test(10,20,30,40,50)"
   ]
  },
  {
   "cell_type": "markdown",
   "metadata": {},
   "source": [
    "# Overriding :"
   ]
  },
  {
   "cell_type": "markdown",
   "metadata": {},
   "source": [
    "# Method Overriding :\n",
    "### What ever members available in the parent class are bydefault available to the child class through inheritance. If the child class not satisfied with parent class implementation then child class is allowed to redefine that method in the child class based on its requirement. This concept is called overriding.\n",
    "### Overriding concept applicable for both methods and constructors."
   ]
  },
  {
   "cell_type": "code",
   "execution_count": 31,
   "metadata": {},
   "outputs": [
    {
     "name": "stdout",
     "output_type": "stream",
     "text": [
      "I eat only plants. I am vegetarian.\n"
     ]
    }
   ],
   "source": [
    "class Animal:\n",
    "    \n",
    "    def feed(self):\n",
    "        print(\"I eat food.\")\n",
    "        \n",
    "class Herbivorous(Animal):\n",
    "\n",
    "    def feed(self):\n",
    "        print(\"I eat only plants. I am vegetarian.\")\n",
    "        \n",
    "herbi = Herbivorous()\n",
    "herbi.feed()"
   ]
  },
  {
   "cell_type": "markdown",
   "metadata": {},
   "source": [
    "### From Overriding method of child class,we can call parent class method also by using super() method."
   ]
  },
  {
   "cell_type": "code",
   "execution_count": 32,
   "metadata": {},
   "outputs": [
    {
     "name": "stdout",
     "output_type": "stream",
     "text": [
      "I eat food.\n",
      "I eat only plants. I am vegetarian.\n"
     ]
    }
   ],
   "source": [
    "class Animal:\n",
    "    \n",
    "    def feed(self):\n",
    "        print(\"I eat food.\")\n",
    "        \n",
    "class Herbivorous(Animal):\n",
    "\n",
    "    def feed(self):\n",
    "        super().feed()\n",
    "        print(\"I eat only plants. I am vegetarian.\")\n",
    "        \n",
    "herbi = Herbivorous()\n",
    "herbi.feed()"
   ]
  },
  {
   "cell_type": "code",
   "execution_count": 36,
   "metadata": {},
   "outputs": [
    {
     "name": "stdout",
     "output_type": "stream",
     "text": [
      "12\n",
      "8\n"
     ]
    }
   ],
   "source": [
    "class Loan:\n",
    "    def interst_rate(self):\n",
    "        return 10.5\n",
    "    \n",
    "class Gold(Loan):\n",
    "    def interst_rate(self):\n",
    "        return 12\n",
    "    \n",
    "class Car(Loan):\n",
    "    def interst_rate(self):\n",
    "        return 8\n",
    "    \n",
    "g = Gold()\n",
    "c = Car()\n",
    "\n",
    "print(g.interst_rate())\n",
    "print(c.interst_rate())"
   ]
  },
  {
   "cell_type": "code",
   "execution_count": null,
   "metadata": {},
   "outputs": [],
   "source": []
  },
  {
   "cell_type": "markdown",
   "metadata": {},
   "source": [
    "# Constructor Overriding :"
   ]
  },
  {
   "cell_type": "code",
   "execution_count": 33,
   "metadata": {},
   "outputs": [
    {
     "name": "stdout",
     "output_type": "stream",
     "text": [
      "Child Constructor\n"
     ]
    }
   ],
   "source": [
    "class P:\n",
    "    def __init__(self):\n",
    "        print(\"Parent Constructor\")\n",
    "        \n",
    "class C(P):\n",
    "    def __init__(self):\n",
    "        print(\"Child Constructor\")\n",
    "        \n",
    "c = C()"
   ]
  },
  {
   "cell_type": "markdown",
   "metadata": {},
   "source": [
    "### In the above example,if child class does not contain constructor then parent class constructor will be executed.\n",
    "### From child class constuctor we can call parent class constructor by using super() method."
   ]
  },
  {
   "cell_type": "code",
   "execution_count": 45,
   "metadata": {},
   "outputs": [
    {
     "name": "stdout",
     "output_type": "stream",
     "text": [
      "Employee Name : Vinod\n",
      "Employee Age : 21\n",
      "Employee Number : 12345\n",
      "Employee Salary : 30000\n",
      "\n",
      "Employee Name : Apurv\n",
      "Employee Age : 30\n",
      "Employee Number : 67890\n",
      "Employee Salary : 1000\n"
     ]
    }
   ],
   "source": [
    "class Person:\n",
    "    def __init__(self,name,age):\n",
    "        self.name = name\n",
    "        self.age = age\n",
    "        \n",
    "class Employee(Person):\n",
    "    def __init__(self,name,age,eno,esal):\n",
    "        super().__init__(name,age)\n",
    "        self.eno = eno\n",
    "        self.esal = esal\n",
    "        \n",
    "    def display(self):\n",
    "        print(\"Employee Name :\",self.name)\n",
    "        print(\"Employee Age :\",self.age)\n",
    "        print(\"Employee Number :\",self.eno)\n",
    "        print(\"Employee Salary :\",self.esal)\n",
    "        \n",
    "e1 = Employee(\"Vinod\",21,12345,30000)\n",
    "e1.display()\n",
    "print()\n",
    "e2 = Employee(\"Apurv\",30,67890,1000)\n",
    "e2.display()"
   ]
  },
  {
   "cell_type": "code",
   "execution_count": null,
   "metadata": {},
   "outputs": [],
   "source": []
  },
  {
   "cell_type": "code",
   "execution_count": null,
   "metadata": {},
   "outputs": [],
   "source": []
  },
  {
   "cell_type": "code",
   "execution_count": null,
   "metadata": {},
   "outputs": [],
   "source": []
  },
  {
   "cell_type": "code",
   "execution_count": null,
   "metadata": {},
   "outputs": [],
   "source": []
  },
  {
   "cell_type": "code",
   "execution_count": null,
   "metadata": {},
   "outputs": [],
   "source": []
  },
  {
   "cell_type": "code",
   "execution_count": null,
   "metadata": {},
   "outputs": [],
   "source": []
  },
  {
   "cell_type": "code",
   "execution_count": null,
   "metadata": {},
   "outputs": [],
   "source": []
  },
  {
   "cell_type": "code",
   "execution_count": null,
   "metadata": {},
   "outputs": [],
   "source": []
  }
 ],
 "metadata": {
  "kernelspec": {
   "display_name": "Python 3",
   "language": "python",
   "name": "python3"
  },
  "language_info": {
   "codemirror_mode": {
    "name": "ipython",
    "version": 3
   },
   "file_extension": ".py",
   "mimetype": "text/x-python",
   "name": "python",
   "nbconvert_exporter": "python",
   "pygments_lexer": "ipython3",
   "version": "3.8.3"
  }
 },
 "nbformat": 4,
 "nbformat_minor": 4
}
