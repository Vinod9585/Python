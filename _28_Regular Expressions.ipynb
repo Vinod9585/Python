{
 "cells": [
  {
   "cell_type": "markdown",
   "metadata": {},
   "source": [
    "# Regular expressions"
   ]
  },
  {
   "cell_type": "markdown",
   "metadata": {},
   "source": [
    "## If we want to represent a group of Strings according to a particular format/pattern then we should go for Regular Expressions.\n",
    "## i.e Regualr Expressions is a declarative mechanism to represent a group of Strings accroding to particular format/pattern.\n",
    "### Eg 1: We can write a regular expression to represent all mobile numbers\n",
    "### Eg 2: We can write a regular expression to represent all mail ids."
   ]
  },
  {
   "cell_type": "markdown",
   "metadata": {},
   "source": [
    "### We can develop Regular Expression Based applications by using python module: re\n",
    "### This module contains several inbuilt functions to use Regular Expressions very easily in our applications.\n"
   ]
  },
  {
   "cell_type": "markdown",
   "metadata": {},
   "source": [
    "# 1. compile()\n",
    "### re module contains compile() function to compile a pattern into RegexObject.\n",
    "### pattern = re.compile(\"ab\")"
   ]
  },
  {
   "cell_type": "code",
   "execution_count": 3,
   "metadata": {},
   "outputs": [
    {
     "name": "stdout",
     "output_type": "stream",
     "text": [
      "<class 're.Pattern'>\n"
     ]
    }
   ],
   "source": [
    "import re\n",
    "pattern = re.compile(\"ab\")\n",
    "print(type(pattern))"
   ]
  },
  {
   "cell_type": "markdown",
   "metadata": {},
   "source": [
    "# 2. finditer():\n",
    "### Returns an Iterator object which yields Match object for every Match\n",
    "## matcher = pattern.finditer(\"abaababa\")\n",
    "\n",
    "## On Match object we can call the following methods.\n",
    "### 1. start() : Returns start index of the match\n",
    "### 2. end() : Returns end+1 index of the match\n",
    "### 3. group() : Returns the matched string"
   ]
  },
  {
   "cell_type": "code",
   "execution_count": 8,
   "metadata": {},
   "outputs": [
    {
     "name": "stdout",
     "output_type": "stream",
     "text": [
      "match is available at start index : 0\n",
      "match is available at start index : 3\n",
      "match is available at start index : 5\n",
      "The no. of occurences : 3\n"
     ]
    }
   ],
   "source": [
    "import re\n",
    "count = 0\n",
    "pattern = re.compile(\"ab\")\n",
    "matcher = pattern.finditer(\"abaababa\")\n",
    "\n",
    "for match in matcher:\n",
    "    count += 1\n",
    "    print(\"match is available at start index :\",match.start())\n",
    "    \n",
    "print(\"The no. of occurences :\",count)"
   ]
  },
  {
   "cell_type": "code",
   "execution_count": 11,
   "metadata": {},
   "outputs": [
    {
     "name": "stdout",
     "output_type": "stream",
     "text": [
      "match is available at start index : 2\n",
      "match is available at start index : 7\n",
      "match is available at start index : 21\n",
      "match is available at start index : 29\n",
      "The no. of occurences : 4\n"
     ]
    }
   ],
   "source": [
    "import re\n",
    "count = 0\n",
    "pattern = re.compile(\"aab\")\n",
    "matcher = pattern.finditer(\"abaababaababbbabababbaabababbaababbbaa\")\n",
    "\n",
    "for match in matcher:\n",
    "    count += 1\n",
    "    print(\"match is available at start index :\",match.start())\n",
    "    \n",
    "print(\"The no. of occurences :\",count)"
   ]
  },
  {
   "cell_type": "code",
   "execution_count": 17,
   "metadata": {},
   "outputs": [
    {
     "name": "stdout",
     "output_type": "stream",
     "text": [
      "(0,6)\n",
      "(19,25)\n",
      "(31,37)\n"
     ]
    }
   ],
   "source": [
    "import re\n",
    "matcher = re.finditer(\"python\", \"python, java, cpp, python, c#, python\")\n",
    "for match in matcher:\n",
    "    print(f\"({match.start()},{match.end()})\")\n"
   ]
  },
  {
   "cell_type": "code",
   "execution_count": null,
   "metadata": {},
   "outputs": [],
   "source": []
  },
  {
   "cell_type": "code",
   "execution_count": null,
   "metadata": {},
   "outputs": [],
   "source": []
  },
  {
   "cell_type": "markdown",
   "metadata": {},
   "source": [
    "# Character classes :\n",
    "\n",
    "## We can use character classes to search a group of characters\n",
    "### 1. [abc]    ===>   Either a or b or c\n",
    "### 2. [^abc]  ===>Except a and b and c\n",
    "### 3. [a-z]     ===>Any Lower case alphabet symbol\n",
    "### 4. [A-Z]===>Any upper case alphabet symbol\n",
    "### 5. [a-zA-Z]==>Any alphabet symbol\n",
    "### 6. [0-9] Any digit from 0 to 9\n",
    "### 7. [a-zA-Z0-9]==>Any alphanumeric character\n",
    "### 8. [^a-zA-Z0-9]==>Except alphanumeric characters(Special Characters)"
   ]
  },
  {
   "cell_type": "code",
   "execution_count": 3,
   "metadata": {},
   "outputs": [],
   "source": [
    "import re\n",
    "matcher = re.finditer(\"[abc]\",\"a7b@k9z\")\n",
    "for match in matcher:\n",
    "    print(match.start(),\"--->\",match.group())"
   ]
  },
  {
   "cell_type": "code",
   "execution_count": 10,
   "metadata": {},
   "outputs": [
    {
     "name": "stdout",
     "output_type": "stream",
     "text": [
      "1 ---> 7\n",
      "3 ---> @\n",
      "4 ---> k\n",
      "5 ---> 9\n",
      "6 ---> z\n"
     ]
    }
   ],
   "source": [
    "import re\n",
    "matcher = re.finditer(\"[^abc]\",\"a7b@k9z\")\n",
    "for match in matcher:\n",
    "    print(match.start(),\"--->\",match.group())"
   ]
  },
  {
   "cell_type": "code",
   "execution_count": 11,
   "metadata": {},
   "outputs": [
    {
     "name": "stdout",
     "output_type": "stream",
     "text": [
      "0 ---> a\n",
      "2 ---> b\n",
      "4 ---> k\n"
     ]
    }
   ],
   "source": [
    "import re\n",
    "matcher = re.finditer(\"[a-v]\",\"a7b@k9z\")\n",
    "for match in matcher:\n",
    "    print(match.start(),\"--->\",match.group())"
   ]
  },
  {
   "cell_type": "code",
   "execution_count": 12,
   "metadata": {},
   "outputs": [
    {
     "name": "stdout",
     "output_type": "stream",
     "text": [
      "4 ---> A\n",
      "6 ---> H\n",
      "7 ---> G\n",
      "8 ---> F\n"
     ]
    }
   ],
   "source": [
    "import re\n",
    "matcher = re.finditer(\"[A-Z]\",\"a7b@AkHGF9z\")\n",
    "for match in matcher:\n",
    "    print(match.start(),\"--->\",match.group())"
   ]
  },
  {
   "cell_type": "code",
   "execution_count": 13,
   "metadata": {},
   "outputs": [
    {
     "name": "stdout",
     "output_type": "stream",
     "text": [
      "1 ---> 7\n",
      "5 ---> 9\n"
     ]
    }
   ],
   "source": [
    "import re\n",
    "matcher = re.finditer(\"[0-9]\",\"a7b@k9z\")\n",
    "for match in matcher:\n",
    "    print(match.start(),\"--->\",match.group())"
   ]
  },
  {
   "cell_type": "code",
   "execution_count": 15,
   "metadata": {},
   "outputs": [
    {
     "name": "stdout",
     "output_type": "stream",
     "text": [
      "0 ---> a\n",
      "2 ---> b\n",
      "4 ---> A\n",
      "5 ---> k\n",
      "6 ---> H\n",
      "7 ---> G\n",
      "8 ---> F\n",
      "10 ---> z\n"
     ]
    }
   ],
   "source": [
    "import re\n",
    "matcher = re.finditer(\"[a-zA-Z]\",\"a7b@AkHGF9z\")\n",
    "for match in matcher:\n",
    "    print(match.start(),\"--->\",match.group())"
   ]
  },
  {
   "cell_type": "code",
   "execution_count": 16,
   "metadata": {},
   "outputs": [
    {
     "name": "stdout",
     "output_type": "stream",
     "text": [
      "0 ---> a\n",
      "1 ---> 7\n",
      "2 ---> b\n",
      "4 ---> A\n",
      "5 ---> k\n",
      "6 ---> H\n",
      "7 ---> G\n",
      "8 ---> F\n",
      "9 ---> 9\n",
      "10 ---> z\n"
     ]
    }
   ],
   "source": [
    "import re\n",
    "matcher = re.finditer(\"[a-zA-Z0-9]\",\"a7b@AkHGF9z\")\n",
    "for match in matcher:\n",
    "    print(match.start(),\"--->\",match.group())"
   ]
  },
  {
   "cell_type": "code",
   "execution_count": 18,
   "metadata": {},
   "outputs": [
    {
     "name": "stdout",
     "output_type": "stream",
     "text": [
      "3 ---> @\n",
      "8 ---> #\n",
      "11 ---> !\n"
     ]
    }
   ],
   "source": [
    "import re\n",
    "matcher = re.finditer(\"[^a-zA-Z0-9]\",\"a7b@AkHG#F9!z\")\n",
    "for match in matcher:\n",
    "    print(match.start(),\"--->\",match.group())"
   ]
  },
  {
   "cell_type": "code",
   "execution_count": null,
   "metadata": {},
   "outputs": [],
   "source": []
  },
  {
   "cell_type": "code",
   "execution_count": null,
   "metadata": {},
   "outputs": [],
   "source": []
  },
  {
   "cell_type": "markdown",
   "metadata": {},
   "source": [
    "# Predefined Characteer Classes:\n",
    "### \\s ==> Space character\n",
    "### \\S ==> Any character except space character\n",
    "### \\d ==> Any digit from 0 to 9\n",
    "### \\D ==> Any character except digit\n",
    "### \\w ==> Any word character [a-zA-Z0-9]\n",
    "### \\W ==> Any character except word character (Special Characters)\n",
    "### . ==> Any character including special characters"
   ]
  },
  {
   "cell_type": "code",
   "execution_count": 19,
   "metadata": {},
   "outputs": [
    {
     "name": "stdout",
     "output_type": "stream",
     "text": [
      "3 -->  \n",
      "9 -->  \n"
     ]
    }
   ],
   "source": [
    "import re\n",
    "matcher = re.finditer(\"\\s\",\"a7b @AkHG #F9!z\")\n",
    "for match in matcher:\n",
    "    print(match.start(),\"-->\",match.group())"
   ]
  },
  {
   "cell_type": "code",
   "execution_count": 23,
   "metadata": {},
   "outputs": [
    {
     "name": "stdout",
     "output_type": "stream",
     "text": [
      "0 --> a\n",
      "1 --> 7\n",
      "2 --> b\n",
      "4 --> @\n",
      "5 --> A\n",
      "6 --> k\n",
      "7 --> H\n",
      "8 --> G\n",
      "10 --> #\n",
      "11 --> F\n",
      "12 --> 9\n",
      "13 --> !\n",
      "14 --> z\n"
     ]
    }
   ],
   "source": [
    "import re\n",
    "matcher = re.finditer(\"\\S\",\"a7b @AkHG #F9!z\")\n",
    "for match in matcher:\n",
    "    print(match.start(),\"-->\",match.group())"
   ]
  },
  {
   "cell_type": "code",
   "execution_count": 24,
   "metadata": {},
   "outputs": [
    {
     "name": "stdout",
     "output_type": "stream",
     "text": [
      "1 --> 7\n",
      "12 --> 9\n"
     ]
    }
   ],
   "source": [
    "import re\n",
    "matcher = re.finditer(\"\\d\",\"a7b @AkHG #F9!z\")\n",
    "for match in matcher:\n",
    "    print(match.start(),\"-->\",match.group())"
   ]
  },
  {
   "cell_type": "code",
   "execution_count": 25,
   "metadata": {},
   "outputs": [
    {
     "name": "stdout",
     "output_type": "stream",
     "text": [
      "0 --> a\n",
      "2 --> b\n",
      "3 -->  \n",
      "4 --> @\n",
      "5 --> A\n",
      "6 --> k\n",
      "7 --> H\n",
      "8 --> G\n",
      "9 -->  \n",
      "10 --> #\n",
      "11 --> F\n",
      "13 --> !\n",
      "14 --> z\n"
     ]
    }
   ],
   "source": [
    "import re\n",
    "matcher = re.finditer(\"\\D\",\"a7b @AkHG #F9!z\")\n",
    "for match in matcher:\n",
    "    print(match.start(),\"-->\",match.group())"
   ]
  },
  {
   "cell_type": "code",
   "execution_count": 26,
   "metadata": {},
   "outputs": [
    {
     "name": "stdout",
     "output_type": "stream",
     "text": [
      "0 --> a\n",
      "1 --> 7\n",
      "2 --> b\n",
      "5 --> A\n",
      "6 --> k\n",
      "7 --> H\n",
      "8 --> G\n",
      "11 --> F\n",
      "12 --> 9\n",
      "14 --> z\n"
     ]
    }
   ],
   "source": [
    "import re\n",
    "matcher = re.finditer(\"\\w\",\"a7b @AkHG #F9!z\")\n",
    "for match in matcher:\n",
    "    print(match.start(),\"-->\",match.group())"
   ]
  },
  {
   "cell_type": "code",
   "execution_count": 27,
   "metadata": {},
   "outputs": [
    {
     "name": "stdout",
     "output_type": "stream",
     "text": [
      "3 -->  \n",
      "4 --> @\n",
      "9 -->  \n",
      "10 --> #\n",
      "13 --> !\n"
     ]
    }
   ],
   "source": [
    "import re\n",
    "matcher = re.finditer(\"\\W\",\"a7b @AkHG #F9!z\")\n",
    "for match in matcher:\n",
    "    print(match.start(),\"-->\",match.group())"
   ]
  },
  {
   "cell_type": "code",
   "execution_count": 31,
   "metadata": {},
   "outputs": [
    {
     "name": "stdout",
     "output_type": "stream",
     "text": [
      "0 --> a\n",
      "1 --> 7\n",
      "2 --> b\n",
      "3 -->  \n",
      "4 --> @\n",
      "5 --> A\n",
      "6 --> k\n",
      "7 --> H\n",
      "8 --> G\n",
      "9 -->  \n",
      "10 --> #\n",
      "11 --> F\n",
      "12 --> 9\n",
      "13 --> !\n",
      "14 --> z\n"
     ]
    }
   ],
   "source": [
    "import re\n",
    "matcher = re.finditer(\".\",\"a7b @AkHG #F9!z\")\n",
    "for match in matcher:\n",
    "    print(match.start(),\"-->\",match.group())"
   ]
  },
  {
   "cell_type": "code",
   "execution_count": null,
   "metadata": {},
   "outputs": [],
   "source": []
  },
  {
   "cell_type": "code",
   "execution_count": null,
   "metadata": {},
   "outputs": [],
   "source": []
  },
  {
   "cell_type": "markdown",
   "metadata": {},
   "source": [
    "# Quantifiers :\n",
    "## We can use quantifiers to specify the number of occurrences to match.\n",
    "### a ==> Exactly one 'a'\n",
    "### a+ ==> Atleast one 'a'\n",
    "### a* ==> Any number of a's including zero number\n",
    "### a? ==> Atmost one 'a' ie either zero number or one number\n",
    "### a{m} ==> Exactly m number of a's\n",
    "### a{m,n} ==> Minimum m number of a's and Maximum n number of a's"
   ]
  },
  {
   "cell_type": "code",
   "execution_count": 32,
   "metadata": {},
   "outputs": [
    {
     "name": "stdout",
     "output_type": "stream",
     "text": [
      "0 --> a\n",
      "2 --> a\n",
      "3 --> a\n",
      "7 --> a\n",
      "10 --> a\n",
      "11 --> a\n",
      "12 --> a\n",
      "13 --> a\n",
      "15 --> a\n"
     ]
    }
   ],
   "source": [
    "import re\n",
    "matcher = re.finditer(\"a\",\"abaabbbabbaaaaba\")\n",
    "\n",
    "for match in matcher:\n",
    "    print(match.start(),\"-->\",match.group())"
   ]
  },
  {
   "cell_type": "code",
   "execution_count": 33,
   "metadata": {},
   "outputs": [
    {
     "name": "stdout",
     "output_type": "stream",
     "text": [
      "0 --> a\n",
      "2 --> aa\n",
      "7 --> a\n",
      "10 --> aaaa\n",
      "15 --> a\n"
     ]
    }
   ],
   "source": [
    "import re\n",
    "matcher = re.finditer(\"a+\",\"abaabbbabbaaaaba\")\n",
    "\n",
    "for match in matcher:\n",
    "    print(match.start(),\"-->\",match.group())"
   ]
  },
  {
   "cell_type": "code",
   "execution_count": 34,
   "metadata": {},
   "outputs": [
    {
     "name": "stdout",
     "output_type": "stream",
     "text": [
      "0 --> a\n",
      "1 --> \n",
      "2 --> aa\n",
      "4 --> \n",
      "5 --> \n",
      "6 --> \n",
      "7 --> a\n",
      "8 --> \n",
      "9 --> \n",
      "10 --> aaaa\n",
      "14 --> \n",
      "15 --> a\n",
      "16 --> \n"
     ]
    }
   ],
   "source": [
    "import re\n",
    "matcher = re.finditer(\"a*\",\"abaabbbabbaaaaba\")\n",
    "\n",
    "for match in matcher:\n",
    "    print(match.start(),\"-->\",match.group())"
   ]
  },
  {
   "cell_type": "code",
   "execution_count": 51,
   "metadata": {},
   "outputs": [
    {
     "name": "stdout",
     "output_type": "stream",
     "text": [
      "0 --> a\n",
      "1 --> \n",
      "2 --> a\n",
      "3 --> a\n",
      "4 --> \n",
      "5 --> \n",
      "6 --> \n",
      "7 --> a\n",
      "8 --> \n",
      "9 --> \n",
      "10 --> a\n",
      "11 --> a\n",
      "12 --> a\n",
      "13 --> a\n",
      "14 --> \n",
      "15 --> a\n",
      "16 --> \n"
     ]
    }
   ],
   "source": [
    "import re\n",
    "matcher = re.finditer(\"a?\",\"abaabbbabbaaaaba\")\n",
    "\n",
    "for match in matcher:\n",
    "    print(match.start(),\"-->\",match.group())"
   ]
  },
  {
   "cell_type": "code",
   "execution_count": 38,
   "metadata": {},
   "outputs": [
    {
     "name": "stdout",
     "output_type": "stream",
     "text": [
      "10 --> aaa\n",
      "17 --> aaa\n",
      "20 --> aaa\n",
      "25 --> aaa\n"
     ]
    }
   ],
   "source": [
    "import re\n",
    "matcher = re.finditer(\"a{3}\",\"abaabbbabbaaaababaaaaaaabaaabaasa\")\n",
    "\n",
    "for match in matcher:\n",
    "    print(match.start(),\"-->\",match.group())"
   ]
  },
  {
   "cell_type": "code",
   "execution_count": 52,
   "metadata": {
    "scrolled": true
   },
   "outputs": [
    {
     "name": "stdout",
     "output_type": "stream",
     "text": [
      "2 --> aa\n",
      "10 --> aaaa\n",
      "17 --> aaaaa\n",
      "22 --> aa\n",
      "25 --> aaa\n",
      "29 --> aa\n"
     ]
    }
   ],
   "source": [
    "import re\n",
    "matcher = re.finditer(\"a{2,5}\",\"abaabbbabbaaaababaaaaaaabaaabaasa\")\n",
    "\n",
    "for match in matcher:\n",
    "    print(match.start(),\"-->\",match.group())"
   ]
  },
  {
   "cell_type": "code",
   "execution_count": 53,
   "metadata": {},
   "outputs": [
    {
     "name": "stdout",
     "output_type": "stream",
     "text": [
      "10 --> aaaa\n",
      "17 --> aaaaaaa\n",
      "25 --> aaa\n"
     ]
    }
   ],
   "source": [
    "import re\n",
    "matcher = re.finditer(\"a{3}a*\",\"abaabbbabbaaaababaaaaaaabaaabaasa\")\n",
    "\n",
    "for match in matcher:\n",
    "    print(match.start(),\"-->\",match.group())"
   ]
  },
  {
   "cell_type": "markdown",
   "metadata": {},
   "source": [
    "## Note:\n",
    "### ^x ==> It will check whether target string starts with x or not\n",
    "### x$ ==> It will check whether target string ends with x or not\n"
   ]
  },
  {
   "cell_type": "code",
   "execution_count": 50,
   "metadata": {},
   "outputs": [
    {
     "name": "stdout",
     "output_type": "stream",
     "text": [
      "0 --> ab\n"
     ]
    }
   ],
   "source": [
    "import re\n",
    "matcher = re.finditer(\"^ab\",\"abaabbbabbaaaaba\")\n",
    "\n",
    "for match in matcher:\n",
    "    print(match.start(),\"-->\",match.group())"
   ]
  },
  {
   "cell_type": "code",
   "execution_count": 49,
   "metadata": {},
   "outputs": [
    {
     "name": "stdout",
     "output_type": "stream",
     "text": [
      "16 --> cc\n"
     ]
    }
   ],
   "source": [
    "import re\n",
    "matcher = re.finditer(\"cc$\",\"abaabbbabbaaaabacc\")\n",
    "\n",
    "for match in matcher:\n",
    "    print(match.start(),\"-->\",match.group())"
   ]
  },
  {
   "cell_type": "code",
   "execution_count": null,
   "metadata": {},
   "outputs": [],
   "source": []
  },
  {
   "cell_type": "code",
   "execution_count": null,
   "metadata": {},
   "outputs": [],
   "source": []
  },
  {
   "cell_type": "markdown",
   "metadata": {},
   "source": [
    "# Important Functions of re module:\n",
    "### 1. match()\n",
    "### 2. fullmatch()\n",
    "### 3. search()\n",
    "### 4.findall()\n",
    "### 5.finditer()\n",
    "### 6. sub()\n",
    "### 7.subn()\n",
    "### 8. split()\n",
    "### 9. compile()"
   ]
  },
  {
   "cell_type": "markdown",
   "metadata": {},
   "source": [
    "# 1. match()\n",
    "### We can use match() function to check the given pattern at beginning of target string.\n",
    "### If the match is available then we will get Match object, otherwise we will get None.\n"
   ]
  },
  {
   "cell_type": "code",
   "execution_count": 2,
   "metadata": {},
   "outputs": [
    {
     "name": "stdout",
     "output_type": "stream",
     "text": [
      "Enter pattern to check: abcdef\n",
      "Match is available at the beginning of the string\n",
      "Start index : 0 and End index : 6\n"
     ]
    }
   ],
   "source": [
    "import re\n",
    "\n",
    "s = input(\"Enter pattern to check: \")\n",
    "\n",
    "m = re.match(s,\"abcdefghijk\")\n",
    "#print(m)\n",
    "if m!= None:\n",
    "    print(\"Match is available at the beginning of the string\")\n",
    "    print(f\"Start index : {m.start()} and End index : {m.end()}\")\n",
    "else:\n",
    "    print(\"Match is not available at the beginning of the string\")"
   ]
  },
  {
   "cell_type": "code",
   "execution_count": null,
   "metadata": {},
   "outputs": [],
   "source": []
  },
  {
   "cell_type": "code",
   "execution_count": null,
   "metadata": {},
   "outputs": [],
   "source": []
  },
  {
   "cell_type": "markdown",
   "metadata": {},
   "source": [
    "# 2. fullmatch()\n",
    "### We can use fullmatch() function to match a pattern to all of target string. i.e complete string should be matched according to given pattern.\n",
    "### If complete string matched then this function returns Match object otherwise it returns None."
   ]
  },
  {
   "cell_type": "code",
   "execution_count": 59,
   "metadata": {},
   "outputs": [
    {
     "name": "stdout",
     "output_type": "stream",
     "text": [
      "Enter pattern to check : aba\n",
      "Full string not matched\n"
     ]
    }
   ],
   "source": [
    "import re\n",
    "\n",
    "s = input(\"Enter pattern to check : \")\n",
    "\n",
    "m = re.fullmatch(s,\"ababbabaa\")\n",
    "\n",
    "if m != None:\n",
    "    print(\"Full string matched\")\n",
    "else:\n",
    "    print(\"Full string not matched\")\n"
   ]
  },
  {
   "cell_type": "code",
   "execution_count": 60,
   "metadata": {},
   "outputs": [
    {
     "name": "stdout",
     "output_type": "stream",
     "text": [
      "Enter pattern to check : ababbabaa\n",
      "Full string matched\n"
     ]
    }
   ],
   "source": [
    "import re\n",
    "\n",
    "s = input(\"Enter pattern to check : \")\n",
    "\n",
    "m = re.fullmatch(s,\"ababbabaa\")\n",
    "\n",
    "if m != None:\n",
    "    print(\"Full string matched\")\n",
    "else:\n",
    "    print(\"Full string not matched\")\n"
   ]
  },
  {
   "cell_type": "code",
   "execution_count": null,
   "metadata": {},
   "outputs": [],
   "source": []
  },
  {
   "cell_type": "code",
   "execution_count": null,
   "metadata": {},
   "outputs": [],
   "source": []
  },
  {
   "cell_type": "markdown",
   "metadata": {},
   "source": [
    "# 3. search()\n",
    "### We can use search() function to search the given pattern in the target string.\n",
    "### If the match is available then it returns the Match object which represents first occurrence of the match.\n",
    "### If the match is not available then it returns None"
   ]
  },
  {
   "cell_type": "code",
   "execution_count": 62,
   "metadata": {},
   "outputs": [
    {
     "name": "stdout",
     "output_type": "stream",
     "text": [
      "Enter pattern to check : aa\n",
      "match is available\n",
      "First occurence of the start index: 2 and end index: 4\n"
     ]
    }
   ],
   "source": [
    "import re\n",
    "\n",
    "s = input(\"Enter pattern to check : \")\n",
    "m = re.search(s,\"abaaaababaaa\")\n",
    "if m != None:\n",
    "    print(\"match is available\")\n",
    "    print(\"First occurence of the start index:\",m.start(),\"and end index:\",m.end())\n",
    "else:\n",
    "    print(\"match is not available\")"
   ]
  },
  {
   "cell_type": "code",
   "execution_count": null,
   "metadata": {},
   "outputs": [],
   "source": []
  },
  {
   "cell_type": "code",
   "execution_count": null,
   "metadata": {},
   "outputs": [],
   "source": []
  },
  {
   "cell_type": "markdown",
   "metadata": {},
   "source": [
    "# findall()\n",
    "### To find all occurrences of the match.\n",
    "### This function returns a list object which contains all occurrences."
   ]
  },
  {
   "cell_type": "code",
   "execution_count": 67,
   "metadata": {},
   "outputs": [
    {
     "name": "stdout",
     "output_type": "stream",
     "text": [
      "['7', '9', '5', '3', '4', '3']\n"
     ]
    }
   ],
   "source": [
    "import re\n",
    "\n",
    "l = re.findall(\"[0-9]\",\"a7bb9c5kjgh3bn43\")\n",
    "print(l)"
   ]
  },
  {
   "cell_type": "code",
   "execution_count": 4,
   "metadata": {},
   "outputs": [
    {
     "name": "stdout",
     "output_type": "stream",
     "text": [
      "['$', ' ', '#', '*', '&', '^', '@']\n"
     ]
    }
   ],
   "source": [
    "import re\n",
    "\n",
    "l = re.findall(\"\\W\",\"sasfs$3h jjh#bj*jhg&vgf^ggg@\")\n",
    "print(l)"
   ]
  },
  {
   "cell_type": "code",
   "execution_count": null,
   "metadata": {},
   "outputs": [],
   "source": []
  },
  {
   "cell_type": "markdown",
   "metadata": {},
   "source": [
    "# finditer()\n",
    "### Returns the iterator yielding a match object for each match.\n",
    "### On each match object we can call start(), end() and group() functions."
   ]
  },
  {
   "cell_type": "code",
   "execution_count": 8,
   "metadata": {},
   "outputs": [
    {
     "name": "stdout",
     "output_type": "stream",
     "text": [
      "0 --> 2\n",
      "7 --> 9\n",
      "12 --> 14\n",
      "23 --> 25\n",
      "30 --> 32\n"
     ]
    }
   ],
   "source": [
    "import re\n",
    "\n",
    "matcher = re.finditer(\"aa\",\"aanbasbaasabaabababbabbaaazabbaa\")\n",
    "for m in matcher:\n",
    "    print(m.start(),\"-->\",m.end())"
   ]
  },
  {
   "cell_type": "code",
   "execution_count": 10,
   "metadata": {},
   "outputs": [
    {
     "name": "stdout",
     "output_type": "stream",
     "text": [
      "2 --> 5 --> 6\n",
      "3 --> 9 --> 10\n",
      "4 --> 10 --> 11\n",
      "3 --> 11 --> 12\n",
      "3 --> 12 --> 13\n",
      "4 --> 13 --> 14\n",
      "2 --> 14 --> 15\n",
      "5 --> 19 --> 20\n",
      "2 --> 20 --> 21\n",
      "6 --> 25 --> 26\n",
      "3 --> 26 --> 27\n"
     ]
    }
   ],
   "source": [
    "import re\n",
    "\n",
    "matcher = re.finditer(\"[0-9]\",\"ahfsh2jnk343342bjbn52nmnj63a\")\n",
    "for m in matcher:\n",
    "    print(m.group(),\"-->\",m.start(),\"-->\",m.end())"
   ]
  },
  {
   "cell_type": "code",
   "execution_count": null,
   "metadata": {},
   "outputs": [],
   "source": []
  },
  {
   "cell_type": "markdown",
   "metadata": {},
   "source": [
    "# sub()\n",
    "### sub means substitution or replacement\n",
    "## Syntax : re.sub(regex,replacement,targetstring)\n",
    "### In the target string every matched pattern will be replaced with provided replacement."
   ]
  },
  {
   "cell_type": "code",
   "execution_count": 12,
   "metadata": {},
   "outputs": [
    {
     "name": "stdout",
     "output_type": "stream",
     "text": [
      "ds--hjh--j--j--gh--hghhj--j--hjj--hjj----hj--\n"
     ]
    }
   ],
   "source": [
    "import re\n",
    "\n",
    "s = re.sub(\"[0-9]\",\"--\",\"ds2hjh2j6j2gh4hghhj5j2hjj3hjj52hj2\")\n",
    "print(s)"
   ]
  },
  {
   "cell_type": "code",
   "execution_count": null,
   "metadata": {},
   "outputs": [],
   "source": []
  },
  {
   "cell_type": "code",
   "execution_count": null,
   "metadata": {},
   "outputs": [],
   "source": []
  },
  {
   "cell_type": "markdown",
   "metadata": {},
   "source": [
    "# subn()\n",
    "### It is exactly same as sub except it can also returns the number of replacements.\n",
    "### This function returns a tuple where first element is result string and second element is number of replacements.\n",
    "## result :  (resultstring, number of replacements)"
   ]
  },
  {
   "cell_type": "code",
   "execution_count": 14,
   "metadata": {},
   "outputs": [
    {
     "name": "stdout",
     "output_type": "stream",
     "text": [
      "('@78@@@8@@9@9@@@@@@@9@', 15)\n",
      "The result string : @78@@@8@@9@9@@@@@@@9@\n",
      "The number of replacements : 15\n"
     ]
    }
   ],
   "source": [
    "import re\n",
    "\n",
    "t = re.subn(\"[a-z]\",\"@\",\"s78ads8fs9s9sfadkjk9h\")\n",
    "print(t)\n",
    "print(\"The result string :\",t[0])\n",
    "print(\"The number of replacements :\",t[1])"
   ]
  },
  {
   "cell_type": "code",
   "execution_count": null,
   "metadata": {},
   "outputs": [],
   "source": []
  },
  {
   "cell_type": "code",
   "execution_count": null,
   "metadata": {},
   "outputs": [],
   "source": []
  },
  {
   "cell_type": "markdown",
   "metadata": {},
   "source": [
    "# split()\n",
    "### If we want to split the given target string according to a particular pattern then we should go for split() function.\n",
    "### This function returns list of all tokens."
   ]
  },
  {
   "cell_type": "code",
   "execution_count": 26,
   "metadata": {},
   "outputs": [
    {
     "name": "stdout",
     "output_type": "stream",
     "text": [
      "['10', '20', '30', '40', '50']\n"
     ]
    }
   ],
   "source": [
    "import re\n",
    "\n",
    "l = re.split(\"-\",\"10-20-30-40-50\")\n",
    "print(l)"
   ]
  },
  {
   "cell_type": "code",
   "execution_count": 27,
   "metadata": {},
   "outputs": [
    {
     "name": "stdout",
     "output_type": "stream",
     "text": [
      "['10', '20', '30', '40', '50']\n"
     ]
    }
   ],
   "source": [
    "import re\n",
    "\n",
    "l = re.split(\"[-]\",\"10-20-30-40-50\")\n",
    "print(l)"
   ]
  },
  {
   "cell_type": "code",
   "execution_count": 20,
   "metadata": {},
   "outputs": [
    {
     "name": "stdout",
     "output_type": "stream",
     "text": [
      "['', '', '', '', '', '', '', '', '', '', '', '', '', '', '']\n"
     ]
    }
   ],
   "source": [
    "import re\n",
    "\n",
    "l = re.split(\".\",\"www.google.com\")\n",
    "print(l)"
   ]
  },
  {
   "cell_type": "code",
   "execution_count": 23,
   "metadata": {},
   "outputs": [
    {
     "name": "stdout",
     "output_type": "stream",
     "text": [
      "['www', 'google', 'com']\n"
     ]
    }
   ],
   "source": [
    "import re\n",
    "\n",
    "l = re.split(\"[.]\",\"www.google.com\")\n",
    "print(l)"
   ]
  },
  {
   "cell_type": "code",
   "execution_count": null,
   "metadata": {},
   "outputs": [],
   "source": []
  },
  {
   "cell_type": "code",
   "execution_count": null,
   "metadata": {},
   "outputs": [],
   "source": []
  },
  {
   "cell_type": "markdown",
   "metadata": {},
   "source": [
    "# ^ symbol\n",
    "### We can use ^ symbol to check whether the given target string starts with our provided pattern or not.\n",
    "### if the target string starts with Learn then it will return Match object,otherwise returns None."
   ]
  },
  {
   "cell_type": "code",
   "execution_count": 33,
   "metadata": {},
   "outputs": [
    {
     "name": "stdout",
     "output_type": "stream",
     "text": [
      "Target string start with 'python'.\n"
     ]
    }
   ],
   "source": [
    "import re\n",
    "\n",
    "res = re.search(\"^python\",\"python high level language\")\n",
    "if res != None:\n",
    "    print(\"Target string start with 'python'.\")\n",
    "else:\n",
    "    print(\"Target string doesn't start with 'python'.\")"
   ]
  },
  {
   "cell_type": "code",
   "execution_count": 34,
   "metadata": {},
   "outputs": [
    {
     "name": "stdout",
     "output_type": "stream",
     "text": [
      "Target string start with 'python'.\n",
      "python --> 0 --> 6\n"
     ]
    }
   ],
   "source": [
    "import re\n",
    "\n",
    "res = re.search(\"^python\",\"python high level language\")\n",
    "if res != None:\n",
    "    print(\"Target string start with 'python'.\")\n",
    "    print(res.group(),\"-->\",res.start(),\"-->\",res.end())\n",
    "else:\n",
    "    print(\"Target string doesn't start with 'python'.\")"
   ]
  },
  {
   "cell_type": "code",
   "execution_count": null,
   "metadata": {},
   "outputs": [],
   "source": []
  },
  {
   "cell_type": "code",
   "execution_count": null,
   "metadata": {},
   "outputs": [],
   "source": []
  },
  {
   "cell_type": "markdown",
   "metadata": {},
   "source": [
    "# Dollar Symbol"
   ]
  },
  {
   "cell_type": "markdown",
   "metadata": {},
   "source": [
    "$ Symbol :\n",
    "We can use $ symbol to check whether the given target string ends with our provided pattern or\n",
    "not\n",
    "Eg: res=re.search(\"Easy$\",s)\n",
    "If the target string ends with Easy then it will return Match object,otherwise returns None."
   ]
  },
  {
   "cell_type": "code",
   "execution_count": 40,
   "metadata": {},
   "outputs": [
    {
     "name": "stdout",
     "output_type": "stream",
     "text": [
      "Target string ends with 'I2IT'.\n",
      "I2IT --> 15 --> 19\n"
     ]
    }
   ],
   "source": [
    "import re\n",
    "\n",
    "res = re.search(\"I2IT$\",\"College Name : I2IT\")\n",
    "if res != None:\n",
    "    print(\"Target string ends with 'I2IT'.\")\n",
    "    print(res.group(),\"-->\",res.start(),\"-->\",res.end())\n",
    "else:\n",
    "    print(\"Target string doesn't end with 'I2IT'.\")"
   ]
  },
  {
   "cell_type": "markdown",
   "metadata": {},
   "source": [
    "## Note: If we want to ignore case then we have to pass 3rd argument re.IGNORECASE for search() function.\n",
    "### Eg: res = re.search(\"^easy\",s,re.IGNORECASE)"
   ]
  },
  {
   "cell_type": "code",
   "execution_count": 42,
   "metadata": {},
   "outputs": [
    {
     "name": "stdout",
     "output_type": "stream",
     "text": [
      "Target string starts with 'College'.\n",
      "college --> 0 --> 7\n"
     ]
    }
   ],
   "source": [
    "import re\n",
    "\n",
    "res = re.search(\"^College\",\"college Name : i2it\",re.IGNORECASE)\n",
    "if res != None:\n",
    "    print(\"Target string starts with 'College'.\")\n",
    "    print(res.group(),\"-->\",res.start(),\"-->\",res.end())\n",
    "else:\n",
    "    print(\"Target string doesn't end with 'College'.\")"
   ]
  },
  {
   "cell_type": "code",
   "execution_count": null,
   "metadata": {},
   "outputs": [],
   "source": []
  },
  {
   "cell_type": "markdown",
   "metadata": {},
   "source": [
    "## Write a python program to check whether the given string follw the rules or not?\n",
    "\n",
    "### Rules:\n",
    "#### 1. The allowed characters are a-z,A-Z,0-9\n",
    "#### 2. The first character should be a lower case alphabet symbol from a to k\n",
    "#### 3. The second character should be a digit divisible by 3\n",
    "#### 4. The length of identifier should be atleast 2.\n",
    "### [a-k][0369][a-zA-Z0-9#]*\n"
   ]
  },
  {
   "cell_type": "code",
   "execution_count": 47,
   "metadata": {},
   "outputs": [
    {
     "name": "stdout",
     "output_type": "stream",
     "text": [
      "Enter Identifier to validate : a3sf#\n",
      "a3sf# is valid identifier\n"
     ]
    }
   ],
   "source": [
    "import re\n",
    "\n",
    "s = input(\"Enter Identifier to validate : \")\n",
    "m = re.fullmatch(\"[a-k][0369][a-zA-Z0-9#]*\",s)\n",
    "if m != None:\n",
    "    print(s,\"is valid identifier\")\n",
    "else:\n",
    "    print(s,\"is not valid identifier\")"
   ]
  },
  {
   "cell_type": "code",
   "execution_count": null,
   "metadata": {},
   "outputs": [],
   "source": []
  },
  {
   "cell_type": "code",
   "execution_count": null,
   "metadata": {},
   "outputs": [],
   "source": []
  },
  {
   "cell_type": "markdown",
   "metadata": {},
   "source": [
    "## Write a Python Program to check whether the given number is valid mobile number or not?\n",
    "### Rules:\n",
    "#### 1. Every number should contains exactly 10 digits\n",
    "#### 2. The first digit should be 7 or 8 or 9\n",
    "#### [7-9][0-9][0-9][0-9][0-9][0-9][0-9][0-9][0-9][0-9]\n",
    " or\n",
    "#### [7-9][0-9]{9}\n",
    " or\n",
    "#### [7-9]\\d{9}"
   ]
  },
  {
   "cell_type": "code",
   "execution_count": 52,
   "metadata": {},
   "outputs": [
    {
     "name": "stdout",
     "output_type": "stream",
     "text": [
      "Enter number : 7741935975\n",
      "7741935975 is valid mobile number\n"
     ]
    }
   ],
   "source": [
    "import re\n",
    "\n",
    "s = input(\"Enter number : \")\n",
    "res = re.fullmatch(\"[7-9][0-9]{9}\",s)\n",
    "if res != None:\n",
    "    print(s,\"is valid mobile number\")\n",
    "else:\n",
    "    print(s,\"is not valid mobile number\")"
   ]
  },
  {
   "cell_type": "code",
   "execution_count": null,
   "metadata": {},
   "outputs": [],
   "source": []
  },
  {
   "cell_type": "code",
   "execution_count": null,
   "metadata": {},
   "outputs": [],
   "source": []
  },
  {
   "cell_type": "markdown",
   "metadata": {},
   "source": [
    "## Write a python program to extract all mobile numbers present in input.txt where numbers are mixed with normal text data."
   ]
  },
  {
   "cell_type": "code",
   "execution_count": 60,
   "metadata": {},
   "outputs": [
    {
     "name": "stdout",
     "output_type": "stream",
     "text": [
      "Extracted all mobile numbers into output.txt\n"
     ]
    }
   ],
   "source": [
    "import re\n",
    "\n",
    "f1 = open(\"input.txt\",\"r\")\n",
    "f2 = open(\"output.txt\",\"w\")\n",
    "\n",
    "for line in f1:\n",
    "    list = re.findall(\"[7-9]\\d{9}\",line)\n",
    "    for n in list:\n",
    "        f2.write(n+\"\\n\")\n",
    "print(\"Extracted all mobile numbers into output.txt\")\n",
    "\n",
    "\n",
    "f1.close()\n",
    "f2.close()\n"
   ]
  },
  {
   "cell_type": "code",
   "execution_count": 62,
   "metadata": {},
   "outputs": [
    {
     "name": "stdout",
     "output_type": "stream",
     "text": [
      "7289201382\n",
      "\n",
      "9821278323\n",
      "\n",
      "9860403022\n",
      "\n",
      "9178787878\n",
      "\n"
     ]
    }
   ],
   "source": [
    "f3 = open(\"output.txt\",\"r\")\n",
    "for l in f3:\n",
    "    print(l)"
   ]
  },
  {
   "cell_type": "code",
   "execution_count": null,
   "metadata": {},
   "outputs": [],
   "source": []
  },
  {
   "cell_type": "code",
   "execution_count": null,
   "metadata": {},
   "outputs": [],
   "source": []
  },
  {
   "cell_type": "markdown",
   "metadata": {},
   "source": [
    "# Web Scraping by using Regular Expressions:\n",
    "### The process of collecting information from web pages is called web scraping.\n",
    "### In web scraping to match our required patterns like mail ids, mobile numbers we can use regular expressions."
   ]
  },
  {
   "cell_type": "code",
   "execution_count": 10,
   "metadata": {},
   "outputs": [
    {
     "name": "stdout",
     "output_type": "stream",
     "text": [
      "searching... http://google.com\n",
      "<title>Google</title>\n",
      "searching... http://rediff.com\n",
      "<title>Rediff.com: News | Rediffmail | Stock Quotes | Shopping</title>\n"
     ]
    }
   ],
   "source": [
    "import re\n",
    "import urllib\n",
    "import urllib.request\n",
    "\n",
    "sites = [\"http://google.com\",\"http://rediff.com\"]\n",
    "\n",
    "for s in sites:\n",
    "    print(\"searching...\",s)\n",
    "    u = urllib.request.urlopen(s)\n",
    "    text = u.read()\n",
    "    title = re.findall(\"<title>.*</title>\",str(text),re.IGNORECASE)\n",
    "    print(title[0])"
   ]
  },
  {
   "cell_type": "markdown",
   "metadata": {},
   "source": [
    "## Program to get all phone numbers of redbus.in by using web scraping and regular expressions"
   ]
  },
  {
   "cell_type": "code",
   "execution_count": 22,
   "metadata": {
    "scrolled": true
   },
   "outputs": [
    {
     "name": "stdout",
     "output_type": "stream",
     "text": [
      "+919945600000\n",
      "+919945600000\n",
      "+919945600000\n",
      "+919945600000\n"
     ]
    }
   ],
   "source": [
    "import re\n",
    "import urllib\n",
    "import urllib.request\n",
    "\n",
    "u = urllib.request.urlopen(\"https://www.redbus.in/info/contactus\")\n",
    "text = u.read()\n",
    "numbers = re.findall(\"[+0-9]{13}\",str(text),re.I)\n",
    "\n",
    "for n in numbers:\n",
    "    print(n)"
   ]
  },
  {
   "cell_type": "markdown",
   "metadata": {},
   "source": [
    "## Write a Python Program to check whether the given mail id is valid gmail id or not?\n"
   ]
  },
  {
   "cell_type": "code",
   "execution_count": 43,
   "metadata": {},
   "outputs": [
    {
     "name": "stdout",
     "output_type": "stream",
     "text": [
      "Enter Email ID : vinodshende9585@gmail.com\n",
      "Entered email is valid\n"
     ]
    }
   ],
   "source": [
    "import re\n",
    "\n",
    "s = input(\"Enter Email ID : \")\n",
    "m = re.fullmatch(\"[a-z0-9._]*@gmail[.]com\",s)\n",
    "if m != None:\n",
    "    print(\"Entered email is valid\")\n",
    "else:\n",
    "    print(\"Entered email is invalid\")"
   ]
  },
  {
   "cell_type": "markdown",
   "metadata": {},
   "source": [
    "##  Python Program to check whether the given mobile number is valid OR not (10 digit OR 11 digit OR 12 digit)"
   ]
  },
  {
   "cell_type": "code",
   "execution_count": 5,
   "metadata": {},
   "outputs": [
    {
     "name": "stdout",
     "output_type": "stream",
     "text": [
      "Enter Mobile Number : +917741926093\n",
      "Valid mobile number\n"
     ]
    }
   ],
   "source": [
    "import re\n",
    "\n",
    "num = input(\"Enter Mobile Number : \")\n",
    "m = re.fullmatch(\"[+]?(0|91)?[7-9][0-9]{9}\",num)\n",
    "if m != None:\n",
    "    print(\"Valid mobile number\")\n",
    "else:\n",
    "    print(\"Invalid mobile number\")"
   ]
  },
  {
   "cell_type": "code",
   "execution_count": null,
   "metadata": {},
   "outputs": [],
   "source": []
  },
  {
   "cell_type": "code",
   "execution_count": null,
   "metadata": {},
   "outputs": [],
   "source": []
  },
  {
   "cell_type": "code",
   "execution_count": null,
   "metadata": {},
   "outputs": [],
   "source": []
  },
  {
   "cell_type": "code",
   "execution_count": null,
   "metadata": {},
   "outputs": [],
   "source": []
  },
  {
   "cell_type": "code",
   "execution_count": null,
   "metadata": {},
   "outputs": [],
   "source": []
  },
  {
   "cell_type": "code",
   "execution_count": null,
   "metadata": {},
   "outputs": [],
   "source": []
  },
  {
   "cell_type": "code",
   "execution_count": null,
   "metadata": {},
   "outputs": [],
   "source": []
  },
  {
   "cell_type": "code",
   "execution_count": null,
   "metadata": {},
   "outputs": [],
   "source": []
  },
  {
   "cell_type": "code",
   "execution_count": null,
   "metadata": {},
   "outputs": [],
   "source": []
  },
  {
   "cell_type": "code",
   "execution_count": null,
   "metadata": {},
   "outputs": [],
   "source": []
  },
  {
   "cell_type": "code",
   "execution_count": null,
   "metadata": {},
   "outputs": [],
   "source": []
  },
  {
   "cell_type": "code",
   "execution_count": null,
   "metadata": {},
   "outputs": [],
   "source": []
  },
  {
   "cell_type": "code",
   "execution_count": null,
   "metadata": {},
   "outputs": [],
   "source": []
  },
  {
   "cell_type": "code",
   "execution_count": null,
   "metadata": {},
   "outputs": [],
   "source": []
  },
  {
   "cell_type": "code",
   "execution_count": null,
   "metadata": {},
   "outputs": [],
   "source": []
  },
  {
   "cell_type": "code",
   "execution_count": null,
   "metadata": {},
   "outputs": [],
   "source": []
  },
  {
   "cell_type": "code",
   "execution_count": null,
   "metadata": {},
   "outputs": [],
   "source": []
  },
  {
   "cell_type": "code",
   "execution_count": null,
   "metadata": {},
   "outputs": [],
   "source": []
  },
  {
   "cell_type": "code",
   "execution_count": null,
   "metadata": {},
   "outputs": [],
   "source": []
  },
  {
   "cell_type": "code",
   "execution_count": null,
   "metadata": {},
   "outputs": [],
   "source": []
  },
  {
   "cell_type": "code",
   "execution_count": null,
   "metadata": {},
   "outputs": [],
   "source": []
  },
  {
   "cell_type": "code",
   "execution_count": null,
   "metadata": {},
   "outputs": [],
   "source": []
  },
  {
   "cell_type": "code",
   "execution_count": null,
   "metadata": {},
   "outputs": [],
   "source": []
  },
  {
   "cell_type": "code",
   "execution_count": null,
   "metadata": {},
   "outputs": [],
   "source": []
  }
 ],
 "metadata": {
  "kernelspec": {
   "display_name": "Python 3",
   "language": "python",
   "name": "python3"
  },
  "language_info": {
   "codemirror_mode": {
    "name": "ipython",
    "version": 3
   },
   "file_extension": ".py",
   "mimetype": "text/x-python",
   "name": "python",
   "nbconvert_exporter": "python",
   "pygments_lexer": "ipython3",
   "version": "3.8.3"
  }
 },
 "nbformat": 4,
 "nbformat_minor": 4
}
