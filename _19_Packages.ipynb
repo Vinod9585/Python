{
 "cells": [
  {
   "cell_type": "markdown",
   "metadata": {},
   "source": [
    "## Package is an encapsulation mechanism to group related modules into a single unit.\n",
    "## Package is nothing but folder or directory which represents collection of Python modules.\n",
    "## Any folder or directory contains __ init__.py file,is considered as a Python package.This file can be empty.\n",
    "## A package can contains sub packages also."
   ]
  },
  {
   "cell_type": "markdown",
   "metadata": {},
   "source": [
    "# Before python 3.3,  __ init__.py was mandatory for python to recognise folder as python packages,but python 3.3 onwards it is optional i.e., not mandatory."
   ]
  },
  {
   "cell_type": "markdown",
   "metadata": {},
   "source": [
    "### What is __ init__.py in Python? \n",
    "### The __ init__.py file indicates that the files in a folder are part of a Python package."
   ]
  },
  {
   "cell_type": "markdown",
   "metadata": {},
   "source": [
    "\n",
    "### The __ init__.py files are required to make Python treat the directories as containing packages; this is done to prevent directories with a common name, such as string, from unintentionally hiding valid modules that occur later on the module search path.\n",
    "### In the simplest case, __ init__.py can just be an empty file, but it can also execute initialization code for the package or set the __ all__ variable."
   ]
  },
  {
   "attachments": {},
   "cell_type": "markdown",
   "metadata": {},
   "source": [
    "## The main advantages of package statement are:\n",
    "### 1. We can resolve naming conflicts\n",
    "### 2. We can identify our components uniquely\n",
    "### 3. It improves modularity of the application"
   ]
  },
  {
   "cell_type": "markdown",
   "metadata": {},
   "source": [
    "    "
   ]
  },
  {
   "cell_type": "markdown",
   "metadata": {},
   "source": [
    "      "
   ]
  },
  {
   "cell_type": "markdown",
   "metadata": {},
   "source": [
    "## Eg 1:\n",
    "##### C:\\Desktop>\n",
    "\n",
    "    |-sample.py          -->  main python file in which we are going to import packages\n",
    "    |-pack1              -->  main package\n",
    "        |-module1.py     --> module\n",
    "        |-__ init__.py\n"
   ]
  },
  {
   "cell_type": "markdown",
   "metadata": {},
   "source": [
    "### module1.py\n",
    "def def f1():\n",
    "\n",
    "print(\"hello, this is from module1 present in pack1\")\n",
    "\n",
    "### __ init__.py\n",
    "\n",
    "  empty file\n",
    "\n",
    "### sample.py\n",
    "\n",
    "import pack1.module1\n",
    "\n",
    "pack1.module1.f1()\n",
    "\n",
    "##### output:\n",
    "\n",
    "hello, this is from module1 present in pack1"
   ]
  },
  {
   "cell_type": "markdown",
   "metadata": {},
   "source": [
    "### sample.py\n",
    "\n",
    "from pack1.module1 import f1\n",
    "\n",
    "f1()\n",
    "\n",
    "##### output:\n",
    "\n",
    "hello, this is from module1 present in pack1"
   ]
  },
  {
   "cell_type": "markdown",
   "metadata": {},
   "source": [
    "      "
   ]
  },
  {
   "cell_type": "markdown",
   "metadata": {},
   "source": [
    "     "
   ]
  },
  {
   "cell_type": "markdown",
   "metadata": {},
   "source": [
    "## Eg 2:\n",
    "##### D:\\Python_classes>\n",
    "        |-sample.py             -->  main python file in which we are going to import packages\n",
    "        |-com                   -->  main package\n",
    "            |-module1.py        -->  module of main package\n",
    "            |-__ init__.py       \n",
    "               |-vinods         -->  subpackage\n",
    "               |-module2.py     -->  module of subpackage\n",
    "               |-__ init__.py\n"
   ]
  },
  {
   "cell_type": "markdown",
   "metadata": {},
   "source": [
    "### module1.py\n",
    "\n",
    "def f1():\n",
    "\n",
    "    print(\"hello this is from module1 present in com package\")\n",
    "    \n",
    "### __ init__.py\n",
    "\n",
    "  empty file\n",
    "\n",
    "### module2.py\n",
    "\n",
    "def f2():\n",
    "\n",
    "    print(\"hello, this is from module2 present in com.vinods package\")\n",
    "    \n",
    "### __ init__.py\n",
    "\n",
    "  empty file\n",
    "\n",
    "### sample.py\n",
    "from com.module1 import f1\n",
    "\n",
    "from com.vinods.module2 import f2\n",
    "\n",
    "f1()\n",
    "\n",
    "f2()\n",
    "\n",
    "##### output: \n",
    "\n",
    "hello this is from module1 present in com package\n",
    "\n",
    "hello, this is from module2 present in com.vinods package"
   ]
  },
  {
   "cell_type": "markdown",
   "metadata": {},
   "source": [
    "## Without creating __ init__.py file :\n",
    "### sample.py\n",
    "from com.module1 import f1\n",
    "\n",
    "from com.vinods.module2 import f2\n",
    "\n",
    "f1()\n",
    "\n",
    "f2()\n",
    "\n",
    "##### output: \n",
    "\n",
    "hello this is from module1 present in com package\n",
    "\n",
    "hello, this is from module2 present in com.vinods package"
   ]
  },
  {
   "cell_type": "code",
   "execution_count": null,
   "metadata": {},
   "outputs": [],
   "source": []
  },
  {
   "cell_type": "code",
   "execution_count": null,
   "metadata": {},
   "outputs": [],
   "source": []
  }
 ],
 "metadata": {
  "kernelspec": {
   "display_name": "Python 3",
   "language": "python",
   "name": "python3"
  },
  "language_info": {
   "codemirror_mode": {
    "name": "ipython",
    "version": 3
   },
   "file_extension": ".py",
   "mimetype": "text/x-python",
   "name": "python",
   "nbconvert_exporter": "python",
   "pygments_lexer": "ipython3",
   "version": "3.8.3"
  }
 },
 "nbformat": 4,
 "nbformat_minor": 4
}
