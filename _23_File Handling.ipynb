{
 "cells": [
  {
   "cell_type": "markdown",
   "metadata": {},
   "source": [
    "### As the part of programming requirement, we have to store our data permanently for future purpose. For this requirement we should go for files.\n",
    "### Files are very common permanent storage areas to store our data.\n"
   ]
  },
  {
   "cell_type": "markdown",
   "metadata": {},
   "source": [
    "\n",
    "## Types of Files:\n",
    "\n",
    "### There are 2 types of files\n",
    "### 1. Text Files:\n",
    "#### Usually we can use text files to store character data\n",
    "##### eg: abc.txt\n",
    "### 2. Binary Files:\n",
    "#### Usually we can use binary files to store binary data like images,video files, audio files etc..."
   ]
  },
  {
   "cell_type": "markdown",
   "metadata": {},
   "source": [
    "           "
   ]
  },
  {
   "cell_type": "markdown",
   "metadata": {},
   "source": [
    "             "
   ]
  },
  {
   "cell_type": "markdown",
   "metadata": {},
   "source": [
    "# Opening a File :"
   ]
  },
  {
   "cell_type": "markdown",
   "metadata": {},
   "source": [
    "### Before performing any operation (like read or write) on the file,first we have to open that file.For this we should use Python's inbuilt function open()\n",
    "### But at the time of open, we have to specify mode,which represents the purpose of opening file.\n",
    "\n",
    "## f = open(filename, mode)"
   ]
  },
  {
   "cell_type": "markdown",
   "metadata": {},
   "source": [
    "### The allowed modes in Python are :\n",
    "\n",
    "#### 1. r -----> open an existing file for read operation. The file pointer is positioned at the beginning of the file.If the specified file does not exist then we will get FileNotFoundError.This is default mode.\n",
    "\n",
    "#### 2. w -----> open an existing file for write operation. If the file already contains some data then it will be overridden. If the specified file is not already avaialble then this mode will create that file.\n",
    "\n",
    "#### 3. a -----> open an existing file for append operation. It won't override existing data.If the specified file is not already avaialble then this mode will create a new file.\n",
    "\n",
    "#### 4. r+ -----> To read and write data into the file. The previous data in the file will not be deleted.The file pointer is placed at the beginning of the file.\n",
    "\n",
    "#### 5. w+ -----> To write and read data. It will override existing data.\n",
    "\n",
    "#### 6. a+ -----> To append and read data from the file.It wont override existing data.\n",
    "\n",
    "#### 7. x -----> To open a file in exclusive creation mode for write operation. If the file already exists then we will get FileExistsError.\n",
    "\n",
    "### Note: All the above modes are applicable for text files. If the above modes suffixed with 'b' then these represents for binary files.\n",
    "### Eg: rb,wb,ab,r+b,w+b,a+b,xb\n",
    "\n",
    "## f = open(\"abc.txt\",\"w\")\n",
    "### We are opening abc.txt file for writing data.\n"
   ]
  },
  {
   "cell_type": "markdown",
   "metadata": {},
   "source": [
    "            "
   ]
  },
  {
   "cell_type": "markdown",
   "metadata": {},
   "source": [
    "                "
   ]
  },
  {
   "cell_type": "markdown",
   "metadata": {},
   "source": [
    "# Closing a File:\n",
    "\n",
    "### After completing our operations on the file,it is highly recommended to close the file.For this we have to use close() function.\n",
    "\n",
    "## f.close()\n"
   ]
  },
  {
   "cell_type": "markdown",
   "metadata": {},
   "source": [
    "               "
   ]
  },
  {
   "cell_type": "markdown",
   "metadata": {},
   "source": [
    "                 "
   ]
  },
  {
   "cell_type": "markdown",
   "metadata": {},
   "source": [
    "# Various properties of File Object:\n",
    "### Once we opend a file and we got file object,we can get various details related to that file by using its properties.\n",
    "\n",
    "#### 1. name  -----> Name of opened file\n",
    "\n",
    "#### 2. mode  -----> Mode in which the file is opened\n",
    "\n",
    "#### 3. closed  -----> Returns boolean value indicates that file is closed or not\n",
    "\n",
    "#### 4. readable()  -----> Retruns boolean value indicates that whether file is readable or not\n",
    "\n",
    "#### 5. writable()  -----> Returns boolean value indicates that whether file is writable or not.\n"
   ]
  },
  {
   "cell_type": "code",
   "execution_count": 2,
   "metadata": {},
   "outputs": [
    {
     "name": "stdout",
     "output_type": "stream",
     "text": [
      "File name: abc.txt\n",
      "File mode: w\n",
      "is File readable?: False\n",
      "is File writable?: True\n",
      "is File closed?: False\n",
      "is File closed?: True\n"
     ]
    }
   ],
   "source": [
    "f = open('abc.txt','w')\n",
    "\n",
    "print(\"File name:\",f.name)\n",
    "print(\"File mode:\",f.mode)\n",
    "print(\"is File readable?:\",f.readable())\n",
    "print(\"is File writable?:\",f.writable())\n",
    "print(\"is File closed?:\",f.closed)\n",
    "f.close()\n",
    "print(\"is File closed?:\",f.closed)"
   ]
  },
  {
   "cell_type": "code",
   "execution_count": 3,
   "metadata": {},
   "outputs": [
    {
     "name": "stdout",
     "output_type": "stream",
     "text": [
      "File name: abc.txt\n",
      "File mode: r\n",
      "is File readable?: True\n",
      "is File writable?: False\n",
      "is File closed?: False\n",
      "is File closed?: True\n"
     ]
    }
   ],
   "source": [
    "f = open('abc.txt','r')\n",
    "\n",
    "print(\"File name:\",f.name)\n",
    "print(\"File mode:\",f.mode)\n",
    "print(\"is File readable?:\",f.readable())\n",
    "print(\"is File writable?:\",f.writable())\n",
    "print(\"is File closed?:\",f.closed)\n",
    "f.close()\n",
    "print(\"is File closed?:\",f.closed)"
   ]
  },
  {
   "cell_type": "code",
   "execution_count": 4,
   "metadata": {},
   "outputs": [
    {
     "ename": "FileNotFoundError",
     "evalue": "[Errno 2] No such file or directory: 'xyz.txt'",
     "output_type": "error",
     "traceback": [
      "\u001b[1;31m---------------------------------------------------------------------------\u001b[0m",
      "\u001b[1;31mFileNotFoundError\u001b[0m                         Traceback (most recent call last)",
      "\u001b[1;32m<ipython-input-4-99095bc7b45a>\u001b[0m in \u001b[0;36m<module>\u001b[1;34m\u001b[0m\n\u001b[1;32m----> 1\u001b[1;33m \u001b[0mf\u001b[0m \u001b[1;33m=\u001b[0m \u001b[0mopen\u001b[0m\u001b[1;33m(\u001b[0m\u001b[1;34m'xyz.txt'\u001b[0m\u001b[1;33m,\u001b[0m\u001b[1;34m'r'\u001b[0m\u001b[1;33m)\u001b[0m\u001b[1;33m\u001b[0m\u001b[1;33m\u001b[0m\u001b[0m\n\u001b[0m\u001b[0;32m      2\u001b[0m \u001b[1;33m\u001b[0m\u001b[0m\n\u001b[0;32m      3\u001b[0m \u001b[0mprint\u001b[0m\u001b[1;33m(\u001b[0m\u001b[1;34m\"File name:\"\u001b[0m\u001b[1;33m,\u001b[0m\u001b[0mf\u001b[0m\u001b[1;33m.\u001b[0m\u001b[0mname\u001b[0m\u001b[1;33m)\u001b[0m\u001b[1;33m\u001b[0m\u001b[1;33m\u001b[0m\u001b[0m\n\u001b[0;32m      4\u001b[0m \u001b[0mprint\u001b[0m\u001b[1;33m(\u001b[0m\u001b[1;34m\"File mode:\"\u001b[0m\u001b[1;33m,\u001b[0m\u001b[0mf\u001b[0m\u001b[1;33m.\u001b[0m\u001b[0mmode\u001b[0m\u001b[1;33m)\u001b[0m\u001b[1;33m\u001b[0m\u001b[1;33m\u001b[0m\u001b[0m\n\u001b[0;32m      5\u001b[0m \u001b[0mprint\u001b[0m\u001b[1;33m(\u001b[0m\u001b[1;34m\"is File readable?:\"\u001b[0m\u001b[1;33m,\u001b[0m\u001b[0mf\u001b[0m\u001b[1;33m.\u001b[0m\u001b[0mreadable\u001b[0m\u001b[1;33m(\u001b[0m\u001b[1;33m)\u001b[0m\u001b[1;33m)\u001b[0m\u001b[1;33m\u001b[0m\u001b[1;33m\u001b[0m\u001b[0m\n",
      "\u001b[1;31mFileNotFoundError\u001b[0m: [Errno 2] No such file or directory: 'xyz.txt'"
     ]
    }
   ],
   "source": [
    "f = open('xyz.txt','r')\n",
    "\n",
    "print(\"File name:\",f.name)\n",
    "print(\"File mode:\",f.mode)\n",
    "print(\"is File readable?:\",f.readable())\n",
    "print(\"is File writable?:\",f.writable())\n",
    "print(\"is File closed?:\",f.closed)\n",
    "f.close()\n",
    "print(\"is File closed?:\",f.closed)"
   ]
  },
  {
   "cell_type": "code",
   "execution_count": 5,
   "metadata": {},
   "outputs": [
    {
     "name": "stdout",
     "output_type": "stream",
     "text": [
      "File name: xyz.txt\n",
      "File mode: x\n",
      "is File readable?: False\n",
      "is File writable?: True\n",
      "is File closed?: False\n",
      "is File closed?: True\n"
     ]
    }
   ],
   "source": [
    "f = open('xyz.txt','x')\n",
    "\n",
    "print(\"File name:\",f.name)\n",
    "print(\"File mode:\",f.mode)\n",
    "print(\"is File readable?:\",f.readable())\n",
    "print(\"is File writable?:\",f.writable())\n",
    "print(\"is File closed?:\",f.closed)\n",
    "f.close()\n",
    "print(\"is File closed?:\",f.closed) "
   ]
  },
  {
   "cell_type": "code",
   "execution_count": 6,
   "metadata": {},
   "outputs": [
    {
     "ename": "FileExistsError",
     "evalue": "[Errno 17] File exists: 'xyz.txt'",
     "output_type": "error",
     "traceback": [
      "\u001b[1;31m---------------------------------------------------------------------------\u001b[0m",
      "\u001b[1;31mFileExistsError\u001b[0m                           Traceback (most recent call last)",
      "\u001b[1;32m<ipython-input-6-5202f226467f>\u001b[0m in \u001b[0;36m<module>\u001b[1;34m\u001b[0m\n\u001b[1;32m----> 1\u001b[1;33m \u001b[0mf\u001b[0m \u001b[1;33m=\u001b[0m \u001b[0mopen\u001b[0m\u001b[1;33m(\u001b[0m\u001b[1;34m'xyz.txt'\u001b[0m\u001b[1;33m,\u001b[0m\u001b[1;34m'x'\u001b[0m\u001b[1;33m)\u001b[0m\u001b[1;33m\u001b[0m\u001b[1;33m\u001b[0m\u001b[0m\n\u001b[0m\u001b[0;32m      2\u001b[0m \u001b[1;33m\u001b[0m\u001b[0m\n\u001b[0;32m      3\u001b[0m \u001b[0mprint\u001b[0m\u001b[1;33m(\u001b[0m\u001b[1;34m\"File name:\"\u001b[0m\u001b[1;33m,\u001b[0m\u001b[0mf\u001b[0m\u001b[1;33m.\u001b[0m\u001b[0mname\u001b[0m\u001b[1;33m)\u001b[0m\u001b[1;33m\u001b[0m\u001b[1;33m\u001b[0m\u001b[0m\n\u001b[0;32m      4\u001b[0m \u001b[0mprint\u001b[0m\u001b[1;33m(\u001b[0m\u001b[1;34m\"File mode:\"\u001b[0m\u001b[1;33m,\u001b[0m\u001b[0mf\u001b[0m\u001b[1;33m.\u001b[0m\u001b[0mmode\u001b[0m\u001b[1;33m)\u001b[0m\u001b[1;33m\u001b[0m\u001b[1;33m\u001b[0m\u001b[0m\n\u001b[0;32m      5\u001b[0m \u001b[0mprint\u001b[0m\u001b[1;33m(\u001b[0m\u001b[1;34m\"is File readable?:\"\u001b[0m\u001b[1;33m,\u001b[0m\u001b[0mf\u001b[0m\u001b[1;33m.\u001b[0m\u001b[0mreadable\u001b[0m\u001b[1;33m(\u001b[0m\u001b[1;33m)\u001b[0m\u001b[1;33m)\u001b[0m\u001b[1;33m\u001b[0m\u001b[1;33m\u001b[0m\u001b[0m\n",
      "\u001b[1;31mFileExistsError\u001b[0m: [Errno 17] File exists: 'xyz.txt'"
     ]
    }
   ],
   "source": [
    "f = open('xyz.txt','x')\n",
    "\n",
    "print(\"File name:\",f.name)\n",
    "print(\"File mode:\",f.mode)\n",
    "print(\"is File readable?:\",f.readable())\n",
    "print(\"is File writable?:\",f.writable())\n",
    "print(\"is File closed?:\",f.closed)\n",
    "f.close()\n",
    "print(\"is File closed?:\",f.closed) "
   ]
  },
  {
   "cell_type": "markdown",
   "metadata": {},
   "source": [
    "               "
   ]
  },
  {
   "cell_type": "markdown",
   "metadata": {},
   "source": [
    "                       "
   ]
  },
  {
   "cell_type": "markdown",
   "metadata": {},
   "source": [
    "# Writing data to text files:\n",
    "\n",
    "## We can write character data to the text files by using the following 2 methods: \n",
    "### 1. write(str)\n",
    "### 2. writelines(list/tuple/set of lines/dictionary)\n"
   ]
  },
  {
   "cell_type": "markdown",
   "metadata": {},
   "source": [
    "## 1. write(str) : "
   ]
  },
  {
   "cell_type": "code",
   "execution_count": 8,
   "metadata": {},
   "outputs": [
    {
     "name": "stdout",
     "output_type": "stream",
     "text": [
      "Data written to the file successfully\n"
     ]
    }
   ],
   "source": [
    "f = open('abcd.txt','w')\n",
    "f.write(\"vinod\\n\")\n",
    "f.write(\"shende\\n\")\n",
    "f.write(\"pune\\n\")\n",
    "print(\"Data written to the file successfully\")\n",
    "f.close()"
   ]
  },
  {
   "cell_type": "markdown",
   "metadata": {},
   "source": [
    "### Data from the file abcd.txt : \n",
    "\n",
    "    vinod\n",
    "    shende\n",
    "    pune\n"
   ]
  },
  {
   "cell_type": "markdown",
   "metadata": {},
   "source": [
    "## Note: In the above program, data present in the file will be overridden everytime if we run the program. "
   ]
  },
  {
   "cell_type": "code",
   "execution_count": 9,
   "metadata": {},
   "outputs": [
    {
     "name": "stdout",
     "output_type": "stream",
     "text": [
      "Data written to the file successfully\n"
     ]
    }
   ],
   "source": [
    "f = open('abcd.txt','w')\n",
    "f.write(\"vinod\\n\")\n",
    "f.write(\"shende\\n\")\n",
    "f.write(\"pune\\n\")\n",
    "print(\"Data written to the file successfully\")\n",
    "f.close()"
   ]
  },
  {
   "cell_type": "markdown",
   "metadata": {},
   "source": [
    "### Data from the file abcd.txt : \n",
    "\n",
    "    vinod\n",
    "    shende\n",
    "    pune\n"
   ]
  },
  {
   "cell_type": "markdown",
   "metadata": {},
   "source": [
    "##  Instead of overriding if we want append operation then we should open the file as follows:\n",
    "\n",
    "###               f = open(\"abcd.txt\",\"a\")\n"
   ]
  },
  {
   "cell_type": "code",
   "execution_count": 10,
   "metadata": {},
   "outputs": [
    {
     "name": "stdout",
     "output_type": "stream",
     "text": [
      "Data written to the file successfully\n"
     ]
    }
   ],
   "source": [
    "f = open('abcd.txt','a')\n",
    "f.write(\"vinod\\n\")\n",
    "f.write(\"shende\\n\")\n",
    "f.write(\"pune\\n\")\n",
    "print(\"Data written to the file successfully\")\n",
    "f.close()"
   ]
  },
  {
   "cell_type": "code",
   "execution_count": 11,
   "metadata": {},
   "outputs": [
    {
     "name": "stdout",
     "output_type": "stream",
     "text": [
      "Data written to the file successfully\n"
     ]
    }
   ],
   "source": [
    "f = open('abcd.txt','a')\n",
    "f.write(\"vinod\\n\")\n",
    "f.write(\"shende\\n\")\n",
    "f.write(\"pune\\n\")\n",
    "print(\"Data written to the file successfully\")\n",
    "f.close()"
   ]
  },
  {
   "cell_type": "markdown",
   "metadata": {},
   "source": [
    "### Data from the file abcd.txt : \n",
    "\n",
    "    vinod\n",
    "    shende\n",
    "    pune\n",
    "    vinod\n",
    "    shende\n",
    "    pune\n",
    "    vinod\n",
    "    shende\n",
    "    pune\n"
   ]
  },
  {
   "cell_type": "markdown",
   "metadata": {},
   "source": [
    "## 2. writelines(list/tuple/set of lines/dictionary) :"
   ]
  },
  {
   "cell_type": "code",
   "execution_count": 11,
   "metadata": {},
   "outputs": [
    {
     "name": "stdout",
     "output_type": "stream",
     "text": [
      "Data written to the file successfully\n"
     ]
    }
   ],
   "source": [
    "f = open('abcd.txt','w')\n",
    "f.writelines([\"vinod\\n\",\"shende\\n\",\"pune\\n\"])\n",
    "print(\"Data written to the file successfully\")\n",
    "f.close()"
   ]
  },
  {
   "cell_type": "markdown",
   "metadata": {},
   "source": [
    "### Data from the file abcd.txt : \n",
    "\n",
    "    vinod\n",
    "    shende\n",
    "    pune\n"
   ]
  },
  {
   "cell_type": "code",
   "execution_count": 8,
   "metadata": {},
   "outputs": [
    {
     "name": "stdout",
     "output_type": "stream",
     "text": [
      "Data written to the file successfully\n"
     ]
    }
   ],
   "source": [
    "f = open('abcd.txt','w')\n",
    "f.writelines((\"python\\n\",\"programming\\n\",\"2021\\n\"))\n",
    "print(\"Data written to the file successfully\")\n",
    "f.close()"
   ]
  },
  {
   "cell_type": "markdown",
   "metadata": {},
   "source": [
    "### Data from the file abcd.txt : \n",
    "\n",
    "    python\n",
    "    programming\n",
    "    2021\n"
   ]
  },
  {
   "cell_type": "code",
   "execution_count": 10,
   "metadata": {},
   "outputs": [
    {
     "name": "stdout",
     "output_type": "stream",
     "text": [
      "Data written to the file successfully\n"
     ]
    }
   ],
   "source": [
    "f = open('abcd.txt','w')\n",
    "f.writelines({\"vinod\\n\",\"shende\\n\",\"pune\\n\", \"shrigonda\\n\"})\n",
    "print(\"Data written to the file successfully\")\n",
    "f.close()"
   ]
  },
  {
   "cell_type": "markdown",
   "metadata": {},
   "source": [
    "### Data from the file abcd.txt : \n",
    "\n",
    "    shrigonda\n",
    "    vinod\n",
    "    shende\n",
    "    pune\n"
   ]
  },
  {
   "cell_type": "code",
   "execution_count": 9,
   "metadata": {},
   "outputs": [
    {
     "name": "stdout",
     "output_type": "stream",
     "text": [
      "Data written to the file successfully\n"
     ]
    }
   ],
   "source": [
    "f = open('abcd.txt','w')\n",
    "f.writelines({\"vinod\":10,\"apurv\":20,\"swapnil\":30, \"mahesh\":40})\n",
    "print(\"Data written to the file successfully\")\n",
    "f.close()"
   ]
  },
  {
   "cell_type": "markdown",
   "metadata": {},
   "source": [
    "### Data from the file abcd.txt : \n",
    "\n",
    "vinodapurvswapnilmahesh"
   ]
  },
  {
   "cell_type": "markdown",
   "metadata": {},
   "source": [
    "## Note: For dictionary it will write only keys and not values."
   ]
  },
  {
   "cell_type": "code",
   "execution_count": 16,
   "metadata": {},
   "outputs": [
    {
     "name": "stdout",
     "output_type": "stream",
     "text": [
      "Data written to the file successfully\n"
     ]
    }
   ],
   "source": [
    "f = open('abcd.txt','w')\n",
    "l = [\"vinod\",\"shende\",\"pune\"]\n",
    "f.writelines(l)\n",
    "print(\"Data written to the file successfully\")\n",
    "f.close()"
   ]
  },
  {
   "cell_type": "markdown",
   "metadata": {},
   "source": [
    "### Data from the file abcd.txt : \n",
    "\n",
    "    vinodshendepune"
   ]
  },
  {
   "cell_type": "markdown",
   "metadata": {},
   "source": [
    "## Note: while writing data by using write() methods, compulsory we have to provide line seperator(\\n),otherwise total data should be written to a single line."
   ]
  },
  {
   "cell_type": "markdown",
   "metadata": {},
   "source": [
    "                    "
   ]
  },
  {
   "cell_type": "markdown",
   "metadata": {},
   "source": [
    "                   "
   ]
  },
  {
   "cell_type": "markdown",
   "metadata": {},
   "source": [
    "# Reading Character Data from text files:\n",
    "\n",
    "## We can read character data from text file by using the following read methods.\n",
    "#### 1. read() -----> To read total data from the file\n",
    "#### 2. read(n) -----> To read 'n' characters from the file\n",
    "#### 3. readline() -----> To read only one line\n",
    "#### 4. readlines() -----> To read all lines into a list"
   ]
  },
  {
   "cell_type": "markdown",
   "metadata": {},
   "source": [
    "### Eg 1: To read total data from the file"
   ]
  },
  {
   "cell_type": "code",
   "execution_count": 12,
   "metadata": {},
   "outputs": [
    {
     "name": "stdout",
     "output_type": "stream",
     "text": [
      "vinod\n",
      "shende\n",
      "pune\n",
      "\n"
     ]
    }
   ],
   "source": [
    "f = open(\"abcd.txt\",'r')\n",
    "data = f.read()\n",
    "print(data)\n",
    "f.close()"
   ]
  },
  {
   "cell_type": "markdown",
   "metadata": {},
   "source": [
    "### Eg 2: To read only first 10 characters:"
   ]
  },
  {
   "cell_type": "code",
   "execution_count": 13,
   "metadata": {},
   "outputs": [
    {
     "name": "stdout",
     "output_type": "stream",
     "text": [
      "vinod\n",
      "shen\n"
     ]
    }
   ],
   "source": [
    "f = open(\"abcd.txt\",'r')\n",
    "data = f.read(10)\n",
    "print(data)\n",
    "f.close()"
   ]
  },
  {
   "cell_type": "markdown",
   "metadata": {},
   "source": [
    "### Eg 3: To read data line by line:"
   ]
  },
  {
   "cell_type": "code",
   "execution_count": 16,
   "metadata": {},
   "outputs": [
    {
     "name": "stdout",
     "output_type": "stream",
     "text": [
      "vinod\n",
      "\n",
      "shende\n",
      "\n"
     ]
    }
   ],
   "source": [
    "f = open('abcd.txt','r')\n",
    "print(f.readline())\n",
    "print(f.readline())\n",
    "f.close()"
   ]
  },
  {
   "cell_type": "markdown",
   "metadata": {},
   "source": [
    "### Eg 4: To read all lines into list:"
   ]
  },
  {
   "cell_type": "code",
   "execution_count": 18,
   "metadata": {},
   "outputs": [
    {
     "name": "stdout",
     "output_type": "stream",
     "text": [
      "['vinod\\n', 'shende\\n', 'pune\\n']\n"
     ]
    }
   ],
   "source": [
    "f = open('abcd.txt','r')\n",
    "l = f.readlines()\n",
    "print(l)\n",
    "f.close()"
   ]
  },
  {
   "cell_type": "code",
   "execution_count": 20,
   "metadata": {},
   "outputs": [
    {
     "name": "stdout",
     "output_type": "stream",
     "text": [
      "vinod\n",
      "shende\n",
      "pune\n"
     ]
    }
   ],
   "source": [
    "f = open('abcd.txt','r')\n",
    "l = f.readlines()\n",
    "for x in l:\n",
    "    print(x,end=\"\")\n",
    "f.close()"
   ]
  },
  {
   "cell_type": "code",
   "execution_count": 22,
   "metadata": {},
   "outputs": [
    {
     "name": "stdout",
     "output_type": "stream",
     "text": [
      "vin\n",
      "od\n",
      "\n",
      "shen\n",
      "Remaining data\n",
      "de\n",
      "pune\n",
      "\n"
     ]
    }
   ],
   "source": [
    "f = open('abcd.txt','r')\n",
    "print(f.read(3))\n",
    "print(f.readline())\n",
    "print(f.read(4))\n",
    "print(\"Remaining data\")\n",
    "print(f.read())\n",
    "f.close()"
   ]
  },
  {
   "cell_type": "markdown",
   "metadata": {},
   "source": [
    "          "
   ]
  },
  {
   "cell_type": "markdown",
   "metadata": {},
   "source": [
    "          "
   ]
  },
  {
   "cell_type": "markdown",
   "metadata": {},
   "source": [
    "# with statement:"
   ]
  },
  {
   "cell_type": "markdown",
   "metadata": {},
   "source": [
    "### The with statement can be used while opening a file.We can use this to group file operation statements within a block.\n",
    "\n",
    "### The advantage of with statement is it will take care closing of file,after completing all operations automatically even in the case of exceptions also, and we are not required to close explicitly."
   ]
  },
  {
   "cell_type": "code",
   "execution_count": 25,
   "metadata": {},
   "outputs": [
    {
     "name": "stdout",
     "output_type": "stream",
     "text": [
      "is file closed? False\n",
      "is file closed? True\n"
     ]
    }
   ],
   "source": [
    "with open('abc.txt','w') as f:\n",
    "    f.write(\"Python\\n\")\n",
    "    f.write(\"Java\\n\")\n",
    "    f.write(\"Cpp\\n\")\n",
    "    f.write(\"Javascript\\n\")\n",
    "    print(\"is file closed?\",f.closed)\n",
    "    \n",
    "print(\"is file closed?\",f.closed)    "
   ]
  },
  {
   "cell_type": "markdown",
   "metadata": {},
   "source": [
    "          "
   ]
  },
  {
   "cell_type": "markdown",
   "metadata": {},
   "source": [
    "           "
   ]
  },
  {
   "cell_type": "markdown",
   "metadata": {},
   "source": [
    "# The seek() and tell() methods:"
   ]
  },
  {
   "cell_type": "markdown",
   "metadata": {},
   "source": [
    "## 1. tell()"
   ]
  },
  {
   "cell_type": "markdown",
   "metadata": {},
   "source": [
    "### We can use tell() method to return current position of the cursor(file pointer) from beginning of the file. ( can you plese tell current cursor position?)\n",
    "### The position(index) of first character in files is zero just like string index."
   ]
  },
  {
   "cell_type": "code",
   "execution_count": 26,
   "metadata": {},
   "outputs": [
    {
     "name": "stdout",
     "output_type": "stream",
     "text": [
      "0\n",
      "Pyt\n",
      "3\n",
      "h\n",
      "4\n",
      "on\n",
      "Ja\n",
      "10\n"
     ]
    }
   ],
   "source": [
    "f = open(\"abc.txt\",'r')\n",
    "print(f.tell())\n",
    "print(f.read(3))\n",
    "print(f.tell())\n",
    "print(f.read(1))\n",
    "print(f.tell())\n",
    "print(f.read(5))\n",
    "print(f.tell())\n",
    "f.close()"
   ]
  },
  {
   "cell_type": "markdown",
   "metadata": {},
   "source": [
    "         "
   ]
  },
  {
   "cell_type": "markdown",
   "metadata": {},
   "source": [
    "## 2. seek()"
   ]
  },
  {
   "cell_type": "markdown",
   "metadata": {},
   "source": [
    "### We can use seek() method to move cursor(file pointer) to specified location. (Can you please seek the cursor to a particular location?)\n",
    "\n",
    "### syntax ---> f.seek(offset, fromwhere) \n",
    "#### offset represents the number of positions\n",
    "\n",
    "### The allowed values for second attribute(from where) are : \n",
    "#### 0 ----> From beginning of file    (default value)\n",
    "#### 1 ----> From current position    (not available in python 3)\n",
    "#### 2 ----> From end of the file        (not available in python 3)\n",
    "\n",
    "### Note: Python 2 supports all 3 values for fromwhere_attribute but Python 3 supports only zero it is by default there."
   ]
  },
  {
   "cell_type": "code",
   "execution_count": 35,
   "metadata": {},
   "outputs": [
    {
     "name": "stdout",
     "output_type": "stream",
     "text": [
      "Data before modification: Programming with python\n",
      "the current cursor position: 23\n",
      "the current cursor position: 17\n",
      "Data after modification: Programming with Java!!!!\n"
     ]
    }
   ],
   "source": [
    "data = \"Programming with python\"\n",
    "f = open('abc.txt','w')\n",
    "f.write(data)\n",
    "with open('abc.txt','r+') as f:\n",
    "    text = f.read()\n",
    "    print(\"Data before modification:\",text)\n",
    "    print(\"the current cursor position:\",f.tell())\n",
    "    f.seek(17)\n",
    "    print(\"the current cursor position:\",f.tell())\n",
    "    f.write(\"Java!!!!\")\n",
    "    f.seek(0)\n",
    "    text = f.read()\n",
    "    print(\"Data after modification:\",text)"
   ]
  },
  {
   "cell_type": "markdown",
   "metadata": {},
   "source": [
    "          "
   ]
  },
  {
   "cell_type": "markdown",
   "metadata": {},
   "source": [
    "       "
   ]
  },
  {
   "cell_type": "markdown",
   "metadata": {},
   "source": [
    "# How to check a particular file exists or not?\n",
    "### We can use os library to get information about files in our computer.\n",
    "\n",
    "### os module has path sub module,which contains isFile() function to check whether a particular file exists or not?\n",
    "\n",
    "## syntax--->  os.path.isfile(filename)\n"
   ]
  },
  {
   "cell_type": "code",
   "execution_count": 44,
   "metadata": {},
   "outputs": [
    {
     "name": "stdout",
     "output_type": "stream",
     "text": [
      "Enter the file name: abc.txt\n",
      "abc.txt file exists.\n",
      "The content of the file is:\n",
      " Programming with Java!!!!\n"
     ]
    }
   ],
   "source": [
    "import os\n",
    "import sys\n",
    "\n",
    "file_name = input(\"Enter the file name: \")\n",
    "\n",
    "if os.path.isfile(file_name):\n",
    "    print(\"%s file exists.\"%file_name)\n",
    "    f = open(file_name,'r')\n",
    "    data = f.read()\n",
    "    print(\"The content of the file is:\\n\",data)\n",
    "    f.close()\n",
    "else:\n",
    "    print(f\"{file_name} file doesn't exist!!!\")\n",
    "    sys.exit(0)\n",
    "\n"
   ]
  },
  {
   "cell_type": "markdown",
   "metadata": {},
   "source": [
    "## Note:\n",
    "### sys.exit(0) ===>To exit system without executing rest of the program.\n",
    "### argument represents status code . 0 means normal termination and it is the default value.\n"
   ]
  },
  {
   "cell_type": "markdown",
   "metadata": {},
   "source": [
    "             "
   ]
  },
  {
   "cell_type": "markdown",
   "metadata": {},
   "source": [
    "## Q. Program to print the number of lines,words and characters present in the given file?"
   ]
  },
  {
   "cell_type": "code",
   "execution_count": null,
   "metadata": {},
   "outputs": [],
   "source": []
  },
  {
   "cell_type": "code",
   "execution_count": null,
   "metadata": {},
   "outputs": [],
   "source": []
  },
  {
   "cell_type": "code",
   "execution_count": null,
   "metadata": {},
   "outputs": [],
   "source": []
  },
  {
   "cell_type": "code",
   "execution_count": null,
   "metadata": {},
   "outputs": [],
   "source": []
  },
  {
   "cell_type": "code",
   "execution_count": null,
   "metadata": {},
   "outputs": [],
   "source": []
  },
  {
   "cell_type": "code",
   "execution_count": null,
   "metadata": {},
   "outputs": [],
   "source": []
  },
  {
   "cell_type": "code",
   "execution_count": null,
   "metadata": {},
   "outputs": [],
   "source": []
  },
  {
   "cell_type": "code",
   "execution_count": null,
   "metadata": {},
   "outputs": [],
   "source": []
  },
  {
   "cell_type": "code",
   "execution_count": null,
   "metadata": {},
   "outputs": [],
   "source": []
  },
  {
   "cell_type": "code",
   "execution_count": null,
   "metadata": {},
   "outputs": [],
   "source": []
  },
  {
   "cell_type": "code",
   "execution_count": null,
   "metadata": {},
   "outputs": [],
   "source": []
  },
  {
   "cell_type": "code",
   "execution_count": null,
   "metadata": {},
   "outputs": [],
   "source": []
  },
  {
   "cell_type": "code",
   "execution_count": null,
   "metadata": {},
   "outputs": [],
   "source": []
  }
 ],
 "metadata": {
  "kernelspec": {
   "display_name": "Python 3",
   "language": "python",
   "name": "python3"
  },
  "language_info": {
   "codemirror_mode": {
    "name": "ipython",
    "version": 3
   },
   "file_extension": ".py",
   "mimetype": "text/x-python",
   "name": "python",
   "nbconvert_exporter": "python",
   "pygments_lexer": "ipython3",
   "version": "3.8.3"
  }
 },
 "nbformat": 4,
 "nbformat_minor": 4
}
