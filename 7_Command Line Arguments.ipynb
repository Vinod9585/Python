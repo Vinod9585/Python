{
 "cells": [
  {
   "cell_type": "markdown",
   "metadata": {},
   "source": [
    "### argv is a LIST TYPE.\n",
    "\n",
    "### It is available in sys module.\n"
   ]
  },
  {
   "cell_type": "code",
   "execution_count": 1,
   "metadata": {},
   "outputs": [
    {
     "name": "stdout",
     "output_type": "stream",
     "text": [
      "<class 'list'>\n"
     ]
    }
   ],
   "source": [
    "from sys import argv\n",
    "\n",
    "print(type(argv))"
   ]
  },
  {
   "cell_type": "code",
   "execution_count": 2,
   "metadata": {},
   "outputs": [
    {
     "name": "stdout",
     "output_type": "stream",
     "text": [
      "['C:\\\\Users\\\\91774\\\\anaconda3\\\\lib\\\\site-packages\\\\ipykernel_launcher.py', '-f', 'C:\\\\Users\\\\91774\\\\AppData\\\\Roaming\\\\jupyter\\\\runtime\\\\kernel-fd9d556d-8f25-47c5-b35b-b88abb7a20ec.json']\n"
     ]
    }
   ],
   "source": [
    "from sys import argv\n",
    "\n",
    "print(argv)"
   ]
  },
  {
   "cell_type": "markdown",
   "metadata": {},
   "source": [
    "### Try to run this in command prompt"
   ]
  },
  {
   "cell_type": "code",
   "execution_count": null,
   "metadata": {},
   "outputs": [],
   "source": [
    "from sys import argv\n",
    "\n",
    "print(\"number of cmd line arguments: \", len(argv))\n",
    "print(\"list of cmd line arguments: \", argv)\n",
    "print(\"elements one by one: \")\n",
    "for x in argv:\n",
    "    print(x)"
   ]
  },
  {
   "cell_type": "markdown",
   "metadata": {},
   "source": [
    "#### Output: \n",
    "\n",
    "C:\\Users\\91774\\Desktop>py sample.py 10 20 30 40 50 60\n",
    "\n",
    "\n",
    "number of cmd line arguments:  7\n",
    "\n",
    "\n",
    "list of cmd line arguments:  ['sample.py', '10', '20', '30', '40', '50', '60']\n",
    "\n",
    "\n",
    "elements one by one:\n",
    "sample.py\n",
    "10\n",
    "20\n",
    "30\n",
    "40\n",
    "50\n",
    "60"
   ]
  },
  {
   "cell_type": "code",
   "execution_count": null,
   "metadata": {},
   "outputs": [],
   "source": [
    "from sys import argv\n",
    "\n",
    "list1 = argv[1:]\n",
    "\n",
    "sum = 0\n",
    "for x in list1:\n",
    "\n",
    "    n = int(x)\n",
    "    sum += n\n",
    "print(\"sum of the elements passed as cmd line argumrnts: \", sum)"
   ]
  },
  {
   "cell_type": "markdown",
   "metadata": {},
   "source": [
    "#### Output:\n",
    "\n",
    "C:\\Users\\91774\\Desktop>py sample.py 10 20 30 40 50\n",
    "\n",
    "\n",
    "sum of the elements passed as cmd line argumrnts:  150"
   ]
  },
  {
   "cell_type": "markdown",
   "metadata": {},
   "source": [
    "## Note1: \n",
    "\n",
    "#### Usually space is separator between command line line arguments. If our command line argument itself contains space then we should enclose within DOUBLE QUOTES ONLY. (BUT NOT single quotes)"
   ]
  },
  {
   "cell_type": "code",
   "execution_count": null,
   "metadata": {},
   "outputs": [],
   "source": [
    "from sys import argv\n",
    "\n",
    "print(argv[1])"
   ]
  },
  {
   "cell_type": "markdown",
   "metadata": {},
   "source": [
    "#### Output:\n",
    "\n",
    "C:\\Users\\91774\\Desktop>py sample.py vinod shende\n",
    "\n",
    "\n",
    "vinod"
   ]
  },
  {
   "cell_type": "code",
   "execution_count": null,
   "metadata": {},
   "outputs": [],
   "source": [
    "from sys import argv\n",
    "\n",
    "print(argv[1])"
   ]
  },
  {
   "cell_type": "markdown",
   "metadata": {},
   "source": [
    "#### Output:\n",
    "\n",
    "C:\\Users\\91774\\Desktop>py sample.py 'vinod shende'\n",
    "\n",
    "\n",
    "'vinod"
   ]
  },
  {
   "cell_type": "code",
   "execution_count": null,
   "metadata": {},
   "outputs": [],
   "source": [
    "from sys import argv\n",
    "\n",
    "print(argv[1])"
   ]
  },
  {
   "cell_type": "markdown",
   "metadata": {},
   "source": [
    "#### Output:\n",
    "\n",
    "C:\\Users\\91774\\Desktop>py sample.py \"vinod shende\"\n",
    "\n",
    "\n",
    "vinod shende"
   ]
  },
  {
   "cell_type": "markdown",
   "metadata": {},
   "source": [
    "## Note 2 : \n",
    "\n",
    "#### Within the python program command line arguments are available in the string form. Based on our requirement, we can convert into corresponding type by using type casting methods."
   ]
  },
  {
   "cell_type": "code",
   "execution_count": null,
   "metadata": {},
   "outputs": [],
   "source": [
    "from sys import argv\n",
    "\n",
    "print(argv[1]+argv[2])"
   ]
  },
  {
   "cell_type": "markdown",
   "metadata": {},
   "source": [
    "#### Output:\n",
    "\n",
    "C:\\Users\\91774\\Desktop>py sample.py 10 20\n",
    "\n",
    "\n",
    "1020"
   ]
  },
  {
   "cell_type": "code",
   "execution_count": null,
   "metadata": {},
   "outputs": [],
   "source": [
    "from sys import argv\n",
    "\n",
    "print(int(argv[1])+int(argv[2]))"
   ]
  },
  {
   "cell_type": "markdown",
   "metadata": {},
   "source": [
    "#### Output:\n",
    "\n",
    "C:\\Users\\91774\\Desktop>py sample.py 10 20\n",
    "\n",
    "\n",
    "30"
   ]
  },
  {
   "cell_type": "markdown",
   "metadata": {},
   "source": [
    "## Note 3 :\n",
    "\n",
    "#### If we are trying to access command line arguments with out of range index then we will get ERROR."
   ]
  },
  {
   "cell_type": "code",
   "execution_count": null,
   "metadata": {},
   "outputs": [],
   "source": [
    "from sys import argv\n",
    "\n",
    "print(argv[100])"
   ]
  },
  {
   "cell_type": "markdown",
   "metadata": {},
   "source": [
    "#### Output:\n",
    "\n",
    "C:\\Users\\91774\\Desktop>py sample.py 10 20 30\n",
    "\n",
    "\n",
    "Traceback (most recent call last):\n",
    "  \n",
    "  \n",
    "   File \"C:\\Users\\91774\\Desktop\\sample.py\", line 3, in <module>\n",
    "    \n",
    "    print(argv[100])\n",
    "\n",
    "    \n",
    "IndexError: list index out of range"
   ]
  },
  {
   "cell_type": "markdown",
   "metadata": {},
   "source": [
    "## Note : \n",
    "\n",
    "### In python there is argparse module to parse command line arguments and display some help messages whenever end user enters wrong input"
   ]
  },
  {
   "cell_type": "code",
   "execution_count": null,
   "metadata": {},
   "outputs": [],
   "source": []
  }
 ],
 "metadata": {
  "kernelspec": {
   "display_name": "Python 3",
   "language": "python",
   "name": "python3"
  },
  "language_info": {
   "codemirror_mode": {
    "name": "ipython",
    "version": 3
   },
   "file_extension": ".py",
   "mimetype": "text/x-python",
   "name": "python",
   "nbconvert_exporter": "python",
   "pygments_lexer": "ipython3",
   "version": "3.8.3"
  }
 },
 "nbformat": 4,
 "nbformat_minor": 4
}
