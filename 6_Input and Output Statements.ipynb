{
 "cells": [
  {
   "cell_type": "markdown",
   "metadata": {},
   "source": [
    "    "
   ]
  },
  {
   "cell_type": "markdown",
   "metadata": {},
   "source": [
    "# input() : "
   ]
  },
  {
   "cell_type": "markdown",
   "metadata": {},
   "source": [
    "### Every input value is treated as STRING TYPE ONLY.\n",
    "\n",
    "#### We have to convert that string type to our required type by using the corresponding type casting methods."
   ]
  },
  {
   "cell_type": "code",
   "execution_count": 4,
   "metadata": {},
   "outputs": [
    {
     "name": "stdout",
     "output_type": "stream",
     "text": [
      "Enter number : 10000\n"
     ]
    },
    {
     "data": {
      "text/plain": [
       "str"
      ]
     },
     "execution_count": 4,
     "metadata": {},
     "output_type": "execute_result"
    }
   ],
   "source": [
    "x = input('Enter number : ')\n",
    "type(x)"
   ]
  },
  {
   "cell_type": "code",
   "execution_count": null,
   "metadata": {},
   "outputs": [],
   "source": []
  },
  {
   "cell_type": "code",
   "execution_count": 5,
   "metadata": {},
   "outputs": [
    {
     "name": "stdout",
     "output_type": "stream",
     "text": [
      "Enter number : 1043.232343312\n"
     ]
    },
    {
     "data": {
      "text/plain": [
       "str"
      ]
     },
     "execution_count": 5,
     "metadata": {},
     "output_type": "execute_result"
    }
   ],
   "source": [
    "x = input('Enter number : ')\n",
    "type(x)"
   ]
  },
  {
   "cell_type": "code",
   "execution_count": 7,
   "metadata": {},
   "outputs": [
    {
     "name": "stdout",
     "output_type": "stream",
     "text": [
      "enter first number : 10\n",
      "enter second number : 20\n",
      "Sum of numbers is :  1020\n"
     ]
    }
   ],
   "source": [
    "x = input(\"enter first number : \")\n",
    "y = input(\"enter second number : \")\n",
    "print(\"Sum of numbers is : \", x+y)  # it treat numbers as strings thats why concatenation is performed"
   ]
  },
  {
   "cell_type": "code",
   "execution_count": 9,
   "metadata": {},
   "outputs": [
    {
     "name": "stdout",
     "output_type": "stream",
     "text": [
      "enter first number : 10\n",
      "enter second number : 20\n",
      "Sum of numbers is :  30\n"
     ]
    }
   ],
   "source": [
    "x = input(\"enter first number : \")\n",
    "y = input(\"enter second number : \")\n",
    "i = int(x)        # type casting to convert str to int\n",
    "j = int(y)\n",
    "print(\"Sum of numbers is : \", i+j)"
   ]
  },
  {
   "cell_type": "code",
   "execution_count": 11,
   "metadata": {},
   "outputs": [
    {
     "name": "stdout",
     "output_type": "stream",
     "text": [
      "enter first number : 10\n",
      "enter second number : 20\n",
      "Sum of numbers is :  30\n"
     ]
    }
   ],
   "source": [
    "x = int(input(\"enter first number : \"))\n",
    "y = int(input(\"enter second number : \"))\n",
    "\n",
    "print(\"Sum of numbers is : \", x+y)"
   ]
  },
  {
   "cell_type": "code",
   "execution_count": 12,
   "metadata": {},
   "outputs": [
    {
     "name": "stdout",
     "output_type": "stream",
     "text": [
      "enter first number : 10\n",
      "enter second number : 20\n",
      "Sum of numbers is :  30\n"
     ]
    }
   ],
   "source": [
    "print(\"Sum of numbers is : \", int(input(\"enter first number : \")) + int(input(\"enter second number : \")))"
   ]
  },
  {
   "cell_type": "code",
   "execution_count": 15,
   "metadata": {},
   "outputs": [
    {
     "name": "stdout",
     "output_type": "stream",
     "text": [
      "Enter Employee number: 1234567890\n",
      "Enter Employee name: swapnil\n",
      "Enter Employee salary: 400\n",
      "Enter Employee address: shedgaon\n",
      "Enter married or not?[Yes or No]: No\n",
      "\n",
      "Employee number:  1234567890\n",
      "Employee name:  swapnil\n",
      "Employee salary:  400.0\n",
      "Employee address:  shedgaon\n",
      "married or not?:  No\n"
     ]
    }
   ],
   "source": [
    "eno = int(input(\"Enter Employee number: \"))\n",
    "ename = input(\"Enter Employee name: \")\n",
    "esal = float(input(\"Enter Employee salary: \"))\n",
    "eaddr = input(\"Enter Employee address: \")\n",
    "married =(input(\"Enter married or not?[Yes or No]: \"))\n",
    "print(\"\\nEmployee number: \", eno)\n",
    "print(\"Employee name: \", ename)\n",
    "print(\"Employee salary: \", esal)\n",
    "print(\"Employee address: \", eaddr)\n",
    "print(\"married or not?: \", married)"
   ]
  },
  {
   "cell_type": "code",
   "execution_count": 27,
   "metadata": {},
   "outputs": [
    {
     "name": "stdout",
     "output_type": "stream",
     "text": [
      "Enter two numbers: 10 20\n",
      "multiplication of a and b:  200\n"
     ]
    }
   ],
   "source": [
    "a,b = [int(x) for x in input(\"Enter two numbers: \").split()]\n",
    "\n",
    "print(\"multiplication of a and b: \", a*b)"
   ]
  },
  {
   "cell_type": "code",
   "execution_count": 34,
   "metadata": {},
   "outputs": [
    {
     "name": "stdout",
     "output_type": "stream",
     "text": [
      "Enter 3 numbers: 12.5,50.40,33.5\n",
      "addition of 3 numbers:  96.4\n"
     ]
    }
   ],
   "source": [
    "a,b,c = [float(x) for x in input(\"Enter 3 numbers: \").split(\",\")]\n",
    "\n",
    "print(\"addition of 3 numbers: \", a+b+c)"
   ]
  },
  {
   "cell_type": "code",
   "execution_count": 57,
   "metadata": {},
   "outputs": [],
   "source": [
    "x = \"1 2 3 4 5 6 7\".split()"
   ]
  },
  {
   "cell_type": "code",
   "execution_count": 58,
   "metadata": {},
   "outputs": [
    {
     "data": {
      "text/plain": [
       "['1', '2', '3', '4', '5', '6', '7']"
      ]
     },
     "execution_count": 58,
     "metadata": {},
     "output_type": "execute_result"
    }
   ],
   "source": [
    "x"
   ]
  },
  {
   "cell_type": "code",
   "execution_count": 59,
   "metadata": {},
   "outputs": [
    {
     "name": "stdout",
     "output_type": "stream",
     "text": [
      "[1, 2, 3, 4, 5, 6, 7]\n"
     ]
    }
   ],
   "source": [
    "y=[]\n",
    "for n in x:\n",
    "    \n",
    "   \n",
    "    y.append(int(n))\n",
    "print(y)\n",
    "    "
   ]
  },
  {
   "cell_type": "markdown",
   "metadata": {},
   "source": [
    "    "
   ]
  },
  {
   "cell_type": "markdown",
   "metadata": {},
   "source": [
    "# eval() :"
   ]
  },
  {
   "cell_type": "markdown",
   "metadata": {},
   "source": [
    "### eval function take a string and evaluate the result\n",
    "\n",
    "### eval() can evaluate the input to list, tuple, set, etc based on the provided input."
   ]
  },
  {
   "cell_type": "code",
   "execution_count": 63,
   "metadata": {},
   "outputs": [
    {
     "name": "stdout",
     "output_type": "stream",
     "text": [
      "258.0\n"
     ]
    }
   ],
   "source": [
    "x = eval(\"(10+20+30+4.5)*4\")\n",
    "print(x)"
   ]
  },
  {
   "cell_type": "code",
   "execution_count": 65,
   "metadata": {},
   "outputs": [
    {
     "name": "stdout",
     "output_type": "stream",
     "text": [
      "Enter Mathematical Expression: (100+399)-(12*34)/2\n",
      "\n",
      "Solution of the expression :  295.0\n"
     ]
    }
   ],
   "source": [
    "numerical = input(\"Enter Mathematical Expression: \")\n",
    "\n",
    "print(\"\\nSolution of the expression : \", eval(numerical))"
   ]
  },
  {
   "cell_type": "code",
   "execution_count": 74,
   "metadata": {},
   "outputs": [
    {
     "name": "stdout",
     "output_type": "stream",
     "text": [
      "enter some data: [10,20,30,40,50]\n",
      "[10, 20, 30, 40, 50]\n",
      "<class 'list'>\n"
     ]
    }
   ],
   "source": [
    "data = eval(input(\"enter some data: \"))\n",
    "print(data)\n",
    "print(type(data))"
   ]
  },
  {
   "cell_type": "code",
   "execution_count": 75,
   "metadata": {},
   "outputs": [
    {
     "name": "stdout",
     "output_type": "stream",
     "text": [
      "enter some data: (10,20,30,40,50,60,70,80,90,100)\n",
      "(10, 20, 30, 40, 50, 60, 70, 80, 90, 100)\n",
      "<class 'tuple'>\n"
     ]
    }
   ],
   "source": [
    "data = eval(input(\"enter some data: \"))\n",
    "print(data)\n",
    "print(type(data))"
   ]
  },
  {
   "cell_type": "markdown",
   "metadata": {},
   "source": [
    "     "
   ]
  },
  {
   "cell_type": "markdown",
   "metadata": {},
   "source": [
    "# Output Statements : "
   ]
  },
  {
   "cell_type": "markdown",
   "metadata": {},
   "source": [
    "## print()"
   ]
  },
  {
   "cell_type": "code",
   "execution_count": 7,
   "metadata": {},
   "outputs": [
    {
     "name": "stdout",
     "output_type": "stream",
     "text": [
      "vinod shende\n",
      "\n",
      "i2it\n"
     ]
    }
   ],
   "source": [
    "print(\"vinod shende\")\n",
    "print()                   # new line\n",
    "print(\"i2it\")"
   ]
  },
  {
   "cell_type": "code",
   "execution_count": 9,
   "metadata": {},
   "outputs": [
    {
     "name": "stdout",
     "output_type": "stream",
     "text": [
      "hello world\n"
     ]
    }
   ],
   "source": [
    "print(\"hello world\")    # to print string"
   ]
  },
  {
   "cell_type": "code",
   "execution_count": 10,
   "metadata": {},
   "outputs": [
    {
     "name": "stdout",
     "output_type": "stream",
     "text": [
      "vinod\n",
      "shende\n"
     ]
    }
   ],
   "source": [
    "print(\"vinod\\nshende\")"
   ]
  },
  {
   "cell_type": "code",
   "execution_count": 11,
   "metadata": {},
   "outputs": [
    {
     "name": "stdout",
     "output_type": "stream",
     "text": [
      "shende\tvinod\n"
     ]
    }
   ],
   "source": [
    "print(\"shende\\tvinod\")"
   ]
  },
  {
   "cell_type": "code",
   "execution_count": 12,
   "metadata": {},
   "outputs": [
    {
     "name": "stdout",
     "output_type": "stream",
     "text": [
      "shendevinod\n"
     ]
    }
   ],
   "source": [
    "print(\"shende\" + \"vinod\")   # concatenation"
   ]
  },
  {
   "cell_type": "code",
   "execution_count": 14,
   "metadata": {},
   "outputs": [
    {
     "name": "stdout",
     "output_type": "stream",
     "text": [
      "\tshende\tvinod\tshende\tvinod\tshende\tvinod\n"
     ]
    }
   ],
   "source": [
    "print(\"\\tshende\\tvinod\" * 3)   # repetation"
   ]
  },
  {
   "cell_type": "code",
   "execution_count": null,
   "metadata": {},
   "outputs": [],
   "source": []
  },
  {
   "cell_type": "code",
   "execution_count": null,
   "metadata": {},
   "outputs": [],
   "source": []
  },
  {
   "cell_type": "code",
   "execution_count": 15,
   "metadata": {},
   "outputs": [
    {
     "name": "stdout",
     "output_type": "stream",
     "text": [
      "shende vinod\n"
     ]
    }
   ],
   "source": [
    "print(\"shende\", \"vinod\")    # using comma ','"
   ]
  },
  {
   "cell_type": "code",
   "execution_count": 16,
   "metadata": {},
   "outputs": [
    {
     "name": "stdout",
     "output_type": "stream",
     "text": [
      "shendevinod\n"
     ]
    }
   ],
   "source": [
    "print(\"shende\" + \"vinod\")"
   ]
  },
  {
   "cell_type": "code",
   "execution_count": 22,
   "metadata": {},
   "outputs": [
    {
     "name": "stdout",
     "output_type": "stream",
     "text": [
      "the values :  10 20 30\n"
     ]
    }
   ],
   "source": [
    "a,b,c = 10,20,30\n",
    "\n",
    "print(\"the values : \",a,b,c)     # default separator is space for commas"
   ]
  },
  {
   "cell_type": "code",
   "execution_count": 31,
   "metadata": {},
   "outputs": [
    {
     "name": "stdout",
     "output_type": "stream",
     "text": [
      "10 20 30\n",
      "10,20,30\n",
      "10:20:30\n"
     ]
    }
   ],
   "source": [
    "a,b,c = 10,20,30\n",
    "print(a,b,c)\n",
    "print(a,b,c,sep = ',')    # we can specify separator by using \"sep\" attribute\n",
    "print(a,b,c,sep = ':')"
   ]
  },
  {
   "cell_type": "code",
   "execution_count": 39,
   "metadata": {},
   "outputs": [
    {
     "name": "stdout",
     "output_type": "stream",
     "text": [
      "hello\n",
      "vinod__shende\n",
      "How are you??\n"
     ]
    }
   ],
   "source": [
    "print('hello')   # default value for end attribute is new line character '\\n'\n",
    "print('vinod',end =\"__\") # we can specify value by using \"end\" attribute   \n",
    "print('shende')\n",
    "print('How are you??')"
   ]
  },
  {
   "cell_type": "code",
   "execution_count": 47,
   "metadata": {},
   "outputs": [
    {
     "name": "stdout",
     "output_type": "stream",
     "text": [
      "10::20::30::40::50\n",
      "10--20--30--40--50\n",
      "10::20::30::40::50:60::70::80::90::100\n"
     ]
    }
   ],
   "source": [
    "print(10,20,30,40,50,sep = \"::\")  # only 'sep' attribute\n",
    "\n",
    "\n",
    "print(10,end='--')     \n",
    "print(20,end='--')        # only 'end' attribute\n",
    "print(30,end='--')\n",
    "print(40,end='--')\n",
    "print(50)\n",
    "\n",
    "\n",
    "print(10,20,30,40,50,sep = \"::\",end = \":\")  # both 'sep' and 'end' operator\n",
    "print(60,70,80,90,100,sep = \"::\")"
   ]
  },
  {
   "cell_type": "code",
   "execution_count": null,
   "metadata": {},
   "outputs": [],
   "source": []
  },
  {
   "cell_type": "code",
   "execution_count": 54,
   "metadata": {},
   "outputs": [
    {
     "name": "stdout",
     "output_type": "stream",
     "text": [
      "[10, 20, 30, 40, 50]\n",
      "(60, 70, 80, 90, 100)\n",
      "{1, 2, 3, 4, 5}\n",
      "\n",
      "[10, 20, 30, 40, 50] ==> (60, 70, 80, 90, 100) ==> {1, 2, 3, 4, 5}\n"
     ]
    }
   ],
   "source": [
    "l = [10,20,30,40,50]\n",
    "\n",
    "t = (60,70,80,90,100)\n",
    "\n",
    "s = {1,2,3,4,5}\n",
    "\n",
    "print(l)\n",
    "print(t)\n",
    "print(s)\n",
    "\n",
    "print()\n",
    "\n",
    "print(l, end = \" ==> \")\n",
    "print(t, end = \" ==> \")\n",
    "print(s)"
   ]
  },
  {
   "cell_type": "code",
   "execution_count": 57,
   "metadata": {},
   "outputs": [
    {
     "name": "stdout",
     "output_type": "stream",
     "text": [
      "value of a, b and c: 10 20 30 \n"
     ]
    }
   ],
   "source": [
    "a,b,c = 10,20,30\n",
    "\n",
    "print(\"value of a, b and c: %i %i %i \" %(a,b,c))"
   ]
  },
  {
   "cell_type": "code",
   "execution_count": 58,
   "metadata": {
    "scrolled": true
   },
   "outputs": [
    {
     "name": "stdout",
     "output_type": "stream",
     "text": [
      "hello vinod the list is [10, 20, 30, 40, 50]\n"
     ]
    }
   ],
   "source": [
    "name = 'vinod'\n",
    "l = [10,20,30,40,50]\n",
    "\n",
    "print(\"hello %s the list is %s\"%(name,l))"
   ]
  },
  {
   "cell_type": "code",
   "execution_count": 65,
   "metadata": {},
   "outputs": [
    {
     "name": "stdout",
     "output_type": "stream",
     "text": [
      "my name is vinod, I'm currently studying BE Comp at I2IT college and roll number is 55\n",
      "my name is vinod, I'm currently studying BE Comp at I2IT college and roll number is 55\n",
      "my name is vinod, I'm currently studying BE Comp at I2IT college and roll number is 55\n",
      "my name is vinod, I'm currently studying BE Comp at I2IT college and roll number is 55\n"
     ]
    }
   ],
   "source": [
    "# {} = Replacement Operator\n",
    "\n",
    "\n",
    "name = \"vinod\"\n",
    "degree = \"BE Comp\"\n",
    "roll_no = 55\n",
    "college  = \"I2IT\"\n",
    "\n",
    "print(\"my name is {}, I'm currently studying {} at {} college and roll number is {}\" .format(name,degree,college,roll_no))\n",
    "\n",
    "print(\"my name is {0}, I'm currently studying {1} at {2} college and roll number is {3}\" .format(name,degree,college,roll_no))\n",
    "\n",
    "print(\"my name is {x}, I'm currently studying {y} at {z} college and roll number is {r}\".format(x=name, z=college, y=degree, r=roll_no))\n",
    "\n",
    "print(f\"my name is {name}, I'm currently studying {degree} at {college} college and roll number is {roll_no}\")"
   ]
  },
  {
   "cell_type": "code",
   "execution_count": null,
   "metadata": {},
   "outputs": [],
   "source": []
  },
  {
   "cell_type": "code",
   "execution_count": null,
   "metadata": {},
   "outputs": [],
   "source": []
  },
  {
   "cell_type": "code",
   "execution_count": null,
   "metadata": {},
   "outputs": [],
   "source": []
  },
  {
   "cell_type": "code",
   "execution_count": null,
   "metadata": {},
   "outputs": [],
   "source": []
  },
  {
   "cell_type": "code",
   "execution_count": null,
   "metadata": {},
   "outputs": [],
   "source": []
  },
  {
   "cell_type": "code",
   "execution_count": null,
   "metadata": {},
   "outputs": [],
   "source": []
  }
 ],
 "metadata": {
  "kernelspec": {
   "display_name": "Python 3",
   "language": "python",
   "name": "python3"
  },
  "language_info": {
   "codemirror_mode": {
    "name": "ipython",
    "version": 3
   },
   "file_extension": ".py",
   "mimetype": "text/x-python",
   "name": "python",
   "nbconvert_exporter": "python",
   "pygments_lexer": "ipython3",
   "version": "3.8.3"
  }
 },
 "nbformat": 4,
 "nbformat_minor": 4
}
