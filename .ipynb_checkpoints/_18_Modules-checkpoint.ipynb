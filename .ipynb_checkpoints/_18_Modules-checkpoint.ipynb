{
 "cells": [
  {
   "cell_type": "markdown",
   "metadata": {},
   "source": [
    "### A group of functions, variables and classes saved to a file, which is nothing but module.\n",
    "### Every python file (.py) acts as a module."
   ]
  },
  {
   "cell_type": "markdown",
   "metadata": {},
   "source": [
    "# All the codes for _18_Modules are done by using vscode i.e., in .py file.\n",
    "## These codes are only for reference coz here we'll get ModuleNotFoundError"
   ]
  },
  {
   "cell_type": "markdown",
   "metadata": {},
   "source": [
    "### vin_math.py"
   ]
  },
  {
   "cell_type": "markdown",
   "metadata": {},
   "source": [
    "x = 888\n",
    "\n",
    "def add(a,b):\n",
    "    print(\"The sum:\",a+b)\n",
    "    \n",
    "def product(a,b):\n",
    "    print(\"The product:\",a*b)\n",
    "    "
   ]
  },
  {
   "cell_type": "markdown",
   "metadata": {},
   "source": [
    "#### 1) In the above example, vin_math module contains one variable and 2 functions.\n",
    "#### 2) If we want to use members of module in our program then we should import that module.\n",
    "#### 3) Syntax : import module_name\n",
    "#### 4) We can access members by using module_name.member_name\n",
    "#### for example, i) module_name.variable_name  ii) module_name.function_name"
   ]
  },
  {
   "cell_type": "markdown",
   "metadata": {},
   "source": [
    "## calc.py"
   ]
  },
  {
   "cell_type": "markdown",
   "metadata": {},
   "source": [
    "import vin_math\n",
    "\n",
    "print(vin_math.x)\n",
    "\n",
    "vin_math.add(10,20)\n",
    "\n",
    "vin_math.product(10,20)\n",
    "\n",
    "\n",
    "\n",
    "##### Output:\n",
    "\n",
    "888\n",
    "\n",
    "The sum:30\n",
    "\n",
    "The product:200"
   ]
  },
  {
   "cell_type": "markdown",
   "metadata": {},
   "source": [
    "## Note: Whenever we are using a module in our program, for that module compiled file will be generated and stored in the hard disk permanently."
   ]
  },
  {
   "cell_type": "markdown",
   "metadata": {},
   "source": [
    "# Renaming a module at the time of import (Module Aliasing):\n",
    "#### 1) Syntax: import module_name as alias_name\n",
    "#### e.g. import vin_math as vm\n",
    "#### We can access members by using alias name."
   ]
  },
  {
   "cell_type": "markdown",
   "metadata": {},
   "source": [
    "## calc.py"
   ]
  },
  {
   "cell_type": "markdown",
   "metadata": {},
   "source": [
    "import vin_math as vm\n",
    "\n",
    "print(vm.x)\n",
    "\n",
    "vm.add(10,20)\n",
    "\n",
    "vm.product(10,20)\n"
   ]
  },
  {
   "cell_type": "markdown",
   "metadata": {},
   "source": [
    "## But once we defined alias_name, we should use alias_name only and should not use original name.\n",
    "## Otherwise, we'll get NameError.\n",
    "## e.g. NameError: name 'vin_math' is not defined"
   ]
  },
  {
   "cell_type": "markdown",
   "metadata": {},
   "source": [
    "## calc.py"
   ]
  },
  {
   "cell_type": "markdown",
   "metadata": {},
   "source": [
    "import vin_math as vm\n",
    "\n",
    "print(vm.x)\n",
    "\n",
    "vm.add(10,20)\n",
    "\n",
    "vin_math.product(10,20)  # NameError: name 'vin_math' is not defined"
   ]
  },
  {
   "cell_type": "markdown",
   "metadata": {},
   "source": [
    "##### Output:\n",
    "\n",
    "888    \n",
    "\n",
    "The sum: 30\n",
    "\n",
    "Traceback (most recent call last):\n",
    "\n",
    "  File \"c:\\Users\\91774\\Desktop\\Modules\\calc.py\", line 4, in <module>\n",
    "    \n",
    "    vin_math.product(10,20)\n",
    "    \n",
    "NameError: name 'vin_math' is not defined"
   ]
  },
  {
   "cell_type": "markdown",
   "metadata": {},
   "source": [
    "# from module_name import member_name"
   ]
  },
  {
   "cell_type": "markdown",
   "metadata": {},
   "source": [
    "### 1) We can import particular members of module by using \" from module_name import member_name \".\n",
    "### 2) The main advantage of this is we can access members directly without using module name."
   ]
  },
  {
   "cell_type": "markdown",
   "metadata": {},
   "source": [
    "## calc.py"
   ]
  },
  {
   "cell_type": "markdown",
   "metadata": {},
   "source": [
    "from vin_math import x, add\n",
    "\n",
    "print(x)\n",
    "\n",
    "add(10,20)\n",
    "\n",
    "product(10,20)     # NameError: name 'product' is not defined\n",
    "\n",
    "##### Output:\n",
    "888\n",
    "\n",
    "The sum: 30\n",
    "\n",
    "Traceback (most recent call last):\n",
    "\n",
    "  File \"c:\\Users\\91774\\Desktop\\Modules\\calc.py\", line 6, in <module>\n",
    "    \n",
    "    product(10,20)\n",
    "    \n",
    "NameError: name 'product' is not defined"
   ]
  },
  {
   "cell_type": "markdown",
   "metadata": {},
   "source": [
    "## We can import all members of a module as follows:\n",
    "# from module_name import *"
   ]
  },
  {
   "cell_type": "markdown",
   "metadata": {},
   "source": [
    "## calc.py"
   ]
  },
  {
   "cell_type": "markdown",
   "metadata": {},
   "source": [
    "from vin_math import *\n",
    "\n",
    "print(x)\n",
    "\n",
    "add(10,20)\n",
    "\n",
    "product(10,20)\n",
    "\n",
    "##### Output : \n",
    "888\n",
    "\n",
    "The sum:30\n",
    "\n",
    "The product:200"
   ]
  },
  {
   "cell_type": "markdown",
   "metadata": {},
   "source": [
    "# Various ways to use import :\n",
    "### 1) import module_name\n",
    "### 2) import module1, module2, module3\n",
    "### 3) import module_name as m\n",
    "### 4) import module module1 as m1, module2 as m2, module3 as m3\n",
    "### 5) from module import member\n",
    "### 6) from module import member1, member2, member3\n",
    "### 7) from module import member1 as x\n",
    "### 8) from module import *"
   ]
  },
  {
   "cell_type": "markdown",
   "metadata": {},
   "source": [
    "# Member Aliasing:\n",
    "## Syntax ==> from  module_name  import member_name  as  alias_name"
   ]
  },
  {
   "cell_type": "markdown",
   "metadata": {},
   "source": [
    "## calc.py"
   ]
  },
  {
   "cell_type": "markdown",
   "metadata": {},
   "source": [
    "from vin_math import x as c, add as sum, product as mult\n",
    "\n",
    "print(c)\n",
    "\n",
    "sum(10,20)\n",
    "\n",
    "mult(10,20)\n",
    "\n",
    "##### Output:\n",
    "\n",
    "888\n",
    "\n",
    "The sum:30\n",
    "\n",
    "The product:200"
   ]
  },
  {
   "cell_type": "markdown",
   "metadata": {},
   "source": [
    "### But once we defined alias_name, we should use alias_name only and should not use original name.\n",
    "### Otherwise, we'll get NameError.\n",
    "### e.g. NameError: name 'add' is not defined"
   ]
  },
  {
   "cell_type": "markdown",
   "metadata": {},
   "source": [
    "## calc.py\n",
    "\n",
    "from vin_math import x as c, add as sum\n",
    "\n",
    "print(c)\n",
    "\n",
    "add(10,20)      #NameError: name 'add' is not defined\n",
    "\n",
    "##### Output:\n",
    "\n",
    "888\n",
    "\n",
    "Traceback (most recent call last):\n",
    "\n",
    "  File \"c:\\Users\\91774\\Desktop\\Modules\\calc.py\", line 3, in <module>\n",
    "    \n",
    "    add(10,20)\n",
    "    \n",
    "NameError: name 'add' is not defined\n"
   ]
  },
  {
   "cell_type": "markdown",
   "metadata": {},
   "source": [
    "# Reloading a Module :\n",
    "## By default module will be loaded only once eventhough we are importing multiple times."
   ]
  },
  {
   "cell_type": "markdown",
   "metadata": {},
   "source": [
    "### module1.py\n",
    "print(\"This is from module1\")\n",
    "\n",
    "### test.py\n",
    "import module1\n",
    "\n",
    "import module1\n",
    "\n",
    "import module1\n",
    "\n",
    "import module1\n",
    "\n",
    "print(\"This is test module\")\n",
    "\n",
    "##### Output\n",
    "This is from module1\n",
    "\n",
    "This is test module"
   ]
  },
  {
   "cell_type": "markdown",
   "metadata": {},
   "source": [
    "### In the above program test module will be loaded only once eventhough we are importing multiple times.\n",
    "### The problem in this approach is after loading a module if it is updated outside then updated version of module1 is not available to our program.\n",
    "### We can solve this problem by reloading module explicitly based on our requirement.\n",
    "### We can reload by using reload() function of imp module.\n",
    "### Syntax : \n",
    "#### import imp\n",
    "#### imp.reload(module_name)"
   ]
  },
  {
   "cell_type": "markdown",
   "metadata": {},
   "source": [
    "### test.py:\n",
    "import module1\n",
    "\n",
    "from imp import reload\n",
    "\n",
    "reload(module1)\n",
    "\n",
    "reload(module1)\n",
    "\n",
    "reload(module1)\n",
    "\n",
    "print(\"This is test module\")\n",
    "### In the above program module1 will be loaded 4 times in that 1 time by default and 3 times explicitly. In this case output is\n",
    "\n",
    "##### Output:\n",
    "This is from module1\n",
    "\n",
    "This is from module1\n",
    "\n",
    "This is from module1\n",
    "\n",
    "This is from module1\n",
    "\n",
    "This is test module\n",
    "\n",
    "### The main advantage of explicit module reloading is we can ensure that updated version is always available to our program."
   ]
  },
  {
   "cell_type": "markdown",
   "metadata": {},
   "source": [
    "# Finding members of module by using dir() function :\n",
    "### Python provides inbuilt function dir() to list out all members of current module or a specified module.\n",
    "### dir() ===>To list out all members of current module\n",
    "### dir(moduleName)==>To list out all members of specified module"
   ]
  },
  {
   "cell_type": "markdown",
   "metadata": {},
   "source": [
    "### e.g.1) test.py\n",
    "x=10\n",
    "\n",
    "y=20\n",
    "\n",
    "def f1():\n",
    "\n",
    "print(\"Hello\")\n",
    "\n",
    "print(dir()) # To print all members of current module\n",
    "\n",
    "##### Output: \n",
    "\n",
    "['__ annotations__', '__ builtins__', '__ cached__', '__ doc__', '__ file__', '__ loader__', '__ name__', '__ package__', '__ spec__', 'f1', 'x', 'y'] "
   ]
  },
  {
   "cell_type": "markdown",
   "metadata": {},
   "source": [
    "### e.g. 2) To display members of particular module:\n",
    "### vin_math.py\n",
    "x=888\n",
    "\n",
    "def add(a,b):\n",
    "\n",
    "print(\"The Sum:\",a+b)\n",
    "\n",
    "def product(a,b):\n",
    "\n",
    "print(\"The Product:\",a*b)\n",
    "\n",
    "### test.py:\n",
    "\n",
    "import vin_math\n",
    "\n",
    "print(dir(vin_math))\n",
    "\n",
    "##### Output\n",
    "['__ builtins__', '__ cached__', '__ doc__', '__ file__', '__ loader__', '__ name__', '__ package__', '__ spec__', 'add', 'product', 'x']"
   ]
  },
  {
   "cell_type": "markdown",
   "metadata": {},
   "source": [
    "### Note: For every module at the time of execution Python interpreter will add some special properties automatically for internal use.\n",
    "#### Eg: __ builtins__,__ cached__,'__ doc__,__ file__, __ loader__, __ name__,__ package__, __ spec__ \n",
    "### Based on our requirement we can access these properties also in our program."
   ]
  },
  {
   "cell_type": "markdown",
   "metadata": {},
   "source": [
    "### test.py:\n",
    "print(__ builtins__ )\n",
    "\n",
    "print(__ cached__ )\n",
    "\n",
    "print(__ doc__)\n",
    "\n",
    "print(__ file__)\n",
    "\n",
    "print(__ loader__)\n",
    "\n",
    "print(__ name__)\n",
    "\n",
    "print(__ package__)\n",
    "\n",
    "print(__ spec__)\n",
    "\n",
    "##### Output :\n",
    "<module 'builtins' (built-in)>\n",
    "\n",
    "None\n",
    "\n",
    "None\n",
    "\n",
    "<_frozen_importlib_external.SourceFileLoader object at 0x00572170>\n",
    "\n",
    "__ main__\n",
    "\n",
    "None\n",
    "\n",
    "None"
   ]
  },
  {
   "cell_type": "markdown",
   "metadata": {},
   "source": [
    "# The Special Variable __ name__ :"
   ]
  },
  {
   "cell_type": "markdown",
   "metadata": {},
   "source": [
    "### For every Python program , a special variable __ name__ will be added internally.\n",
    "### This variable stores information regarding whether the program is executed as an individual program or as a module.\n",
    "### If the program executed as an individual program then the value of this variable is __ main__\n",
    "### If the program executed as a module from some other program then the value of this variable is the name of module where it is defined.\n",
    "### Hence by using this __ name__ variable we can identify whether the program executed directly or as a module."
   ]
  },
  {
   "cell_type": "markdown",
   "metadata": {},
   "source": [
    "## module1.py \n",
    "def f1():\n",
    "\n",
    "    if __ name__ == '__ main__':\n",
    "    \n",
    "        print(\"The code executed directly as a program\")\n",
    "        \n",
    "        print(\"The value of __ name__:\",__ name__)\n",
    "        \n",
    "    else:\n",
    "    \n",
    "        print(\"The code executed indirectly as a module from some other program\")\n",
    "        \n",
    "        print(\"The value of __ name__:\",__ name__)\n",
    "        \n",
    "f1()\n",
    "\n",
    "##### Output :\n",
    "The code executed directly as a program\n",
    "\n",
    "The value of __ name__: __ main__"
   ]
  },
  {
   "cell_type": "markdown",
   "metadata": {},
   "source": [
    "## test.py\n",
    "import module1\n",
    "\n",
    "module1.f1()\n",
    "\n",
    "##### Output :\n",
    "The code executed indirectly as a module from some other program\n",
    "\n",
    "The value of __ name__: module1\n",
    "\n",
    "The code executed indirectly as a module from some other program\n",
    "\n",
    "The value of __ name__: module1\n"
   ]
  },
  {
   "cell_type": "code",
   "execution_count": null,
   "metadata": {},
   "outputs": [],
   "source": []
  },
  {
   "cell_type": "markdown",
   "metadata": {},
   "source": [
    "# Working with math module :\n",
    "### Python provides inbuilt module math.\n",
    "### This module defines several functions which can be used for mathematical operations.\n",
    "### The main important functions are :\n",
    "#### 1. sqrt(x)\n",
    "#### 2. ceil(x)\n",
    "#### 3. floor(x)\n",
    "#### 4. fabs(x)\n",
    "#### 5. log(x)\n",
    "#### 6. sin(x)\n",
    "#### 7. tan(x)\n",
    "#### etc ......"
   ]
  },
  {
   "cell_type": "code",
   "execution_count": 5,
   "metadata": {},
   "outputs": [
    {
     "name": "stdout",
     "output_type": "stream",
     "text": [
      "2.0\n",
      "11\n",
      "10\n",
      "10.6\n",
      "10.6\n"
     ]
    }
   ],
   "source": [
    "from math import *\n",
    "\n",
    "print(sqrt(4))\n",
    "print(ceil(10.1))\n",
    "print(floor(10.1))\n",
    "print(fabs(-10.6))\n",
    "print(fabs(10.6))"
   ]
  },
  {
   "cell_type": "code",
   "execution_count": 17,
   "metadata": {},
   "outputs": [
    {
     "name": "stdout",
     "output_type": "stream",
     "text": [
      "['__doc__', '__loader__', '__name__', '__package__', '__spec__', 'acos', 'acosh', 'asin', 'asinh', 'atan', 'atan2', 'atanh', 'ceil', 'comb', 'copysign', 'cos', 'cosh', 'degrees', 'dist', 'e', 'erf', 'erfc', 'exp', 'expm1', 'fabs', 'factorial', 'floor', 'fmod', 'frexp', 'fsum', 'gamma', 'gcd', 'hypot', 'inf', 'isclose', 'isfinite', 'isinf', 'isnan', 'isqrt', 'ldexp', 'lgamma', 'log', 'log10', 'log1p', 'log2', 'modf', 'nan', 'perm', 'pi', 'pow', 'prod', 'radians', 'remainder', 'sin', 'sinh', 'sqrt', 'tan', 'tanh', 'tau', 'trunc']\n"
     ]
    }
   ],
   "source": [
    "import math\n",
    "print(dir(math))"
   ]
  },
  {
   "cell_type": "markdown",
   "metadata": {},
   "source": [
    "## Note: We can find help for any module by using help() function"
   ]
  },
  {
   "cell_type": "code",
   "execution_count": 16,
   "metadata": {},
   "outputs": [
    {
     "name": "stdout",
     "output_type": "stream",
     "text": [
      "Help on built-in module math:\n",
      "\n",
      "NAME\n",
      "    math\n",
      "\n",
      "DESCRIPTION\n",
      "    This module provides access to the mathematical functions\n",
      "    defined by the C standard.\n",
      "\n",
      "FUNCTIONS\n",
      "    acos(x, /)\n",
      "        Return the arc cosine (measured in radians) of x.\n",
      "    \n",
      "    acosh(x, /)\n",
      "        Return the inverse hyperbolic cosine of x.\n",
      "    \n",
      "    asin(x, /)\n",
      "        Return the arc sine (measured in radians) of x.\n",
      "    \n",
      "    asinh(x, /)\n",
      "        Return the inverse hyperbolic sine of x.\n",
      "    \n",
      "    atan(x, /)\n",
      "        Return the arc tangent (measured in radians) of x.\n",
      "    \n",
      "    atan2(y, x, /)\n",
      "        Return the arc tangent (measured in radians) of y/x.\n",
      "        \n",
      "        Unlike atan(y/x), the signs of both x and y are considered.\n",
      "    \n",
      "    atanh(x, /)\n",
      "        Return the inverse hyperbolic tangent of x.\n",
      "    \n",
      "    ceil(x, /)\n",
      "        Return the ceiling of x as an Integral.\n",
      "        \n",
      "        This is the smallest integer >= x.\n",
      "    \n",
      "    comb(n, k, /)\n",
      "        Number of ways to choose k items from n items without repetition and without order.\n",
      "        \n",
      "        Evaluates to n! / (k! * (n - k)!) when k <= n and evaluates\n",
      "        to zero when k > n.\n",
      "        \n",
      "        Also called the binomial coefficient because it is equivalent\n",
      "        to the coefficient of k-th term in polynomial expansion of the\n",
      "        expression (1 + x)**n.\n",
      "        \n",
      "        Raises TypeError if either of the arguments are not integers.\n",
      "        Raises ValueError if either of the arguments are negative.\n",
      "    \n",
      "    copysign(x, y, /)\n",
      "        Return a float with the magnitude (absolute value) of x but the sign of y.\n",
      "        \n",
      "        On platforms that support signed zeros, copysign(1.0, -0.0)\n",
      "        returns -1.0.\n",
      "    \n",
      "    cos(x, /)\n",
      "        Return the cosine of x (measured in radians).\n",
      "    \n",
      "    cosh(x, /)\n",
      "        Return the hyperbolic cosine of x.\n",
      "    \n",
      "    degrees(x, /)\n",
      "        Convert angle x from radians to degrees.\n",
      "    \n",
      "    dist(p, q, /)\n",
      "        Return the Euclidean distance between two points p and q.\n",
      "        \n",
      "        The points should be specified as sequences (or iterables) of\n",
      "        coordinates.  Both inputs must have the same dimension.\n",
      "        \n",
      "        Roughly equivalent to:\n",
      "            sqrt(sum((px - qx) ** 2.0 for px, qx in zip(p, q)))\n",
      "    \n",
      "    erf(x, /)\n",
      "        Error function at x.\n",
      "    \n",
      "    erfc(x, /)\n",
      "        Complementary error function at x.\n",
      "    \n",
      "    exp(x, /)\n",
      "        Return e raised to the power of x.\n",
      "    \n",
      "    expm1(x, /)\n",
      "        Return exp(x)-1.\n",
      "        \n",
      "        This function avoids the loss of precision involved in the direct evaluation of exp(x)-1 for small x.\n",
      "    \n",
      "    fabs(x, /)\n",
      "        Return the absolute value of the float x.\n",
      "    \n",
      "    factorial(x, /)\n",
      "        Find x!.\n",
      "        \n",
      "        Raise a ValueError if x is negative or non-integral.\n",
      "    \n",
      "    floor(x, /)\n",
      "        Return the floor of x as an Integral.\n",
      "        \n",
      "        This is the largest integer <= x.\n",
      "    \n",
      "    fmod(x, y, /)\n",
      "        Return fmod(x, y), according to platform C.\n",
      "        \n",
      "        x % y may differ.\n",
      "    \n",
      "    frexp(x, /)\n",
      "        Return the mantissa and exponent of x, as pair (m, e).\n",
      "        \n",
      "        m is a float and e is an int, such that x = m * 2.**e.\n",
      "        If x is 0, m and e are both 0.  Else 0.5 <= abs(m) < 1.0.\n",
      "    \n",
      "    fsum(seq, /)\n",
      "        Return an accurate floating point sum of values in the iterable seq.\n",
      "        \n",
      "        Assumes IEEE-754 floating point arithmetic.\n",
      "    \n",
      "    gamma(x, /)\n",
      "        Gamma function at x.\n",
      "    \n",
      "    gcd(x, y, /)\n",
      "        greatest common divisor of x and y\n",
      "    \n",
      "    hypot(...)\n",
      "        hypot(*coordinates) -> value\n",
      "        \n",
      "        Multidimensional Euclidean distance from the origin to a point.\n",
      "        \n",
      "        Roughly equivalent to:\n",
      "            sqrt(sum(x**2 for x in coordinates))\n",
      "        \n",
      "        For a two dimensional point (x, y), gives the hypotenuse\n",
      "        using the Pythagorean theorem:  sqrt(x*x + y*y).\n",
      "        \n",
      "        For example, the hypotenuse of a 3/4/5 right triangle is:\n",
      "        \n",
      "            >>> hypot(3.0, 4.0)\n",
      "            5.0\n",
      "    \n",
      "    isclose(a, b, *, rel_tol=1e-09, abs_tol=0.0)\n",
      "        Determine whether two floating point numbers are close in value.\n",
      "        \n",
      "          rel_tol\n",
      "            maximum difference for being considered \"close\", relative to the\n",
      "            magnitude of the input values\n",
      "          abs_tol\n",
      "            maximum difference for being considered \"close\", regardless of the\n",
      "            magnitude of the input values\n",
      "        \n",
      "        Return True if a is close in value to b, and False otherwise.\n",
      "        \n",
      "        For the values to be considered close, the difference between them\n",
      "        must be smaller than at least one of the tolerances.\n",
      "        \n",
      "        -inf, inf and NaN behave similarly to the IEEE 754 Standard.  That\n",
      "        is, NaN is not close to anything, even itself.  inf and -inf are\n",
      "        only close to themselves.\n",
      "    \n",
      "    isfinite(x, /)\n",
      "        Return True if x is neither an infinity nor a NaN, and False otherwise.\n",
      "    \n",
      "    isinf(x, /)\n",
      "        Return True if x is a positive or negative infinity, and False otherwise.\n",
      "    \n",
      "    isnan(x, /)\n",
      "        Return True if x is a NaN (not a number), and False otherwise.\n",
      "    \n",
      "    isqrt(n, /)\n",
      "        Return the integer part of the square root of the input.\n",
      "    \n",
      "    ldexp(x, i, /)\n",
      "        Return x * (2**i).\n",
      "        \n",
      "        This is essentially the inverse of frexp().\n",
      "    \n",
      "    lgamma(x, /)\n",
      "        Natural logarithm of absolute value of Gamma function at x.\n",
      "    \n",
      "    log(...)\n",
      "        log(x, [base=math.e])\n",
      "        Return the logarithm of x to the given base.\n",
      "        \n",
      "        If the base not specified, returns the natural logarithm (base e) of x.\n",
      "    \n",
      "    log10(x, /)\n",
      "        Return the base 10 logarithm of x.\n",
      "    \n",
      "    log1p(x, /)\n",
      "        Return the natural logarithm of 1+x (base e).\n",
      "        \n",
      "        The result is computed in a way which is accurate for x near zero.\n",
      "    \n",
      "    log2(x, /)\n",
      "        Return the base 2 logarithm of x.\n",
      "    \n",
      "    modf(x, /)\n",
      "        Return the fractional and integer parts of x.\n",
      "        \n",
      "        Both results carry the sign of x and are floats.\n",
      "    \n",
      "    perm(n, k=None, /)\n",
      "        Number of ways to choose k items from n items without repetition and with order.\n",
      "        \n",
      "        Evaluates to n! / (n - k)! when k <= n and evaluates\n",
      "        to zero when k > n.\n",
      "        \n",
      "        If k is not specified or is None, then k defaults to n\n",
      "        and the function returns n!.\n",
      "        \n",
      "        Raises TypeError if either of the arguments are not integers.\n",
      "        Raises ValueError if either of the arguments are negative.\n",
      "    \n",
      "    pow(x, y, /)\n",
      "        Return x**y (x to the power of y).\n",
      "    \n",
      "    prod(iterable, /, *, start=1)\n",
      "        Calculate the product of all the elements in the input iterable.\n",
      "        \n",
      "        The default start value for the product is 1.\n",
      "        \n",
      "        When the iterable is empty, return the start value.  This function is\n",
      "        intended specifically for use with numeric values and may reject\n",
      "        non-numeric types.\n",
      "    \n",
      "    radians(x, /)\n",
      "        Convert angle x from degrees to radians.\n",
      "    \n",
      "    remainder(x, y, /)\n",
      "        Difference between x and the closest integer multiple of y.\n",
      "        \n",
      "        Return x - n*y where n*y is the closest integer multiple of y.\n",
      "        In the case where x is exactly halfway between two multiples of\n",
      "        y, the nearest even value of n is used. The result is always exact.\n",
      "    \n",
      "    sin(x, /)\n",
      "        Return the sine of x (measured in radians).\n",
      "    \n",
      "    sinh(x, /)\n",
      "        Return the hyperbolic sine of x.\n",
      "    \n",
      "    sqrt(x, /)\n",
      "        Return the square root of x.\n",
      "    \n",
      "    tan(x, /)\n",
      "        Return the tangent of x (measured in radians).\n",
      "    \n",
      "    tanh(x, /)\n",
      "        Return the hyperbolic tangent of x.\n",
      "    \n",
      "    trunc(x, /)\n",
      "        Truncates the Real x to the nearest Integral toward 0.\n",
      "        \n",
      "        Uses the __trunc__ magic method.\n",
      "\n",
      "DATA\n",
      "    e = 2.718281828459045\n",
      "    inf = inf\n",
      "    nan = nan\n",
      "    pi = 3.141592653589793\n",
      "    tau = 6.283185307179586\n",
      "\n",
      "FILE\n",
      "    (built-in)\n",
      "\n",
      "\n"
     ]
    }
   ],
   "source": [
    "import math\n",
    "help(math)"
   ]
  },
  {
   "cell_type": "code",
   "execution_count": null,
   "metadata": {},
   "outputs": [],
   "source": []
  },
  {
   "cell_type": "markdown",
   "metadata": {},
   "source": [
    "# Working with random module :\n",
    "### This module defines several functions to generate random numbers.\n",
    "### We can use these functions while developing games, in cryptography and to generate random numbers on fly for authentication."
   ]
  },
  {
   "cell_type": "code",
   "execution_count": 9,
   "metadata": {},
   "outputs": [
    {
     "name": "stdout",
     "output_type": "stream",
     "text": [
      "['BPF', 'LOG4', 'NV_MAGICCONST', 'RECIP_BPF', 'Random', 'SG_MAGICCONST', 'SystemRandom', 'TWOPI', '_Sequence', '_Set', '__all__', '__builtins__', '__cached__', '__doc__', '__file__', '__loader__', '__name__', '__package__', '__spec__', '_accumulate', '_acos', '_bisect', '_ceil', '_cos', '_e', '_exp', '_inst', '_log', '_os', '_pi', '_random', '_repeat', '_sha512', '_sin', '_sqrt', '_test', '_test_generator', '_urandom', '_warn', 'betavariate', 'choice', 'choices', 'expovariate', 'gammavariate', 'gauss', 'getrandbits', 'getstate', 'lognormvariate', 'normalvariate', 'paretovariate', 'randint', 'random', 'randrange', 'sample', 'seed', 'setstate', 'shuffle', 'triangular', 'uniform', 'vonmisesvariate', 'weibullvariate']\n"
     ]
    }
   ],
   "source": [
    "import random\n",
    "print(dir(random))"
   ]
  },
  {
   "cell_type": "markdown",
   "metadata": {},
   "source": [
    "## 1) random() function :\n",
    "### This function always generate some float value between 0 and 1 ( not inclusive)   0<x<1"
   ]
  },
  {
   "cell_type": "code",
   "execution_count": 1,
   "metadata": {},
   "outputs": [
    {
     "name": "stdout",
     "output_type": "stream",
     "text": [
      "0.41843536211416177\n",
      "0.9509503084870542\n",
      "0.26914651697799363\n",
      "0.6946076877894718\n",
      "0.4557504901788927\n",
      "0.8997648025197043\n",
      "0.9846136223126136\n",
      "0.5270513598740673\n",
      "0.40612699631568416\n",
      "0.16020572089948393\n"
     ]
    }
   ],
   "source": [
    "from random import *\n",
    "\n",
    "for i in range(10):\n",
    "    print(random())"
   ]
  },
  {
   "cell_type": "code",
   "execution_count": 14,
   "metadata": {},
   "outputs": [
    {
     "name": "stdout",
     "output_type": "stream",
     "text": [
      "0.3011862227280029\n",
      "0.975290070078482\n",
      "0.020180029086953377\n",
      "0.5167148479688217\n",
      "0.6176029187141697\n",
      "0.34501295385999364\n",
      "0.3142002623625205\n",
      "0.43867944650765656\n",
      "0.14212308106436244\n",
      "0.673452842702866\n"
     ]
    }
   ],
   "source": [
    "from random import *\n",
    "\n",
    "for i in range(10):\n",
    "    print(random())"
   ]
  },
  {
   "cell_type": "code",
   "execution_count": null,
   "metadata": {},
   "outputs": [],
   "source": []
  },
  {
   "cell_type": "markdown",
   "metadata": {},
   "source": [
    "## 2) randint function :\n",
    "### To generate random integer beween two given numbers(inclusive)"
   ]
  },
  {
   "cell_type": "code",
   "execution_count": 12,
   "metadata": {},
   "outputs": [
    {
     "name": "stdout",
     "output_type": "stream",
     "text": [
      "31\n",
      "99\n",
      "64\n",
      "68\n",
      "12\n",
      "75\n",
      "8\n",
      "100\n",
      "27\n",
      "76\n"
     ]
    }
   ],
   "source": [
    "from random import *\n",
    "\n",
    "for i in range(10):\n",
    "    print(randint(1,100))"
   ]
  },
  {
   "cell_type": "code",
   "execution_count": null,
   "metadata": {},
   "outputs": [],
   "source": []
  },
  {
   "cell_type": "markdown",
   "metadata": {},
   "source": [
    "## 3) uniform() function :\n",
    "### It returns random float values between 2 given numbers (not inclusive)"
   ]
  },
  {
   "cell_type": "code",
   "execution_count": 19,
   "metadata": {},
   "outputs": [
    {
     "name": "stdout",
     "output_type": "stream",
     "text": [
      "8.456758758840085\n",
      "7.653555493706316\n",
      "7.380319953120781\n",
      "1.7912121142476933\n",
      "2.3757857915948097\n",
      "2.1184695003480845\n",
      "1.8895763215756034\n",
      "7.14836739972876\n",
      "3.471902103343492\n",
      "1.7502511917573647\n"
     ]
    }
   ],
   "source": [
    "from random import *\n",
    "\n",
    "for i in range(10):\n",
    "    print(uniform(1,10))"
   ]
  },
  {
   "cell_type": "code",
   "execution_count": null,
   "metadata": {},
   "outputs": [],
   "source": []
  },
  {
   "cell_type": "code",
   "execution_count": null,
   "metadata": {},
   "outputs": [],
   "source": []
  },
  {
   "cell_type": "markdown",
   "metadata": {},
   "source": [
    "### 1. random() ===>float values in between 0 and 1 (not inclusive )\n",
    "### 2. randint(x,y) ==>int values in between x and y ( inclusive )\n",
    "### 3. uniform(x,y) ==>float values in between x and y ( not inclusive )"
   ]
  },
  {
   "cell_type": "markdown",
   "metadata": {},
   "source": [
    "## 4) randrange ( start, stop, step )\n",
    "### i. returns a random number from range\n",
    "### ii. start <= x < stop  (i.e., start is inclusive and stop is exclusive)\n",
    "### iii. start argument is optional and default value is 0\n",
    "### iv. step argument is optional and default value is 1\n"
   ]
  },
  {
   "cell_type": "markdown",
   "metadata": {},
   "source": [
    "### randrange(10)-->generates random a number from 0 to 9\n",
    "### randrange(1,11)-->generates random a number from 1 to 10\n",
    "### randrange(1,11,2)-->generates random a number from 1,3,5,7,9"
   ]
  },
  {
   "cell_type": "code",
   "execution_count": 20,
   "metadata": {},
   "outputs": [
    {
     "name": "stdout",
     "output_type": "stream",
     "text": [
      "5\n",
      "6\n",
      "4\n",
      "2\n",
      "8\n",
      "6\n",
      "6\n",
      "1\n",
      "8\n",
      "2\n"
     ]
    }
   ],
   "source": [
    "from random import *\n",
    "\n",
    "for i in range(10):\n",
    "    print(randrange(10))"
   ]
  },
  {
   "cell_type": "code",
   "execution_count": 22,
   "metadata": {},
   "outputs": [
    {
     "name": "stdout",
     "output_type": "stream",
     "text": [
      "1\n",
      "3\n",
      "3\n",
      "7\n",
      "9\n",
      "4\n",
      "7\n",
      "3\n",
      "6\n",
      "10\n"
     ]
    }
   ],
   "source": [
    "from random import *\n",
    "\n",
    "for i in range(10):\n",
    "    print(randrange(1,11))"
   ]
  },
  {
   "cell_type": "code",
   "execution_count": 27,
   "metadata": {},
   "outputs": [
    {
     "name": "stdout",
     "output_type": "stream",
     "text": [
      "5\n",
      "5\n",
      "1\n",
      "5\n",
      "3\n",
      "5\n",
      "9\n",
      "1\n",
      "3\n",
      "1\n"
     ]
    }
   ],
   "source": [
    "from random import *\n",
    "\n",
    "for i in range(10):\n",
    "    print(randrange(1,11,2))"
   ]
  },
  {
   "cell_type": "code",
   "execution_count": null,
   "metadata": {},
   "outputs": [],
   "source": []
  },
  {
   "cell_type": "code",
   "execution_count": null,
   "metadata": {},
   "outputs": [],
   "source": []
  },
  {
   "cell_type": "markdown",
   "metadata": {},
   "source": [
    "## 5) choice() function\n",
    "### It wont return random number.\n",
    "### It will return a random object from the given list or tuple.\n"
   ]
  },
  {
   "cell_type": "code",
   "execution_count": 31,
   "metadata": {},
   "outputs": [
    {
     "name": "stdout",
     "output_type": "stream",
     "text": [
      "apurv\n",
      "swapnil\n",
      "30\n",
      "apurv\n",
      "10\n",
      "apurv\n",
      "apurv\n",
      "30\n",
      "swapnil\n",
      "swapnil\n"
     ]
    }
   ],
   "source": [
    "from random import *\n",
    "\n",
    "l1 = ['vinod','mahesh','swapnil','apurv','kiran',10,30,100.111]\n",
    "for i in range(10):\n",
    "    print(choice(l1))"
   ]
  },
  {
   "cell_type": "code",
   "execution_count": 32,
   "metadata": {},
   "outputs": [
    {
     "name": "stdout",
     "output_type": "stream",
     "text": [
      "2.3\n",
      "12.3\n",
      "vinod\n",
      "vinod\n",
      "vinod\n",
      "2.3\n",
      "vinod\n",
      "(5+3j)\n",
      "12.3\n",
      "2.3\n"
     ]
    }
   ],
   "source": [
    "from random import *\n",
    "\n",
    "t = (12.3,2.3,'vinod',5+3j,'python')\n",
    "for i in range(10):\n",
    "    print(choice(t))"
   ]
  },
  {
   "cell_type": "code",
   "execution_count": 34,
   "metadata": {},
   "outputs": [
    {
     "name": "stdout",
     "output_type": "stream",
     "text": [
      "v\n",
      "v\n",
      "v\n",
      "d\n",
      "d\n",
      "v\n",
      "h\n",
      "h\n",
      "h\n",
      "e\n"
     ]
    }
   ],
   "source": [
    "from random import *\n",
    "\n",
    "s1 = 'vinod shend'\n",
    "for i in range(10):\n",
    "    print(choice(s1))"
   ]
  },
  {
   "cell_type": "code",
   "execution_count": 37,
   "metadata": {},
   "outputs": [
    {
     "name": "stdout",
     "output_type": "stream",
     "text": [
      "80\n",
      "44\n",
      "47\n",
      "42\n",
      "37\n",
      "32\n",
      "22\n",
      "9\n",
      "48\n",
      "6\n"
     ]
    }
   ],
   "source": [
    "from random import *\n",
    "\n",
    "r1 = range(1,100)\n",
    "for i in range(10):\n",
    "    print(choice(r1))"
   ]
  },
  {
   "cell_type": "code",
   "execution_count": 38,
   "metadata": {},
   "outputs": [
    {
     "ename": "TypeError",
     "evalue": "'set' object is not subscriptable",
     "output_type": "error",
     "traceback": [
      "\u001b[1;31m---------------------------------------------------------------------------\u001b[0m",
      "\u001b[1;31mTypeError\u001b[0m                                 Traceback (most recent call last)",
      "\u001b[1;32m<ipython-input-38-eb7284db842b>\u001b[0m in \u001b[0;36m<module>\u001b[1;34m\u001b[0m\n\u001b[0;32m      3\u001b[0m \u001b[0mset1\u001b[0m \u001b[1;33m=\u001b[0m \u001b[1;33m{\u001b[0m\u001b[1;36m1\u001b[0m\u001b[1;33m,\u001b[0m\u001b[1;36m2\u001b[0m\u001b[1;33m,\u001b[0m\u001b[1;36m3\u001b[0m\u001b[1;33m,\u001b[0m\u001b[1;36m4\u001b[0m\u001b[1;33m,\u001b[0m\u001b[1;36m5\u001b[0m\u001b[1;33m,\u001b[0m\u001b[1;36m6\u001b[0m\u001b[1;33m,\u001b[0m\u001b[1;36m7\u001b[0m\u001b[1;33m,\u001b[0m\u001b[1;36m8\u001b[0m\u001b[1;33m,\u001b[0m\u001b[1;36m9\u001b[0m\u001b[1;33m,\u001b[0m\u001b[1;36m10\u001b[0m\u001b[1;33m}\u001b[0m\u001b[1;33m\u001b[0m\u001b[1;33m\u001b[0m\u001b[0m\n\u001b[0;32m      4\u001b[0m \u001b[1;32mfor\u001b[0m \u001b[0mi\u001b[0m \u001b[1;32min\u001b[0m \u001b[0mrange\u001b[0m\u001b[1;33m(\u001b[0m\u001b[1;36m10\u001b[0m\u001b[1;33m)\u001b[0m\u001b[1;33m:\u001b[0m\u001b[1;33m\u001b[0m\u001b[1;33m\u001b[0m\u001b[0m\n\u001b[1;32m----> 5\u001b[1;33m     \u001b[0mprint\u001b[0m\u001b[1;33m(\u001b[0m\u001b[0mchoice\u001b[0m\u001b[1;33m(\u001b[0m\u001b[0mset1\u001b[0m\u001b[1;33m)\u001b[0m\u001b[1;33m)\u001b[0m\u001b[1;33m\u001b[0m\u001b[1;33m\u001b[0m\u001b[0m\n\u001b[0m",
      "\u001b[1;32m~\\anaconda3\\lib\\random.py\u001b[0m in \u001b[0;36mchoice\u001b[1;34m(self, seq)\u001b[0m\n\u001b[0;32m    289\u001b[0m         \u001b[1;32mexcept\u001b[0m \u001b[0mValueError\u001b[0m\u001b[1;33m:\u001b[0m\u001b[1;33m\u001b[0m\u001b[1;33m\u001b[0m\u001b[0m\n\u001b[0;32m    290\u001b[0m             \u001b[1;32mraise\u001b[0m \u001b[0mIndexError\u001b[0m\u001b[1;33m(\u001b[0m\u001b[1;34m'Cannot choose from an empty sequence'\u001b[0m\u001b[1;33m)\u001b[0m \u001b[1;32mfrom\u001b[0m \u001b[1;32mNone\u001b[0m\u001b[1;33m\u001b[0m\u001b[1;33m\u001b[0m\u001b[0m\n\u001b[1;32m--> 291\u001b[1;33m         \u001b[1;32mreturn\u001b[0m \u001b[0mseq\u001b[0m\u001b[1;33m[\u001b[0m\u001b[0mi\u001b[0m\u001b[1;33m]\u001b[0m\u001b[1;33m\u001b[0m\u001b[1;33m\u001b[0m\u001b[0m\n\u001b[0m\u001b[0;32m    292\u001b[0m \u001b[1;33m\u001b[0m\u001b[0m\n\u001b[0;32m    293\u001b[0m     \u001b[1;32mdef\u001b[0m \u001b[0mshuffle\u001b[0m\u001b[1;33m(\u001b[0m\u001b[0mself\u001b[0m\u001b[1;33m,\u001b[0m \u001b[0mx\u001b[0m\u001b[1;33m,\u001b[0m \u001b[0mrandom\u001b[0m\u001b[1;33m=\u001b[0m\u001b[1;32mNone\u001b[0m\u001b[1;33m)\u001b[0m\u001b[1;33m:\u001b[0m\u001b[1;33m\u001b[0m\u001b[1;33m\u001b[0m\u001b[0m\n",
      "\u001b[1;31mTypeError\u001b[0m: 'set' object is not subscriptable"
     ]
    }
   ],
   "source": [
    "from random import *\n",
    "\n",
    "set1 = {1,2,3,4,5,6,7,8,9,10}       # TypeError: 'set' object is not subscriptable\n",
    "for i in range(10):\n",
    "    print(choice(set1))"
   ]
  },
  {
   "cell_type": "code",
   "execution_count": 51,
   "metadata": {},
   "outputs": [
    {
     "ename": "KeyError",
     "evalue": "2",
     "output_type": "error",
     "traceback": [
      "\u001b[1;31m---------------------------------------------------------------------------\u001b[0m",
      "\u001b[1;31mKeyError\u001b[0m                                  Traceback (most recent call last)",
      "\u001b[1;32m<ipython-input-51-22d632e304a7>\u001b[0m in \u001b[0;36m<module>\u001b[1;34m\u001b[0m\n\u001b[0;32m      4\u001b[0m \u001b[1;33m\u001b[0m\u001b[0m\n\u001b[0;32m      5\u001b[0m \u001b[1;32mfor\u001b[0m \u001b[0mi\u001b[0m \u001b[1;32min\u001b[0m \u001b[0mrange\u001b[0m\u001b[1;33m(\u001b[0m\u001b[1;36m10\u001b[0m\u001b[1;33m)\u001b[0m\u001b[1;33m:\u001b[0m\u001b[1;33m\u001b[0m\u001b[1;33m\u001b[0m\u001b[0m\n\u001b[1;32m----> 6\u001b[1;33m     \u001b[0mprint\u001b[0m\u001b[1;33m(\u001b[0m\u001b[0mchoice\u001b[0m\u001b[1;33m(\u001b[0m\u001b[0mdict1\u001b[0m\u001b[1;33m)\u001b[0m\u001b[1;33m)\u001b[0m\u001b[1;33m\u001b[0m\u001b[1;33m\u001b[0m\u001b[0m\n\u001b[0m",
      "\u001b[1;32m~\\anaconda3\\lib\\random.py\u001b[0m in \u001b[0;36mchoice\u001b[1;34m(self, seq)\u001b[0m\n\u001b[0;32m    289\u001b[0m         \u001b[1;32mexcept\u001b[0m \u001b[0mValueError\u001b[0m\u001b[1;33m:\u001b[0m\u001b[1;33m\u001b[0m\u001b[1;33m\u001b[0m\u001b[0m\n\u001b[0;32m    290\u001b[0m             \u001b[1;32mraise\u001b[0m \u001b[0mIndexError\u001b[0m\u001b[1;33m(\u001b[0m\u001b[1;34m'Cannot choose from an empty sequence'\u001b[0m\u001b[1;33m)\u001b[0m \u001b[1;32mfrom\u001b[0m \u001b[1;32mNone\u001b[0m\u001b[1;33m\u001b[0m\u001b[1;33m\u001b[0m\u001b[0m\n\u001b[1;32m--> 291\u001b[1;33m         \u001b[1;32mreturn\u001b[0m \u001b[0mseq\u001b[0m\u001b[1;33m[\u001b[0m\u001b[0mi\u001b[0m\u001b[1;33m]\u001b[0m\u001b[1;33m\u001b[0m\u001b[1;33m\u001b[0m\u001b[0m\n\u001b[0m\u001b[0;32m    292\u001b[0m \u001b[1;33m\u001b[0m\u001b[0m\n\u001b[0;32m    293\u001b[0m     \u001b[1;32mdef\u001b[0m \u001b[0mshuffle\u001b[0m\u001b[1;33m(\u001b[0m\u001b[0mself\u001b[0m\u001b[1;33m,\u001b[0m \u001b[0mx\u001b[0m\u001b[1;33m,\u001b[0m \u001b[0mrandom\u001b[0m\u001b[1;33m=\u001b[0m\u001b[1;32mNone\u001b[0m\u001b[1;33m)\u001b[0m\u001b[1;33m:\u001b[0m\u001b[1;33m\u001b[0m\u001b[1;33m\u001b[0m\u001b[0m\n",
      "\u001b[1;31mKeyError\u001b[0m: 2"
     ]
    }
   ],
   "source": [
    "from random import *\n",
    "\n",
    "dict1 = {'python':100,'java':200,'cpp':300,'math':400}     # KeyError: 3\n",
    "\n",
    "for i in range(10):\n",
    "    print(choice(dict1))"
   ]
  },
  {
   "cell_type": "markdown",
   "metadata": {},
   "source": [
    "### Write a python program to generate a 6-digit random number as OTP"
   ]
  },
  {
   "cell_type": "code",
   "execution_count": 50,
   "metadata": {},
   "outputs": [
    {
     "name": "stdout",
     "output_type": "stream",
     "text": [
      "745113\n"
     ]
    }
   ],
   "source": [
    "# 1)\n",
    "\n",
    "from random import *\n",
    "\n",
    "r1 = range(100000,999999)\n",
    "print(choice(r1))       #Bug: but this won't generate numbers starts with zero, e.g.065637"
   ]
  },
  {
   "cell_type": "code",
   "execution_count": 58,
   "metadata": {},
   "outputs": [
    {
     "name": "stdout",
     "output_type": "stream",
     "text": [
      "906669\n"
     ]
    }
   ],
   "source": [
    "# 2)\n",
    "\n",
    "from random import *\n",
    "\n",
    "print(randint(100000,999999))  #Bug: but this won't generate numbers starts with zero, e.g.065637"
   ]
  },
  {
   "cell_type": "code",
   "execution_count": 57,
   "metadata": {},
   "outputs": [
    {
     "name": "stdout",
     "output_type": "stream",
     "text": [
      "614192\n"
     ]
    }
   ],
   "source": [
    "# 3)\n",
    "\n",
    "from random import *\n",
    "\n",
    "print(randint(0,9), randint(0,9), randint(0,9), randint(0,9), randint(0,9), randint(0,9), sep='')"
   ]
  },
  {
   "cell_type": "markdown",
   "metadata": {},
   "source": [
    "### Write a program to generate random password of lentgh 6, where 1st, 3rd, 5th are alphabet symbols."
   ]
  },
  {
   "cell_type": "code",
   "execution_count": 70,
   "metadata": {},
   "outputs": [
    {
     "name": "stdout",
     "output_type": "stream",
     "text": [
      "B3A4R1\n"
     ]
    }
   ],
   "source": [
    "# 1)\n",
    "from random import *\n",
    "\n",
    "a1 = 'ABCDEFGHIJKLMNOPQRSTUVWXYZ'\n",
    "\n",
    "print(choice(a1), randint(0,9), choice(a1), randint(0,9), choice(a1), randint(0,9), sep='')"
   ]
  },
  {
   "cell_type": "code",
   "execution_count": 69,
   "metadata": {},
   "outputs": [
    {
     "name": "stdout",
     "output_type": "stream",
     "text": [
      "C3G7W6\n"
     ]
    }
   ],
   "source": [
    "# 2)\n",
    "\n",
    "from random import *\n",
    "\n",
    "print(chr(randint(65,90)), randint(0,9), chr(randint(65,90)), randint(0,9), chr(randint(65,90)), randint(0,9), sep='')\n",
    "\n",
    "# chr(unicode_value)==> alphabet\n",
    "# 65 == \"A\" and 65+25 == 90 == \"Z\""
   ]
  },
  {
   "cell_type": "code",
   "execution_count": null,
   "metadata": {},
   "outputs": [],
   "source": []
  },
  {
   "cell_type": "code",
   "execution_count": null,
   "metadata": {},
   "outputs": [],
   "source": []
  }
 ],
 "metadata": {
  "kernelspec": {
   "display_name": "Python 3",
   "language": "python",
   "name": "python3"
  },
  "language_info": {
   "codemirror_mode": {
    "name": "ipython",
    "version": 3
   },
   "file_extension": ".py",
   "mimetype": "text/x-python",
   "name": "python",
   "nbconvert_exporter": "python",
   "pygments_lexer": "ipython3",
   "version": "3.8.3"
  }
 },
 "nbformat": 4,
 "nbformat_minor": 4
}
