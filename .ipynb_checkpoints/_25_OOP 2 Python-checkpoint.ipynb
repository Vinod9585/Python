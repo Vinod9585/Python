{
 "cells": [
  {
   "cell_type": "markdown",
   "metadata": {},
   "source": [
    "## Using members of one class inside another class :"
   ]
  },
  {
   "cell_type": "markdown",
   "metadata": {},
   "source": [
    "## 1. By Composition ( Has-A Relationship)"
   ]
  },
  {
   "cell_type": "code",
   "execution_count": 7,
   "metadata": {},
   "outputs": [
    {
     "name": "stdout",
     "output_type": "stream",
     "text": [
      "Class Car using Engine class functionality\n",
      "10\n",
      "10\n",
      "20\n",
      "Engine specific functionality\n"
     ]
    }
   ],
   "source": [
    "class Engine:\n",
    "    a = 10\n",
    "    def __init__(self):\n",
    "        self.b = 20\n",
    "        \n",
    "    def m1(self):\n",
    "        print(\"Engine specific functionality\")\n",
    "        \n",
    "class Car:\n",
    "    def __init__(self):\n",
    "        self.engine = Engine()\n",
    "    def m2(self):\n",
    "        \n",
    "        print(\"Class Car using Engine class functionality\")\n",
    "        print(self.engine.a)\n",
    "        print(Engine.a)\n",
    "        print(self.engine.b)\n",
    "        self.engine.m1()\n",
    "        \n",
    "c = Car()\n",
    "c.m2()"
   ]
  },
  {
   "cell_type": "code",
   "execution_count": 15,
   "metadata": {},
   "outputs": [
    {
     "name": "stdout",
     "output_type": "stream",
     "text": [
      "Employee Number : 100\n",
      "Employee Name : Vinod\n",
      "--------Car Information--------\n",
      "\tCar Name : Tata\n",
      "\tCar Model : Safari\n",
      "\tCar Color : Blue\n"
     ]
    }
   ],
   "source": [
    "class Car:\n",
    "    def __init__(self,name,model,color):\n",
    "        self.name = name\n",
    "        self.model = model\n",
    "        self.color = color\n",
    "        \n",
    "    def getinfo(self):\n",
    "        print(\"\\tCar Name :\",self.name)\n",
    "        print(\"\\tCar Model :\",self.model)\n",
    "        print(\"\\tCar Color :\",self.color)\n",
    "        \n",
    "class Employee:\n",
    "    def __init__(self,eno,ename,car):\n",
    "        self.eno = eno\n",
    "        self.ename = ename\n",
    "        self.car = car\n",
    "        \n",
    "    def empinfo(self):\n",
    "        print(\"Employee Number :\",self.eno)\n",
    "        print(\"Employee Name :\",self.ename)\n",
    "        print(\"--------Car Information--------\")\n",
    "        self.car.getinfo()\n",
    "        \n",
    "c = Car(\"Tata\",\"Safari\",\"Blue\")\n",
    "e = Employee(100,\"Vinod\",c)\n",
    "e.empinfo()"
   ]
  },
  {
   "cell_type": "code",
   "execution_count": 16,
   "metadata": {},
   "outputs": [
    {
     "name": "stdout",
     "output_type": "stream",
     "text": [
      "a : 10\n",
      "b : 20\n",
      "m1 method of X Class\n",
      "c : 30\n",
      "d : 40\n",
      "Inside m3 method of Y class\n"
     ]
    }
   ],
   "source": [
    "class X:\n",
    "    a = 10\n",
    "    def __init__(self):\n",
    "        self.b = 20\n",
    "        \n",
    "    def m1(self):\n",
    "        print(\"m1 method of X Class\")\n",
    "        \n",
    "    \n",
    "class Y:\n",
    "    c = 30\n",
    "    def __init__(self):\n",
    "        self.d = 40\n",
    "        \n",
    "    def m2(self):\n",
    "        print(\"m2 method of Y Class\")\n",
    "        \n",
    "    def m3(self):\n",
    "        x1 = X()\n",
    "        print(\"a :\",x1.a)\n",
    "        print(\"b :\",x1.b)\n",
    "        x1.m1()\n",
    "        \n",
    "        print(\"c :\",self.c)\n",
    "        print(\"d :\",self.d)\n",
    "        print(\"Inside m3 method of Y class\")\n",
    "        \n",
    "y = Y()\n",
    "y.m3()"
   ]
  },
  {
   "cell_type": "code",
   "execution_count": null,
   "metadata": {},
   "outputs": [],
   "source": []
  },
  {
   "cell_type": "code",
   "execution_count": null,
   "metadata": {},
   "outputs": [],
   "source": []
  },
  {
   "cell_type": "markdown",
   "metadata": {},
   "source": [
    "## 2. By Inheritance (Is-A Relationship)"
   ]
  },
  {
   "cell_type": "code",
   "execution_count": 18,
   "metadata": {},
   "outputs": [
    {
     "name": "stdout",
     "output_type": "stream",
     "text": [
      "10\n",
      "20\n",
      "Parent class instance method\n",
      "Parent class class method\n",
      "Parent class static method\n"
     ]
    }
   ],
   "source": [
    "class P:\n",
    "    a = 10\n",
    "    def __init__(self):\n",
    "        self.b = 20\n",
    "        \n",
    "    def m1(self):\n",
    "        print(\"Parent class instance method\")\n",
    "    \n",
    "    @classmethod\n",
    "    def m2(cls):\n",
    "        print(\"Parent class class method\")\n",
    "        \n",
    "    @staticmethod\n",
    "    def m3():\n",
    "        print(\"Parent class static method\")\n",
    "        \n",
    "class C(P):\n",
    "    pass\n",
    "\n",
    "c = C()\n",
    "print(c.a)\n",
    "print(c.b)\n",
    "c.m1()\n",
    "c.m2()\n",
    "c.m3()"
   ]
  },
  {
   "cell_type": "code",
   "execution_count": 22,
   "metadata": {},
   "outputs": [
    {
     "name": "stdout",
     "output_type": "stream",
     "text": [
      "parent class method\n",
      "Child class method\n"
     ]
    }
   ],
   "source": [
    "class P:\n",
    "    def m1(self):\n",
    "        print(\"parent class method\")\n",
    "        \n",
    "class C(P):\n",
    "    def m2(self):\n",
    "        print(\"Child class method\")\n",
    "        \n",
    "c = C()\n",
    "c.m1()\n",
    "c.m2()"
   ]
  },
  {
   "cell_type": "code",
   "execution_count": 31,
   "metadata": {},
   "outputs": [
    {
     "name": "stdout",
     "output_type": "stream",
     "text": [
      "10 20 30 40\n"
     ]
    }
   ],
   "source": [
    "class P:\n",
    "    a = 10\n",
    "    def __init__(self):\n",
    "        self.b = 20\n",
    "        \n",
    "class C(P):\n",
    "    c = 30\n",
    "    def __init__(self):\n",
    "        super().__init__()\n",
    "        self.d = 40\n",
    "        \n",
    "c = C()\n",
    "print(c.a,c.b,c.c,c.d)"
   ]
  },
  {
   "cell_type": "code",
   "execution_count": 1,
   "metadata": {},
   "outputs": [
    {
     "ename": "TypeError",
     "evalue": "__init__() missing 1 required positional argument: 'x'",
     "output_type": "error",
     "traceback": [
      "\u001b[1;31m---------------------------------------------------------------------------\u001b[0m",
      "\u001b[1;31mTypeError\u001b[0m                                 Traceback (most recent call last)",
      "\u001b[1;32m<ipython-input-1-1a183de76bd1>\u001b[0m in \u001b[0;36m<module>\u001b[1;34m\u001b[0m\n\u001b[0;32m      7\u001b[0m     \u001b[1;32mpass\u001b[0m\u001b[1;33m\u001b[0m\u001b[1;33m\u001b[0m\u001b[0m\n\u001b[0;32m      8\u001b[0m \u001b[1;33m\u001b[0m\u001b[0m\n\u001b[1;32m----> 9\u001b[1;33m \u001b[0mc\u001b[0m \u001b[1;33m=\u001b[0m \u001b[0mC\u001b[0m\u001b[1;33m(\u001b[0m\u001b[1;33m)\u001b[0m\u001b[1;33m\u001b[0m\u001b[1;33m\u001b[0m\u001b[0m\n\u001b[0m\u001b[0;32m     10\u001b[0m \u001b[0mprint\u001b[0m\u001b[1;33m(\u001b[0m\u001b[0mc\u001b[0m\u001b[1;33m.\u001b[0m\u001b[0ma\u001b[0m\u001b[1;33m)\u001b[0m\u001b[1;33m\u001b[0m\u001b[1;33m\u001b[0m\u001b[0m\n",
      "\u001b[1;31mTypeError\u001b[0m: __init__() missing 1 required positional argument: 'x'"
     ]
    }
   ],
   "source": [
    "class P:\n",
    "    a = 10\n",
    "    def __init__(self,x):\n",
    "        self.x = x\n",
    "    \n",
    "class C(P):\n",
    "    pass\n",
    "\n",
    "c = C()\n",
    "print(c.a)"
   ]
  },
  {
   "cell_type": "code",
   "execution_count": 1,
   "metadata": {},
   "outputs": [
    {
     "name": "stdout",
     "output_type": "stream",
     "text": [
      "10\n",
      "2000\n"
     ]
    }
   ],
   "source": [
    "class P:\n",
    "    a = 10\n",
    "    def __init__(self,x):\n",
    "        self.x = x\n",
    "    \n",
    "class C(P):\n",
    "    pass\n",
    "\n",
    "c = C(2000)\n",
    "print(c.a)\n",
    "print(c.x)"
   ]
  },
  {
   "cell_type": "markdown",
   "metadata": {},
   "source": [
    "### super() method"
   ]
  },
  {
   "cell_type": "code",
   "execution_count": 16,
   "metadata": {},
   "outputs": [
    {
     "name": "stdout",
     "output_type": "stream",
     "text": [
      "a : 8888\n",
      "a : 10\n"
     ]
    }
   ],
   "source": [
    "class P:\n",
    "    a = 8888\n",
    "    def m1(self):\n",
    "        self.a = 10\n",
    "        \n",
    "class C(P):\n",
    "    def __init__(self):\n",
    "        super().m1()\n",
    "        print(\"a :\",super().a)\n",
    "        print(\"a :\",self.a)\n",
    "        \n",
    "c = C()\n",
    "c.m1()"
   ]
  },
  {
   "cell_type": "code",
   "execution_count": 26,
   "metadata": {},
   "outputs": [
    {
     "name": "stdout",
     "output_type": "stream",
     "text": [
      "888\n",
      "777\n",
      "20\n"
     ]
    }
   ],
   "source": [
    "class P:\n",
    "    a = 777\n",
    "    def __init__(self):\n",
    "        self.b = 10\n",
    "    \n",
    "class C(P):\n",
    "    a = 888\n",
    "    def __init__(self):\n",
    "        super().__init__()\n",
    "        self.b = 20\n",
    "        print(C.a)\n",
    "        print(super().a)\n",
    "        print(self.b)\n",
    "        \n",
    "c = C()\n"
   ]
  },
  {
   "cell_type": "code",
   "execution_count": 39,
   "metadata": {},
   "outputs": [
    {
     "name": "stdout",
     "output_type": "stream",
     "text": [
      "20\n"
     ]
    }
   ],
   "source": [
    "class P:\n",
    "    a = 10\n",
    "    def __init__(self):\n",
    "        self.b = 20\n",
    "        \n",
    "class C(P):\n",
    "    def __init__(self):\n",
    "        super().__init__()\n",
    "        self.c = 30\n",
    "        \n",
    "c = C()\n",
    "print(c.b)"
   ]
  },
  {
   "cell_type": "code",
   "execution_count": 42,
   "metadata": {},
   "outputs": [
    {
     "name": "stdout",
     "output_type": "stream",
     "text": [
      "Before : 30\n",
      "After : 20\n",
      "777\n"
     ]
    }
   ],
   "source": [
    "class P:\n",
    "    a = 10\n",
    "    def __init__(self):\n",
    "        self.b = 20\n",
    "        \n",
    "    def m1(self):\n",
    "        self.b = 777\n",
    "        \n",
    "class C(P):\n",
    "    def __init__(self):\n",
    "        self.b = 30\n",
    "        print(\"Before :\",self.b)\n",
    "        super().__init__()\n",
    "        print(\"After :\",self.b)\n",
    "        super().m1()\n",
    "        print(self.b)\n",
    "c = C()\n"
   ]
  },
  {
   "cell_type": "code",
   "execution_count": 3,
   "metadata": {},
   "outputs": [
    {
     "name": "stdout",
     "output_type": "stream",
     "text": [
      "140727071553600\n",
      "140727071553600\n"
     ]
    }
   ],
   "source": [
    "class P:\n",
    "    a = 10\n",
    "    def __init__(self):\n",
    "        self.b = 20\n",
    "        \n",
    "p1 = P()\n",
    "p2 = P()\n",
    "\n",
    "print(id(p1.a))\n",
    "print(id(p2.a))"
   ]
  },
  {
   "cell_type": "code",
   "execution_count": 20,
   "metadata": {},
   "outputs": [
    {
     "name": "stdout",
     "output_type": "stream",
     "text": [
      "10\n"
     ]
    }
   ],
   "source": [
    "class P:\n",
    "    a =10\n",
    "    def __init__(self):\n",
    "        self.b = 20\n",
    "            \n",
    "class C(P):\n",
    "    def m1(self):\n",
    "        print(super().a)\n",
    "        #print(super().b)   # AttributeError: 'super' object has no attribute 'b'\n",
    "        \n",
    "c = C()\n",
    "c.m1()"
   ]
  },
  {
   "cell_type": "code",
   "execution_count": 12,
   "metadata": {
    "scrolled": false
   },
   "outputs": [
    {
     "name": "stdout",
     "output_type": "stream",
     "text": [
      "10\n",
      "20\n"
     ]
    }
   ],
   "source": [
    "class P:\n",
    "    a =10\n",
    "    def __init__(self):\n",
    "        self.b = 20\n",
    "            \n",
    "class C(P):\n",
    "    def m1(self):\n",
    "        print(super().a)\n",
    "        print(self.b)\n",
    "        \n",
    "c = C()\n",
    "c.m1()"
   ]
  },
  {
   "cell_type": "code",
   "execution_count": 19,
   "metadata": {
    "scrolled": false
   },
   "outputs": [
    {
     "name": "stdout",
     "output_type": "stream",
     "text": [
      "constructor\n",
      "a : 10\n",
      "constructor\n",
      "Instance method\n",
      "class method\n",
      "static method\n"
     ]
    }
   ],
   "source": [
    "# super() inside constructor and instance method\n",
    "\n",
    "class P:\n",
    "    a =10\n",
    "    def __init__(self):\n",
    "        print(\"constructor\")\n",
    "        \n",
    "    def m1(self):\n",
    "        print(\"Instance method\")\n",
    "        \n",
    "    @classmethod\n",
    "    def m2(self):\n",
    "        print(\"class method\")\n",
    "    \n",
    "    @staticmethod\n",
    "    def m3():\n",
    "        print(\"static method\")\n",
    "            \n",
    "class C(P):\n",
    "    def m1(self):              # Instance method\n",
    "        print(\"a :\",super().a)\n",
    "        super().__init__()\n",
    "        super().m1()\n",
    "        super().m2()\n",
    "        super().m3()\n",
    "        \n",
    "c = C()\n",
    "c.m1()"
   ]
  },
  {
   "cell_type": "code",
   "execution_count": 15,
   "metadata": {
    "scrolled": false
   },
   "outputs": [
    {
     "name": "stdout",
     "output_type": "stream",
     "text": [
      "constructor\n",
      "a : 10\n",
      "class method\n",
      "static method\n"
     ]
    }
   ],
   "source": [
    "# super() inside classmethod\n",
    "\n",
    "class P:\n",
    "    a =10\n",
    "    def __init__(self):\n",
    "        print(\"constructor\")\n",
    "        \n",
    "    def m1(self):\n",
    "        print(\"Instance method\")\n",
    "        \n",
    "    @classmethod\n",
    "    def m2(self):\n",
    "        print(\"class method\")\n",
    "    \n",
    "    @staticmethod\n",
    "    def m3():\n",
    "        print(\"static method\")\n",
    "            \n",
    "class C(P):\n",
    "    @classmethod             \n",
    "    def m1(cls):               # classmethod\n",
    "        print(\"a :\",super().a)\n",
    "        #super().__init__()      # TypeError: __init__() missing 1 required positional argument: 'self'\n",
    "        #super().m1()           # TypeError: m1() missing 1 required positional argument: 'self'\n",
    "        super().m2()\n",
    "        super().m3()\n",
    "        \n",
    "c = C()\n",
    "c.m1()\n",
    "\n",
    "\n",
    "# from classmethod of child class we cannot directly call constructor and instance method of parent class."
   ]
  },
  {
   "cell_type": "markdown",
   "metadata": {},
   "source": [
    "### How to call parent class instance methods and constructors from child class classmethod by using super() :"
   ]
  },
  {
   "cell_type": "code",
   "execution_count": null,
   "metadata": {},
   "outputs": [],
   "source": []
  },
  {
   "cell_type": "code",
   "execution_count": null,
   "metadata": {},
   "outputs": [],
   "source": []
  },
  {
   "cell_type": "code",
   "execution_count": null,
   "metadata": {},
   "outputs": [],
   "source": []
  },
  {
   "cell_type": "code",
   "execution_count": null,
   "metadata": {},
   "outputs": [],
   "source": []
  },
  {
   "cell_type": "code",
   "execution_count": 14,
   "metadata": {},
   "outputs": [
    {
     "name": "stdout",
     "output_type": "stream",
     "text": [
      "constructor\n"
     ]
    }
   ],
   "source": [
    "# super() inside staticmethod\n",
    "\n",
    "class P:\n",
    "    a =10\n",
    "    def __init__(self):\n",
    "        print(\"constructor\")\n",
    "        \n",
    "    def m1(self):\n",
    "        print(\"Instance method\")\n",
    "        \n",
    "    @classmethod\n",
    "    def m2(self):\n",
    "        print(\"class method\")\n",
    "    \n",
    "    @staticmethod\n",
    "    def m3():\n",
    "        print(\"static method\")\n",
    "            \n",
    "class C(P):\n",
    "    @staticmethod\n",
    "    def m1():              # static method\n",
    "        #print(\"a :\",super().a)   # RuntimeError: super(): no arguments\n",
    "        #super().__init__()       # RuntimeError: super(): no arguments       \n",
    "        #super().m1()             # RuntimeError: super(): no arguments\n",
    "        #super().m2()             # RuntimeError: super(): no arguments\n",
    "        #super().m3()             # RuntimeError: super(): no arguments\n",
    "        pass\n",
    "\n",
    "c = C()\n",
    "c.m1()\n",
    "\n",
    "\n",
    "# In clid class staticmethod we are not allowed to use super() generally (But in special way we can use)"
   ]
  },
  {
   "cell_type": "markdown",
   "metadata": {},
   "source": [
    "### How to call parent class staticmethod from child class staticmethod by using super() :"
   ]
  },
  {
   "cell_type": "code",
   "execution_count": null,
   "metadata": {},
   "outputs": [],
   "source": []
  },
  {
   "cell_type": "code",
   "execution_count": null,
   "metadata": {},
   "outputs": [],
   "source": []
  },
  {
   "cell_type": "code",
   "execution_count": null,
   "metadata": {},
   "outputs": [],
   "source": []
  },
  {
   "cell_type": "code",
   "execution_count": null,
   "metadata": {},
   "outputs": [],
   "source": []
  },
  {
   "cell_type": "code",
   "execution_count": null,
   "metadata": {},
   "outputs": [],
   "source": []
  },
  {
   "cell_type": "code",
   "execution_count": null,
   "metadata": {},
   "outputs": [],
   "source": []
  },
  {
   "cell_type": "code",
   "execution_count": null,
   "metadata": {},
   "outputs": [],
   "source": []
  },
  {
   "cell_type": "markdown",
   "metadata": {},
   "source": [
    "## Is-A vs Has-A Relationship"
   ]
  },
  {
   "cell_type": "code",
   "execution_count": null,
   "metadata": {},
   "outputs": [],
   "source": []
  },
  {
   "cell_type": "code",
   "execution_count": null,
   "metadata": {},
   "outputs": [],
   "source": []
  },
  {
   "cell_type": "markdown",
   "metadata": {},
   "source": [
    "# Types of Inheritance :"
   ]
  },
  {
   "cell_type": "markdown",
   "metadata": {},
   "source": [
    "## 1. Single Inheritance :"
   ]
  },
  {
   "cell_type": "code",
   "execution_count": 45,
   "metadata": {},
   "outputs": [
    {
     "name": "stdout",
     "output_type": "stream",
     "text": [
      "Parent method\n",
      "Child method\n"
     ]
    }
   ],
   "source": [
    "class P:\n",
    "    def m1(self):\n",
    "        print(\"Parent method\")\n",
    "        \n",
    "class C(P):\n",
    "    def m2(self):\n",
    "        print(\"Child method\")\n",
    "        \n",
    "c = C()\n",
    "c.m1()\n",
    "c.m2()"
   ]
  },
  {
   "cell_type": "code",
   "execution_count": null,
   "metadata": {},
   "outputs": [],
   "source": []
  },
  {
   "cell_type": "code",
   "execution_count": null,
   "metadata": {},
   "outputs": [],
   "source": []
  },
  {
   "cell_type": "markdown",
   "metadata": {},
   "source": [
    "## 2. Mulitilevel Inheritance :"
   ]
  },
  {
   "cell_type": "code",
   "execution_count": 46,
   "metadata": {},
   "outputs": [
    {
     "name": "stdout",
     "output_type": "stream",
     "text": [
      "Parent method\n",
      "Child method\n",
      "Sub child method\n"
     ]
    }
   ],
   "source": [
    "class P:\n",
    "    def m1(self):\n",
    "        print(\"Parent method\")\n",
    "        \n",
    "class C(P):\n",
    "    def m2(self):\n",
    "        print(\"Child method\")\n",
    "        \n",
    "class D(C):\n",
    "    def m3(self):\n",
    "        print(\"Sub child method\")\n",
    "        \n",
    "d = D()\n",
    "\n",
    "d.m1()\n",
    "d.m2()\n",
    "d.m3()"
   ]
  },
  {
   "cell_type": "code",
   "execution_count": null,
   "metadata": {},
   "outputs": [],
   "source": []
  },
  {
   "cell_type": "code",
   "execution_count": null,
   "metadata": {},
   "outputs": [],
   "source": []
  },
  {
   "cell_type": "markdown",
   "metadata": {},
   "source": [
    "## 3. Hierarchical Inheritance :"
   ]
  },
  {
   "cell_type": "code",
   "execution_count": 49,
   "metadata": {},
   "outputs": [
    {
     "name": "stdout",
     "output_type": "stream",
     "text": [
      "Parent method\n",
      "Child 1 method\n",
      "Parent method\n",
      "Child 2 method\n"
     ]
    }
   ],
   "source": [
    "class P:\n",
    "    def m1(self):\n",
    "        print(\"Parent method\")\n",
    "        \n",
    "class C1(P):\n",
    "    def m2(self):\n",
    "        print(\"Child 1 method\")\n",
    "        \n",
    "class C2(P):\n",
    "    def m3(self):\n",
    "        print(\"Child 2 method\")\n",
    "        \n",
    "c1 = C1()\n",
    "c1.m1()\n",
    "c1.m2()\n",
    "\n",
    "c2 = C2()\n",
    "c2.m1()\n",
    "c2.m3()"
   ]
  },
  {
   "cell_type": "code",
   "execution_count": null,
   "metadata": {},
   "outputs": [],
   "source": []
  },
  {
   "cell_type": "code",
   "execution_count": null,
   "metadata": {},
   "outputs": [],
   "source": [
    "__name__ == __main__"
   ]
  },
  {
   "cell_type": "markdown",
   "metadata": {},
   "source": [
    "## 4. Multiple Inheritance :"
   ]
  },
  {
   "cell_type": "code",
   "execution_count": 8,
   "metadata": {
    "scrolled": true
   },
   "outputs": [
    {
     "name": "stdout",
     "output_type": "stream",
     "text": [
      "Parent 1 method\n",
      "Parent 2 method\n",
      "Child Class method\n"
     ]
    }
   ],
   "source": [
    "class P1:\n",
    "    def m1(self):\n",
    "        print(\"Parent 1 method\")\n",
    "        \n",
    "class P2:\n",
    "    def m2(self):\n",
    "        print(\"Parent 2 method\")\n",
    "        \n",
    "class C(P1,P2):\n",
    "    def m3(self):\n",
    "        print(\"Child Class method\")\n",
    "\n",
    "c = C()\n",
    "c.m1()\n",
    "c.m2()\n",
    "c.m3()"
   ]
  },
  {
   "cell_type": "code",
   "execution_count": 22,
   "metadata": {},
   "outputs": [
    {
     "name": "stdout",
     "output_type": "stream",
     "text": [
      "Child inherited properties from parent\n",
      "Height is 6 feet\n",
      "Brown color\n"
     ]
    }
   ],
   "source": [
    "class Father:\n",
    "    def height(self):\n",
    "        print(\"Height is 6 feet\")\n",
    "        \n",
    "class Mother:\n",
    "    def color(self):\n",
    "        print(\"Brown color\")\n",
    "        \n",
    "class Child(Father,Mother):\n",
    "    pass\n",
    "\n",
    "c = Child()\n",
    "print(\"Child inherited properties from parent\")\n",
    "c.height()\n",
    "c.color()"
   ]
  },
  {
   "cell_type": "markdown",
   "metadata": {},
   "source": [
    "### If the same method is inherited from both parent classes, then python will always consider the order of parent classes in the declaration of the child class.\n",
    "\n",
    "    class C(P1,P2): ---> P1 method will be considered\n",
    "    class C(P2,P1): ---> P2 method will be considered"
   ]
  },
  {
   "cell_type": "code",
   "execution_count": 20,
   "metadata": {},
   "outputs": [
    {
     "name": "stdout",
     "output_type": "stream",
     "text": [
      "Parent 2 method\n",
      "Child method\n"
     ]
    }
   ],
   "source": [
    "class P1:\n",
    "    def m1(self):\n",
    "        print(\"Parent 1 method\")\n",
    "        \n",
    "class P2:\n",
    "    def m1(self):\n",
    "        print(\"Parent 2 method\")\n",
    "        \n",
    "class C(P2,P1):\n",
    "    def m2(self):\n",
    "        print(\"Child method\")\n",
    "        \n",
    "c = C()\n",
    "c.m1()\n",
    "c.m2()\n"
   ]
  },
  {
   "cell_type": "code",
   "execution_count": null,
   "metadata": {},
   "outputs": [],
   "source": []
  },
  {
   "cell_type": "code",
   "execution_count": null,
   "metadata": {},
   "outputs": [],
   "source": []
  },
  {
   "cell_type": "code",
   "execution_count": null,
   "metadata": {},
   "outputs": [],
   "source": []
  },
  {
   "cell_type": "code",
   "execution_count": null,
   "metadata": {},
   "outputs": [],
   "source": []
  },
  {
   "cell_type": "code",
   "execution_count": null,
   "metadata": {},
   "outputs": [],
   "source": []
  },
  {
   "cell_type": "markdown",
   "metadata": {},
   "source": [
    "## 5. Hybrid Inheritance :\n",
    "### combination of two or more inheritances"
   ]
  },
  {
   "cell_type": "code",
   "execution_count": null,
   "metadata": {},
   "outputs": [],
   "source": []
  },
  {
   "cell_type": "code",
   "execution_count": null,
   "metadata": {},
   "outputs": [],
   "source": []
  },
  {
   "cell_type": "code",
   "execution_count": null,
   "metadata": {},
   "outputs": [],
   "source": []
  },
  {
   "cell_type": "markdown",
   "metadata": {},
   "source": [
    "# Method Resolution Order"
   ]
  },
  {
   "cell_type": "code",
   "execution_count": 26,
   "metadata": {
    "scrolled": true
   },
   "outputs": [
    {
     "name": "stdout",
     "output_type": "stream",
     "text": [
      "A : [<class '__main__.A'>, <class '__main__.B'>, <class '__main__.C'>, <class '__main__.D'>, <class '__main__.E'>, <class '__main__.F'>, <class 'object'>]\n",
      "\n",
      "B : [<class '__main__.B'>, <class '__main__.D'>, <class '__main__.E'>, <class 'object'>]\n",
      "\n",
      "C : [<class '__main__.C'>, <class '__main__.D'>, <class '__main__.F'>, <class 'object'>]\n"
     ]
    }
   ],
   "source": [
    "class D: pass\n",
    "class E: pass\n",
    "class F: pass\n",
    "class B(D,E): pass\n",
    "class C(D,F): pass\n",
    "class A(B,C): pass\n",
    "print(\"A :\",A.mro())\n",
    "print()\n",
    "print(\"B :\",B.mro())\n",
    "print()\n",
    "print(\"C :\",C.mro())"
   ]
  },
  {
   "cell_type": "code",
   "execution_count": 1,
   "metadata": {},
   "outputs": [
    {
     "name": "stdout",
     "output_type": "stream",
     "text": [
      "[<class '__main__.C'>, <class '__main__.P1'>, <class '__main__.P2'>, <class 'object'>]\n"
     ]
    }
   ],
   "source": [
    "class P1: pass\n",
    "class P2: pass\n",
    "class C(P1,P2): pass\n",
    "print(C.mro())"
   ]
  },
  {
   "cell_type": "code",
   "execution_count": 2,
   "metadata": {},
   "outputs": [
    {
     "name": "stdout",
     "output_type": "stream",
     "text": [
      "P : [<class '__main__.P'>, <class '__main__.X'>, <class '__main__.A'>, <class '__main__.Y'>, <class '__main__.B'>, <class '__main__.C'>, <class 'object'>]\n"
     ]
    }
   ],
   "source": [
    "class A: pass\n",
    "class B: pass\n",
    "class C: pass\n",
    "class X(A,B): pass\n",
    "class Y(B,C): pass\n",
    "class P(X,Y,C): pass\n",
    "print(\"P :\",P.mro())"
   ]
  },
  {
   "cell_type": "code",
   "execution_count": 5,
   "metadata": {},
   "outputs": [
    {
     "name": "stdout",
     "output_type": "stream",
     "text": [
      "P class method\n"
     ]
    }
   ],
   "source": [
    "class A:\n",
    "    def m1(self):\n",
    "        print(\"A class method\")\n",
    "class B:\n",
    "    def m1(self):\n",
    "        print(\"B class method\")\n",
    "class C:\n",
    "    def m1(self):\n",
    "        print(\"C class method\")\n",
    "class X(A,B):\n",
    "    def m1(self):\n",
    "        print(\"X class method\")\n",
    "class Y(B,C):\n",
    "    def m1(self):\n",
    "        print(\"Y class method\")\n",
    "class P(X,Y,C):\n",
    "    def m1(self):\n",
    "        print(\"P class method\")\n",
    "\n",
    "p = P()\n",
    "p.m1()"
   ]
  },
  {
   "cell_type": "code",
   "execution_count": null,
   "metadata": {},
   "outputs": [],
   "source": []
  },
  {
   "cell_type": "code",
   "execution_count": null,
   "metadata": {},
   "outputs": [],
   "source": []
  },
  {
   "cell_type": "code",
   "execution_count": null,
   "metadata": {},
   "outputs": [],
   "source": []
  },
  {
   "cell_type": "code",
   "execution_count": null,
   "metadata": {},
   "outputs": [],
   "source": []
  },
  {
   "cell_type": "code",
   "execution_count": null,
   "metadata": {},
   "outputs": [],
   "source": []
  },
  {
   "cell_type": "code",
   "execution_count": null,
   "metadata": {},
   "outputs": [],
   "source": []
  },
  {
   "cell_type": "code",
   "execution_count": null,
   "metadata": {},
   "outputs": [],
   "source": []
  },
  {
   "cell_type": "code",
   "execution_count": null,
   "metadata": {},
   "outputs": [],
   "source": []
  },
  {
   "cell_type": "code",
   "execution_count": null,
   "metadata": {},
   "outputs": [],
   "source": []
  },
  {
   "cell_type": "code",
   "execution_count": null,
   "metadata": {},
   "outputs": [],
   "source": []
  },
  {
   "cell_type": "code",
   "execution_count": null,
   "metadata": {},
   "outputs": [],
   "source": []
  },
  {
   "cell_type": "code",
   "execution_count": null,
   "metadata": {},
   "outputs": [],
   "source": []
  },
  {
   "cell_type": "code",
   "execution_count": null,
   "metadata": {},
   "outputs": [],
   "source": []
  },
  {
   "cell_type": "code",
   "execution_count": null,
   "metadata": {},
   "outputs": [],
   "source": []
  },
  {
   "cell_type": "code",
   "execution_count": null,
   "metadata": {},
   "outputs": [],
   "source": []
  }
 ],
 "metadata": {
  "kernelspec": {
   "display_name": "Python 3",
   "language": "python",
   "name": "python3"
  },
  "language_info": {
   "codemirror_mode": {
    "name": "ipython",
    "version": 3
   },
   "file_extension": ".py",
   "mimetype": "text/x-python",
   "name": "python",
   "nbconvert_exporter": "python",
   "pygments_lexer": "ipython3",
   "version": "3.8.3"
  }
 },
 "nbformat": 4,
 "nbformat_minor": 4
}
