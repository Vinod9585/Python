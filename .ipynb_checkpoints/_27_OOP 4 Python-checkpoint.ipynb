{
 "cells": [
  {
   "cell_type": "markdown",
   "metadata": {},
   "source": [
    "# Abstract Method"
   ]
  },
  {
   "cell_type": "code",
   "execution_count": 7,
   "metadata": {},
   "outputs": [],
   "source": [
    "from abc import *\n",
    "class Vehicle:\n",
    "    @abstractmethod\n",
    "    def noofwheels(self):\n",
    "        pass"
   ]
  },
  {
   "cell_type": "code",
   "execution_count": 1,
   "metadata": {},
   "outputs": [],
   "source": [
    "from abc import *\n",
    "class Fruit:\n",
    "    @abstractmethod\n",
    "    def taste(self):\n",
    "        pass"
   ]
  },
  {
   "cell_type": "code",
   "execution_count": null,
   "metadata": {},
   "outputs": [],
   "source": []
  },
  {
   "cell_type": "markdown",
   "metadata": {},
   "source": [
    "# Abstract Class"
   ]
  },
  {
   "cell_type": "code",
   "execution_count": 3,
   "metadata": {},
   "outputs": [],
   "source": [
    "from abc import *\n",
    "class Test(ABC):\n",
    "    pass\n",
    "\n",
    "t = Test()"
   ]
  },
  {
   "cell_type": "code",
   "execution_count": null,
   "metadata": {},
   "outputs": [],
   "source": []
  },
  {
   "cell_type": "markdown",
   "metadata": {},
   "source": [
    "### If class contains atleast one abstract method and if we are extending ABC class then instantiation is not possible."
   ]
  },
  {
   "cell_type": "code",
   "execution_count": 6,
   "metadata": {},
   "outputs": [
    {
     "ename": "TypeError",
     "evalue": "Can't instantiate abstract class Vehicle with abstract methods getnoofwheels",
     "output_type": "error",
     "traceback": [
      "\u001b[1;31m---------------------------------------------------------------------------\u001b[0m",
      "\u001b[1;31mTypeError\u001b[0m                                 Traceback (most recent call last)",
      "\u001b[1;32m<ipython-input-6-abe58735d995>\u001b[0m in \u001b[0;36m<module>\u001b[1;34m\u001b[0m\n\u001b[0;32m      5\u001b[0m         \u001b[0mprint\u001b[0m\u001b[1;33m(\u001b[0m\u001b[1;34m\"This is abstract class\"\u001b[0m\u001b[1;33m)\u001b[0m\u001b[1;33m\u001b[0m\u001b[1;33m\u001b[0m\u001b[0m\n\u001b[0;32m      6\u001b[0m \u001b[1;33m\u001b[0m\u001b[0m\n\u001b[1;32m----> 7\u001b[1;33m \u001b[0mv\u001b[0m \u001b[1;33m=\u001b[0m \u001b[0mVehicle\u001b[0m\u001b[1;33m(\u001b[0m\u001b[1;33m)\u001b[0m    \u001b[1;31m# TypeError: Can't instantiate abstract class Vehicle with abstract methods getnoofwheels\u001b[0m\u001b[1;33m\u001b[0m\u001b[1;33m\u001b[0m\u001b[0m\n\u001b[0m",
      "\u001b[1;31mTypeError\u001b[0m: Can't instantiate abstract class Vehicle with abstract methods getnoofwheels"
     ]
    }
   ],
   "source": [
    "from abc import *\n",
    "class Vehicle(ABC):\n",
    "    @abstractmethod\n",
    "    def getnoofwheels(self):\n",
    "        print(\"This is abstract class\")\n",
    "        \n",
    "v = Vehicle()    # TypeError: Can't instantiate abstract class Vehicle with abstract methods getnoofwheels\n"
   ]
  },
  {
   "cell_type": "code",
   "execution_count": 13,
   "metadata": {},
   "outputs": [
    {
     "name": "stdout",
     "output_type": "stream",
     "text": [
      "7\n",
      "3\n"
     ]
    }
   ],
   "source": [
    "from abc import *\n",
    "class Vehicle(ABC):\n",
    "    @abstractmethod\n",
    "    def getnoofwheels(self):\n",
    "        print(\"This is abstract class\")\n",
    "        \n",
    "class Bus(Vehicle):\n",
    "    def getnoofwheels(self):\n",
    "        return 7\n",
    "\n",
    "class Auto(Vehicle):\n",
    "    def getnoofwheels(self):\n",
    "        return 3\n",
    "    \n",
    "b = Bus()\n",
    "print(b.getnoofwheels())\n",
    "\n",
    "a = Auto()\n",
    "print(a.getnoofwheels())"
   ]
  },
  {
   "cell_type": "code",
   "execution_count": null,
   "metadata": {},
   "outputs": [],
   "source": []
  },
  {
   "cell_type": "code",
   "execution_count": null,
   "metadata": {},
   "outputs": [],
   "source": []
  },
  {
   "cell_type": "markdown",
   "metadata": {},
   "source": [
    "# Interfaces in Python\n",
    "### If an abstract class contains only abstract methods suc type of abstract class is considered as interface"
   ]
  },
  {
   "cell_type": "code",
   "execution_count": 5,
   "metadata": {},
   "outputs": [
    {
     "name": "stdout",
     "output_type": "stream",
     "text": [
      "Enter database name : Oracle\n",
      "Connecting to oracle database...\n",
      "Disconnecting oracle databse...\n"
     ]
    }
   ],
   "source": [
    "from abc import *\n",
    "class DBInterface(ABC):\n",
    "    @abstractmethod\n",
    "    def connect(self): pass\n",
    "    \n",
    "    @abstractmethod\n",
    "    def disconnect(self): pass\n",
    "    \n",
    "class Oracle(DBInterface):\n",
    "    def connect(self):\n",
    "        print(\"Connecting to oracle database...\")\n",
    "        \n",
    "    def disconnect(self):\n",
    "        print(\"Disconnecting oracle databse...\")\n",
    "        \n",
    "class Sybase(DBInterface):\n",
    "    def connect(self):\n",
    "        print(\"Connecting to sybase database...\")\n",
    "        \n",
    "    def disconnect(self):\n",
    "        print(\"Disconnecting sybase databse...\")\n",
    "        \n",
    "dbname = input(\"Enter database name : \")\n",
    "classname = globals()[dbname]\n",
    "x = classname()\n",
    "x.connect()\n",
    "x.disconnect()"
   ]
  },
  {
   "cell_type": "code",
   "execution_count": 11,
   "metadata": {},
   "outputs": [
    {
     "name": "stdout",
     "output_type": "stream",
     "text": [
      "Printing from Epson printer\n",
      "This data has to print...\n",
      "Printing completed on Epson printer...\n"
     ]
    }
   ],
   "source": [
    "from abc import *\n",
    "class Printer(ABC):\n",
    "    @abstractmethod\n",
    "    def printit(self,text): pass\n",
    "    \n",
    "    @abstractmethod\n",
    "    def disconnect(self): pass\n",
    "    \n",
    "class Epson(Printer):\n",
    "    def printit(self,text):\n",
    "        print(\"Printing from Epson printer\")\n",
    "        print(text)\n",
    "        \n",
    "    def disconnect(self):\n",
    "        print(\"Printing completed on Epson printer...\")\n",
    "        \n",
    "class HP(Printer):\n",
    "    def printit(self,text):\n",
    "        print(\"Printing from HP printer\")\n",
    "        print(text)\n",
    "        \n",
    "    def disconnect(self):\n",
    "        print(\"Printing completed on HP printer...\")\n",
    "        \n",
    "with open(\"xyz.txt\",\"r\") as f:\n",
    "    pname = f.readline()\n",
    "    \n",
    "\n",
    "classname = globals()[pname]\n",
    "x = classname()\n",
    "x.printit(\"This data has to print...\")\n",
    "x.disconnect()"
   ]
  },
  {
   "cell_type": "code",
   "execution_count": null,
   "metadata": {},
   "outputs": [],
   "source": []
  },
  {
   "cell_type": "code",
   "execution_count": 21,
   "metadata": {},
   "outputs": [
    {
     "name": "stdout",
     "output_type": "stream",
     "text": [
      "m1 method implementation\n",
      "m2 method implementation\n",
      "m3 method implementation\n"
     ]
    }
   ],
   "source": [
    "from abc import *\n",
    "class CollegeAutomation(ABC):\n",
    "    @abstractmethod\n",
    "    def m1(self): pass\n",
    "    \n",
    "    @abstractmethod\n",
    "    def m2(self): pass\n",
    "    \n",
    "    @abstractmethod\n",
    "    def m3(self): pass\n",
    "    \n",
    "class AbsCls(CollegeAutomation):\n",
    "    def m1(self):\n",
    "        print(\"m1 method implementation\")\n",
    "        \n",
    "    def m2(self):\n",
    "        print(\"m2 method implementation\")\n",
    "        \n",
    "class ConcreteCls(AbsCls):\n",
    "    def m3(self):\n",
    "        print(\"m3 method implementation\")\n",
    "        \n",
    "c = ConcreteCls()\n",
    "c.m1()\n",
    "c.m2()\n",
    "c.m3()"
   ]
  },
  {
   "cell_type": "code",
   "execution_count": null,
   "metadata": {},
   "outputs": [],
   "source": []
  },
  {
   "cell_type": "markdown",
   "metadata": {},
   "source": [
    "# Public, Protected and Private Attributes"
   ]
  },
  {
   "cell_type": "code",
   "execution_count": 12,
   "metadata": {},
   "outputs": [
    {
     "name": "stdout",
     "output_type": "stream",
     "text": [
      "10\n",
      "20\n",
      "30\n",
      "10\n",
      "20\n"
     ]
    },
    {
     "ename": "AttributeError",
     "evalue": "type object 'Test' has no attribute '__z'",
     "output_type": "error",
     "traceback": [
      "\u001b[1;31m---------------------------------------------------------------------------\u001b[0m",
      "\u001b[1;31mAttributeError\u001b[0m                            Traceback (most recent call last)",
      "\u001b[1;32m<ipython-input-12-2df3ec565a13>\u001b[0m in \u001b[0;36m<module>\u001b[1;34m\u001b[0m\n\u001b[0;32m     13\u001b[0m \u001b[0mprint\u001b[0m\u001b[1;33m(\u001b[0m\u001b[0mTest\u001b[0m\u001b[1;33m.\u001b[0m\u001b[0mx\u001b[0m\u001b[1;33m)\u001b[0m\u001b[1;33m\u001b[0m\u001b[1;33m\u001b[0m\u001b[0m\n\u001b[0;32m     14\u001b[0m \u001b[0mprint\u001b[0m\u001b[1;33m(\u001b[0m\u001b[0mTest\u001b[0m\u001b[1;33m.\u001b[0m\u001b[0m_y\u001b[0m\u001b[1;33m)\u001b[0m\u001b[1;33m\u001b[0m\u001b[1;33m\u001b[0m\u001b[0m\n\u001b[1;32m---> 15\u001b[1;33m \u001b[0mprint\u001b[0m\u001b[1;33m(\u001b[0m\u001b[0mTest\u001b[0m\u001b[1;33m.\u001b[0m\u001b[0m__z\u001b[0m\u001b[1;33m)\u001b[0m\u001b[1;33m\u001b[0m\u001b[1;33m\u001b[0m\u001b[0m\n\u001b[0m",
      "\u001b[1;31mAttributeError\u001b[0m: type object 'Test' has no attribute '__z'"
     ]
    }
   ],
   "source": [
    "class Test:\n",
    "    x = 10\n",
    "    _y = 20\n",
    "    __z = 30\n",
    "    \n",
    "    def m1(self):\n",
    "        print(Test.x)\n",
    "        print(Test._y)\n",
    "        print(Test.__z)\n",
    "        \n",
    "t = Test()\n",
    "t.m1()\n",
    "print(Test.x)\n",
    "print(Test._y)\n",
    "print(Test.__z)"
   ]
  },
  {
   "cell_type": "code",
   "execution_count": null,
   "metadata": {},
   "outputs": [],
   "source": []
  },
  {
   "cell_type": "markdown",
   "metadata": {},
   "source": [
    "## How to access Private Variables from outside of the class\n",
    "## objectreference._classname__variablename"
   ]
  },
  {
   "cell_type": "code",
   "execution_count": 13,
   "metadata": {},
   "outputs": [
    {
     "name": "stdout",
     "output_type": "stream",
     "text": [
      "10\n"
     ]
    }
   ],
   "source": [
    "class Test:\n",
    "    def __init__(self):\n",
    "        self.__x = 10\n",
    "        \n",
    "        \n",
    "t = Test()\n",
    "print(t._Test__x)"
   ]
  },
  {
   "cell_type": "code",
   "execution_count": null,
   "metadata": {},
   "outputs": [],
   "source": []
  },
  {
   "cell_type": "markdown",
   "metadata": {},
   "source": [
    "# ___str_ __() Method"
   ]
  },
  {
   "cell_type": "code",
   "execution_count": 19,
   "metadata": {},
   "outputs": [
    {
     "name": "stdout",
     "output_type": "stream",
     "text": [
      "Student Name : Vinod       Roll No. : 100\n",
      "Student Name : Swapnil       Roll No. : 101\n"
     ]
    }
   ],
   "source": [
    "class Student:\n",
    "    def __init__(self,name,rollno):\n",
    "        self.name = name\n",
    "        self.rollno = rollno\n",
    "        \n",
    "    def __str__(self):\n",
    "        return f\"Student Name : {self.name}       Roll No. : {self.rollno}\"\n",
    "        \n",
    "s1 = Student(\"Vinod\",100)\n",
    "s2 = Student(\"Swapnil\",101)\n",
    "print(s1)\n",
    "print(s2)\n"
   ]
  },
  {
   "cell_type": "code",
   "execution_count": null,
   "metadata": {},
   "outputs": [],
   "source": []
  },
  {
   "cell_type": "code",
   "execution_count": null,
   "metadata": {},
   "outputs": [],
   "source": []
  },
  {
   "cell_type": "code",
   "execution_count": null,
   "metadata": {},
   "outputs": [],
   "source": []
  },
  {
   "cell_type": "code",
   "execution_count": null,
   "metadata": {},
   "outputs": [],
   "source": []
  },
  {
   "cell_type": "code",
   "execution_count": null,
   "metadata": {},
   "outputs": [],
   "source": []
  },
  {
   "cell_type": "code",
   "execution_count": null,
   "metadata": {},
   "outputs": [],
   "source": []
  },
  {
   "cell_type": "code",
   "execution_count": null,
   "metadata": {},
   "outputs": [],
   "source": []
  },
  {
   "cell_type": "code",
   "execution_count": null,
   "metadata": {},
   "outputs": [],
   "source": []
  },
  {
   "cell_type": "code",
   "execution_count": null,
   "metadata": {},
   "outputs": [],
   "source": []
  },
  {
   "cell_type": "code",
   "execution_count": null,
   "metadata": {},
   "outputs": [],
   "source": []
  },
  {
   "cell_type": "code",
   "execution_count": null,
   "metadata": {},
   "outputs": [],
   "source": []
  },
  {
   "cell_type": "code",
   "execution_count": null,
   "metadata": {},
   "outputs": [],
   "source": []
  },
  {
   "cell_type": "code",
   "execution_count": null,
   "metadata": {},
   "outputs": [],
   "source": []
  },
  {
   "cell_type": "code",
   "execution_count": null,
   "metadata": {},
   "outputs": [],
   "source": []
  },
  {
   "cell_type": "code",
   "execution_count": null,
   "metadata": {},
   "outputs": [],
   "source": []
  },
  {
   "cell_type": "code",
   "execution_count": null,
   "metadata": {},
   "outputs": [],
   "source": []
  },
  {
   "cell_type": "code",
   "execution_count": null,
   "metadata": {},
   "outputs": [],
   "source": []
  },
  {
   "cell_type": "code",
   "execution_count": null,
   "metadata": {},
   "outputs": [],
   "source": []
  },
  {
   "cell_type": "code",
   "execution_count": null,
   "metadata": {},
   "outputs": [],
   "source": []
  },
  {
   "cell_type": "code",
   "execution_count": null,
   "metadata": {},
   "outputs": [],
   "source": []
  },
  {
   "cell_type": "code",
   "execution_count": null,
   "metadata": {},
   "outputs": [],
   "source": []
  },
  {
   "cell_type": "code",
   "execution_count": null,
   "metadata": {},
   "outputs": [],
   "source": []
  },
  {
   "cell_type": "code",
   "execution_count": null,
   "metadata": {},
   "outputs": [],
   "source": []
  },
  {
   "cell_type": "code",
   "execution_count": null,
   "metadata": {},
   "outputs": [],
   "source": []
  },
  {
   "cell_type": "code",
   "execution_count": null,
   "metadata": {},
   "outputs": [],
   "source": []
  },
  {
   "cell_type": "code",
   "execution_count": null,
   "metadata": {},
   "outputs": [],
   "source": []
  },
  {
   "cell_type": "code",
   "execution_count": null,
   "metadata": {},
   "outputs": [],
   "source": []
  },
  {
   "cell_type": "code",
   "execution_count": null,
   "metadata": {},
   "outputs": [],
   "source": []
  }
 ],
 "metadata": {
  "kernelspec": {
   "display_name": "Python 3",
   "language": "python",
   "name": "python3"
  },
  "language_info": {
   "codemirror_mode": {
    "name": "ipython",
    "version": 3
   },
   "file_extension": ".py",
   "mimetype": "text/x-python",
   "name": "python",
   "nbconvert_exporter": "python",
   "pygments_lexer": "ipython3",
   "version": "3.8.3"
  }
 },
 "nbformat": 4,
 "nbformat_minor": 4
}
