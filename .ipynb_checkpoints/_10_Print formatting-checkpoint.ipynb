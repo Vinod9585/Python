{
 "cells": [
  {
   "cell_type": "markdown",
   "metadata": {},
   "source": [
    "### case 1: Basic formatting for default, positonal and keyword arguments : "
   ]
  },
  {
   "cell_type": "code",
   "execution_count": 106,
   "metadata": {},
   "outputs": [
    {
     "name": "stdout",
     "output_type": "stream",
     "text": [
      "Vinod's salary is 50000 and his age is 21\n",
      "Vinod's salary is 50000 and his age is 21\n",
      "Vinod's salary is 50000 and his age is 21\n",
      "swapnil's salary is 10000 and his age is 40\n",
      "Vinod's salary is 50000 and his age is 21\n"
     ]
    }
   ],
   "source": [
    "name = \"Vinod\"\n",
    "salary = 50000\n",
    "age = 21\n",
    "\n",
    "print(\"{}'s salary is {} and his age is {}\".format(name,salary,age))\n",
    "\n",
    "print(\"{0}'s salary is {1} and his age is {2}\".format(name,salary,age))\n",
    "\n",
    "print(\"{b}'s salary is {a} and his age is {c}\".format(a=salary,b=name,c=age))\n",
    "\n",
    "print(\"{b}'s salary is {a} and his age is {c}\".format(a=10000,b=\"swapnil\",c=40))\n",
    "\n",
    "print(f\"{name}'s salary is {salary} and his age is {age}\")   # f string literal"
   ]
  },
  {
   "cell_type": "markdown",
   "metadata": {},
   "source": [
    "### case 2: Formatting Numbers :\n",
    "#### d --> Decimal integer\n",
    "#### f --> Fixed point number (float). The default precision is 6.\n",
    "#### b --> Binary format\n",
    "#### o --> Octal format\n",
    "#### x --> Hexa Decimal format (Lower case)\n",
    "#### X --> Hexa Decimal format (Upper case)"
   ]
  },
  {
   "cell_type": "code",
   "execution_count": 138,
   "metadata": {},
   "outputs": [
    {
     "name": "stdout",
     "output_type": "stream",
     "text": [
      "The integer number is: 123\n",
      "The integer number is: 123\n",
      "The integer number is:   123\n",
      "The integer number is: 00123\n",
      "The integer number is: 123456789\n"
     ]
    }
   ],
   "source": [
    "print(\"The integer number is: {}\".format(123))\n",
    "print(\"The integer number is: {:d}\".format(123))\n",
    "print(\"The integer number is: {:5d}\".format(123))\n",
    "print(\"The integer number is: {:05d}\".format(123))\n",
    "print(\"The integer number is: {:5d}\".format(123456789))"
   ]
  },
  {
   "cell_type": "code",
   "execution_count": 111,
   "metadata": {},
   "outputs": [
    {
     "name": "stdout",
     "output_type": "stream",
     "text": [
      "The float number is: 123.4567\n",
      "The float number is: 123.456700\n",
      "The float number is: 123.456700\n",
      "The float number is: 123.4567000\n",
      "The float number is: 00123.457\n",
      "The float number is: 0123.400\n",
      "The float number is: 12345656.789\n"
     ]
    }
   ],
   "source": [
    "print(\"The float number is: {}\".format(123.4567))\n",
    "print(\"The float number is: {:f}\".format(123.4567))\n",
    "print(\"The float number is: {:5f}\".format(123.4567))\n",
    "print(\"The float number is: {:8.7f}\".format(123.4567))\n",
    "print(\"The float number is: {:09.3f}\".format(123.4567891))\n",
    "print(\"The float number is: {:08.3f}\".format(123.4))\n",
    "print(\"The float number is: {:08.3f}\".format(12345656.789))"
   ]
  },
  {
   "cell_type": "code",
   "execution_count": 136,
   "metadata": {},
   "outputs": [
    {
     "name": "stdout",
     "output_type": "stream",
     "text": [
      "The float number is:123.400000000\n"
     ]
    }
   ],
   "source": [
    "print(\"The float number is:{:07.9f}\".format(123.4))"
   ]
  },
  {
   "cell_type": "code",
   "execution_count": 74,
   "metadata": {},
   "outputs": [
    {
     "name": "stdout",
     "output_type": "stream",
     "text": [
      "Binary Form :        10011001\n",
      "Binary Form :        10011001\n",
      "Binary Form : 000000010011001\n"
     ]
    }
   ],
   "source": [
    "print(\"Binary Form : {0:15b}\".format(153))\n",
    "print(\"Binary Form : {:15b}\".format(153))\n",
    "print(\"Binary Form : {:015b}\".format(153))"
   ]
  },
  {
   "cell_type": "code",
   "execution_count": 85,
   "metadata": {},
   "outputs": [
    {
     "name": "stdout",
     "output_type": "stream",
     "text": [
      "Octal Form : 231\n",
      "Octal Form :   231\n",
      "Octal Form : 000000231\n"
     ]
    }
   ],
   "source": [
    "print(\"Octal Form : {:o}\".format(153))\n",
    "print(\"Octal Form : {:5o}\".format(153))\n",
    "print(\"Octal Form : {:09o}\".format(153))"
   ]
  },
  {
   "cell_type": "code",
   "execution_count": 103,
   "metadata": {},
   "outputs": [
    {
     "name": "stdout",
     "output_type": "stream",
     "text": [
      "Hexa Decimal Form : 9a\n",
      "Hexa Decimal Form :    9a\n",
      "Hexa Decimal Form : 0009a\n",
      "\n",
      "\n",
      "Hexa Decimal Form : 9A\n",
      "Hexa Decimal Form :    9A\n",
      "Hexa Decimal Form : 0009A\n"
     ]
    }
   ],
   "source": [
    "print(\"Hexa Decimal Form : {:x}\".format(154))\n",
    "print(\"Hexa Decimal Form : {:5x}\".format(154))               # Hexa Decimal format (lower case)\n",
    "print(\"Hexa Decimal Form : {:05x}\".format(154))\n",
    "\n",
    "print(\"\\n\")\n",
    "\n",
    "print(\"Hexa Decimal Form : {:X}\".format(154))\n",
    "print(\"Hexa Decimal Form : {:5X}\".format(154))               # Hexa Decimal format (Upper case)\n",
    "print(\"Hexa Decimal Form : {:05X}\".format(154))"
   ]
  },
  {
   "cell_type": "markdown",
   "metadata": {},
   "source": [
    "### case 3: Number formatting for signed numbers :"
   ]
  },
  {
   "cell_type": "code",
   "execution_count": 143,
   "metadata": {},
   "outputs": [
    {
     "name": "stdout",
     "output_type": "stream",
     "text": [
      "int value with sign: +123\n"
     ]
    }
   ],
   "source": [
    "print(\"int value with sign: {:+d}\".format(123))"
   ]
  },
  {
   "cell_type": "code",
   "execution_count": 145,
   "metadata": {},
   "outputs": [
    {
     "name": "stdout",
     "output_type": "stream",
     "text": [
      "int value with sign:      +123\n"
     ]
    }
   ],
   "source": [
    "print(\"int value with sign: {:+9d}\".format(123))"
   ]
  },
  {
   "cell_type": "code",
   "execution_count": 147,
   "metadata": {},
   "outputs": [
    {
     "name": "stdout",
     "output_type": "stream",
     "text": [
      "int value with sign: +00000123\n"
     ]
    }
   ],
   "source": [
    "print(\"int value with sign: {:+09d}\".format(123))"
   ]
  },
  {
   "cell_type": "code",
   "execution_count": 154,
   "metadata": {},
   "outputs": [
    {
     "name": "stdout",
     "output_type": "stream",
     "text": [
      "int value with sign: -123\n",
      "int value with sign: -00123\n"
     ]
    }
   ],
   "source": [
    "print(\"int value with sign: {:+d}\".format(-123))\n",
    "print(\"int value with sign: {:06d}\".format(-123))"
   ]
  },
  {
   "cell_type": "code",
   "execution_count": 164,
   "metadata": {},
   "outputs": [
    {
     "name": "stdout",
     "output_type": "stream",
     "text": [
      "int value with sign: +123.456000\n",
      "int value with sign: +123.456000\n",
      "\n",
      "int value with sign: -123.456000\n",
      "int value with sign: -123.45600000\n"
     ]
    }
   ],
   "source": [
    "print(\"int value with sign: {:+f}\".format(123.456))\n",
    "print(\"int value with sign: {:+f}\".format(123.456))\n",
    "\n",
    "\n",
    "print()\n",
    "\n",
    "\n",
    "print(\"int value with sign: {:f}\".format(-123.456))\n",
    "print(\"int value with sign: {:9.8f}\".format(-123.456))"
   ]
  },
  {
   "cell_type": "markdown",
   "metadata": {},
   "source": [
    "### case 4: Number formatting with alignment : \n",
    "#### < , > , ^ , =  are used for alignment \n",
    "#### < ---- Left alignment to the remaining space\n",
    "#### > ---- Right alignment to the remaining space\n",
    "#### ^ ---- Center alignment to the remaining space\n",
    "#### = ---- Forces the signed (+) (-) to the left most position\n",
    "#### Defaultt alignment for numbers is Right Alignment"
   ]
  },
  {
   "cell_type": "code",
   "execution_count": 1,
   "metadata": {},
   "outputs": [
    {
     "name": "stdout",
     "output_type": "stream",
     "text": [
      "Number : 1255678\n",
      "Number :    12\n"
     ]
    }
   ],
   "source": [
    "print(\"Number : {:5d}\".format(1255678))\n",
    "print(\"Number : {:5d}\".format(12))                    # Defaultt alignment for numbers is Right Alignment"
   ]
  },
  {
   "cell_type": "code",
   "execution_count": 1,
   "metadata": {},
   "outputs": [
    {
     "name": "stdout",
     "output_type": "stream",
     "text": [
      "Number : 12   \n",
      "Number : 12000\n",
      "Number :                   12\n",
      "Number : 00012\n",
      "Number :  12  \n",
      "Number : -  12\n",
      "Number :   12.235  \n",
      "Number : - 12.235\n"
     ]
    }
   ],
   "source": [
    "print(\"Number : {:<5d}\".format(12))\n",
    "print(\"Number : {:<05d}\".format(12))\n",
    "print(\"Number : {:>5d}\".format(12))\n",
    "print(\"Number : {:>05d}\".format(12))\n",
    "print(\"Number : {:^5d}\".format(12))\n",
    "print(\"Number : {:=5d}\".format(-12))\n",
    "print(\"Number : {:^10.3f}\".format(12.23456))\n",
    "print(\"Number : {:=8.3f}\".format(-12.23456))"
   ]
  },
  {
   "cell_type": "code",
   "execution_count": 6,
   "metadata": {},
   "outputs": [
    {
     "name": "stdout",
     "output_type": "stream",
     "text": [
      "12     12      12\n"
     ]
    }
   ],
   "source": [
    "print(\"{:<5d} {:^5d} {:>5d}\".format(12,12,12))"
   ]
  },
  {
   "cell_type": "code",
   "execution_count": null,
   "metadata": {},
   "outputs": [],
   "source": []
  },
  {
   "cell_type": "code",
   "execution_count": null,
   "metadata": {},
   "outputs": [],
   "source": []
  },
  {
   "cell_type": "code",
   "execution_count": null,
   "metadata": {},
   "outputs": [],
   "source": []
  },
  {
   "cell_type": "markdown",
   "metadata": {},
   "source": [
    "### case 5: String formatting wirth .format() method : \n",
    "#### Default alignment for strings is LEFT"
   ]
  },
  {
   "cell_type": "code",
   "execution_count": 2,
   "metadata": {},
   "outputs": [
    {
     "name": "stdout",
     "output_type": "stream",
     "text": [
      "       12\n",
      "vinod    \n",
      "vinod    \n",
      "    vinod\n",
      "  vinod  \n",
      "vinod****\n",
      "****vinod\n"
     ]
    }
   ],
   "source": [
    "print(\"{:9d}\".format(12))\n",
    "print(\"{:9}\".format(\"vinod\"))\n",
    "print(\"{:<9}\".format(\"vinod\"))\n",
    "print(\"{:>9}\".format(\"vinod\"))\n",
    "print(\"{:^9}\".format(\"vinod\"))\n",
    "print(\"{:*<9}\".format(\"vinod\"))  # instead of * we can use any character (like +,$,a,etc)\n",
    "print(\"{:*>9}\".format(\"vinod\"))"
   ]
  },
  {
   "cell_type": "code",
   "execution_count": 19,
   "metadata": {
    "scrolled": true
   },
   "outputs": [
    {
     "name": "stdout",
     "output_type": "stream",
     "text": [
      "Enter Student Name : Vinod\n",
      "Marks in MATH: 1\n",
      "Marks in SCIENCE: 2\n",
      "Marks in ENGLISH: 3\n",
      "Marks in PYTHON: 4\n",
      "Enter Student Name : Swapnil\n",
      "Marks in MATH: 10\n",
      "Marks in SCIENCE: 20\n",
      "Marks in ENGLISH: 30\n",
      "Marks in PYTHON: 40\n",
      "Enter Student Name : Apurv\n",
      "Marks in MATH: 11\n",
      "Marks in SCIENCE: 22\n",
      "Marks in ENGLISH: 33\n",
      "Marks in PYTHON: 44\n",
      "Enter Student Name : Kiran\n",
      "Marks in MATH: 55\n",
      "Marks in SCIENCE: 66\n",
      "Marks in ENGLISH: 77\n",
      "Marks in PYTHON: 88\n",
      "Enter Student Name : Mahesh\n",
      "Marks in MATH: 50\n",
      "Marks in SCIENCE: 60\n",
      "Marks in ENGLISH: 70\n",
      "Marks in PYTHON: 80\n",
      "-----------------------------------------------------------\n",
      "|  NAME    |   MATH    |  SCIENCE  |  ENGLISH  |  PYTHON   |\n",
      "-----------------------------------------------------------\n",
      "|  Vinod   |     1     |     2     |     3     |     4     |\n",
      "-----------------------------------------------------------\n",
      "| Swapnil  |    10     |    20     |    30     |    40     |\n",
      "-----------------------------------------------------------\n",
      "|  Apurv   |    11     |    22     |    33     |    44     |\n",
      "-----------------------------------------------------------\n",
      "|  Kiran   |    55     |    66     |    77     |    88     |\n",
      "-----------------------------------------------------------\n",
      "| Mahesh   |    50     |    60     |    70     |    80     |\n",
      "-----------------------------------------------------------\n"
     ]
    }
   ],
   "source": [
    "list1 = []\n",
    "count = 1\n",
    "while count <= 5:\n",
    "    \n",
    "    name = input(\"Enter Student Name : \")\n",
    "    x = input(\"Marks in MATH: \")\n",
    "    y = input(\"Marks in SCIENCE: \")\n",
    "    z = input(\"Marks in ENGLISH: \")\n",
    "    a = input(\"Marks in PYTHON: \")\n",
    "    l = [name,x,y,z,a]\n",
    "    count += 1\n",
    "    list1.append(l)\n",
    "\n",
    "print(\"-----------------------------------------------------------\")\n",
    "print(\"|{:^9} | {:^9} | {:^9} | {:^9} | {:^9} |\".format(\"NAME\",\"MATH\",\"SCIENCE\",\"ENGLISH\",\"PYTHON\"))\n",
    "print(\"-----------------------------------------------------------\")\n",
    "\n",
    "for m in list1:\n",
    "    \n",
    "    name,x,y,z,a = m\n",
    "    print(\"|{:^9} | {:^9} | {:^9} | {:^9} | {:^9} |\".format(name,x,y,z,a))\n",
    "    print(\"-----------------------------------------------------------\")\n",
    "        \n",
    "\n"
   ]
  },
  {
   "cell_type": "code",
   "execution_count": null,
   "metadata": {},
   "outputs": [],
   "source": [
    "print(\"{:<9} {:^9} {:^9} {:^9} {:>9} \".format(\"Vinod\",50,60,70,80))"
   ]
  },
  {
   "cell_type": "code",
   "execution_count": null,
   "metadata": {},
   "outputs": [],
   "source": []
  },
  {
   "cell_type": "code",
   "execution_count": 1,
   "metadata": {},
   "outputs": [
    {
     "name": "stdout",
     "output_type": "stream",
     "text": [
      "|  vinod   |     2     |     3     |     4     |     5     |\n",
      "| mahesh   |    22     |    33     |    44     |    55     |\n",
      "| swapnil  |    12     |    34     |    56     |    78     |\n"
     ]
    }
   ],
   "source": [
    "list1 = [['vinod',2,3,4,5],['mahesh',22,33,44,55],['swapnil',12,34,56,78]]\n",
    "\n",
    "for m in list1:\n",
    "    \n",
    "    name,x,y,z,a = m\n",
    "    print(\"|{:^9} | {:^9} | {:^9} | {:^9} | {:^9} |\".format(name,x,y,z,a))"
   ]
  },
  {
   "cell_type": "code",
   "execution_count": 2,
   "metadata": {},
   "outputs": [
    {
     "name": "stdout",
     "output_type": "stream",
     "text": [
      "| swapnil  |    12     |    34     |    56     |    78     |\n",
      "| swapnil  |    12     |    34     |    56     |    78     |\n",
      "| swapnil  |    12     |    34     |    56     |    78     |\n"
     ]
    }
   ],
   "source": [
    "list1 = [['vinod',2,3,4,5],['mahesh',22,33,44,55],['swapnil',12,34,56,78]]\n",
    "\n",
    "for m in list1:\n",
    "    \n",
    "    \n",
    "    print(\"|{:^9} | {:^9} | {:^9} | {:^9} | {:^9} |\".format(name,x,y,z,a))"
   ]
  },
  {
   "cell_type": "markdown",
   "metadata": {},
   "source": [
    "### case 6: Truncating strings with .format() method :"
   ]
  },
  {
   "cell_type": "code",
   "execution_count": 32,
   "metadata": {},
   "outputs": [
    {
     "name": "stdout",
     "output_type": "stream",
     "text": [
      "vin\n"
     ]
    }
   ],
   "source": [
    "print(\"{:.3}\".format(\"vinodshende\")) #takes only 3 positions and truncate string upto 3 characters"
   ]
  },
  {
   "cell_type": "code",
   "execution_count": 33,
   "metadata": {},
   "outputs": [
    {
     "name": "stdout",
     "output_type": "stream",
     "text": [
      "vin       \n"
     ]
    }
   ],
   "source": [
    "print(\"{:10.3}\".format(\"vinodshende\"))   # it takes 10 position and truncate the string upto 3 characters and default alignment is LEFT"
   ]
  },
  {
   "cell_type": "code",
   "execution_count": 17,
   "metadata": {},
   "outputs": [
    {
     "name": "stdout",
     "output_type": "stream",
     "text": [
      "       dur\n"
     ]
    }
   ],
   "source": [
    "print(\"{:>10.3}\".format(\"durgasoftware\"))   # RIGHT Alignment"
   ]
  },
  {
   "cell_type": "code",
   "execution_count": 23,
   "metadata": {},
   "outputs": [
    {
     "name": "stdout",
     "output_type": "stream",
     "text": [
      "   dur    \n"
     ]
    }
   ],
   "source": [
    "print(\"{:^10.3}\".format(\"durgasoftware\"))    # Center Alignment"
   ]
  },
  {
   "cell_type": "code",
   "execution_count": 39,
   "metadata": {},
   "outputs": [
    {
     "name": "stdout",
     "output_type": "stream",
     "text": [
      "***dur****\n"
     ]
    }
   ],
   "source": [
    "print(\"{:*^10.3}\".format(\"durgasoftware\"))    # takes * instead of spaces"
   ]
  },
  {
   "cell_type": "code",
   "execution_count": null,
   "metadata": {},
   "outputs": [],
   "source": []
  },
  {
   "cell_type": "code",
   "execution_count": null,
   "metadata": {},
   "outputs": [],
   "source": []
  },
  {
   "cell_type": "markdown",
   "metadata": {},
   "source": [
    "### case 7: Formatting dictionary members using .format() method :"
   ]
  },
  {
   "cell_type": "code",
   "execution_count": 50,
   "metadata": {},
   "outputs": [
    {
     "name": "stdout",
     "output_type": "stream",
     "text": [
      "vinod's age is 21\n",
      "vinod's age is 21\n"
     ]
    }
   ],
   "source": [
    "person = {'age':21, 'name':'vinod'}\n",
    "\n",
    "print(\"{p[name]}'s age is {p[age]}\".format(p=person))    # p = person\n",
    "\n",
    "print(\"{name}'s age is {age}\".format(**person))   # Another way is **dictionary name/variable name ==> **person"
   ]
  },
  {
   "cell_type": "code",
   "execution_count": 52,
   "metadata": {},
   "outputs": [
    {
     "name": "stdout",
     "output_type": "stream",
     "text": [
      "Arun Tiwari is the author of the book 'Wings of fire' and it has 180 pages.\n",
      "Arun Tiwari is the author of the book 'Wings of fire' and it has 180 pages.\n"
     ]
    }
   ],
   "source": [
    "book = {'name':'Wings of fire', 'page':180, 'author':'Arun Tiwari'}\n",
    "\n",
    "print(\"{b[author]} is the author of the book '{b[name]}' and it has {b[page]} pages.\".format(b=book))\n",
    "\n",
    "print(\"{author} is the author of the book '{name}' and it has {page} pages.\".format(**book))   # **book"
   ]
  },
  {
   "cell_type": "code",
   "execution_count": null,
   "metadata": {},
   "outputs": [],
   "source": []
  },
  {
   "cell_type": "code",
   "execution_count": null,
   "metadata": {},
   "outputs": [],
   "source": []
  },
  {
   "cell_type": "markdown",
   "metadata": {},
   "source": [
    "### case 8: Formatting class members using .format() method :"
   ]
  },
  {
   "cell_type": "code",
   "execution_count": 54,
   "metadata": {},
   "outputs": [
    {
     "name": "stdout",
     "output_type": "stream",
     "text": [
      "Vinod's age is 21\n"
     ]
    }
   ],
   "source": [
    "class Person:\n",
    "    name = 'Vinod'\n",
    "    age = 21\n",
    "    \n",
    "print(\"{p.name}'s age is {p.age}\".format(p = Person()))\n",
    "    "
   ]
  },
  {
   "cell_type": "code",
   "execution_count": 55,
   "metadata": {},
   "outputs": [
    {
     "name": "stdout",
     "output_type": "stream",
     "text": [
      "Vinod's age is 21\n",
      "Swapnil's age is 22\n"
     ]
    }
   ],
   "source": [
    "class Person:\n",
    "    \n",
    "    def __init__(self,name,age):\n",
    "        self.name = name\n",
    "        self.age  = age\n",
    "        \n",
    "print(\"{p.name}'s age is {p.age}\".format(p = Person('Vinod',21)))\n",
    "print(\"{p.name}'s age is {p.age}\".format(p = Person('Swapnil',22)))"
   ]
  },
  {
   "cell_type": "code",
   "execution_count": null,
   "metadata": {},
   "outputs": [],
   "source": []
  },
  {
   "cell_type": "code",
   "execution_count": null,
   "metadata": {},
   "outputs": [],
   "source": []
  },
  {
   "cell_type": "markdown",
   "metadata": {},
   "source": [
    "### case 9: Dynamic formatting using .format() method :"
   ]
  },
  {
   "cell_type": "code",
   "execution_count": 66,
   "metadata": {},
   "outputs": [
    {
     "name": "stdout",
     "output_type": "stream",
     "text": [
      "*cat*\n",
      "**cat**\n",
      "cat**\n",
      "**cat\n"
     ]
    }
   ],
   "source": [
    "string = \"{:{fill}{align}{width}}\"\n",
    "\n",
    "print(string.format('cat',fill='*',align='^',width=5))\n",
    "# print(\"{:*^5}\".format(\"cat\"))\n",
    "\n",
    "print(string.format('cat',fill='*',align='^',width=7))\n",
    "# print(\"{:*^7}\".format(\"cat\"))\n",
    "\n",
    "print(string.format('cat',fill='*',align='<',width=5))\n",
    "# print(\"{:*<5}\".format(\"cat\"))\n",
    "\n",
    "print(string.format('cat',fill='*',align='>',width=5))\n",
    "# print(\"{:*>5}\".format(\"cat\"))"
   ]
  },
  {
   "cell_type": "code",
   "execution_count": null,
   "metadata": {},
   "outputs": [],
   "source": []
  },
  {
   "cell_type": "code",
   "execution_count": null,
   "metadata": {},
   "outputs": [],
   "source": []
  },
  {
   "cell_type": "code",
   "execution_count": null,
   "metadata": {},
   "outputs": [],
   "source": []
  },
  {
   "cell_type": "markdown",
   "metadata": {},
   "source": [
    "### case 10: Dynamic float template : "
   ]
  },
  {
   "cell_type": "code",
   "execution_count": 89,
   "metadata": {},
   "outputs": [
    {
     "name": "stdout",
     "output_type": "stream",
     "text": [
      "123.446  \n",
      "     1.23\n"
     ]
    }
   ],
   "source": [
    "num = \"{:{align}{width}.{precision}f}\"\n",
    "\n",
    "print(num.format(123.445636672, align='<', width=9, precision=3))\n",
    "\n",
    "print(num.format(1.23456789, align='>', width=9, precision=2))"
   ]
  },
  {
   "cell_type": "code",
   "execution_count": 92,
   "metadata": {},
   "outputs": [
    {
     "name": "stdout",
     "output_type": "stream",
     "text": [
      "123.446**\n",
      "*****1.23\n"
     ]
    }
   ],
   "source": [
    "num = \"{:{fill}{align}{width}.{precision}f}\"\n",
    "\n",
    "print(num.format(123.445636672,fill='*', align='<', width=9, precision=3))\n",
    "\n",
    "print(num.format(1.23456789,fill='*', align='>', width=9, precision=2))"
   ]
  },
  {
   "cell_type": "markdown",
   "metadata": {},
   "source": [
    "### case11: Formatting date values :"
   ]
  },
  {
   "cell_type": "code",
   "execution_count": 9,
   "metadata": {},
   "outputs": [
    {
     "name": "stdout",
     "output_type": "stream",
     "text": [
      "It's now 07/09/2021  11:02:59\n",
      "today's date is 07/09/2021 and time is 11:02:59\n"
     ]
    }
   ],
   "source": [
    "import datetime\n",
    "\n",
    "date = datetime.datetime.now()\n",
    "\n",
    "print(\"It's now {:%d/%m/%Y  %H:%M:%S}\".format(date))\n",
    "\n",
    "print(\"today's date is {:%d/%m/%Y and time is %H:%M:%S}\".format(date))"
   ]
  },
  {
   "cell_type": "code",
   "execution_count": null,
   "metadata": {},
   "outputs": [],
   "source": []
  },
  {
   "cell_type": "code",
   "execution_count": null,
   "metadata": {},
   "outputs": [],
   "source": []
  },
  {
   "cell_type": "code",
   "execution_count": null,
   "metadata": {},
   "outputs": [],
   "source": []
  },
  {
   "cell_type": "markdown",
   "metadata": {},
   "source": [
    "### case 12: Formatting complex numbers : "
   ]
  },
  {
   "cell_type": "code",
   "execution_count": 3,
   "metadata": {},
   "outputs": [
    {
     "name": "stdout",
     "output_type": "stream",
     "text": [
      "real part is 12.0 amd imaginary part is 2.0\n"
     ]
    }
   ],
   "source": [
    "comp = 12+2j\n",
    "\n",
    "print(\"real part is {0.real} amd imaginary part is {0.imag}\".format(comp))"
   ]
  },
  {
   "cell_type": "code",
   "execution_count": null,
   "metadata": {},
   "outputs": [],
   "source": []
  },
  {
   "cell_type": "code",
   "execution_count": 14,
   "metadata": {},
   "outputs": [],
   "source": []
  },
  {
   "cell_type": "code",
   "execution_count": null,
   "metadata": {},
   "outputs": [],
   "source": []
  },
  {
   "cell_type": "code",
   "execution_count": null,
   "metadata": {},
   "outputs": [],
   "source": []
  }
 ],
 "metadata": {
  "kernelspec": {
   "display_name": "Python 3",
   "language": "python",
   "name": "python3"
  },
  "language_info": {
   "codemirror_mode": {
    "name": "ipython",
    "version": 3
   },
   "file_extension": ".py",
   "mimetype": "text/x-python",
   "name": "python",
   "nbconvert_exporter": "python",
   "pygments_lexer": "ipython3",
   "version": "3.8.3"
  }
 },
 "nbformat": 4,
 "nbformat_minor": 4
}
