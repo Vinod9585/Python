{
 "cells": [
  {
   "cell_type": "markdown",
   "metadata": {},
   "source": [
    "## Decorator is a function which can take a function as an argument and extebd its functionality and returns modified function with extended functionality\n",
    "\n",
    "###  Input_Function ------> Decorator_Function -------> Output_Function_with_extended_functionality"
   ]
  },
  {
   "cell_type": "code",
   "execution_count": 1,
   "metadata": {},
   "outputs": [
    {
     "name": "stdout",
     "output_type": "stream",
     "text": [
      "Hello Vinod Good Morning\n",
      "Hello Mahesh Good Morning\n",
      "Hello Swapnil Good Morning\n"
     ]
    }
   ],
   "source": [
    "def wish(name):\n",
    "    print(\"Hello\",name,\"Good Morning\")\n",
    "\n",
    "wish(\"Vinod\")\n",
    "wish(\"Mahesh\")\n",
    "wish(\"Swapnil\")"
   ]
  },
  {
   "cell_type": "code",
   "execution_count": null,
   "metadata": {},
   "outputs": [],
   "source": []
  },
  {
   "cell_type": "markdown",
   "metadata": {},
   "source": [
    "## The main objective of decorator functions is we can extend the functionality of existing functions without modifying that function."
   ]
  },
  {
   "cell_type": "code",
   "execution_count": 3,
   "metadata": {},
   "outputs": [
    {
     "name": "stdout",
     "output_type": "stream",
     "text": [
      "Hello Vinod Good Morning\n",
      "Hello Mahesh Good Morning\n",
      "Hello Swapnil, What's up?\n",
      "Hello Apurv Good Morning\n"
     ]
    }
   ],
   "source": [
    "def decor(func):\n",
    "    def inner(name):\n",
    "        if name == \"Swapnil\":\n",
    "            print(\"Hello Swapnil, What's up?\")\n",
    "        else:\n",
    "            func(name)\n",
    "    return inner\n",
    "\n",
    "@decor       # @decor link wish function to decor function\n",
    "def wish(name):\n",
    "    print(\"Hello\",name,\"Good Morning\")\n",
    "    \n",
    "wish(\"Vinod\")\n",
    "wish(\"Mahesh\")\n",
    "wish(\"Swapnil\")\n",
    "wish(\"Apurv\")"
   ]
  },
  {
   "cell_type": "code",
   "execution_count": 2,
   "metadata": {},
   "outputs": [
    {
     "name": "stdout",
     "output_type": "stream",
     "text": [
      "Hello Vinod Good Morning\n",
      "Hello Mahesh Good Morning\n",
      "Hello Swapnil Good Morning\n",
      "Hello Apurv Good Morning\n"
     ]
    }
   ],
   "source": [
    "def decor(func):\n",
    "    def inner(name):\n",
    "        if name == \"Swapnil\":\n",
    "            print(\"Hello Swapnil, What's up?\")\n",
    "        else:\n",
    "            func(name)\n",
    "    return inner\n",
    "\n",
    "def wish(name):\n",
    "    print(\"Hello\",name,\"Good Morning\")\n",
    "    \n",
    "# @decor    # without @decor only wish function is going to execute\n",
    "\n",
    "wish(\"Vinod\")\n",
    "wish(\"Mahesh\")\n",
    "wish(\"Swapnil\")\n",
    "wish(\"Apurv\")"
   ]
  },
  {
   "cell_type": "code",
   "execution_count": null,
   "metadata": {},
   "outputs": [],
   "source": []
  },
  {
   "cell_type": "markdown",
   "metadata": {},
   "source": [
    "## We can call Same Function with Decorator and without Decorator\n",
    "### For this we should not use @decorator_name"
   ]
  },
  {
   "cell_type": "code",
   "execution_count": 9,
   "metadata": {},
   "outputs": [
    {
     "name": "stdout",
     "output_type": "stream",
     "text": [
      "Hello Vinod Good Morning\n",
      "Hello Swapnil Good Morning\n",
      "Hello Swapnil, What's up?\n",
      "Hello Vinod Good Morning\n"
     ]
    }
   ],
   "source": [
    "def decor(func):\n",
    "    def inner(name):\n",
    "        if name == \"Swapnil\":\n",
    "            print(\"Hello Swapnil, What's up?\")\n",
    "        else:\n",
    "            func(name)\n",
    "    return inner\n",
    "\n",
    "def wish(name):\n",
    "    print(\"Hello\",name,\"Good Morning\")\n",
    "    \n",
    "decorfunction = decor(wish)\n",
    "\n",
    "wish(\"Vinod\")              # decorator won't be executed\n",
    "wish(\"Swapnil\")            # decorator won't be executed\n",
    "decorfunction(\"Swapnil\")   # decorator will be executed\n",
    "decorfunction(\"Vinod\")     # decorator will be executed\n"
   ]
  },
  {
   "cell_type": "code",
   "execution_count": 12,
   "metadata": {},
   "outputs": [
    {
     "name": "stdout",
     "output_type": "stream",
     "text": [
      "Answer : 5.0\n",
      "Answer : 3.0\n",
      "Answer : 2.5\n",
      "Can't divide with zero!!!!\n",
      "Answer : 0.2\n",
      "Can't divide with zero!!!!\n"
     ]
    }
   ],
   "source": [
    "def smart_div(fun):\n",
    "    def inner(a,b):\n",
    "        if b == 0:\n",
    "            print(\"Can't divide with zero!!!!\")\n",
    "        else:\n",
    "            fun(a,b)\n",
    "    return inner\n",
    "    \n",
    "@smart_div\n",
    "def div(a,b):\n",
    "    print(\"Answer :\",a/b)\n",
    "    \n",
    "div(10,2)\n",
    "div(12,4)\n",
    "div(5,2)\n",
    "div(2,0)\n",
    "div(2,10)\n",
    "div(55,0)"
   ]
  },
  {
   "cell_type": "code",
   "execution_count": 3,
   "metadata": {},
   "outputs": [
    {
     "name": "stdout",
     "output_type": "stream",
     "text": [
      "Answer : 5.0\n",
      "Answer : 3.0\n",
      "Answer : 2.5\n"
     ]
    },
    {
     "ename": "ZeroDivisionError",
     "evalue": "division by zero",
     "output_type": "error",
     "traceback": [
      "\u001b[1;31m---------------------------------------------------------------------------\u001b[0m",
      "\u001b[1;31mZeroDivisionError\u001b[0m                         Traceback (most recent call last)",
      "\u001b[1;32m<ipython-input-3-076753bff87c>\u001b[0m in \u001b[0;36m<module>\u001b[1;34m\u001b[0m\n\u001b[0;32m      5\u001b[0m \u001b[0mdiv\u001b[0m\u001b[1;33m(\u001b[0m\u001b[1;36m12\u001b[0m\u001b[1;33m,\u001b[0m\u001b[1;36m4\u001b[0m\u001b[1;33m)\u001b[0m\u001b[1;33m\u001b[0m\u001b[1;33m\u001b[0m\u001b[0m\n\u001b[0;32m      6\u001b[0m \u001b[0mdiv\u001b[0m\u001b[1;33m(\u001b[0m\u001b[1;36m5\u001b[0m\u001b[1;33m,\u001b[0m\u001b[1;36m2\u001b[0m\u001b[1;33m)\u001b[0m\u001b[1;33m\u001b[0m\u001b[1;33m\u001b[0m\u001b[0m\n\u001b[1;32m----> 7\u001b[1;33m \u001b[0mdiv\u001b[0m\u001b[1;33m(\u001b[0m\u001b[1;36m2\u001b[0m\u001b[1;33m,\u001b[0m\u001b[1;36m0\u001b[0m\u001b[1;33m)\u001b[0m     \u001b[1;31m# ZeroDivisionError: division by zero\u001b[0m\u001b[1;33m\u001b[0m\u001b[1;33m\u001b[0m\u001b[0m\n\u001b[0m\u001b[0;32m      8\u001b[0m \u001b[0mdiv\u001b[0m\u001b[1;33m(\u001b[0m\u001b[1;36m2\u001b[0m\u001b[1;33m,\u001b[0m\u001b[1;36m10\u001b[0m\u001b[1;33m)\u001b[0m\u001b[1;33m\u001b[0m\u001b[1;33m\u001b[0m\u001b[0m\n\u001b[0;32m      9\u001b[0m \u001b[0mdiv\u001b[0m\u001b[1;33m(\u001b[0m\u001b[1;36m55\u001b[0m\u001b[1;33m,\u001b[0m\u001b[1;36m0\u001b[0m\u001b[1;33m)\u001b[0m    \u001b[1;31m# ZeroDivisionError: division by zero\u001b[0m\u001b[1;33m\u001b[0m\u001b[1;33m\u001b[0m\u001b[0m\n",
      "\u001b[1;32m<ipython-input-3-076753bff87c>\u001b[0m in \u001b[0;36mdiv\u001b[1;34m(a, b)\u001b[0m\n\u001b[0;32m      1\u001b[0m \u001b[1;32mdef\u001b[0m \u001b[0mdiv\u001b[0m\u001b[1;33m(\u001b[0m\u001b[0ma\u001b[0m\u001b[1;33m,\u001b[0m\u001b[0mb\u001b[0m\u001b[1;33m)\u001b[0m\u001b[1;33m:\u001b[0m\u001b[1;33m\u001b[0m\u001b[1;33m\u001b[0m\u001b[0m\n\u001b[1;32m----> 2\u001b[1;33m     \u001b[0mprint\u001b[0m\u001b[1;33m(\u001b[0m\u001b[1;34m\"Answer :\"\u001b[0m\u001b[1;33m,\u001b[0m\u001b[0ma\u001b[0m\u001b[1;33m/\u001b[0m\u001b[0mb\u001b[0m\u001b[1;33m)\u001b[0m\u001b[1;33m\u001b[0m\u001b[1;33m\u001b[0m\u001b[0m\n\u001b[0m\u001b[0;32m      3\u001b[0m \u001b[1;33m\u001b[0m\u001b[0m\n\u001b[0;32m      4\u001b[0m \u001b[0mdiv\u001b[0m\u001b[1;33m(\u001b[0m\u001b[1;36m10\u001b[0m\u001b[1;33m,\u001b[0m\u001b[1;36m2\u001b[0m\u001b[1;33m)\u001b[0m\u001b[1;33m\u001b[0m\u001b[1;33m\u001b[0m\u001b[0m\n\u001b[0;32m      5\u001b[0m \u001b[0mdiv\u001b[0m\u001b[1;33m(\u001b[0m\u001b[1;36m12\u001b[0m\u001b[1;33m,\u001b[0m\u001b[1;36m4\u001b[0m\u001b[1;33m)\u001b[0m\u001b[1;33m\u001b[0m\u001b[1;33m\u001b[0m\u001b[0m\n",
      "\u001b[1;31mZeroDivisionError\u001b[0m: division by zero"
     ]
    }
   ],
   "source": [
    "def div(a,b):\n",
    "    print(\"Answer :\",a/b)\n",
    "    \n",
    "div(10,2)\n",
    "div(12,4)\n",
    "div(5,2)\n",
    "div(2,0)     # ZeroDivisionError: division by zero\n",
    "div(2,10)\n",
    "div(55,0)    # ZeroDivisionError: division by zero"
   ]
  },
  {
   "cell_type": "code",
   "execution_count": 30,
   "metadata": {},
   "outputs": [
    {
     "name": "stdout",
     "output_type": "stream",
     "text": [
      "3628800\n",
      "Total time taken in :  factorial 2.0017874240875244\n"
     ]
    }
   ],
   "source": [
    "# decorator to calculate duration\n",
    "# taken by any function.\n",
    "import time\n",
    "import math\n",
    "def calculate_time(func):\n",
    "     \n",
    "    # added arguments inside the inner1,\n",
    "    # if function takes any arguments,\n",
    "    # can be added like this.\n",
    "    def inner1(*args, **kwargs):\n",
    " \n",
    "        # storing time before function execution\n",
    "        begin = time.time()\n",
    "         \n",
    "        func(*args, **kwargs)\n",
    " \n",
    "        # storing time after function execution\n",
    "        end = time.time()\n",
    "        print(\"Total time taken in : \", func.__name__, end - begin)\n",
    " \n",
    "    return inner1\n",
    " \n",
    " \n",
    " \n",
    "# this can be added to any function present,\n",
    "# in this case to calculate a factorial\n",
    "@calculate_time\n",
    "def factorial(num):\n",
    " \n",
    "    # sleep 2 seconds because it takes very less time\n",
    "    # so that you can see the actual difference\n",
    "    time.sleep(2)\n",
    "    print(math.factorial(num))\n",
    "\n",
    "factorial(10)"
   ]
  },
  {
   "cell_type": "code",
   "execution_count": 31,
   "metadata": {},
   "outputs": [
    {
     "name": "stdout",
     "output_type": "stream",
     "text": [
      "before Execution\n",
      "Inside the function\n",
      "after Execution\n",
      "Sum = 3\n"
     ]
    }
   ],
   "source": [
    "def hello_decorator(func):\n",
    "    def inner1(*args, **kwargs):\n",
    "         \n",
    "        print(\"before Execution\")\n",
    "         \n",
    "        # getting the returned value\n",
    "        returned_value = func(*args, **kwargs)\n",
    "        print(\"after Execution\")\n",
    "         \n",
    "        # returning the value to the original frame\n",
    "        return returned_value\n",
    "         \n",
    "    return inner1\n",
    "\n",
    "# adding decorator to the function\n",
    "\n",
    "@hello_decorator\n",
    "def sum_two_numbers(a, b):\n",
    "    print(\"Inside the function\")\n",
    "    return a + b\n",
    "\n",
    "a, b = 1, 2\n",
    "\n",
    "# getting the value through return of the function\n",
    "print(\"Sum =\", sum_two_numbers(a, b))"
   ]
  },
  {
   "cell_type": "code",
   "execution_count": null,
   "metadata": {},
   "outputs": [],
   "source": []
  },
  {
   "cell_type": "code",
   "execution_count": null,
   "metadata": {},
   "outputs": [],
   "source": []
  },
  {
   "cell_type": "code",
   "execution_count": null,
   "metadata": {},
   "outputs": [],
   "source": []
  },
  {
   "cell_type": "markdown",
   "metadata": {},
   "source": [
    "# Decorator Chaining :\n",
    "## We can define multiple decorators for the same function and all these decorators will form Decorator Chaining."
   ]
  },
  {
   "cell_type": "code",
   "execution_count": 22,
   "metadata": {},
   "outputs": [
    {
     "name": "stdout",
     "output_type": "stream",
     "text": [
      "Second Decor(decor2) Execution\n",
      "First Decor(decor1) Function Execution\n",
      "Hello Vinod Good Morning\n",
      "This is after function execution of decor1\n",
      "This is after function execution of decor2\n"
     ]
    }
   ],
   "source": [
    "def decor1(func1):\n",
    "    def inner1(name):\n",
    "        print(\"First Decor(decor1) Function Execution\")\n",
    "        func1(name)\n",
    "        print(\"This is after function execution of decor1\")\n",
    "    return inner1\n",
    "\n",
    "def decor2(func2):\n",
    "    def inner2(name):\n",
    "        print(\"Second Decor(decor2) Execution\")\n",
    "        func2(name)\n",
    "        print(\"This is after function execution of decor2\")\n",
    "    return inner2\n",
    "\n",
    "@decor2\n",
    "@decor1\n",
    "def wish(name):\n",
    "    print(\"Hello\",name,\"Good Morning\")\n",
    "    \n",
    "wish(\"Vinod\")"
   ]
  },
  {
   "cell_type": "markdown",
   "metadata": {},
   "source": [
    "# Decorator Chaining Flow : \n",
    "## In decorator chaining, execution will be from TOP to BOTTOM.\n",
    "\n",
    "### For better understading, TOP_DECOR( BOTTOM_DECOR( MAIN_INPUT_FUNCTION ))\n",
    "\n",
    "### When we call the function(wish), the decorator(TOP/decor2) we declared first will execute and then it will execute the function (inner2) inside it and while executing that function(inner2), the function(func2) call is nothing but the return value of decorator(BOTTOM/decor1). Then decorator(BOTTOM/decor1) will execute and for decorator(BOTTOM/decor1) the argument(input) function is the main input(wish). Therefore, under it wish will get executed.\n",
    "\n",
    "### wish(\"vinod\")--->decor2(func2==return value of decor1)--->inner2---> decor1(func1==wish)---> inner1---> decor2 end"
   ]
  },
  {
   "cell_type": "code",
   "execution_count": null,
   "metadata": {},
   "outputs": [],
   "source": []
  },
  {
   "cell_type": "code",
   "execution_count": 9,
   "metadata": {},
   "outputs": [
    {
     "name": "stdout",
     "output_type": "stream",
     "text": [
      "200\n"
     ]
    }
   ],
   "source": [
    "def decor1(func):\n",
    "    def inner():\n",
    "        x = func()\n",
    "        return x*x\n",
    "    return inner\n",
    "\n",
    "def decor2(func):\n",
    "    def inner():\n",
    "        x = func()\n",
    "        return x*2\n",
    "    return inner\n",
    "\n",
    "@decor2\n",
    "@decor1\n",
    "def num():\n",
    "    return 10\n",
    "\n",
    "print(num())"
   ]
  },
  {
   "cell_type": "code",
   "execution_count": 23,
   "metadata": {},
   "outputs": [
    {
     "name": "stdout",
     "output_type": "stream",
     "text": [
      "decor1 executing.....\n",
      "decor2 executing.....\n",
      "This is after function execution of decor2\n",
      "This is after function execution of decor1\n",
      "400\n"
     ]
    }
   ],
   "source": [
    "def decor1(func1):\n",
    "    def inner1():\n",
    "        print(\"decor1 executing.....\")\n",
    "        x = func1()\n",
    "        print(\"This is after function execution of decor1\")\n",
    "        return x*x\n",
    "        \n",
    "    return inner1\n",
    "\n",
    "def decor2(func2):\n",
    "    def inner2():\n",
    "        print(\"decor2 executing.....\")\n",
    "        x = func2()\n",
    "        print(\"This is after function execution of decor2\")\n",
    "        return x*2\n",
    "        \n",
    "    return inner2\n",
    "\n",
    "@decor1\n",
    "@decor2\n",
    "def num():\n",
    "    return 10\n",
    "\n",
    "print(num())\n",
    "#square = decor1(num)\n",
    "#double = decor2(num)\n",
    "\n",
    "#print(square())\n",
    "#print(double())"
   ]
  },
  {
   "cell_type": "code",
   "execution_count": null,
   "metadata": {},
   "outputs": [],
   "source": []
  }
 ],
 "metadata": {
  "kernelspec": {
   "display_name": "Python 3",
   "language": "python",
   "name": "python3"
  },
  "language_info": {
   "codemirror_mode": {
    "name": "ipython",
    "version": 3
   },
   "file_extension": ".py",
   "mimetype": "text/x-python",
   "name": "python",
   "nbconvert_exporter": "python",
   "pygments_lexer": "ipython3",
   "version": "3.8.3"
  }
 },
 "nbformat": 4,
 "nbformat_minor": 4
}
