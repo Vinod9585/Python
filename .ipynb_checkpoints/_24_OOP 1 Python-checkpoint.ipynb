{
 "cells": [
  {
   "cell_type": "code",
   "execution_count": null,
   "metadata": {},
   "outputs": [],
   "source": []
  },
  {
   "cell_type": "code",
   "execution_count": 85,
   "metadata": {},
   "outputs": [],
   "source": [
    "class Student:\n",
    "    '''This is Student class with required data'''\n",
    "    \n",
    "    def __init__(self,name,rollno,marks):\n",
    "        self.name = name\n",
    "        self.rollno = rollno\n",
    "        self.marks = marks\n",
    "        \n",
    "    def display(self):\n",
    "        print(\"Student Name: {}, Roll_No: {}, Marks: {}\".format(self.name,self.rollno,self.marks))\n",
    "        "
   ]
  },
  {
   "cell_type": "code",
   "execution_count": 86,
   "metadata": {},
   "outputs": [],
   "source": [
    "s1 = Student('vinod',101,80)"
   ]
  },
  {
   "cell_type": "code",
   "execution_count": 87,
   "metadata": {},
   "outputs": [
    {
     "name": "stdout",
     "output_type": "stream",
     "text": [
      "<__main__.Student object at 0x00000196D52EF790>\n"
     ]
    }
   ],
   "source": [
    "print(s1)"
   ]
  },
  {
   "cell_type": "code",
   "execution_count": 88,
   "metadata": {},
   "outputs": [
    {
     "data": {
      "text/plain": [
       "<__main__.Student at 0x196d53b0f70>"
      ]
     },
     "execution_count": 88,
     "metadata": {},
     "output_type": "execute_result"
    }
   ],
   "source": [
    "Student('vinod',101,80)"
   ]
  },
  {
   "cell_type": "code",
   "execution_count": 89,
   "metadata": {},
   "outputs": [
    {
     "data": {
      "text/plain": [
       "'vinod'"
      ]
     },
     "execution_count": 89,
     "metadata": {},
     "output_type": "execute_result"
    }
   ],
   "source": [
    "s1.name"
   ]
  },
  {
   "cell_type": "code",
   "execution_count": 90,
   "metadata": {},
   "outputs": [
    {
     "data": {
      "text/plain": [
       "101"
      ]
     },
     "execution_count": 90,
     "metadata": {},
     "output_type": "execute_result"
    }
   ],
   "source": [
    "s1.rollno"
   ]
  },
  {
   "cell_type": "code",
   "execution_count": 91,
   "metadata": {},
   "outputs": [
    {
     "data": {
      "text/plain": [
       "80"
      ]
     },
     "execution_count": 91,
     "metadata": {},
     "output_type": "execute_result"
    }
   ],
   "source": [
    "s1.marks"
   ]
  },
  {
   "cell_type": "code",
   "execution_count": 92,
   "metadata": {},
   "outputs": [],
   "source": [
    "s2 = Student('swapnil',102,35)"
   ]
  },
  {
   "cell_type": "code",
   "execution_count": 93,
   "metadata": {},
   "outputs": [
    {
     "data": {
      "text/plain": [
       "'swapnil'"
      ]
     },
     "execution_count": 93,
     "metadata": {},
     "output_type": "execute_result"
    }
   ],
   "source": [
    "s2.name"
   ]
  },
  {
   "cell_type": "code",
   "execution_count": 94,
   "metadata": {},
   "outputs": [
    {
     "data": {
      "text/plain": [
       "102"
      ]
     },
     "execution_count": 94,
     "metadata": {},
     "output_type": "execute_result"
    }
   ],
   "source": [
    "s2.rollno"
   ]
  },
  {
   "cell_type": "code",
   "execution_count": 95,
   "metadata": {},
   "outputs": [
    {
     "data": {
      "text/plain": [
       "35"
      ]
     },
     "execution_count": 95,
     "metadata": {},
     "output_type": "execute_result"
    }
   ],
   "source": [
    "s2.marks"
   ]
  },
  {
   "cell_type": "code",
   "execution_count": 96,
   "metadata": {},
   "outputs": [
    {
     "name": "stdout",
     "output_type": "stream",
     "text": [
      "Student Name: vinod, Roll_No: 101, Marks: 80\n"
     ]
    }
   ],
   "source": [
    "s1.display()"
   ]
  },
  {
   "cell_type": "code",
   "execution_count": 97,
   "metadata": {},
   "outputs": [
    {
     "name": "stdout",
     "output_type": "stream",
     "text": [
      "Student Name: swapnil, Roll_No: 102, Marks: 35\n"
     ]
    }
   ],
   "source": [
    "s2.display()"
   ]
  },
  {
   "cell_type": "code",
   "execution_count": 100,
   "metadata": {},
   "outputs": [
    {
     "data": {
      "text/plain": [
       "'This is Student class with required data'"
      ]
     },
     "execution_count": 100,
     "metadata": {},
     "output_type": "execute_result"
    }
   ],
   "source": [
    "s2.__doc__"
   ]
  },
  {
   "cell_type": "code",
   "execution_count": 99,
   "metadata": {},
   "outputs": [
    {
     "name": "stdout",
     "output_type": "stream",
     "text": [
      "Help on class Student in module __main__:\n",
      "\n",
      "class Student(builtins.object)\n",
      " |  Student(name, rollno, marks)\n",
      " |  \n",
      " |  This is Student class with required data\n",
      " |  \n",
      " |  Methods defined here:\n",
      " |  \n",
      " |  __init__(self, name, rollno, marks)\n",
      " |      Initialize self.  See help(type(self)) for accurate signature.\n",
      " |  \n",
      " |  display(self)\n",
      " |  \n",
      " |  ----------------------------------------------------------------------\n",
      " |  Data descriptors defined here:\n",
      " |  \n",
      " |  __dict__\n",
      " |      dictionary for instance variables (if defined)\n",
      " |  \n",
      " |  __weakref__\n",
      " |      list of weak references to the object (if defined)\n",
      "\n"
     ]
    }
   ],
   "source": [
    "help(Student)"
   ]
  },
  {
   "cell_type": "code",
   "execution_count": 110,
   "metadata": {},
   "outputs": [
    {
     "name": "stdout",
     "output_type": "stream",
     "text": [
      "Soft\n",
      "Soft\n",
      "Software\n",
      "None\n",
      "Soft\n"
     ]
    }
   ],
   "source": [
    "class Student:\n",
    "    cname = \"Soft\" \n",
    "    def m1(self):\n",
    "        self.cname = \"Software\"\n",
    "        print(self.cname)\n",
    "    \n",
    "s1 = Student()\n",
    "s2 = Student()\n",
    "print(s1.cname)\n",
    "print(s2.cname)\n",
    "print(s1.m1())\n",
    "print(Student.cname)"
   ]
  },
  {
   "cell_type": "code",
   "execution_count": 15,
   "metadata": {
    "scrolled": true
   },
   "outputs": [
    {
     "name": "stdout",
     "output_type": "stream",
     "text": [
      "Doc String : Demo code for class\n",
      "Name: vinod\n",
      "Age: 21\n",
      "Marks: 95\n",
      "\n",
      "Name: swapnil\n",
      "Age: 30\n",
      "Marks: 35\n"
     ]
    }
   ],
   "source": [
    "class Student:\n",
    "    '''Demo code for class'''\n",
    "    def __init__(self,name,age,mark):\n",
    "        self.name = name\n",
    "        self.age = age\n",
    "        self.mark = mark\n",
    "        \n",
    "    def talk(self):\n",
    "        \"\"\"Student's Info\"\"\"\n",
    "        print(\"Name:\",self.name)\n",
    "        print(\"Age:\",self.age)\n",
    "        print(\"Marks:\",self.mark)\n",
    "        \n",
    "s1 = Student(\"vinod\",21,95)\n",
    "s2 = Student(\"swapnil\",30,35)\n",
    "print(\"Doc String :\",s.__doc__)\n",
    "\n",
    "s1.talk()\n",
    "print()\n",
    "s2.talk()"
   ]
  },
  {
   "cell_type": "code",
   "execution_count": null,
   "metadata": {},
   "outputs": [],
   "source": []
  },
  {
   "cell_type": "code",
   "execution_count": 5,
   "metadata": {
    "scrolled": true
   },
   "outputs": [
    {
     "name": "stdout",
     "output_type": "stream",
     "text": [
      "Employee No. : 1\n",
      "Employee Name : Vinod\n",
      "Employee No. : 2\n",
      "Employee Name : Swapnil\n"
     ]
    }
   ],
   "source": [
    "class Employee:\n",
    "    '''Employee class'''\n",
    "    def __init__(self,eno,ename):\n",
    "        self.eno = eno\n",
    "        self.ename = ename\n",
    "        #print(\"Constructor execution......\")\n",
    "        \n",
    "    def display(self):\n",
    "        #print(\"method execution......\")\n",
    "        print(\"Employee No. :\",self.eno)\n",
    "        print(\"Employee Name :\",self.ename)\n",
    "        \n",
    "        \n",
    "e1 = Employee(1,\"Vinod\")\n",
    "e2 = Employee(2, \"Swapnil\")\n",
    "\n",
    "e1.display()\n",
    "e2.display()\n"
   ]
  },
  {
   "cell_type": "code",
   "execution_count": 14,
   "metadata": {},
   "outputs": [
    {
     "name": "stdout",
     "output_type": "stream",
     "text": [
      "Student Name: vinod\n",
      "Student roll no.: 1\n",
      "Student marks: 95\n",
      "\n",
      "Student Name: swapnil\n",
      "Student roll no.: 2\n",
      "Student marks: 35\n",
      "\n",
      "Student Name: apurv\n",
      "Student roll no.: 3\n",
      "Student marks: 101\n",
      "{'name': 'vinod', 'rollno': 1, 'marks': 95}\n"
     ]
    }
   ],
   "source": [
    "class Student:\n",
    "    \n",
    "    def __init__(self,name,rollno,marks):\n",
    "        self.name = name\n",
    "        self.rollno = rollno\n",
    "        self.marks = marks\n",
    "        \n",
    "    def display(self):\n",
    "        print('Student Name:',self.name)\n",
    "        print(\"Student roll no.:\",self.rollno)\n",
    "        print(\"Student marks:\",self.marks)\n",
    "        \n",
    "s1 = Student(\"vinod\",1,95)\n",
    "s2 = Student(\"swapnil\",2,35)\n",
    "s3 = Student(\"apurv\",3,101)\n",
    "\n",
    "s1.display()\n",
    "print()\n",
    "s2.display()\n",
    "print()\n",
    "s3.display()\n",
    "\n",
    "print(s1.__dict__)"
   ]
  },
  {
   "cell_type": "code",
   "execution_count": 18,
   "metadata": {},
   "outputs": [
    {
     "name": "stdout",
     "output_type": "stream",
     "text": [
      "{'a': 10, 'b': 20, 'd': 40, 'e': 50}\n",
      "{'a': 1000000, 'b': 20, 'd': 40, 'e': 50}\n"
     ]
    }
   ],
   "source": [
    "class Test:\n",
    "    \n",
    "    def __init__(self):\n",
    "        self.a = 10\n",
    "        self.b = 20\n",
    "    def m1(self):\n",
    "        self.c = 30\n",
    "        \n",
    "        \n",
    "t = Test()\n",
    "t.d = 40\n",
    "t.e = 50\n",
    "print(t.__dict__)\n",
    "t.a = 1000000\n",
    "print(t.__dict__)\n",
    "t.m1()"
   ]
  },
  {
   "cell_type": "code",
   "execution_count": 3,
   "metadata": {},
   "outputs": [
    {
     "name": "stdout",
     "output_type": "stream",
     "text": [
      "10 20\n",
      "{'a': 10, 'b': 20}\n",
      "t2 :  {'a': 10, 'b': 20}\n",
      "t2 :  {'a': 10, 'b': 20, 'c': 400}\n",
      "{'a': 10, 'b': 20, 'c': 30, 'd': 40}\n"
     ]
    }
   ],
   "source": [
    "class Test:\n",
    "    \n",
    "    def __init__(self):\n",
    "        self.a = 10\n",
    "        self.b = 20\n",
    "    def m1(self):\n",
    "        self.c = 30\n",
    "        self.d = 40\n",
    "        \n",
    "        \n",
    "t1 = Test()\n",
    "t2 = Test()\n",
    "print(t1.a,t1.b)\n",
    "print(t1.__dict__)\n",
    "print(\"t2 : \",t2.__dict__)\n",
    "t2.c  =400\n",
    "t1.m1()\n",
    "print(\"t2 : \",t2.__dict__)\n",
    "print(t1.__dict__)"
   ]
  },
  {
   "cell_type": "code",
   "execution_count": 1,
   "metadata": {},
   "outputs": [
    {
     "name": "stdout",
     "output_type": "stream",
     "text": [
      "s1 : {'name': 'vinod', 'age': 21, 'tech': 'python', 'm1': '12', 'm2': '15'}\n",
      "\n",
      "s2 : {'name': 'apurv', 'age': 35, 'tech': 'java', 'brand': 'RC', 'brand2': 'KF'}\n"
     ]
    }
   ],
   "source": [
    "class SE:\n",
    "    \n",
    "    def __init__(self,name,age,tech):\n",
    "        self.name = name\n",
    "        self.age = age\n",
    "        self.tech = tech\n",
    "        \n",
    "s1 = SE(\"vinod\",21,\"python\")\n",
    "s2 = SE(\"apurv\",35,\"java\")\n",
    "\n",
    "s1.m1 = \"12\"\n",
    "s1.m2 = \"15\"\n",
    "\n",
    "s2.brand = \"RC\"\n",
    "s2.brand2 = \"KF\"\n",
    "\n",
    "print(\"s1 :\",s1.__dict__)\n",
    "print()\n",
    "print(\"s2 :\",s2.__dict__)"
   ]
  },
  {
   "cell_type": "code",
   "execution_count": 6,
   "metadata": {},
   "outputs": [
    {
     "name": "stdout",
     "output_type": "stream",
     "text": [
      "t1 : {'a': 10, 'b': 20, 'd': 40}\n",
      "t2 : {'a': 10, 'b': 20, 'c': 30}\n"
     ]
    }
   ],
   "source": [
    "# to remove instance variable from an object\n",
    "\n",
    "class Test:\n",
    "    def __init__(self):\n",
    "        self.a = 10\n",
    "        self.b = 20\n",
    "        self.c = 30\n",
    "        self.d = 40\n",
    "    \n",
    "t1 = Test()\n",
    "t2 = Test()\n",
    "\n",
    "del t1.c\n",
    "del t2.d\n",
    "\n",
    "print(\"t1 :\",t1.__dict__)\n",
    "print(\"t2 :\",t2.__dict__)"
   ]
  },
  {
   "cell_type": "markdown",
   "metadata": {},
   "source": [
    "## Static variable :"
   ]
  },
  {
   "cell_type": "code",
   "execution_count": null,
   "metadata": {},
   "outputs": [],
   "source": [
    "class Student:\n",
    "    cname = \"i2it\"\n",
    "    \n",
    "    def __init__(self,name,rollno):\n",
    "        self.name = name\n",
    "        self.rollno = rollno\n",
    "\n"
   ]
  },
  {
   "cell_type": "code",
   "execution_count": 25,
   "metadata": {},
   "outputs": [
    {
     "name": "stdout",
     "output_type": "stream",
     "text": [
      "t1 a: 10\n",
      "t1 a: 500\n",
      "t1 b: 300\n",
      "t1 a: 500\n",
      "\n",
      "t2 a: 500\n",
      "t2 b: 20\n",
      "t2 a: 500\n"
     ]
    }
   ],
   "source": [
    "class Test:\n",
    "    a = 10\n",
    "    def __init__(self):\n",
    "        self.b = 20\n",
    "        \n",
    "t1 = Test()\n",
    "t2 = Test()\n",
    "\n",
    "print(\"t1 a:\",t1.a)\n",
    "Test.a = 500   ################\n",
    "t1.b = 300\n",
    "\n",
    "print(\"t1 a:\",t1.a)\n",
    "print(\"t1 b:\",t1.b)\n",
    "print(\"t1 a:\",t1.a)\n",
    "\n",
    "print()\n",
    "\n",
    "print(\"t2 a:\",t2.a)\n",
    "print(\"t2 b:\",t2.b)\n",
    "print(\"t2 a:\",Test.a)\n"
   ]
  },
  {
   "cell_type": "markdown",
   "metadata": {},
   "source": [
    "## Various places to declare statctic variables :"
   ]
  },
  {
   "cell_type": "code",
   "execution_count": 23,
   "metadata": {},
   "outputs": [
    {
     "name": "stdout",
     "output_type": "stream",
     "text": [
      "{'__module__': '__main__', 'a': 10, '__init__': <function Test.__init__ at 0x00000298D9D170D0>, 'm1': <function Test.m1 at 0x00000298D9D17040>, 'm2': <classmethod object at 0x00000298D9C3B550>, 'm3': <staticmethod object at 0x00000298D9C3BE80>, '__dict__': <attribute '__dict__' of 'Test' objects>, '__weakref__': <attribute '__weakref__' of 'Test' objects>, '__doc__': None, 'c': 30, 'e': 50, 'f': 60, 'g': 70, 'h': 80, 'j': 100}\n",
      "\n",
      "10 20 30 40 50 60 70 80 100\n",
      "10 30 50 60 70 80 100\n"
     ]
    }
   ],
   "source": [
    "class Test:\n",
    "    a = 10            # inside class\n",
    "    \n",
    "    def __init__(self):\n",
    "        self.b = 20\n",
    "        Test.c = 30   # inside constructor\n",
    "        \n",
    "    def m1(self):\n",
    "        self.d = 40\n",
    "        Test.e = 50   # inside instance method\n",
    "        \n",
    "    @classmethod\n",
    "    def m2(cls):\n",
    "        cls.f = 60     # inside classmethod cls variable or class name\n",
    "        Test.g = 70\n",
    "        \n",
    "    @staticmethod\n",
    "    def m3():\n",
    "        Test.h = 80     # inside static method\n",
    "        \n",
    "    \n",
    "        \n",
    "t = Test()\n",
    "t.m1()\n",
    "Test.m2()\n",
    "Test.m3()\n",
    "Test.j = 100             # outside using class name\n",
    "print(Test.__dict__)\n",
    "\n",
    "print()\n",
    "\n",
    "print(t.a, t.b, t.c, t.d, t.e, t.f, t.g, t.h, t.j)\n",
    "\n",
    "print(Test.a, Test.c, Test.e, Test.f, Test.g, Test.h, Test.j)"
   ]
  },
  {
   "cell_type": "markdown",
   "metadata": {},
   "source": [
    "## To access static variables :"
   ]
  },
  {
   "cell_type": "code",
   "execution_count": 4,
   "metadata": {
    "scrolled": true
   },
   "outputs": [
    {
     "name": "stdout",
     "output_type": "stream",
     "text": [
      "10\n",
      "10\n",
      "10\n",
      "10\n",
      "10\n",
      "10\n",
      "10\n",
      "10\n",
      "10\n"
     ]
    }
   ],
   "source": [
    "class Test:\n",
    "    a = 10\n",
    "    \n",
    "    def __init__(self):\n",
    "        print(self.a)\n",
    "        print(Test.a)\n",
    "        \n",
    "    def m1(self):\n",
    "        print(self.a)\n",
    "        print(Test.a)\n",
    "        \n",
    "    @classmethod\n",
    "    def m2(cls):\n",
    "        print(cls.a)\n",
    "        print(Test.a)\n",
    "        \n",
    "    @staticmethod\n",
    "    def m3():\n",
    "        print(Test.a)\n",
    "        \n",
    "t = Test()\n",
    "t.m1()\n",
    "Test.m2()   # or t.m2(), we can call @classmethod either by using classname or by object reference\n",
    "Test.m3()   # or t.m2(), we can call @staticmethod either by using classname or by object reference\n",
    "print(t.a)\n",
    "print(Test.a)"
   ]
  },
  {
   "cell_type": "markdown",
   "metadata": {},
   "source": [
    "## where we can modify the value of STATIC VARIABLE"
   ]
  },
  {
   "cell_type": "code",
   "execution_count": 2,
   "metadata": {},
   "outputs": [
    {
     "name": "stdout",
     "output_type": "stream",
     "text": [
      "t1 : 888 999\n",
      "t2 : 1000000 20\n",
      "static variable a : 1000000\n",
      "instance variable t1 : {'b': 999, 'a': 888}\n",
      "instance variable t2 : {'b': 20}\n",
      "static variable :  {'__module__': '__main__', 'a': 1000000, '__init__': <function Test.__init__ at 0x00000197D27A3790>, '__dict__': <attribute '__dict__' of 'Test' objects>, '__weakref__': <attribute '__weakref__' of 'Test' objects>, '__doc__': None}\n"
     ]
    }
   ],
   "source": [
    "# to modify static variable use classname and cls for classmethod\n",
    "\n",
    "class Test:\n",
    "    a = 10\n",
    "    \n",
    "    def __init__(self):\n",
    "        self.b = 20\n",
    "\n",
    "t1 = Test()\n",
    "t2 = Test()\n",
    "\n",
    "t1.a = 888     # it is creating new instance variable a for t1 and modifying static variable\n",
    "t1.b = 999\n",
    "#t1.a += 1\n",
    "#t2.a += 1\n",
    "Test.a = 1000000\n",
    "#Test.a += 1\n",
    "\n",
    "print(\"t1 :\",t1.a,t1.b)\n",
    "print(\"t2 :\",t2.a,t2.b)\n",
    "print(\"static variable a :\",Test.a)\n",
    "\n",
    "print(\"instance variable t1 :\",t1.__dict__)\n",
    "print(\"instance variable t2 :\",t2.__dict__)\n",
    "print(\"static variable : \",Test.__dict__)"
   ]
  },
  {
   "cell_type": "code",
   "execution_count": 8,
   "metadata": {},
   "outputs": [
    {
     "name": "stdout",
     "output_type": "stream",
     "text": [
      "10\n",
      "{'a': 888}\n",
      "{'__module__': '__main__', 'a': 10, 'm1': <function Test.m1 at 0x00000197D286F700>, '__dict__': <attribute '__dict__' of 'Test' objects>, '__weakref__': <attribute '__weakref__' of 'Test' objects>, '__doc__': None}\n"
     ]
    }
   ],
   "source": [
    "class Test:\n",
    "    a = 10     \n",
    "    def m1(self):\n",
    "        self.a = 888 \n",
    "        \n",
    "t1 = Test()\n",
    "t1.m1()\n",
    "print(Test.a)\n",
    "print(t1.__dict__)\n",
    "print(Test.__dict__)"
   ]
  },
  {
   "cell_type": "code",
   "execution_count": 14,
   "metadata": {},
   "outputs": [
    {
     "name": "stdout",
     "output_type": "stream",
     "text": [
      "t1 : 11 20\n",
      "t2 : 10 21\n",
      "t1 : {'y': 20, 'x': 11}\n",
      "t2 : {'y': 21}\n",
      "class : {'__module__': '__main__', 'x': 10, '__init__': <function Test.__init__ at 0x00000197D286F670>, '__dict__': <attribute '__dict__' of 'Test' objects>, '__weakref__': <attribute '__weakref__' of 'Test' objects>, '__doc__': None}\n"
     ]
    }
   ],
   "source": [
    "class Test:\n",
    "    x = 10\n",
    "    def __init__(self):\n",
    "        self.y = 20\n",
    "        \n",
    "t1 = Test()\n",
    "t2 = Test()\n",
    "\n",
    "t1.x = t1.x+1\n",
    "t2.y = t2.y+1\n",
    "#Test.x = Test.x+1\n",
    "\n",
    "print(\"t1 :\",t1.x,t1.y)\n",
    "print(\"t2 :\",t2.x,t2.y)\n",
    "print(\"t1 :\",t1.__dict__)\n",
    "print(\"t2 :\",t2.__dict__)\n",
    "print(\"class :\",Test.__dict__)"
   ]
  },
  {
   "cell_type": "code",
   "execution_count": 25,
   "metadata": {},
   "outputs": [
    {
     "name": "stdout",
     "output_type": "stream",
     "text": [
      "self : <__main__.Test object at 0x00000197D27C4EE0>\n",
      "self : <__main__.Test object at 0x00000197D27C43A0>\n",
      "cls : <class '__main__.Test'>\n",
      "888 20\n",
      "888 20\n",
      "t1 : 888 20\n",
      "t2 : 888 20\n",
      "instance variable t1 : {'b': 20}\n",
      "instance variable t2 : {'b': 20}\n",
      "static variable :  {'__module__': '__main__', 'a': 888, '__init__': <function Test.__init__ at 0x00000197D27A3E50>, 'm1': <classmethod object at 0x00000197D27C4A00>, '__dict__': <attribute '__dict__' of 'Test' objects>, '__weakref__': <attribute '__weakref__' of 'Test' objects>, '__doc__': None, 'b': 999}\n"
     ]
    }
   ],
   "source": [
    "class Test:\n",
    "    a = 10\n",
    "    def __init__(self):\n",
    "        self.b = 20\n",
    "        print(\"self :\",self)\n",
    "    @classmethod\n",
    "    def m1(cls):\n",
    "        cls.a = 888\n",
    "        cls.b = 999\n",
    "        print(\"cls :\",cls)\n",
    "t1 = Test()\n",
    "t2 = Test()\n",
    "\n",
    "t1.m1()\n",
    "\n",
    "print(t1.a,t1.b)\n",
    "print(t2.a,t2.b)\n",
    "#print(Test.a,Test.b)\n",
    "\n",
    "print(\"t1 :\",t1.a,t1.b)\n",
    "print(\"t2 :\",t2.a,t2.b)\n",
    "\n",
    "print(\"instance variable t1 :\",t1.__dict__)\n",
    "print(\"instance variable t2 :\",t2.__dict__)\n",
    "print(\"static variable : \",Test.__dict__)"
   ]
  },
  {
   "cell_type": "markdown",
   "metadata": {},
   "source": [
    "## To delete static variables of a class"
   ]
  },
  {
   "cell_type": "code",
   "execution_count": 30,
   "metadata": {},
   "outputs": [
    {
     "name": "stdout",
     "output_type": "stream",
     "text": [
      "{'__module__': '__main__', 'm1': <classmethod object at 0x00000197D287D5B0>, '__dict__': <attribute '__dict__' of 'Test' objects>, '__weakref__': <attribute '__weakref__' of 'Test' objects>, '__doc__': None}\n"
     ]
    }
   ],
   "source": [
    "class Test:\n",
    "    a = 10\n",
    "\n",
    "    @classmethod\n",
    "    def m1(cls):\n",
    "        del cls.a\n",
    "\n",
    "t = Test()\n",
    "t.m1()\n",
    "print(Test.__dict__)"
   ]
  },
  {
   "cell_type": "code",
   "execution_count": null,
   "metadata": {},
   "outputs": [],
   "source": []
  },
  {
   "cell_type": "code",
   "execution_count": 36,
   "metadata": {},
   "outputs": [
    {
     "name": "stdout",
     "output_type": "stream",
     "text": [
      "Welcome to sbi\n",
      "Enter your name : vinod\n",
      "d-Deposit \n",
      "w-Withdraw \n",
      "e-Exit\n",
      "Choose your option : d\n",
      "Enter amount : 20000\n",
      "Balance after deposit : 20000.0\n",
      "d-Deposit \n",
      "w-Withdraw \n",
      "e-Exit\n",
      "Choose your option : w\n",
      "Enter amount : 4000\n",
      "Balance after withdrawal : 16000.0\n",
      "d-Deposit \n",
      "w-Withdraw \n",
      "e-Exit\n",
      "Choose your option : q\n",
      "Invalid option..... Plz choose right option\n",
      "d-Deposit \n",
      "w-Withdraw \n",
      "e-Exit\n",
      "Choose your option : e\n",
      "Thanks for banking\n"
     ]
    },
    {
     "ename": "SystemExit",
     "evalue": "",
     "output_type": "error",
     "traceback": [
      "An exception has occurred, use %tb to see the full traceback.\n",
      "\u001b[1;31mSystemExit\u001b[0m\n"
     ]
    },
    {
     "name": "stderr",
     "output_type": "stream",
     "text": [
      "C:\\Users\\91774\\anaconda3\\lib\\site-packages\\IPython\\core\\interactiveshell.py:3351: UserWarning: To exit: use 'exit', 'quit', or Ctrl-D.\n",
      "  warn(\"To exit: use 'exit', 'quit', or Ctrl-D.\", stacklevel=1)\n"
     ]
    }
   ],
   "source": [
    "import sys\n",
    "\n",
    "class Customer:\n",
    "    \"\"\"Customer class with bank operation\"\"\"\n",
    "    bankname = \"sbi\"\n",
    "    def __init__(self,name,balance=0):\n",
    "        self.name = name\n",
    "        self.balance = balance\n",
    "        \n",
    "    def deposit(self,amt):\n",
    "        self.balance += amt\n",
    "        print(\"Balance after deposit :\",self.balance)\n",
    "        \n",
    "    def withdraw(self,amt):\n",
    "        if amt>self.balance:\n",
    "            print(\"Insufficient funds... cannot perform withdraw operation\")\n",
    "        else:\n",
    "            self.balance -= amt\n",
    "            print(\"Balance after withdrawal :\",self.balance)\n",
    "        \n",
    "        \n",
    "print(\"Welcome to\",Customer.bankname)\n",
    "name = input(\"Enter your name : \")\n",
    "\n",
    "c = Customer(name)\n",
    "\n",
    "while True:\n",
    "    print(\"d-Deposit \\nw-Withdraw \\ne-Exit\")\n",
    "    option = input(\"Choose your option : \")\n",
    "    if option==\"d\" or option==\"D\":\n",
    "        amt = float(input(\"Enter amount : \"))\n",
    "        c.deposit(amt)\n",
    "    elif option==\"w\" or option==\"W\":\n",
    "        amt = float(input(\"Enter amount : \"))\n",
    "        c.withdraw(amt)\n",
    "    elif option==\"e\" or option==\"E\":\n",
    "        print(\"Thanks for banking\")\n",
    "        sys.exit()\n",
    "    else:\n",
    "        print(\"Invalid option..... Plz choose right option\")\n",
    "        "
   ]
  },
  {
   "cell_type": "markdown",
   "metadata": {},
   "source": [
    "## Local Variables"
   ]
  },
  {
   "cell_type": "code",
   "execution_count": 2,
   "metadata": {},
   "outputs": [
    {
     "name": "stdout",
     "output_type": "stream",
     "text": [
      "Hello\n",
      "Hello\n",
      "Hello\n",
      "Hello\n",
      "Hello\n",
      "Hello\n",
      "Hello\n",
      "Hello\n",
      "Hello\n",
      "Hello\n",
      "b : 2000\n"
     ]
    }
   ],
   "source": [
    "class Test:\n",
    "    def m1(self):\n",
    "        i = 0              # local variable\n",
    "        while i<10:\n",
    "            print(\"Hello\")\n",
    "            i += 1\n",
    "            \n",
    "    def m2(self):\n",
    "        b = 2000\n",
    "        print(\"b :\",b)\n",
    "            \n",
    "t = Test()\n",
    "t.m1()\n",
    "t.m2()\n",
    "#print(t.__dict__)"
   ]
  },
  {
   "cell_type": "markdown",
   "metadata": {},
   "source": [
    "# Types of Methods"
   ]
  },
  {
   "cell_type": "markdown",
   "metadata": {},
   "source": [
    "## 1. Instance Methods :"
   ]
  },
  {
   "cell_type": "code",
   "execution_count": 1,
   "metadata": {},
   "outputs": [
    {
     "name": "stdout",
     "output_type": "stream",
     "text": [
      "Enter number of student : 5\n",
      "Enter Student name : vinod\n",
      "Enter Student marks : 55\n",
      "Hi vinod\n",
      "marks obtained :  55\n",
      "You got Second Grade\n",
      "\n",
      "Enter Student name : swapnil\n",
      "Enter Student marks : 94\n",
      "Hi swapnil\n",
      "marks obtained :  94\n",
      "You got First Grade\n",
      "\n",
      "Enter Student name : apurv\n",
      "Enter Student marks : 35\n",
      "Hi apurv\n",
      "marks obtained :  35\n",
      "You got Third Grade\n",
      "\n",
      "Enter Student name : mahesh\n",
      "Enter Student marks : 75\n",
      "Hi mahesh\n",
      "marks obtained :  75\n",
      "You got First Grade\n",
      "\n",
      "Enter Student name : abhi\n",
      "Enter Student marks : 34\n",
      "Hi abhi\n",
      "marks obtained :  34\n",
      "You are FAILED\n",
      "\n"
     ]
    }
   ],
   "source": [
    "class Student:\n",
    "    def __init__(self,name,marks):\n",
    "        self.name = name\n",
    "        self.marks = marks\n",
    "        \n",
    "    def display(self):\n",
    "        print(\"Hi\",self.name)\n",
    "        print(\"marks obtained : \",self.marks)\n",
    "        \n",
    "    def grade(self):\n",
    "        if self.marks >= 60:\n",
    "            print(\"You got First Grade\")\n",
    "        elif 50<=self.marks<60:\n",
    "            print(\"You got Second Grade\")\n",
    "        elif 35<=self.marks<50:\n",
    "            print(\"You got Third Grade\")\n",
    "        else:\n",
    "            print(\"You are FAILED!!!\")\n",
    "\n",
    "n = int(input(\"Enter number of student : \"))\n",
    "print()\n",
    "\n",
    "for _ in range(n):\n",
    "    name = input(\"Enter Student name : \")\n",
    "    marks = int(input(\"Enter Student marks : \"))\n",
    "    s = Student(name,marks)\n",
    "    s.display()\n",
    "    s.grade()\n",
    "    print()"
   ]
  },
  {
   "cell_type": "markdown",
   "metadata": {},
   "source": [
    "## Setter and Getter methods "
   ]
  },
  {
   "cell_type": "markdown",
   "metadata": {},
   "source": [
    "# Setter Methods / Mutator method :"
   ]
  },
  {
   "cell_type": "code",
   "execution_count": 12,
   "metadata": {},
   "outputs": [
    {
     "name": "stdout",
     "output_type": "stream",
     "text": [
      "Enter number of student : 2\n",
      "Enter name of the student : vinod\n",
      "Enter marks of the student : 95\n",
      "Hi vinod\n",
      "You got 95 marks\n",
      "Enter name of the student : swapnil\n",
      "Enter marks of the student : 45\n",
      "Hi swapnil\n",
      "You got 45 marks\n"
     ]
    }
   ],
   "source": [
    "class Student:\n",
    "    \n",
    "    def setName(self,name):\n",
    "        self.name = name\n",
    "        \n",
    "    def getName(self):\n",
    "        return self.name\n",
    "    \n",
    "    def setMarks(self,marks):\n",
    "        self.marks = marks\n",
    "        \n",
    "    def getMarks(self):\n",
    "        return self.marks\n",
    "    \n",
    "n = int(input(\"Enter number of student : \"))\n",
    "print()\n",
    "\n",
    "for _ in range(n):\n",
    "    s = Student()\n",
    "    name = input(\"Enter name of the student : \")\n",
    "    s.setName(name)\n",
    "    marks = int(input(\"Enter marks of the student : \"))\n",
    "    s.setMarks(marks)\n",
    "    print(\"Hi\",s.getName())\n",
    "    print(\"You got\",s.getMarks(),\"marks\")\n",
    "    print()"
   ]
  },
  {
   "cell_type": "code",
   "execution_count": null,
   "metadata": {},
   "outputs": [],
   "source": []
  },
  {
   "cell_type": "markdown",
   "metadata": {},
   "source": [
    "## 2. Class methods :"
   ]
  },
  {
   "cell_type": "code",
   "execution_count": 15,
   "metadata": {},
   "outputs": [
    {
     "name": "stdout",
     "output_type": "stream",
     "text": [
      "Dog walks with 4 legs...\n",
      "Cat walks with 4 legs...\n"
     ]
    }
   ],
   "source": [
    "class Animal:\n",
    "    legs = 4\n",
    "    @classmethod\n",
    "    def walk(cls,name):\n",
    "        print(f\"{name} walks with {cls.legs} legs...\")\n",
    "        \n",
    "Animal.walk(\"Dog\")\n",
    "Animal.walk(\"Cat\")"
   ]
  },
  {
   "cell_type": "code",
   "execution_count": 3,
   "metadata": {},
   "outputs": [
    {
     "name": "stdout",
     "output_type": "stream",
     "text": [
      "The number of objects created : 2\n",
      "The number of objects created : 6\n"
     ]
    }
   ],
   "source": [
    "# program to track the number of objects created for a class\n",
    "\n",
    "class Test:\n",
    "    count = 0\n",
    "    def __init__(self):\n",
    "        Test.count += 1\n",
    "        \n",
    "    @classmethod\n",
    "    def no_of_objects(cls):\n",
    "        print(\"The number of objects created :\",cls.count)\n",
    "        \n",
    "t1 = Test()\n",
    "t2 = Test()\n",
    "Test.no_of_objects()\n",
    "t3 = Test()\n",
    "t4 = Test()\n",
    "t5 = Test()\n",
    "t6 = Test()\n",
    "t6.no_of_objects()"
   ]
  },
  {
   "cell_type": "markdown",
   "metadata": {},
   "source": [
    "## 3. Static methods"
   ]
  },
  {
   "cell_type": "code",
   "execution_count": 1,
   "metadata": {},
   "outputs": [
    {
     "name": "stdout",
     "output_type": "stream",
     "text": [
      "sum : 30\n",
      "product : 200\n",
      "average : 15.0\n"
     ]
    }
   ],
   "source": [
    "class VinMath:\n",
    "    \n",
    "    @staticmethod\n",
    "    def add(x,y):\n",
    "        print(\"sum :\", x+y)\n",
    "    @staticmethod  \n",
    "    def product(x,y):\n",
    "        print(\"product :\", x*y)\n",
    "    @staticmethod    \n",
    "    def average(x,y):\n",
    "        print(\"average :\", (x+y)/2)\n",
    "        \n",
    "VinMath.add(10,20)\n",
    "VinMath.product(10,20)\n",
    "VinMath.average(10,20)"
   ]
  },
  {
   "cell_type": "markdown",
   "metadata": {},
   "source": [
    "### Passing members of one class to another class :"
   ]
  },
  {
   "cell_type": "code",
   "execution_count": 24,
   "metadata": {},
   "outputs": [
    {
     "name": "stdout",
     "output_type": "stream",
     "text": [
      "Employee Number : 100\n",
      "Employee Name : vinod\n",
      "Employee Salary : 20000\n"
     ]
    }
   ],
   "source": [
    "class Employee:\n",
    "    \n",
    "    def __init__(self,eno,ename,esal):\n",
    "        self.eno = eno\n",
    "        self.ename = ename\n",
    "        self.esal = esal\n",
    "        \n",
    "    def display(self):\n",
    "        print(\"Employee Number :\",self.eno)\n",
    "        print(\"Employee Name :\",self.ename)\n",
    "        print(\"Employee Salary :\",self.esal)\n",
    "        \n",
    "class Test:\n",
    "    def modify(emp):\n",
    "        emp.esal += 10000\n",
    "        emp.display()\n",
    "        \n",
    "e = Employee(100,\"vinod\",10000)\n",
    "Test.modify(e)"
   ]
  },
  {
   "cell_type": "code",
   "execution_count": null,
   "metadata": {},
   "outputs": [],
   "source": []
  },
  {
   "cell_type": "markdown",
   "metadata": {},
   "source": [
    "## Inner Classes"
   ]
  },
  {
   "cell_type": "code",
   "execution_count": 11,
   "metadata": {},
   "outputs": [
    {
     "name": "stdout",
     "output_type": "stream",
     "text": [
      "Outer Class Object\n",
      "Inner Class Object\n"
     ]
    }
   ],
   "source": [
    "class Outer:\n",
    "    def m1(self):\n",
    "        print(\"Outer Class Object\")\n",
    "    class Inner:\n",
    "        def m2(self):\n",
    "            print(\"Inner Class Object\")\n",
    "            \n",
    "o = Outer()\n",
    "o.m1()\n",
    "i = o.Inner()\n",
    "\"\"\"\n",
    "or\n",
    "\n",
    "i = Outer().Inner()\n",
    "i.m2()\n",
    "\n",
    "or\n",
    "\n",
    "Outer().Inner().m2()\n",
    "\"\"\"\n",
    "i.m2()"
   ]
  },
  {
   "cell_type": "code",
   "execution_count": 6,
   "metadata": {},
   "outputs": [
    {
     "name": "stdout",
     "output_type": "stream",
     "text": [
      "Name : vinod\n",
      "Date of Birth :7/1/2001\n"
     ]
    }
   ],
   "source": [
    "class Person:\n",
    "    def __init__(self):\n",
    "        self.name = \"vinod\"\n",
    "        self.db = self.Dob()\n",
    "    def display(self):\n",
    "        print(\"Name :\",self.name)\n",
    "    class Dob:\n",
    "        def __init__(self):\n",
    "            self.dd = 7\n",
    "            self.mm = 1\n",
    "            self.yy = 2001\n",
    "            \n",
    "        def display(self):\n",
    "            print(\"Date of Birth :{}/{}/{}\".format(self.dd,self.mm,self.yy))\n",
    "            \n",
    "p = Person()\n",
    "p.display()\n",
    "p.db.display()"
   ]
  },
  {
   "cell_type": "code",
   "execution_count": 9,
   "metadata": {},
   "outputs": [
    {
     "name": "stdout",
     "output_type": "stream",
     "text": [
      "Hello vinod\n",
      "Talking.....\n",
      "Thinking.....\n"
     ]
    }
   ],
   "source": [
    "class Human:\n",
    "    def __init__(self):\n",
    "        self.name = \"vinod\"\n",
    "        self.head = self.Head()\n",
    "        self.brain = self.Brain()\n",
    "    def display(self):\n",
    "        print(\"Hello\",self.name)\n",
    "        \n",
    "    class Head:\n",
    "        def talk(self):\n",
    "            print(\"Talking.....\")\n",
    "            \n",
    "    class Brain:\n",
    "        def think(self):\n",
    "            print(\"Thinking.....\")\n",
    "            \n",
    "h = Human()\n",
    "h.display()\n",
    "h.head.talk()\n",
    "h.brain.think()"
   ]
  },
  {
   "cell_type": "code",
   "execution_count": null,
   "metadata": {},
   "outputs": [],
   "source": []
  },
  {
   "cell_type": "markdown",
   "metadata": {},
   "source": [
    "## Nested Methods : "
   ]
  },
  {
   "cell_type": "code",
   "execution_count": 7,
   "metadata": {},
   "outputs": [
    {
     "name": "stdout",
     "output_type": "stream",
     "text": [
      "The sum: 30\n",
      "The Product: 200\n",
      "The division: 0.5\n",
      "The difference: -10\n",
      "\n",
      "The sum: 70\n",
      "The Product: 1200\n",
      "The division: 0.75\n",
      "The difference: -10\n",
      "\n",
      "The sum: 110\n",
      "The Product: 3000\n",
      "The division: 0.8333333333333334\n",
      "The difference: -10\n",
      "\n",
      "The sum: 150\n",
      "The Product: 5600\n",
      "The division: 0.875\n",
      "The difference: -10\n",
      "\n"
     ]
    }
   ],
   "source": [
    "class Test:\n",
    "    def m1(self):\n",
    "        def calc(a,b):\n",
    "            print(\"The sum:\",a+b)\n",
    "            print(\"The Product:\",a*b)\n",
    "            print(\"The division:\",a/b)\n",
    "            print(\"The difference:\",a-b)\n",
    "            print()\n",
    "        \n",
    "        calc(10,20)\n",
    "        calc(30,40)\n",
    "        calc(50,60)\n",
    "        calc(70,80)\n",
    "    \n",
    "t = Test()\n",
    "t.m1()"
   ]
  },
  {
   "cell_type": "code",
   "execution_count": null,
   "metadata": {},
   "outputs": [],
   "source": []
  },
  {
   "cell_type": "code",
   "execution_count": null,
   "metadata": {},
   "outputs": [],
   "source": []
  },
  {
   "cell_type": "markdown",
   "metadata": {},
   "source": [
    "# Garbage Collection"
   ]
  },
  {
   "cell_type": "code",
   "execution_count": 14,
   "metadata": {},
   "outputs": [
    {
     "name": "stdout",
     "output_type": "stream",
     "text": [
      "True\n",
      "False\n",
      "True\n"
     ]
    }
   ],
   "source": [
    "import gc\n",
    "print(gc.isenabled())\n",
    "gc.disable()\n",
    "print(gc.isenabled())\n",
    "gc.enable()\n",
    "print(gc.isenabled())"
   ]
  },
  {
   "cell_type": "code",
   "execution_count": null,
   "metadata": {},
   "outputs": [],
   "source": []
  },
  {
   "cell_type": "code",
   "execution_count": null,
   "metadata": {},
   "outputs": [],
   "source": []
  },
  {
   "cell_type": "markdown",
   "metadata": {},
   "source": [
    "# Destructors"
   ]
  },
  {
   "cell_type": "code",
   "execution_count": 11,
   "metadata": {},
   "outputs": [
    {
     "name": "stdout",
     "output_type": "stream",
     "text": [
      "Object initialization...\n",
      "Fulfilling last wish and performing clean up activities...\n",
      "End of Application\n"
     ]
    }
   ],
   "source": [
    "import time\n",
    "\n",
    "class Test:\n",
    "    def __init__(self):\n",
    "        print(\"Object initialization...\")\n",
    "        \n",
    "    def __del__(self):\n",
    "        print(\"Fulfilling last wish and performing clean up activities...\")\n",
    "        \n",
    "t1 = Test()\n",
    "t1 = None\n",
    "time.sleep(3)\n",
    "print(\"End of Application\")"
   ]
  },
  {
   "cell_type": "code",
   "execution_count": 15,
   "metadata": {},
   "outputs": [
    {
     "name": "stdout",
     "output_type": "stream",
     "text": [
      "Constructor execution...\n",
      "Object not yet destroyed after deleting t1\n",
      "Object not yet destroyed after deleting t2\n",
      "I am trying to delete t3 also\n",
      "Destructor execution...\n"
     ]
    }
   ],
   "source": [
    "import time\n",
    "\n",
    "class Test:\n",
    "    def __init__(self):\n",
    "        print(\"Constructor execution...\")\n",
    "        \n",
    "    def __del__(self):\n",
    "        print(\"Destructor execution...\")\n",
    "        \n",
    "t1 = Test()\n",
    "t2 = t1\n",
    "t3 = t2\n",
    "\n",
    "del t1\n",
    "time.sleep(3)\n",
    "print(\"Object not yet destroyed after deleting t1\")\n",
    "del t2\n",
    "time.sleep(3)\n",
    "print(\"Object not yet destroyed after deleting t2\")\n",
    "print(\"I am trying to delete t3 also\")\n",
    "del t3\n"
   ]
  },
  {
   "cell_type": "code",
   "execution_count": 19,
   "metadata": {},
   "outputs": [
    {
     "name": "stdout",
     "output_type": "stream",
     "text": [
      "Constructor execution...\n",
      "Constructor execution...\n",
      "Constructor execution...\n",
      "Destructor execution...\n",
      "Destructor execution...\n",
      "Destructor execution...\n",
      "end of application\n"
     ]
    }
   ],
   "source": [
    "import time\n",
    "\n",
    "class Test:\n",
    "    def __init__(self):\n",
    "        print(\"Constructor execution...\")\n",
    "        \n",
    "    def __del__(self):\n",
    "        print(\"Destructor execution...\")\n",
    "        \n",
    "l1 = [Test(),Test(),Test()]\n",
    "\n",
    "del l1\n",
    "\n",
    "time.sleep(3)\n",
    "\n",
    "print(\"end of application\")"
   ]
  },
  {
   "cell_type": "code",
   "execution_count": 25,
   "metadata": {},
   "outputs": [
    {
     "name": "stdout",
     "output_type": "stream",
     "text": [
      "Destructor execution...\n",
      "Destructor execution...\n",
      "Destructor execution...\n",
      "Destructor execution...\n"
     ]
    }
   ],
   "source": [
    "import time\n",
    "\n",
    "class Test:\n",
    "    \n",
    "    def __del__(self):\n",
    "        print(\"Destructor execution...\")\n",
    "        \n",
    "t1 = Test()\n",
    "t2 = Test()\n",
    "t3 = Test()\n",
    "t4 = Test()\n",
    "\n",
    "time.sleep(5)"
   ]
  },
  {
   "cell_type": "code",
   "execution_count": null,
   "metadata": {},
   "outputs": [],
   "source": []
  },
  {
   "cell_type": "markdown",
   "metadata": {},
   "source": [
    "## How to find the number of references of an object : "
   ]
  },
  {
   "cell_type": "code",
   "execution_count": 23,
   "metadata": {},
   "outputs": [
    {
     "name": "stdout",
     "output_type": "stream",
     "text": [
      "5\n"
     ]
    }
   ],
   "source": [
    "import sys\n",
    "\n",
    "class Test:\n",
    "    pass\n",
    "\n",
    "t1 = Test()\n",
    "t2 = t1\n",
    "t3 = t1\n",
    "t4 = t1\n",
    "\n",
    "print(sys.getrefcount(t1))"
   ]
  },
  {
   "cell_type": "markdown",
   "metadata": {},
   "source": [
    "### Note : For every object, python internally maintains one default reference variable self."
   ]
  },
  {
   "cell_type": "code",
   "execution_count": null,
   "metadata": {},
   "outputs": [],
   "source": []
  },
  {
   "cell_type": "code",
   "execution_count": null,
   "metadata": {},
   "outputs": [],
   "source": []
  },
  {
   "cell_type": "code",
   "execution_count": null,
   "metadata": {},
   "outputs": [],
   "source": []
  },
  {
   "cell_type": "code",
   "execution_count": null,
   "metadata": {},
   "outputs": [],
   "source": []
  },
  {
   "cell_type": "code",
   "execution_count": null,
   "metadata": {},
   "outputs": [],
   "source": []
  },
  {
   "cell_type": "code",
   "execution_count": null,
   "metadata": {},
   "outputs": [],
   "source": []
  }
 ],
 "metadata": {
  "kernelspec": {
   "display_name": "Python 3",
   "language": "python",
   "name": "python3"
  },
  "language_info": {
   "codemirror_mode": {
    "name": "ipython",
    "version": 3
   },
   "file_extension": ".py",
   "mimetype": "text/x-python",
   "name": "python",
   "nbconvert_exporter": "python",
   "pygments_lexer": "ipython3",
   "version": "3.8.3"
  }
 },
 "nbformat": 4,
 "nbformat_minor": 4
}
