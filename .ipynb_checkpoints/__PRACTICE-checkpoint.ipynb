{
 "cells": [
  {
   "cell_type": "code",
   "execution_count": 6,
   "metadata": {
    "scrolled": true
   },
   "outputs": [
    {
     "name": "stdout",
     "output_type": "stream",
     "text": [
      "Enter the length and width of photo : (l,b):  12,13\n",
      "length: 12\n",
      "Width: 13\n"
     ]
    }
   ],
   "source": [
    "x = eval(input(\"Enter the length and width of photo : (l,b):  \"))\n",
    "\n",
    "(l,b)=x\n",
    "\n",
    "print(\"length:\",l)\n",
    "print(\"Width:\",b)"
   ]
  },
  {
   "cell_type": "code",
   "execution_count": 20,
   "metadata": {},
   "outputs": [
    {
     "data": {
      "text/plain": [
       "94.56787865679034"
      ]
     },
     "execution_count": 20,
     "metadata": {},
     "output_type": "execute_result"
    }
   ],
   "source": [
    "\n",
    "def Sample(n):\n",
    "    i = 0\n",
    "    s = 0\n",
    "    while n>0:\n",
    "        \n",
    "        r = n%10\n",
    "        p = 8^i\n",
    "        s = s+p*r\n",
    "        i += 1\n",
    "        n = n/10\n",
    "    return s\n",
    "\n",
    "Sample(127)"
   ]
  },
  {
   "cell_type": "code",
   "execution_count": null,
   "metadata": {},
   "outputs": [],
   "source": []
  },
  {
   "cell_type": "code",
   "execution_count": 8,
   "metadata": {},
   "outputs": [
    {
     "name": "stdout",
     "output_type": "stream",
     "text": [
      "87\n"
     ]
    }
   ],
   "source": [
    "def octToDec(oct):\n",
    "    lenOct = str(oct)\n",
    "    le = len(lenOct)\n",
    "    octal = 0\n",
    "    for i in (range(le)):\n",
    "        octal = octal + int(lenOct[i])* pow(8, le-1)\n",
    "        le -= 1\n",
    "    print(octal)\n",
    "\n",
    "octToDec(127)"
   ]
  },
  {
   "cell_type": "code",
   "execution_count": null,
   "metadata": {},
   "outputs": [],
   "source": []
  },
  {
   "cell_type": "code",
   "execution_count": null,
   "metadata": {},
   "outputs": [],
   "source": []
  },
  {
   "cell_type": "code",
   "execution_count": 1,
   "metadata": {},
   "outputs": [],
   "source": [
    "l1 = [10,20,30]\n",
    "l2 = [40,50,60]\n",
    "l1.extend(l2)"
   ]
  },
  {
   "cell_type": "code",
   "execution_count": 2,
   "metadata": {},
   "outputs": [
    {
     "name": "stdout",
     "output_type": "stream",
     "text": [
      "[10, 20, 30, 40, 50, 60]\n"
     ]
    }
   ],
   "source": [
    "print(l1)"
   ]
  },
  {
   "cell_type": "code",
   "execution_count": 3,
   "metadata": {},
   "outputs": [
    {
     "name": "stdout",
     "output_type": "stream",
     "text": [
      "[10, 20, 30, 40, 50, 60, 'v', 'i', 'n', 'o', 'd']\n"
     ]
    }
   ],
   "source": [
    "l1.extend(\"vinod\")\n",
    "print(l1)"
   ]
  },
  {
   "cell_type": "code",
   "execution_count": 6,
   "metadata": {},
   "outputs": [
    {
     "name": "stdout",
     "output_type": "stream",
     "text": [
      "[10, 20, 30, 40, 50, 60, 'v', 'i', 'n', 'o', 'd', 'durga', 'durga', 'vinod']\n"
     ]
    }
   ],
   "source": [
    "l1.append(\"vinod\")\n",
    "print(l1)"
   ]
  },
  {
   "cell_type": "code",
   "execution_count": 7,
   "metadata": {},
   "outputs": [
    {
     "data": {
      "text/plain": [
       "'durga'"
      ]
     },
     "execution_count": 7,
     "metadata": {},
     "output_type": "execute_result"
    }
   ],
   "source": [
    "l1.pop(11)"
   ]
  },
  {
   "cell_type": "code",
   "execution_count": 8,
   "metadata": {},
   "outputs": [
    {
     "data": {
      "text/plain": [
       "'durga'"
      ]
     },
     "execution_count": 8,
     "metadata": {},
     "output_type": "execute_result"
    }
   ],
   "source": [
    "l1.pop(11)"
   ]
  },
  {
   "cell_type": "code",
   "execution_count": 9,
   "metadata": {},
   "outputs": [
    {
     "name": "stdout",
     "output_type": "stream",
     "text": [
      "[10, 20, 30, 40, 50, 60, 'v', 'i', 'n', 'o', 'd', 'vinod']\n"
     ]
    }
   ],
   "source": [
    "print(l1)"
   ]
  },
  {
   "cell_type": "code",
   "execution_count": 10,
   "metadata": {},
   "outputs": [
    {
     "name": "stdout",
     "output_type": "stream",
     "text": [
      "[10, 20, 30, 40, 50, 60, 'v', 'i', 'n', 'o', 'd']\n"
     ]
    }
   ],
   "source": [
    "l1.remove(\"vinod\")\n",
    "print(l1)"
   ]
  },
  {
   "cell_type": "code",
   "execution_count": 6,
   "metadata": {},
   "outputs": [
    {
     "name": "stdout",
     "output_type": "stream",
     "text": [
      "Enter element to be removed : 30\n",
      "Removed successfully\n",
      "[10, 20, 40, 50, 60, 70, 80, 90, 100]\n",
      "Do you want to continue??? (1/0) : 0\n"
     ]
    }
   ],
   "source": [
    "l1 = [10,20,30,40,50,60,70,80,90,100]\n",
    "flag = True\n",
    "\n",
    "while flag == True:\n",
    "    n = int(input(\"Enter element to be removed : \"))\n",
    "    if n in l1:\n",
    "        l1.remove(n)\n",
    "        print(\"Removed successfully\")\n",
    "        print(l1)\n",
    "    else:\n",
    "        while n not in l1:\n",
    "            print(\"please enter valid number!!!!\")\n",
    "            n = int(input(\"Enter element to be removed : \"))\n",
    "    x = bool(int((input(\"Do you want to continue??? (1/0) : \"))))\n",
    "    if x == True:\n",
    "        flag = True\n",
    "    else:\n",
    "        flag = False\n",
    "        #break\n"
   ]
  },
  {
   "cell_type": "code",
   "execution_count": 2,
   "metadata": {},
   "outputs": [
    {
     "name": "stdout",
     "output_type": "stream",
     "text": [
      "Do you want to continue??? (True/False) : True\n"
     ]
    }
   ],
   "source": [
    "x = bool(input(\"Do you want to continue??? (1/0) : \"))"
   ]
  },
  {
   "cell_type": "code",
   "execution_count": 1,
   "metadata": {},
   "outputs": [
    {
     "data": {
      "text/plain": [
       "False"
      ]
     },
     "execution_count": 1,
     "metadata": {},
     "output_type": "execute_result"
    }
   ],
   "source": [
    "bool(0)"
   ]
  },
  {
   "cell_type": "code",
   "execution_count": 5,
   "metadata": {},
   "outputs": [
    {
     "name": "stdout",
     "output_type": "stream",
     "text": [
      "Do you want to continue??? (1/0) : 0\n",
      "False\n"
     ]
    }
   ],
   "source": [
    "x = bool(int((input(\"Do you want to continue??? (1/0) : \"))))\n",
    "print(x)"
   ]
  },
  {
   "cell_type": "code",
   "execution_count": 12,
   "metadata": {},
   "outputs": [
    {
     "name": "stdout",
     "output_type": "stream",
     "text": [
      "Enter element to be removed : 30\n",
      "Removed successfully\n",
      "[10, 20, 40, 50, 60, 70, 80, 90, 100]\n",
      "Do you want to continue??? (1/0) : 1\n",
      "Enter element to be removed : 50\n",
      "Removed successfully\n",
      "[10, 20, 40, 60, 70, 80, 90, 100]\n",
      "Do you want to continue??? (1/0) : 40\n",
      "Enter element to be removed : 40\n",
      "Removed successfully\n",
      "[10, 20, 60, 70, 80, 90, 100]\n",
      "Do you want to continue??? (1/0) : 1\n",
      "Enter element to be removed : 60\n",
      "Removed successfully\n",
      "[10, 20, 70, 80, 90, 100]\n",
      "Do you want to continue??? (1/0) : 1\n",
      "Enter element to be removed : 70\n",
      "Removed successfully\n",
      "[10, 20, 80, 90, 100]\n",
      "Do you want to continue??? (1/0) : 100\n",
      "Enter element to be removed : 3\n",
      "please enter valid number!!!!\n",
      "Enter element to be removed : 50\n",
      "please enter valid number!!!!\n",
      "Enter element to be removed : 80\n",
      "Removed successfully\n",
      "[10, 20, 90, 100]\n",
      "Do you want to continue??? (1/0) : 0\n",
      "Do you want to continue??? (1/0) : 0\n",
      "Do you want to continue??? (1/0) : 0\n"
     ]
    }
   ],
   "source": [
    "l1 = [10,20,30,40,50,60,70,80,90,100]\n",
    "\n",
    "def remo():\n",
    "    flag = True\n",
    "\n",
    "    while flag == True:\n",
    "        n = int(input(\"Enter element to be removed : \"))\n",
    "        if n in l1:\n",
    "            l1.remove(n)\n",
    "            print(\"Removed successfully\")\n",
    "            print(l1)\n",
    "        else:\n",
    "            print(\"please enter valid number!!!!\")\n",
    "            remo()\n",
    "        x = bool(int((input(\"Do you want to continue??? (1/0) : \"))))\n",
    "        if x == True:\n",
    "            flag = True\n",
    "        else:\n",
    "            flag = False\n",
    "\n",
    "remo()"
   ]
  },
  {
   "cell_type": "code",
   "execution_count": 13,
   "metadata": {},
   "outputs": [
    {
     "data": {
      "text/plain": [
       "200"
      ]
     },
     "execution_count": 13,
     "metadata": {},
     "output_type": "execute_result"
    }
   ],
   "source": [
    "l2 = [100,200,300,400,500]\n",
    "l2.pop(1)"
   ]
  },
  {
   "cell_type": "code",
   "execution_count": 14,
   "metadata": {},
   "outputs": [
    {
     "name": "stdout",
     "output_type": "stream",
     "text": [
      "[100, 300, 400, 500]\n"
     ]
    }
   ],
   "source": [
    "print(l2)"
   ]
  },
  {
   "cell_type": "code",
   "execution_count": 17,
   "metadata": {},
   "outputs": [
    {
     "name": "stdout",
     "output_type": "stream",
     "text": [
      "[500, 400, 300, 200, 100]\n"
     ]
    }
   ],
   "source": [
    "l2 = [100,200,300,400,500]\n",
    "l2.reverse()\n",
    "print(l2)"
   ]
  },
  {
   "cell_type": "code",
   "execution_count": 26,
   "metadata": {},
   "outputs": [],
   "source": [
    "l3 = [3,652,12,1,232,56,32,12,23,4,65,98,9]"
   ]
  },
  {
   "cell_type": "code",
   "execution_count": 21,
   "metadata": {},
   "outputs": [],
   "source": [
    "l4 = [\"vin\",\"wa\",\"l\",\"e\",\"t\",\"l\"]"
   ]
  },
  {
   "cell_type": "code",
   "execution_count": 22,
   "metadata": {},
   "outputs": [
    {
     "name": "stdout",
     "output_type": "stream",
     "text": [
      "[1, 3, 4, 9, 12, 12, 23, 32, 56, 65, 98, 232, 652]\n"
     ]
    }
   ],
   "source": [
    "l3.sort()\n",
    "print(l3)"
   ]
  },
  {
   "cell_type": "code",
   "execution_count": 24,
   "metadata": {},
   "outputs": [
    {
     "name": "stdout",
     "output_type": "stream",
     "text": [
      "['e', 'l', 'l', 't', 'vin', 'wa']\n"
     ]
    }
   ],
   "source": [
    "l4.sort()\n",
    "print(l4)"
   ]
  },
  {
   "cell_type": "code",
   "execution_count": 34,
   "metadata": {},
   "outputs": [],
   "source": [
    "l3 = [3,652,12,1,232,56,32,12,23,4,65,98,9]"
   ]
  },
  {
   "cell_type": "code",
   "execution_count": 32,
   "metadata": {},
   "outputs": [],
   "source": [
    "l5 = [23,55,'v','q','a','l',56,2,56,65,43,21]"
   ]
  },
  {
   "cell_type": "code",
   "execution_count": 33,
   "metadata": {},
   "outputs": [
    {
     "ename": "TypeError",
     "evalue": "'<' not supported between instances of 'str' and 'int'",
     "output_type": "error",
     "traceback": [
      "\u001b[1;31m---------------------------------------------------------------------------\u001b[0m",
      "\u001b[1;31mTypeError\u001b[0m                                 Traceback (most recent call last)",
      "\u001b[1;32m<ipython-input-33-9ff014cfa459>\u001b[0m in \u001b[0;36m<module>\u001b[1;34m\u001b[0m\n\u001b[1;32m----> 1\u001b[1;33m \u001b[0ml5\u001b[0m\u001b[1;33m.\u001b[0m\u001b[0msort\u001b[0m\u001b[1;33m(\u001b[0m\u001b[1;33m)\u001b[0m\u001b[1;33m\u001b[0m\u001b[1;33m\u001b[0m\u001b[0m\n\u001b[0m\u001b[0;32m      2\u001b[0m \u001b[0mprint\u001b[0m\u001b[1;33m(\u001b[0m\u001b[0ml5\u001b[0m\u001b[1;33m)\u001b[0m\u001b[1;33m\u001b[0m\u001b[1;33m\u001b[0m\u001b[0m\n",
      "\u001b[1;31mTypeError\u001b[0m: '<' not supported between instances of 'str' and 'int'"
     ]
    }
   ],
   "source": [
    "l5.sort()\n",
    "print(l5)"
   ]
  },
  {
   "cell_type": "code",
   "execution_count": 37,
   "metadata": {},
   "outputs": [],
   "source": [
    "l3 = [3,652,12,1,232,56,32,12,23,4,65,98,9]"
   ]
  },
  {
   "cell_type": "code",
   "execution_count": 39,
   "metadata": {},
   "outputs": [
    {
     "name": "stdout",
     "output_type": "stream",
     "text": [
      "[652, 232, 98, 65, 56, 32, 23, 12, 12, 9, 4, 3, 1]\n"
     ]
    }
   ],
   "source": [
    "l3.sort(reverse=True)\n",
    "print(l3)"
   ]
  },
  {
   "cell_type": "code",
   "execution_count": 40,
   "metadata": {},
   "outputs": [],
   "source": [
    "x = [1,2,3,4,5,6]\n",
    "y = x"
   ]
  },
  {
   "cell_type": "code",
   "execution_count": 41,
   "metadata": {},
   "outputs": [
    {
     "name": "stdout",
     "output_type": "stream",
     "text": [
      "1771913480384\n",
      "1771913480384\n"
     ]
    }
   ],
   "source": [
    "print(id(x))\n",
    "print(id(y))"
   ]
  },
  {
   "cell_type": "code",
   "execution_count": 42,
   "metadata": {},
   "outputs": [],
   "source": [
    "y.append(7)"
   ]
  },
  {
   "cell_type": "code",
   "execution_count": 43,
   "metadata": {},
   "outputs": [
    {
     "name": "stdout",
     "output_type": "stream",
     "text": [
      "[1, 2, 3, 4, 5, 6, 7]\n"
     ]
    }
   ],
   "source": [
    "print(y)"
   ]
  },
  {
   "cell_type": "code",
   "execution_count": 44,
   "metadata": {},
   "outputs": [
    {
     "name": "stdout",
     "output_type": "stream",
     "text": [
      "1771913480384\n",
      "1771913480384\n"
     ]
    }
   ],
   "source": [
    "print(id(x))\n",
    "print(id(y))"
   ]
  },
  {
   "cell_type": "code",
   "execution_count": 45,
   "metadata": {},
   "outputs": [
    {
     "name": "stdout",
     "output_type": "stream",
     "text": [
      "[1, 2, 3, 4, 5, 6, 7]\n"
     ]
    }
   ],
   "source": [
    "print(x)"
   ]
  },
  {
   "cell_type": "code",
   "execution_count": 48,
   "metadata": {},
   "outputs": [
    {
     "name": "stdout",
     "output_type": "stream",
     "text": [
      "1771913881280\n",
      "1771912861696\n"
     ]
    }
   ],
   "source": [
    "x = [10,20,30,40,50]\n",
    "y = x[:]    # Cloning using slice operator\n",
    "print(id(x[:]))\n",
    "print(id(y))\n",
    "\n",
    "# Now, x and y have different addresses"
   ]
  },
  {
   "cell_type": "code",
   "execution_count": 49,
   "metadata": {},
   "outputs": [
    {
     "name": "stdout",
     "output_type": "stream",
     "text": [
      "[10, 20, 30, 40, 50]\n",
      "[10, 20, 30, 40, 50]\n",
      "1771916971968\n",
      "1771912861696\n"
     ]
    }
   ],
   "source": [
    "print(x[:])\n",
    "print(y)\n",
    "print(id(x[:]))\n",
    "print(id(y))"
   ]
  },
  {
   "cell_type": "code",
   "execution_count": 50,
   "metadata": {},
   "outputs": [],
   "source": [
    "x = [10,20,30,40,50,60,70,80,90,100]"
   ]
  },
  {
   "cell_type": "code",
   "execution_count": 51,
   "metadata": {},
   "outputs": [],
   "source": [
    "y = x.copy()"
   ]
  },
  {
   "cell_type": "code",
   "execution_count": 52,
   "metadata": {},
   "outputs": [
    {
     "name": "stdout",
     "output_type": "stream",
     "text": [
      "[10, 20, 30, 40, 50, 60, 70, 80, 90, 100]\n"
     ]
    }
   ],
   "source": [
    "print(y)"
   ]
  },
  {
   "cell_type": "code",
   "execution_count": 53,
   "metadata": {},
   "outputs": [
    {
     "name": "stdout",
     "output_type": "stream",
     "text": [
      "1771914006208\n",
      "1771913883520\n"
     ]
    }
   ],
   "source": [
    "print(id(x))\n",
    "print(id(y))"
   ]
  },
  {
   "cell_type": "code",
   "execution_count": null,
   "metadata": {},
   "outputs": [],
   "source": []
  }
 ],
 "metadata": {
  "kernelspec": {
   "display_name": "Python 3",
   "language": "python",
   "name": "python3"
  },
  "language_info": {
   "codemirror_mode": {
    "name": "ipython",
    "version": 3
   },
   "file_extension": ".py",
   "mimetype": "text/x-python",
   "name": "python",
   "nbconvert_exporter": "python",
   "pygments_lexer": "ipython3",
   "version": "3.8.3"
  }
 },
 "nbformat": 4,
 "nbformat_minor": 4
}
