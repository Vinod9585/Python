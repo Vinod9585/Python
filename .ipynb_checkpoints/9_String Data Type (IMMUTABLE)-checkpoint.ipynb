{
 "cells": [
  {
   "cell_type": "code",
   "execution_count": 9,
   "metadata": {},
   "outputs": [
    {
     "name": "stdout",
     "output_type": "stream",
     "text": [
      "a\n",
      "<class 'str'>\n"
     ]
    }
   ],
   "source": [
    "n = 'a'\n",
    "print(n)\n",
    "print(type(n))"
   ]
  },
  {
   "cell_type": "code",
   "execution_count": 8,
   "metadata": {},
   "outputs": [
    {
     "name": "stdout",
     "output_type": "stream",
     "text": [
      "vinod\n",
      "<class 'str'>\n"
     ]
    }
   ],
   "source": [
    "name = \"vinod\"\n",
    "print(name)\n",
    "print(type(name))"
   ]
  },
  {
   "cell_type": "code",
   "execution_count": 11,
   "metadata": {},
   "outputs": [
    {
     "name": "stdout",
     "output_type": "stream",
     "text": [
      "vinod shende\n"
     ]
    }
   ],
   "source": [
    "s = \"vinod shende\"\n",
    "print(s)"
   ]
  },
  {
   "cell_type": "code",
   "execution_count": 13,
   "metadata": {},
   "outputs": [
    {
     "name": "stdout",
     "output_type": "stream",
     "text": [
      "vinod\n",
      "shende\n"
     ]
    }
   ],
   "source": [
    "s = \"vinod\\nshende\"\n",
    "print(s)"
   ]
  },
  {
   "cell_type": "code",
   "execution_count": 25,
   "metadata": {},
   "outputs": [
    {
     "name": "stdout",
     "output_type": "stream",
     "text": [
      "vinod\n",
      "shende\n",
      "\n",
      "python           \n",
      "programming language\n"
     ]
    }
   ],
   "source": [
    "s = \"\"\"vinod\n",
    "shende\"\"\"  # multi-line string literals (triple double quote)\n",
    "\n",
    "x = '''python           \n",
    "programming language'''   # multi-line string literals (triple single quote)\n",
    "\n",
    "print(s)\n",
    "print()\n",
    "print(x)"
   ]
  },
  {
   "cell_type": "code",
   "execution_count": 17,
   "metadata": {},
   "outputs": [
    {
     "ename": "SyntaxError",
     "evalue": "invalid syntax (<ipython-input-17-1682bf6314f5>, line 1)",
     "output_type": "error",
     "traceback": [
      "\u001b[1;36m  File \u001b[1;32m\"<ipython-input-17-1682bf6314f5>\"\u001b[1;36m, line \u001b[1;32m1\u001b[0m\n\u001b[1;33m    x = 'I'm going home'\u001b[0m\n\u001b[1;37m           ^\u001b[0m\n\u001b[1;31mSyntaxError\u001b[0m\u001b[1;31m:\u001b[0m invalid syntax\n"
     ]
    }
   ],
   "source": [
    "x = 'I'm going home'"
   ]
  },
  {
   "cell_type": "code",
   "execution_count": 19,
   "metadata": {
    "scrolled": true
   },
   "outputs": [
    {
     "name": "stdout",
     "output_type": "stream",
     "text": [
      "I'm going home\n"
     ]
    }
   ],
   "source": [
    "x = \"I'm going home\"      # double quote\n",
    "print(x)"
   ]
  },
  {
   "cell_type": "code",
   "execution_count": 20,
   "metadata": {},
   "outputs": [
    {
     "name": "stdout",
     "output_type": "stream",
     "text": [
      "I'm going home\n"
     ]
    }
   ],
   "source": [
    "x = 'I\\'m going home'      # by using \\\n",
    "print(x)"
   ]
  },
  {
   "cell_type": "code",
   "execution_count": 22,
   "metadata": {},
   "outputs": [
    {
     "name": "stdout",
     "output_type": "stream",
     "text": [
      "I'm going home\n"
     ]
    }
   ],
   "source": [
    "x = '''I'm going home'''     # triple quote\n",
    "print(x)"
   ]
  },
  {
   "cell_type": "markdown",
   "metadata": {},
   "source": [
    "# Accessing characters of a strings :"
   ]
  },
  {
   "cell_type": "markdown",
   "metadata": {},
   "source": [
    "## 1. indexing\n",
    "## 2. slicing"
   ]
  },
  {
   "cell_type": "markdown",
   "metadata": {},
   "source": [
    "### 1) By using index : "
   ]
  },
  {
   "cell_type": "code",
   "execution_count": 26,
   "metadata": {},
   "outputs": [],
   "source": [
    "s = 'vinod'"
   ]
  },
  {
   "cell_type": "code",
   "execution_count": 28,
   "metadata": {},
   "outputs": [
    {
     "data": {
      "text/plain": [
       "'v'"
      ]
     },
     "execution_count": 28,
     "metadata": {},
     "output_type": "execute_result"
    }
   ],
   "source": [
    "s[0]"
   ]
  },
  {
   "cell_type": "code",
   "execution_count": 29,
   "metadata": {},
   "outputs": [
    {
     "data": {
      "text/plain": [
       "'i'"
      ]
     },
     "execution_count": 29,
     "metadata": {},
     "output_type": "execute_result"
    }
   ],
   "source": [
    "s[1]"
   ]
  },
  {
   "cell_type": "code",
   "execution_count": 30,
   "metadata": {},
   "outputs": [
    {
     "data": {
      "text/plain": [
       "'d'"
      ]
     },
     "execution_count": 30,
     "metadata": {},
     "output_type": "execute_result"
    }
   ],
   "source": [
    "s[-1]"
   ]
  },
  {
   "cell_type": "code",
   "execution_count": 32,
   "metadata": {},
   "outputs": [
    {
     "ename": "IndexError",
     "evalue": "string index out of range",
     "output_type": "error",
     "traceback": [
      "\u001b[1;31m---------------------------------------------------------------------------\u001b[0m",
      "\u001b[1;31mIndexError\u001b[0m                                Traceback (most recent call last)",
      "\u001b[1;32m<ipython-input-32-184d1f7bdfd3>\u001b[0m in \u001b[0;36m<module>\u001b[1;34m\u001b[0m\n\u001b[1;32m----> 1\u001b[1;33m \u001b[0ms\u001b[0m\u001b[1;33m[\u001b[0m\u001b[1;36m6\u001b[0m\u001b[1;33m]\u001b[0m          \u001b[1;31m# IndexError: string index out of range\u001b[0m\u001b[1;33m\u001b[0m\u001b[1;33m\u001b[0m\u001b[0m\n\u001b[0m",
      "\u001b[1;31mIndexError\u001b[0m: string index out of range"
     ]
    }
   ],
   "source": [
    "s[6]          # IndexError: string index out of range"
   ]
  },
  {
   "cell_type": "code",
   "execution_count": 2,
   "metadata": {},
   "outputs": [
    {
     "name": "stdout",
     "output_type": "stream",
     "text": [
      "Enter name : vinod\n",
      "v : 0\n",
      "i : 1\n",
      "n : 2\n",
      "o : 3\n",
      "d : 4\n",
      "\n",
      "v : -5\n",
      "i : -4\n",
      "n : -3\n",
      "o : -2\n",
      "d : -1\n"
     ]
    }
   ],
   "source": [
    "name = input(\"Enter name : \")\n",
    "i = 0\n",
    "for char in name:\n",
    "    print(char, \":\", name.index(char))\n",
    "print()\n",
    "    \n",
    "for char in name:\n",
    "    print(char, \":\", i-len(name))\n",
    "    i += 1\n",
    "    "
   ]
  },
  {
   "cell_type": "code",
   "execution_count": null,
   "metadata": {},
   "outputs": [],
   "source": []
  },
  {
   "cell_type": "markdown",
   "metadata": {},
   "source": [
    "### 2) By using slice operator : \n",
    "\n",
    "### Syntax : s[begin : end : step]"
   ]
  },
  {
   "cell_type": "code",
   "execution_count": 3,
   "metadata": {},
   "outputs": [],
   "source": [
    "s = \"0123456789\""
   ]
  },
  {
   "cell_type": "code",
   "execution_count": 4,
   "metadata": {},
   "outputs": [
    {
     "data": {
      "text/plain": [
       "'0123456'"
      ]
     },
     "execution_count": 4,
     "metadata": {},
     "output_type": "execute_result"
    }
   ],
   "source": [
    "s[0:7:1]"
   ]
  },
  {
   "cell_type": "code",
   "execution_count": 5,
   "metadata": {},
   "outputs": [
    {
     "data": {
      "text/plain": [
       "'0246'"
      ]
     },
     "execution_count": 5,
     "metadata": {},
     "output_type": "execute_result"
    }
   ],
   "source": [
    "s[0:7:2]"
   ]
  },
  {
   "cell_type": "code",
   "execution_count": 7,
   "metadata": {},
   "outputs": [
    {
     "data": {
      "text/plain": [
       "'0123456'"
      ]
     },
     "execution_count": 7,
     "metadata": {},
     "output_type": "execute_result"
    }
   ],
   "source": [
    "s[0:7]"
   ]
  },
  {
   "cell_type": "code",
   "execution_count": 8,
   "metadata": {},
   "outputs": [
    {
     "data": {
      "text/plain": [
       "'0123456789'"
      ]
     },
     "execution_count": 8,
     "metadata": {},
     "output_type": "execute_result"
    }
   ],
   "source": [
    "s[0:]"
   ]
  },
  {
   "cell_type": "code",
   "execution_count": 9,
   "metadata": {},
   "outputs": [
    {
     "data": {
      "text/plain": [
       "'0123456789'"
      ]
     },
     "execution_count": 9,
     "metadata": {},
     "output_type": "execute_result"
    }
   ],
   "source": [
    "s[::]"
   ]
  },
  {
   "cell_type": "code",
   "execution_count": 10,
   "metadata": {},
   "outputs": [
    {
     "data": {
      "text/plain": [
       "'9876543210'"
      ]
     },
     "execution_count": 10,
     "metadata": {},
     "output_type": "execute_result"
    }
   ],
   "source": [
    "s[::-1]"
   ]
  },
  {
   "cell_type": "code",
   "execution_count": 11,
   "metadata": {},
   "outputs": [
    {
     "data": {
      "text/plain": [
       "'234567'"
      ]
     },
     "execution_count": 11,
     "metadata": {},
     "output_type": "execute_result"
    }
   ],
   "source": [
    "s[2:8]"
   ]
  },
  {
   "cell_type": "code",
   "execution_count": 12,
   "metadata": {},
   "outputs": [
    {
     "data": {
      "text/plain": [
       "''"
      ]
     },
     "execution_count": 12,
     "metadata": {},
     "output_type": "execute_result"
    }
   ],
   "source": [
    "s[2:8:-1]"
   ]
  },
  {
   "cell_type": "code",
   "execution_count": 13,
   "metadata": {},
   "outputs": [
    {
     "data": {
      "text/plain": [
       "'7654'"
      ]
     },
     "execution_count": 13,
     "metadata": {},
     "output_type": "execute_result"
    }
   ],
   "source": [
    "s[7:3:-1]"
   ]
  },
  {
   "cell_type": "code",
   "execution_count": 15,
   "metadata": {},
   "outputs": [
    {
     "data": {
      "text/plain": [
       "'21'"
      ]
     },
     "execution_count": 15,
     "metadata": {},
     "output_type": "execute_result"
    }
   ],
   "source": [
    "s[2:-10:-1]"
   ]
  },
  {
   "cell_type": "code",
   "execution_count": 16,
   "metadata": {},
   "outputs": [
    {
     "ename": "ValueError",
     "evalue": "slice step cannot be zero",
     "output_type": "error",
     "traceback": [
      "\u001b[1;31m---------------------------------------------------------------------------\u001b[0m",
      "\u001b[1;31mValueError\u001b[0m                                Traceback (most recent call last)",
      "\u001b[1;32m<ipython-input-16-233c3f923eec>\u001b[0m in \u001b[0;36m<module>\u001b[1;34m\u001b[0m\n\u001b[1;32m----> 1\u001b[1;33m \u001b[0ms\u001b[0m\u001b[1;33m[\u001b[0m\u001b[1;36m2\u001b[0m\u001b[1;33m:\u001b[0m\u001b[1;36m8\u001b[0m\u001b[1;33m:\u001b[0m\u001b[1;36m0\u001b[0m\u001b[1;33m]\u001b[0m\u001b[1;33m\u001b[0m\u001b[1;33m\u001b[0m\u001b[0m\n\u001b[0m",
      "\u001b[1;31mValueError\u001b[0m: slice step cannot be zero"
     ]
    }
   ],
   "source": [
    "s[2:8:0]"
   ]
  },
  {
   "cell_type": "code",
   "execution_count": 17,
   "metadata": {},
   "outputs": [
    {
     "data": {
      "text/plain": [
       "'98765'"
      ]
     },
     "execution_count": 17,
     "metadata": {},
     "output_type": "execute_result"
    }
   ],
   "source": [
    "s[-1:-6:-1]"
   ]
  },
  {
   "cell_type": "code",
   "execution_count": 18,
   "metadata": {},
   "outputs": [
    {
     "data": {
      "text/plain": [
       "'234'"
      ]
     },
     "execution_count": 18,
     "metadata": {},
     "output_type": "execute_result"
    }
   ],
   "source": [
    "s[2:-5:1]"
   ]
  },
  {
   "cell_type": "code",
   "execution_count": 19,
   "metadata": {},
   "outputs": [
    {
     "data": {
      "text/plain": [
       "''"
      ]
     },
     "execution_count": 19,
     "metadata": {},
     "output_type": "execute_result"
    }
   ],
   "source": [
    "s[1:6:-2]"
   ]
  },
  {
   "cell_type": "code",
   "execution_count": 27,
   "metadata": {},
   "outputs": [
    {
     "data": {
      "text/plain": [
       "''"
      ]
     },
     "execution_count": 27,
     "metadata": {},
     "output_type": "execute_result"
    }
   ],
   "source": [
    "s[0:-5:-5]"
   ]
  },
  {
   "cell_type": "code",
   "execution_count": 30,
   "metadata": {},
   "outputs": [
    {
     "data": {
      "text/plain": [
       "'987654321'"
      ]
     },
     "execution_count": 30,
     "metadata": {},
     "output_type": "execute_result"
    }
   ],
   "source": [
    "s[:0:-1]"
   ]
  },
  {
   "cell_type": "code",
   "execution_count": 32,
   "metadata": {},
   "outputs": [
    {
     "data": {
      "text/plain": [
       "'5'"
      ]
     },
     "execution_count": 32,
     "metadata": {},
     "output_type": "execute_result"
    }
   ],
   "source": [
    "s[-5:0:-9]"
   ]
  },
  {
   "cell_type": "code",
   "execution_count": 34,
   "metadata": {},
   "outputs": [
    {
     "data": {
      "text/plain": [
       "''"
      ]
     },
     "execution_count": 34,
     "metadata": {},
     "output_type": "execute_result"
    }
   ],
   "source": [
    "s[2:-1:-1]   ####### end index"
   ]
  },
  {
   "cell_type": "code",
   "execution_count": 37,
   "metadata": {},
   "outputs": [
    {
     "data": {
      "text/plain": [
       "''"
      ]
     },
     "execution_count": 37,
     "metadata": {},
     "output_type": "execute_result"
    }
   ],
   "source": [
    "s[-9:0:1]    ######### end index"
   ]
  },
  {
   "cell_type": "code",
   "execution_count": 21,
   "metadata": {},
   "outputs": [],
   "source": [
    "n ='vinod' "
   ]
  },
  {
   "cell_type": "code",
   "execution_count": 22,
   "metadata": {},
   "outputs": [
    {
     "data": {
      "text/plain": [
       "'doniv'"
      ]
     },
     "execution_count": 22,
     "metadata": {},
     "output_type": "execute_result"
    }
   ],
   "source": [
    "n[::-1]"
   ]
  },
  {
   "cell_type": "code",
   "execution_count": 23,
   "metadata": {},
   "outputs": [
    {
     "data": {
      "text/plain": [
       "'vinod'"
      ]
     },
     "execution_count": 23,
     "metadata": {},
     "output_type": "execute_result"
    }
   ],
   "source": [
    "n[::-1][::-1]"
   ]
  },
  {
   "cell_type": "code",
   "execution_count": 26,
   "metadata": {},
   "outputs": [
    {
     "data": {
      "text/plain": [
       "'niv'"
      ]
     },
     "execution_count": 26,
     "metadata": {},
     "output_type": "execute_result"
    }
   ],
   "source": [
    "n[-3::-1]"
   ]
  },
  {
   "cell_type": "code",
   "execution_count": 29,
   "metadata": {},
   "outputs": [
    {
     "data": {
      "text/plain": [
       "'vinod'"
      ]
     },
     "execution_count": 29,
     "metadata": {},
     "output_type": "execute_result"
    }
   ],
   "source": [
    "n[:1000]"
   ]
  },
  {
   "cell_type": "markdown",
   "metadata": {},
   "source": [
    "## Mathiematical Operators for string :\n",
    "\n",
    "### 1) + ==> concatenation\n",
    "### 2) * ==> repetation"
   ]
  },
  {
   "cell_type": "code",
   "execution_count": 1,
   "metadata": {},
   "outputs": [
    {
     "data": {
      "text/plain": [
       "'vinodshende'"
      ]
     },
     "execution_count": 1,
     "metadata": {},
     "output_type": "execute_result"
    }
   ],
   "source": [
    "\"vinod\" + \"shende\""
   ]
  },
  {
   "cell_type": "code",
   "execution_count": 2,
   "metadata": {},
   "outputs": [
    {
     "data": {
      "text/plain": [
       "'vinod shende'"
      ]
     },
     "execution_count": 2,
     "metadata": {},
     "output_type": "execute_result"
    }
   ],
   "source": [
    "\"vinod\" + \" shende\""
   ]
  },
  {
   "cell_type": "code",
   "execution_count": 4,
   "metadata": {},
   "outputs": [
    {
     "ename": "TypeError",
     "evalue": "can only concatenate str (not \"int\") to str",
     "output_type": "error",
     "traceback": [
      "\u001b[1;31m---------------------------------------------------------------------------\u001b[0m",
      "\u001b[1;31mTypeError\u001b[0m                                 Traceback (most recent call last)",
      "\u001b[1;32m<ipython-input-4-687ce451b484>\u001b[0m in \u001b[0;36m<module>\u001b[1;34m\u001b[0m\n\u001b[1;32m----> 1\u001b[1;33m \u001b[1;34m\"vinod\"\u001b[0m \u001b[1;33m+\u001b[0m \u001b[1;36m3\u001b[0m\u001b[1;33m\u001b[0m\u001b[1;33m\u001b[0m\u001b[0m\n\u001b[0m",
      "\u001b[1;31mTypeError\u001b[0m: can only concatenate str (not \"int\") to str"
     ]
    }
   ],
   "source": [
    "\"vinod\" + 3    # TypeError: can only concatenate str (not \"int\") to str"
   ]
  },
  {
   "cell_type": "code",
   "execution_count": 10,
   "metadata": {},
   "outputs": [
    {
     "data": {
      "text/plain": [
       "'vinodvinodvinodvinodvinod'"
      ]
     },
     "execution_count": 10,
     "metadata": {},
     "output_type": "execute_result"
    }
   ],
   "source": [
    "\"vinod\" * 5"
   ]
  },
  {
   "cell_type": "code",
   "execution_count": 11,
   "metadata": {},
   "outputs": [
    {
     "data": {
      "text/plain": [
       "'vinodvinodvinodvinodvinod'"
      ]
     },
     "execution_count": 11,
     "metadata": {},
     "output_type": "execute_result"
    }
   ],
   "source": [
    "5 * \"vinod\""
   ]
  },
  {
   "cell_type": "code",
   "execution_count": 9,
   "metadata": {},
   "outputs": [
    {
     "ename": "TypeError",
     "evalue": "can't multiply sequence by non-int of type 'str'",
     "output_type": "error",
     "traceback": [
      "\u001b[1;31m---------------------------------------------------------------------------\u001b[0m",
      "\u001b[1;31mTypeError\u001b[0m                                 Traceback (most recent call last)",
      "\u001b[1;32m<ipython-input-9-cdc57023881a>\u001b[0m in \u001b[0;36m<module>\u001b[1;34m\u001b[0m\n\u001b[1;32m----> 1\u001b[1;33m \u001b[1;34m\"vinod\"\u001b[0m \u001b[1;33m*\u001b[0m \u001b[1;34m\"vinod\"\u001b[0m   \u001b[1;31m#TypeError: can't multiply sequence by non-int of type 'str'\u001b[0m\u001b[1;33m\u001b[0m\u001b[1;33m\u001b[0m\u001b[0m\n\u001b[0m",
      "\u001b[1;31mTypeError\u001b[0m: can't multiply sequence by non-int of type 'str'"
     ]
    }
   ],
   "source": [
    "\"vinod\" * \"vinod\"   #TypeError: can't multiply sequence by non-int of type 'str'"
   ]
  },
  {
   "cell_type": "markdown",
   "metadata": {},
   "source": [
    "## len() in-built function :"
   ]
  },
  {
   "cell_type": "code",
   "execution_count": 12,
   "metadata": {},
   "outputs": [],
   "source": [
    "s = \"vinod\""
   ]
  },
  {
   "cell_type": "code",
   "execution_count": 13,
   "metadata": {},
   "outputs": [
    {
     "name": "stdout",
     "output_type": "stream",
     "text": [
      "5\n"
     ]
    }
   ],
   "source": [
    "print(len(s))"
   ]
  },
  {
   "cell_type": "code",
   "execution_count": 14,
   "metadata": {},
   "outputs": [],
   "source": [
    "s = \"my name is vinod\""
   ]
  },
  {
   "cell_type": "code",
   "execution_count": 15,
   "metadata": {},
   "outputs": [
    {
     "name": "stdout",
     "output_type": "stream",
     "text": [
      "16\n"
     ]
    }
   ],
   "source": [
    "print(len(s))"
   ]
  },
  {
   "cell_type": "code",
   "execution_count": 20,
   "metadata": {},
   "outputs": [
    {
     "name": "stdout",
     "output_type": "stream",
     "text": [
      "Enter the string : vinod\n",
      "\n",
      "forward direction :  v i n o d \n",
      "backward direction :  d o n i v "
     ]
    }
   ],
   "source": [
    "s = input(\"Enter the string : \")\n",
    "n = len(s)\n",
    "i = 0\n",
    "\n",
    "print(\"\\nforward direction : \", end = \" \")\n",
    "while i < n:\n",
    "    print(s[i], end = \" \")\n",
    "    i += 1\n",
    "    \n",
    "print(\"\\nbackward direction : \", end = \" \")\n",
    "i = -1\n",
    "while i >= -n:\n",
    "    print(s[i], end = \" \")\n",
    "    i -= 1"
   ]
  },
  {
   "cell_type": "code",
   "execution_count": 25,
   "metadata": {},
   "outputs": [
    {
     "name": "stdout",
     "output_type": "stream",
     "text": [
      "Enter the string : vinodshende\n",
      "\n",
      "forward direction :  v i n o d s h e n d e \n",
      "backward direction :  e d n e h s d o n i v "
     ]
    }
   ],
   "source": [
    "s = input(\"Enter the string : \")\n",
    "\n",
    "print(\"\\nforward direction : \", end = \" \")\n",
    "for i in s:\n",
    "    print(i, end = \" \")\n",
    "\n",
    "print(\"\\nbackward direction : \", end = \" \")\n",
    "for i in s[::-1]:\n",
    "    print(i, end = \" \")\n",
    "    "
   ]
  },
  {
   "cell_type": "markdown",
   "metadata": {},
   "source": [
    "## Checking membership :  ( in , not in )"
   ]
  },
  {
   "cell_type": "code",
   "execution_count": 1,
   "metadata": {},
   "outputs": [],
   "source": [
    "s = \"vinod\""
   ]
  },
  {
   "cell_type": "code",
   "execution_count": 2,
   "metadata": {},
   "outputs": [
    {
     "name": "stdout",
     "output_type": "stream",
     "text": [
      "True\n"
     ]
    }
   ],
   "source": [
    "print(\"d\" in s)"
   ]
  },
  {
   "cell_type": "code",
   "execution_count": 7,
   "metadata": {},
   "outputs": [
    {
     "name": "stdout",
     "output_type": "stream",
     "text": [
      "True\n"
     ]
    }
   ],
   "source": [
    "print(\"ino\" in s)"
   ]
  },
  {
   "cell_type": "code",
   "execution_count": 5,
   "metadata": {},
   "outputs": [
    {
     "name": "stdout",
     "output_type": "stream",
     "text": [
      "False\n"
     ]
    }
   ],
   "source": [
    "print(\"on\" in s)"
   ]
  },
  {
   "cell_type": "code",
   "execution_count": 8,
   "metadata": {},
   "outputs": [
    {
     "name": "stdout",
     "output_type": "stream",
     "text": [
      "True\n"
     ]
    }
   ],
   "source": [
    "print(\"on\" not in s)"
   ]
  },
  {
   "cell_type": "code",
   "execution_count": 9,
   "metadata": {},
   "outputs": [
    {
     "name": "stdout",
     "output_type": "stream",
     "text": [
      "Enter the string : vinod\n",
      "Enter the substring to search for : vin\n",
      "vin found in string\n",
      "Do you want search another string : (y/n)y\n",
      "Enter the string : shende\n",
      "Enter the substring to search for : hende\n",
      "hende found in string\n",
      "Do you want search another string : (y/n)n\n",
      "Thank you!!!\n"
     ]
    }
   ],
   "source": [
    "def check_sub():\n",
    "    choice = True\n",
    "    while choice == True:\n",
    "        \n",
    "        \n",
    "        s = input(\"Enter the string : \")\n",
    "        sub = input(\"Enter the substring to search for : \")\n",
    "    \n",
    "        if sub in s:\n",
    "            print(sub,\"found in string\")\n",
    "        else:\n",
    "            print(sub,\"not found in string\")\n",
    "\n",
    "        \n",
    "        choice = input(\"Do you want search another string : (y/n)\")\n",
    "\n",
    "        if choice == \"y\":\n",
    "            choice = True\n",
    "        else:\n",
    "            print(\"Thank you!!!\")\n",
    "            choice = False\n",
    "            \n",
    "\n",
    "    \n",
    "check_sub()  \n",
    "    \n",
    "    "
   ]
  },
  {
   "cell_type": "markdown",
   "metadata": {},
   "source": [
    "## Comparison of strings : (> , >= , < , <= , == , !=)\n",
    "#### comparison will be performed based on UNICODE VALUES and ALPHABETICAL ORDER and not on length\n",
    "\n",
    "### check out unicode.org for unicode values"
   ]
  },
  {
   "cell_type": "code",
   "execution_count": 19,
   "metadata": {},
   "outputs": [
    {
     "name": "stdout",
     "output_type": "stream",
     "text": [
      "Enter the string1 : vinod\n",
      "Enter the string2 : Vinod\n",
      "\n",
      "vinod is greater than Vinod\n"
     ]
    }
   ],
   "source": [
    "s1 = input(\"Enter the string1 : \")\n",
    "s2 = input(\"Enter the string2 : \")\n",
    "print()\n",
    "if s1 == s2:\n",
    "    print(\"both are equal\")\n",
    "elif s1 > s2:\n",
    "    print(s1, \"is greater than\", s2)\n",
    "else:\n",
    "    print(s1, \"is less than\", s2)"
   ]
  },
  {
   "cell_type": "code",
   "execution_count": 18,
   "metadata": {},
   "outputs": [
    {
     "name": "stdout",
     "output_type": "stream",
     "text": [
      "Enter the string1 : vinod\n",
      "Enter the string2 : vinashende\n",
      "\n",
      "vinod is greater than vinashende\n"
     ]
    }
   ],
   "source": [
    "s1 = input(\"Enter the string1 : \")\n",
    "s2 = input(\"Enter the string2 : \")\n",
    "print()\n",
    "if s1 == s2:\n",
    "    print(\"both are equal\")\n",
    "elif s1 > s2:\n",
    "    print(s1, \"is greater than\", s2)\n",
    "else:\n",
    "    print(s1, \"is less than\", s2)"
   ]
  },
  {
   "cell_type": "code",
   "execution_count": 17,
   "metadata": {},
   "outputs": [
    {
     "name": "stdout",
     "output_type": "stream",
     "text": [
      "Enter the string1 : a\n",
      "Enter the string2 : ZZZZ\n",
      "\n",
      "a is greater than ZZZZ\n"
     ]
    }
   ],
   "source": [
    "s1 = input(\"Enter the string1 : \")\n",
    "s2 = input(\"Enter the string2 : \")\n",
    "print()\n",
    "if s1 == s2:\n",
    "    print(\"both are equal\")\n",
    "elif s1 > s2:\n",
    "    print(s1, \"is greater than\", s2)\n",
    "else:\n",
    "    print(s1, \"is less than\", s2)"
   ]
  },
  {
   "cell_type": "code",
   "execution_count": null,
   "metadata": {},
   "outputs": [],
   "source": []
  },
  {
   "cell_type": "markdown",
   "metadata": {},
   "source": [
    "## Removing spaces from the string :\n",
    "### 1) rstrip() --> to remove spaces at right hand side\n",
    "### 2) lstrip() --> to remove spaces at left hand side\n",
    "### 3) strip() --> to remove spaces on both side"
   ]
  },
  {
   "cell_type": "code",
   "execution_count": 24,
   "metadata": {},
   "outputs": [
    {
     "name": "stdout",
     "output_type": "stream",
     "text": [
      "enter the city name :   maharashtra\n",
      "enter valid name\n"
     ]
    }
   ],
   "source": [
    "city = input(\"enter the city name : \")\n",
    "\n",
    "if city == \"maharashtra\" :\n",
    "    print(\"centers in maharashtra are pune and mumbai\")\n",
    "else:\n",
    "    print(\"enter valid name\")"
   ]
  },
  {
   "cell_type": "code",
   "execution_count": 26,
   "metadata": {},
   "outputs": [
    {
     "name": "stdout",
     "output_type": "stream",
     "text": [
      "enter the city name :     maharashtra delhi   \n",
      "centers in maharashtra are pune and mumbai\n"
     ]
    }
   ],
   "source": [
    "city = input(\"enter the city name : \")\n",
    "\n",
    "if city.strip() == \"maharashtra delhi\" :\n",
    "    print(\"centers in maharashtra are pune and mumbai\")\n",
    "else:\n",
    "    print(\"enter valid name\")"
   ]
  },
  {
   "cell_type": "code",
   "execution_count": null,
   "metadata": {},
   "outputs": [],
   "source": []
  },
  {
   "cell_type": "code",
   "execution_count": null,
   "metadata": {},
   "outputs": [],
   "source": []
  },
  {
   "cell_type": "code",
   "execution_count": null,
   "metadata": {},
   "outputs": [],
   "source": []
  },
  {
   "cell_type": "markdown",
   "metadata": {},
   "source": [
    "## Finding substrings :"
   ]
  },
  {
   "cell_type": "markdown",
   "metadata": {},
   "source": [
    "### for forward direction :\n",
    "\n",
    "#### 1) find()\n",
    "#### 2) index()\n",
    "\n",
    "### for backward direction :\n",
    "\n",
    "#### 1) rfind()\n",
    "#### 2) rindex()"
   ]
  },
  {
   "cell_type": "markdown",
   "metadata": {},
   "source": [
    "## 1) find() :\n",
    "#### s.find(substring) --> returns index of first occurence of the given substring. If it is not available then we will get -1.\n",
    "#### s.find(substring,begin,end) --> it will always search for begin index to end-1 index"
   ]
  },
  {
   "cell_type": "code",
   "execution_count": 17,
   "metadata": {},
   "outputs": [],
   "source": [
    "s = \"abababab\""
   ]
  },
  {
   "cell_type": "code",
   "execution_count": 18,
   "metadata": {},
   "outputs": [
    {
     "data": {
      "text/plain": [
       "0"
      ]
     },
     "execution_count": 18,
     "metadata": {},
     "output_type": "execute_result"
    }
   ],
   "source": [
    "s.find(\"ab\")       # s.find(substring)"
   ]
  },
  {
   "cell_type": "code",
   "execution_count": 12,
   "metadata": {},
   "outputs": [
    {
     "data": {
      "text/plain": [
       "-1"
      ]
     },
     "execution_count": 12,
     "metadata": {},
     "output_type": "execute_result"
    }
   ],
   "source": [
    "s.find(\"ac\")"
   ]
  },
  {
   "cell_type": "code",
   "execution_count": 13,
   "metadata": {},
   "outputs": [],
   "source": [
    "q = \"ababsbbbdbbaababa\""
   ]
  },
  {
   "cell_type": "code",
   "execution_count": 14,
   "metadata": {},
   "outputs": [
    {
     "data": {
      "text/plain": [
       "2"
      ]
     },
     "execution_count": 14,
     "metadata": {},
     "output_type": "execute_result"
    }
   ],
   "source": [
    "q.find(\"ab\",2,15)"
   ]
  },
  {
   "cell_type": "code",
   "execution_count": 15,
   "metadata": {},
   "outputs": [
    {
     "data": {
      "text/plain": [
       "12"
      ]
     },
     "execution_count": 15,
     "metadata": {},
     "output_type": "execute_result"
    }
   ],
   "source": [
    "q.find(\"ab\",10,len(q))     # s.find(substring,begin,end)"
   ]
  },
  {
   "cell_type": "code",
   "execution_count": null,
   "metadata": {},
   "outputs": [],
   "source": []
  },
  {
   "cell_type": "code",
   "execution_count": 3,
   "metadata": {},
   "outputs": [
    {
     "data": {
      "text/plain": [
       "4"
      ]
     },
     "execution_count": 3,
     "metadata": {},
     "output_type": "execute_result"
    }
   ],
   "source": [
    "s.count(\"ab\")"
   ]
  },
  {
   "cell_type": "code",
   "execution_count": 11,
   "metadata": {},
   "outputs": [
    {
     "name": "stdout",
     "output_type": "stream",
     "text": [
      "Enter the main string: dsbbsbbbbsbbbbbsbsbb\n",
      "\n",
      "Enter the substring to search: bb\n",
      "\n",
      "bb present at index:  2\n",
      "bb present at index:  5\n",
      "bb present at index:  7\n",
      "bb present at index:  10\n",
      "bb present at index:  12\n",
      "bb present at index:  18\n",
      "\n",
      "The number of occurences:  6\n"
     ]
    }
   ],
   "source": [
    "s = input(\"Enter the main string: \")\n",
    "sub = input(\"\\nEnter the substring to search: \")\n",
    "print()\n",
    "l = len(s)\n",
    "i = s.find(sub)\n",
    "\n",
    "if i == -1:\n",
    "    print(sub, \"not not found in given string\")\n",
    "count = 0\n",
    "while i != -1:\n",
    "    count += 1\n",
    "    print(sub,\"present at index: \",i)\n",
    "    i = s.find(sub,i+len(sub),l)\n",
    "print(\"\\nThe number of occurences: \",count)\n",
    "    "
   ]
  },
  {
   "cell_type": "code",
   "execution_count": 44,
   "metadata": {},
   "outputs": [
    {
     "data": {
      "text/plain": [
       "22"
      ]
     },
     "execution_count": 44,
     "metadata": {},
     "output_type": "execute_result"
    }
   ],
   "source": [
    "x = \"dsahjfhjdwwwsjswwwawdsw\"\n",
    "\n",
    "x.rfind(\"w\")                   # rfind() method"
   ]
  },
  {
   "cell_type": "code",
   "execution_count": null,
   "metadata": {},
   "outputs": [],
   "source": []
  },
  {
   "cell_type": "markdown",
   "metadata": {},
   "source": [
    "## 2) index() :\n",
    "#### index() method is exactly as same as find() method EXCEPT that if the specified substring is not available then we will get value error"
   ]
  },
  {
   "cell_type": "code",
   "execution_count": 19,
   "metadata": {},
   "outputs": [
    {
     "data": {
      "text/plain": [
       "0"
      ]
     },
     "execution_count": 19,
     "metadata": {},
     "output_type": "execute_result"
    }
   ],
   "source": [
    "s = \"abdmfnbabbababbbabadsdmmabab\"\n",
    "sub = \"ab\"\n",
    "\n",
    "s.index(sub)"
   ]
  },
  {
   "cell_type": "code",
   "execution_count": 21,
   "metadata": {},
   "outputs": [
    {
     "ename": "ValueError",
     "evalue": "substring not found",
     "output_type": "error",
     "traceback": [
      "\u001b[1;31m---------------------------------------------------------------------------\u001b[0m",
      "\u001b[1;31mValueError\u001b[0m                                Traceback (most recent call last)",
      "\u001b[1;32m<ipython-input-21-da1bc693c15a>\u001b[0m in \u001b[0;36m<module>\u001b[1;34m\u001b[0m\n\u001b[1;32m----> 1\u001b[1;33m \u001b[0ms\u001b[0m\u001b[1;33m.\u001b[0m\u001b[0mindex\u001b[0m\u001b[1;33m(\u001b[0m\u001b[1;34m\"abc\"\u001b[0m\u001b[1;33m)\u001b[0m     \u001b[1;31m# ValueError: substring not found\u001b[0m\u001b[1;33m\u001b[0m\u001b[1;33m\u001b[0m\u001b[0m\n\u001b[0m",
      "\u001b[1;31mValueError\u001b[0m: substring not found"
     ]
    }
   ],
   "source": [
    "s.index(\"abc\")     # ValueError: substring not found"
   ]
  },
  {
   "cell_type": "code",
   "execution_count": 23,
   "metadata": {},
   "outputs": [
    {
     "name": "stdout",
     "output_type": "stream",
     "text": [
      "Enter the main string: ababaabbababba\n",
      "\n",
      "Enter the substring to search: abc\n",
      "\n",
      "substring not found\n"
     ]
    }
   ],
   "source": [
    "s = input(\"Enter the main string: \")\n",
    "sub = input(\"\\nEnter the substring to search: \")\n",
    "print()\n",
    "\n",
    "try:\n",
    "    s.index(sub)\n",
    "except:\n",
    "    print(\"substring not found\")\n",
    "else:\n",
    "    print(\"substring found\")"
   ]
  },
  {
   "cell_type": "code",
   "execution_count": null,
   "metadata": {},
   "outputs": [],
   "source": []
  },
  {
   "cell_type": "code",
   "execution_count": null,
   "metadata": {},
   "outputs": [],
   "source": []
  },
  {
   "cell_type": "markdown",
   "metadata": {},
   "source": [
    "## Counting substring in the given string : \n",
    "#### we can find the number of occurences of substring present in the given string by using count() method.\n",
    "\n",
    "### 1) s.count(substring) --> it will search through out the string\n",
    "### 1) s.count(substring,begin,end) --> it will search begin index to end-1 the string"
   ]
  },
  {
   "cell_type": "code",
   "execution_count": 24,
   "metadata": {},
   "outputs": [],
   "source": [
    "s = \"ababbsdfbabaabadabaadabd\""
   ]
  },
  {
   "cell_type": "code",
   "execution_count": 25,
   "metadata": {},
   "outputs": [
    {
     "data": {
      "text/plain": [
       "6"
      ]
     },
     "execution_count": 25,
     "metadata": {},
     "output_type": "execute_result"
    }
   ],
   "source": [
    "s.count(\"ab\")"
   ]
  },
  {
   "cell_type": "code",
   "execution_count": 26,
   "metadata": {},
   "outputs": [
    {
     "data": {
      "text/plain": [
       "4"
      ]
     },
     "execution_count": 26,
     "metadata": {},
     "output_type": "execute_result"
    }
   ],
   "source": [
    "s.count(\"ab\",4,len(s))"
   ]
  },
  {
   "cell_type": "code",
   "execution_count": 27,
   "metadata": {},
   "outputs": [
    {
     "data": {
      "text/plain": [
       "10"
      ]
     },
     "execution_count": 27,
     "metadata": {},
     "output_type": "execute_result"
    }
   ],
   "source": [
    "s.count(\"a\")"
   ]
  },
  {
   "cell_type": "code",
   "execution_count": null,
   "metadata": {},
   "outputs": [],
   "source": []
  },
  {
   "cell_type": "code",
   "execution_count": null,
   "metadata": {},
   "outputs": [],
   "source": []
  },
  {
   "cell_type": "markdown",
   "metadata": {},
   "source": [
    "## Replacing a string with another string : \n",
    "### s.replace(oldstring,newstring)\n",
    "#### Inside s, every occurences of old string will be replaced with new string"
   ]
  },
  {
   "cell_type": "code",
   "execution_count": 28,
   "metadata": {},
   "outputs": [],
   "source": [
    "s = \"Python is difficult language\""
   ]
  },
  {
   "cell_type": "code",
   "execution_count": 33,
   "metadata": {},
   "outputs": [],
   "source": [
    "s1 = s.replace(\"difficult\",\"easy\")"
   ]
  },
  {
   "cell_type": "code",
   "execution_count": 34,
   "metadata": {},
   "outputs": [
    {
     "data": {
      "text/plain": [
       "'Python is easy language'"
      ]
     },
     "execution_count": 34,
     "metadata": {},
     "output_type": "execute_result"
    }
   ],
   "source": [
    "s1"
   ]
  },
  {
   "cell_type": "code",
   "execution_count": 41,
   "metadata": {},
   "outputs": [
    {
     "name": "stdout",
     "output_type": "stream",
     "text": [
      "aaaaaaaaaaaaaaaaaaaaaaaaa\n",
      "abababababbabbbbabbababab\n"
     ]
    }
   ],
   "source": [
    "c = \"abababababbabbbbabbababab\"\n",
    "c1 = c.replace(\"b\",\"a\")\n",
    "\n",
    "print(c1)\n",
    "print(c)"
   ]
  },
  {
   "cell_type": "code",
   "execution_count": 47,
   "metadata": {},
   "outputs": [
    {
     "name": "stdout",
     "output_type": "stream",
     "text": [
      "c1 :  aaaaaaaaaaaaaaaaaaaaaaaaa\n",
      "c2 :  bbbbbbbbbbbbbbbbbbbbbbbbb\n",
      "c  :  abababababbabbbbabbababab\n"
     ]
    }
   ],
   "source": [
    "c = \"abababababbabbbbabbababab\"\n",
    "c1 = c.replace(\"b\",\"a\")\n",
    "c2 = c.replace(\"a\",\"b\")\n",
    "\n",
    "print(\"c1 : \",c1)\n",
    "print(\"c2 : \",c2)\n",
    "print(\"c  : \",c)"
   ]
  },
  {
   "cell_type": "code",
   "execution_count": null,
   "metadata": {},
   "outputs": [],
   "source": []
  },
  {
   "cell_type": "code",
   "execution_count": null,
   "metadata": {},
   "outputs": [],
   "source": []
  },
  {
   "cell_type": "markdown",
   "metadata": {},
   "source": [
    "## Splitting of strings :\n",
    "### s.split(separator)\n",
    "#### default separator is SPACE\n",
    "#### return type of split() method is LIST"
   ]
  },
  {
   "cell_type": "code",
   "execution_count": 34,
   "metadata": {},
   "outputs": [
    {
     "data": {
      "text/plain": [
       "['vinod', 'shende']"
      ]
     },
     "execution_count": 34,
     "metadata": {},
     "output_type": "execute_result"
    }
   ],
   "source": [
    "s = \"vinod-shende\"\n",
    "s.split(\"-\")\n"
   ]
  },
  {
   "cell_type": "code",
   "execution_count": 51,
   "metadata": {},
   "outputs": [
    {
     "data": {
      "text/plain": [
       "['A',\n",
       " 'B',\n",
       " 'C',\n",
       " 'D',\n",
       " 'E',\n",
       " 'F',\n",
       " 'G',\n",
       " 'H',\n",
       " 'I',\n",
       " 'J',\n",
       " 'K',\n",
       " 'L',\n",
       " 'M',\n",
       " 'N',\n",
       " 'O',\n",
       " 'P',\n",
       " 'Q',\n",
       " 'R',\n",
       " 'S',\n",
       " 'T',\n",
       " 'U',\n",
       " 'V',\n",
       " 'W',\n",
       " 'X',\n",
       " 'Y',\n",
       " 'Z']"
      ]
     },
     "execution_count": 51,
     "metadata": {},
     "output_type": "execute_result"
    }
   ],
   "source": [
    "alphabet = \"A B C D E F G H I J K L M N O P Q R S T U V W X Y Z\"\n",
    "alphabet.split()"
   ]
  },
  {
   "cell_type": "code",
   "execution_count": 52,
   "metadata": {},
   "outputs": [
    {
     "data": {
      "text/plain": [
       "['07', '01', '2001']"
      ]
     },
     "execution_count": 52,
     "metadata": {},
     "output_type": "execute_result"
    }
   ],
   "source": [
    "date = '07/01/2001'\n",
    "date.split('/') "
   ]
  },
  {
   "cell_type": "code",
   "execution_count": null,
   "metadata": {},
   "outputs": [],
   "source": []
  },
  {
   "cell_type": "code",
   "execution_count": null,
   "metadata": {},
   "outputs": [],
   "source": []
  },
  {
   "cell_type": "markdown",
   "metadata": {},
   "source": [
    "## Joining of strings : \n",
    "### we can join a group of strings (or strings in list or tuple) wrt the given separator\n",
    "### s = separator.join(group of string)"
   ]
  },
  {
   "cell_type": "code",
   "execution_count": 38,
   "metadata": {},
   "outputs": [],
   "source": [
    "s = \"-\".join(\"vinodshende\")"
   ]
  },
  {
   "cell_type": "code",
   "execution_count": 39,
   "metadata": {},
   "outputs": [
    {
     "data": {
      "text/plain": [
       "'v-i-n-o-d-s-h-e-n-d-e'"
      ]
     },
     "execution_count": 39,
     "metadata": {},
     "output_type": "execute_result"
    }
   ],
   "source": [
    "s"
   ]
  },
  {
   "cell_type": "code",
   "execution_count": 55,
   "metadata": {},
   "outputs": [
    {
     "name": "stdout",
     "output_type": "stream",
     "text": [
      "07/01/2001\n"
     ]
    }
   ],
   "source": [
    "l = [\"07\",\"01\",\"2001\"]\n",
    "date = \"/\".join(l)\n",
    "print(date)"
   ]
  },
  {
   "cell_type": "code",
   "execution_count": 59,
   "metadata": {},
   "outputs": [
    {
     "name": "stdout",
     "output_type": "stream",
     "text": [
      "Pune----->Mumbai----->Hyderabad\n"
     ]
    }
   ],
   "source": [
    "city = [\"Pune\",\"Mumbai\",\"Hyderabad\"]\n",
    "s = \"----->\".join(city)\n",
    "\n",
    "print(s)"
   ]
  },
  {
   "cell_type": "code",
   "execution_count": 60,
   "metadata": {},
   "outputs": [
    {
     "name": "stdout",
     "output_type": "stream",
     "text": [
      "07/01/2001\n"
     ]
    }
   ],
   "source": [
    "\n",
    "date = \"/\".join([\"07\",\"01\",\"2001\"])\n",
    "print(date)"
   ]
  },
  {
   "cell_type": "code",
   "execution_count": 61,
   "metadata": {},
   "outputs": [
    {
     "name": "stdout",
     "output_type": "stream",
     "text": [
      "PuneMumbaiHyderabad\n"
     ]
    }
   ],
   "source": [
    "city = [\"Pune\",\"Mumbai\",\"Hyderabad\"]\n",
    "s = \"\".join(city)\n",
    "\n",
    "print(s)"
   ]
  },
  {
   "cell_type": "code",
   "execution_count": null,
   "metadata": {},
   "outputs": [],
   "source": []
  },
  {
   "cell_type": "code",
   "execution_count": null,
   "metadata": {},
   "outputs": [],
   "source": []
  },
  {
   "cell_type": "markdown",
   "metadata": {},
   "source": [
    "## Changing case of a string : \n",
    "### 1) s.upper() --> convert all characters to upper case\n",
    "### 2) s.lower() --> convert all characters to lower case\n",
    "### 3) s.swapcase() --> convert all lower case characters to upper case and all upper case characters to lower case\n",
    "### 4) s.title() --> convert all characters to title case (i.e. first character of every word should be upper case and all remaining characters should be in lower case)\n",
    "### 5) s.capitalize() --> only first character will be converted to upper case and all remaining characters will be converted in lower case"
   ]
  },
  {
   "cell_type": "code",
   "execution_count": 12,
   "metadata": {},
   "outputs": [],
   "source": [
    "s = \"vinoD sHENde is gOod boY\""
   ]
  },
  {
   "cell_type": "code",
   "execution_count": 13,
   "metadata": {},
   "outputs": [
    {
     "data": {
      "text/plain": [
       "'VINOD SHENDE IS GOOD BOY'"
      ]
     },
     "execution_count": 13,
     "metadata": {},
     "output_type": "execute_result"
    }
   ],
   "source": [
    "s.upper()"
   ]
  },
  {
   "cell_type": "code",
   "execution_count": 14,
   "metadata": {},
   "outputs": [
    {
     "data": {
      "text/plain": [
       "'vinod shende is good boy'"
      ]
     },
     "execution_count": 14,
     "metadata": {},
     "output_type": "execute_result"
    }
   ],
   "source": [
    "s.lower()"
   ]
  },
  {
   "cell_type": "code",
   "execution_count": 15,
   "metadata": {},
   "outputs": [
    {
     "data": {
      "text/plain": [
       "'VINOd ShenDE IS GoOD BOy'"
      ]
     },
     "execution_count": 15,
     "metadata": {},
     "output_type": "execute_result"
    }
   ],
   "source": [
    "s.swapcase()"
   ]
  },
  {
   "cell_type": "code",
   "execution_count": 16,
   "metadata": {},
   "outputs": [
    {
     "data": {
      "text/plain": [
       "'Vinod Shende Is Good Boy'"
      ]
     },
     "execution_count": 16,
     "metadata": {},
     "output_type": "execute_result"
    }
   ],
   "source": [
    "s.title()"
   ]
  },
  {
   "cell_type": "code",
   "execution_count": 17,
   "metadata": {},
   "outputs": [
    {
     "data": {
      "text/plain": [
       "'Vinod shende is good boy'"
      ]
     },
     "execution_count": 17,
     "metadata": {},
     "output_type": "execute_result"
    }
   ],
   "source": [
    "s.capitalize()"
   ]
  },
  {
   "cell_type": "code",
   "execution_count": 19,
   "metadata": {},
   "outputs": [
    {
     "data": {
      "text/plain": [
       "'vinod shende is good boy'"
      ]
     },
     "execution_count": 19,
     "metadata": {},
     "output_type": "execute_result"
    }
   ],
   "source": [
    "s.casefold()"
   ]
  },
  {
   "cell_type": "code",
   "execution_count": 24,
   "metadata": {},
   "outputs": [
    {
     "name": "stdout",
     "output_type": "stream",
     "text": [
      "vinodshendeisgoodboy\n",
      "\n",
      "vinodshendeisgoodboy\n"
     ]
    }
   ],
   "source": [
    "print(\"\".join((s.lower()).split()))  # using join and split\n",
    "print()\n",
    "print((s.lower().replace(\" \",\"\")))    # using replace"
   ]
  },
  {
   "cell_type": "code",
   "execution_count": null,
   "metadata": {},
   "outputs": [],
   "source": []
  },
  {
   "cell_type": "code",
   "execution_count": null,
   "metadata": {},
   "outputs": [],
   "source": []
  },
  {
   "cell_type": "markdown",
   "metadata": {},
   "source": [
    "## Checking starting and ending part of the string :\n",
    "### 1) s.startswith(substring)\n",
    "### 2) s.endswith(substring)"
   ]
  },
  {
   "cell_type": "code",
   "execution_count": 25,
   "metadata": {},
   "outputs": [],
   "source": [
    "s = \"learning python is easy\""
   ]
  },
  {
   "cell_type": "code",
   "execution_count": 29,
   "metadata": {},
   "outputs": [
    {
     "data": {
      "text/plain": [
       "True"
      ]
     },
     "execution_count": 29,
     "metadata": {},
     "output_type": "execute_result"
    }
   ],
   "source": [
    "s.startswith(\"lea\")"
   ]
  },
  {
   "cell_type": "code",
   "execution_count": 30,
   "metadata": {},
   "outputs": [
    {
     "data": {
      "text/plain": [
       "True"
      ]
     },
     "execution_count": 30,
     "metadata": {},
     "output_type": "execute_result"
    }
   ],
   "source": [
    "s.endswith(\"sy\")"
   ]
  },
  {
   "cell_type": "code",
   "execution_count": 31,
   "metadata": {},
   "outputs": [
    {
     "data": {
      "text/plain": [
       "True"
      ]
     },
     "execution_count": 31,
     "metadata": {},
     "output_type": "execute_result"
    }
   ],
   "source": [
    "s.startswith(\"learning\")"
   ]
  },
  {
   "cell_type": "code",
   "execution_count": 32,
   "metadata": {},
   "outputs": [
    {
     "data": {
      "text/plain": [
       "False"
      ]
     },
     "execution_count": 32,
     "metadata": {},
     "output_type": "execute_result"
    }
   ],
   "source": [
    "s.startswith(\"python\")"
   ]
  },
  {
   "cell_type": "code",
   "execution_count": 33,
   "metadata": {},
   "outputs": [
    {
     "data": {
      "text/plain": [
       "True"
      ]
     },
     "execution_count": 33,
     "metadata": {},
     "output_type": "execute_result"
    }
   ],
   "source": [
    "s.endswith(\"easy\")"
   ]
  },
  {
   "cell_type": "code",
   "execution_count": 35,
   "metadata": {},
   "outputs": [
    {
     "data": {
      "text/plain": [
       "False"
      ]
     },
     "execution_count": 35,
     "metadata": {},
     "output_type": "execute_result"
    }
   ],
   "source": [
    "s.endswith(\"is\")"
   ]
  },
  {
   "cell_type": "code",
   "execution_count": null,
   "metadata": {},
   "outputs": [],
   "source": []
  },
  {
   "cell_type": "code",
   "execution_count": null,
   "metadata": {},
   "outputs": [],
   "source": []
  },
  {
   "cell_type": "markdown",
   "metadata": {},
   "source": [
    "## To check type of characters present in a string :\n",
    "#### 1) isalnum() : returns True if all characters are alphanumeric(a to z , A to Z , 0 to 9 )\n",
    "#### 2) isalpha() : returns True if all characters are alphabet symbols(a to z , A to Z )\n",
    "#### 3) isdigit() : returns True if all characters are digits only ( 0 to 9 )\n",
    "#### 4) islower() : returns True if all characters are lowercase alphabet symbols\n",
    "#### 5) isupper() : returns True if all characters are uppercase alphabet symbols\n",
    "#### 6) istitle() : returns True if string is in title case\n",
    "#### 7) isspace() : returns True if string contains only spaces"
   ]
  },
  {
   "cell_type": "code",
   "execution_count": 64,
   "metadata": {},
   "outputs": [],
   "source": [
    "s = \"Vinod3456\""
   ]
  },
  {
   "cell_type": "code",
   "execution_count": 65,
   "metadata": {},
   "outputs": [
    {
     "data": {
      "text/plain": [
       "True"
      ]
     },
     "execution_count": 65,
     "metadata": {},
     "output_type": "execute_result"
    }
   ],
   "source": [
    "s.isalnum()"
   ]
  },
  {
   "cell_type": "code",
   "execution_count": 66,
   "metadata": {},
   "outputs": [
    {
     "data": {
      "text/plain": [
       "True"
      ]
     },
     "execution_count": 66,
     "metadata": {},
     "output_type": "execute_result"
    }
   ],
   "source": [
    "\"23456\".isalnum()"
   ]
  },
  {
   "cell_type": "code",
   "execution_count": 46,
   "metadata": {},
   "outputs": [
    {
     "data": {
      "text/plain": [
       "False"
      ]
     },
     "execution_count": 46,
     "metadata": {},
     "output_type": "execute_result"
    }
   ],
   "source": [
    "s.isalpha()"
   ]
  },
  {
   "cell_type": "code",
   "execution_count": 47,
   "metadata": {},
   "outputs": [
    {
     "data": {
      "text/plain": [
       "True"
      ]
     },
     "execution_count": 47,
     "metadata": {},
     "output_type": "execute_result"
    }
   ],
   "source": [
    "\"viBHFGssa\".isalpha()"
   ]
  },
  {
   "cell_type": "code",
   "execution_count": 48,
   "metadata": {},
   "outputs": [
    {
     "data": {
      "text/plain": [
       "False"
      ]
     },
     "execution_count": 48,
     "metadata": {},
     "output_type": "execute_result"
    }
   ],
   "source": [
    "s.isdigit()"
   ]
  },
  {
   "cell_type": "code",
   "execution_count": 50,
   "metadata": {},
   "outputs": [
    {
     "data": {
      "text/plain": [
       "True"
      ]
     },
     "execution_count": 50,
     "metadata": {},
     "output_type": "execute_result"
    }
   ],
   "source": [
    "\"123456789\".isdigit()"
   ]
  },
  {
   "cell_type": "code",
   "execution_count": 51,
   "metadata": {},
   "outputs": [
    {
     "data": {
      "text/plain": [
       "False"
      ]
     },
     "execution_count": 51,
     "metadata": {},
     "output_type": "execute_result"
    }
   ],
   "source": [
    "s.islower()"
   ]
  },
  {
   "cell_type": "code",
   "execution_count": 53,
   "metadata": {},
   "outputs": [
    {
     "data": {
      "text/plain": [
       "True"
      ]
     },
     "execution_count": 53,
     "metadata": {},
     "output_type": "execute_result"
    }
   ],
   "source": [
    "\"vinod\".islower()"
   ]
  },
  {
   "cell_type": "code",
   "execution_count": 54,
   "metadata": {},
   "outputs": [
    {
     "data": {
      "text/plain": [
       "False"
      ]
     },
     "execution_count": 54,
     "metadata": {},
     "output_type": "execute_result"
    }
   ],
   "source": [
    "s.isupper()"
   ]
  },
  {
   "cell_type": "code",
   "execution_count": 57,
   "metadata": {},
   "outputs": [
    {
     "data": {
      "text/plain": [
       "True"
      ]
     },
     "execution_count": 57,
     "metadata": {},
     "output_type": "execute_result"
    }
   ],
   "source": [
    "\"VINOD\".isupper()"
   ]
  },
  {
   "cell_type": "code",
   "execution_count": 58,
   "metadata": {},
   "outputs": [
    {
     "data": {
      "text/plain": [
       "True"
      ]
     },
     "execution_count": 58,
     "metadata": {},
     "output_type": "execute_result"
    }
   ],
   "source": [
    "\"VINOD1234\".isupper()"
   ]
  },
  {
   "cell_type": "code",
   "execution_count": 60,
   "metadata": {},
   "outputs": [
    {
     "data": {
      "text/plain": [
       "True"
      ]
     },
     "execution_count": 60,
     "metadata": {},
     "output_type": "execute_result"
    }
   ],
   "source": [
    "s.istitle()"
   ]
  },
  {
   "cell_type": "code",
   "execution_count": 61,
   "metadata": {},
   "outputs": [
    {
     "data": {
      "text/plain": [
       "True"
      ]
     },
     "execution_count": 61,
     "metadata": {},
     "output_type": "execute_result"
    }
   ],
   "source": [
    "\"Vinod Shende\".istitle()"
   ]
  },
  {
   "cell_type": "code",
   "execution_count": 45,
   "metadata": {},
   "outputs": [
    {
     "data": {
      "text/plain": [
       "False"
      ]
     },
     "execution_count": 45,
     "metadata": {},
     "output_type": "execute_result"
    }
   ],
   "source": [
    "s.isspace()"
   ]
  },
  {
   "cell_type": "code",
   "execution_count": 62,
   "metadata": {},
   "outputs": [
    {
     "data": {
      "text/plain": [
       "False"
      ]
     },
     "execution_count": 62,
     "metadata": {},
     "output_type": "execute_result"
    }
   ],
   "source": [
    "\"vinod shende \".isspace()"
   ]
  },
  {
   "cell_type": "code",
   "execution_count": 63,
   "metadata": {},
   "outputs": [
    {
     "data": {
      "text/plain": [
       "True"
      ]
     },
     "execution_count": 63,
     "metadata": {},
     "output_type": "execute_result"
    }
   ],
   "source": [
    "\"           \".isspace()"
   ]
  },
  {
   "cell_type": "code",
   "execution_count": null,
   "metadata": {},
   "outputs": [],
   "source": []
  },
  {
   "cell_type": "markdown",
   "metadata": {},
   "source": [
    "## Formatting the strings :     "
   ]
  },
  {
   "cell_type": "code",
   "execution_count": 6,
   "metadata": {},
   "outputs": [
    {
     "name": "stdout",
     "output_type": "stream",
     "text": [
      "Vinod's salary is 50000 and his age is 21\n",
      "Vinod's salary is 50000 and his age is 21\n",
      "Vinod's salary is 50000 and his age is 21\n",
      "swapnil's salary is 10000 and his age is 40\n",
      "Vinod's salary is 50000 and his age is 21\n"
     ]
    }
   ],
   "source": [
    "name = \"Vinod\"\n",
    "salary = 50000\n",
    "age = 21\n",
    "\n",
    "print(\"{}'s salary is {} and his age is {}\".format(name,salary,age))\n",
    "\n",
    "print(\"{0}'s salary is {1} and his age is {2}\".format(name,salary,age))\n",
    "\n",
    "print(\"{b}'s salary is {a} and his age is {c}\".format(a=salary,b=name,c=age))\n",
    "\n",
    "print(\"{b}'s salary is {a} and his age is {c}\".format(a=10000,b=\"swapnil\",c=40))\n",
    "\n",
    "print(f\"{name}'s salary is {salary} and his age is {age}\")"
   ]
  },
  {
   "cell_type": "markdown",
   "metadata": {},
   "source": [
    "# PROGRAMS : "
   ]
  },
  {
   "cell_type": "markdown",
   "metadata": {},
   "source": [
    "## 1) Reverse the string"
   ]
  },
  {
   "cell_type": "code",
   "execution_count": 2,
   "metadata": {},
   "outputs": [
    {
     "name": "stdout",
     "output_type": "stream",
     "text": [
      "Enter the string to reverse : My name is VINOD\n",
      "Reversed string :  DONIV si eman yM\n"
     ]
    }
   ],
   "source": [
    "s = input(\"Enter the string to reverse : \")\n",
    "\n",
    "reversed_str = s[::-1]\n",
    "\n",
    "print(\"Reversed string : \",reversed_str)"
   ]
  },
  {
   "cell_type": "code",
   "execution_count": 6,
   "metadata": {},
   "outputs": [
    {
     "name": "stdout",
     "output_type": "stream",
     "text": [
      "Enter the string to reverse : My name is VINOD\n",
      "DONIV si eman yM\n"
     ]
    }
   ],
   "source": [
    "s = input(\"Enter the string to reverse : \")\n",
    "\n",
    "print(''.join(reversed(s)))"
   ]
  },
  {
   "cell_type": "code",
   "execution_count": 12,
   "metadata": {},
   "outputs": [
    {
     "name": "stdout",
     "output_type": "stream",
     "text": [
      "Enter the string to reverse : My name is VINOD\n",
      "Reversed string :  DONIV si eman yM\n"
     ]
    }
   ],
   "source": [
    "s = input(\"Enter the string to reverse : \")\n",
    "i = len(s)-1\n",
    "target = ''\n",
    "while i>=0:\n",
    "    target = target + s[i]\n",
    "    i -= 1\n",
    "\n",
    "print(\"Reversed string : \",target)"
   ]
  },
  {
   "cell_type": "markdown",
   "metadata": {},
   "source": [
    "## 2) Reverse the order of words"
   ]
  },
  {
   "cell_type": "code",
   "execution_count": 66,
   "metadata": {},
   "outputs": [
    {
     "name": "stdout",
     "output_type": "stream",
     "text": [
      "Enter the string : My name is Vinod Shende !!!!!!\n",
      "Reverse order of words:  !!!!!! Shende Vinod is name My\n"
     ]
    }
   ],
   "source": [
    "s = input(\"Enter the string : \")\n",
    "\n",
    "x = s.split()\n",
    "x.reverse()    # if you take y = x.reverse() , then y is None type\n",
    "i = len(x)-1\n",
    "while i>=0:\n",
    "    reverve_order = \" \".join(x)\n",
    "    i -= 1\n",
    "\n",
    "print(\"Reverse order of words: \",reverve_order)\n",
    "    "
   ]
  },
  {
   "cell_type": "code",
   "execution_count": 68,
   "metadata": {},
   "outputs": [
    {
     "name": "stdout",
     "output_type": "stream",
     "text": [
      "Enter the string : My name is Vinod Shende\n",
      "Reverse order of words:  Shende Vinod is name My\n"
     ]
    }
   ],
   "source": [
    "s = input(\"Enter the string : \")\n",
    "\n",
    "l = s.split()\n",
    "l1 = []\n",
    "i = len(l)-1\n",
    "\n",
    "while i >=0:\n",
    "    l1.append(l[i])\n",
    "    i -= 1\n",
    "reverve_order = \" \".join(l1)\n",
    "print(\"Reverse order of words: \",reverve_order)"
   ]
  },
  {
   "cell_type": "markdown",
   "metadata": {},
   "source": [
    "## 3) Reverse internal content of each word"
   ]
  },
  {
   "cell_type": "code",
   "execution_count": 72,
   "metadata": {},
   "outputs": [
    {
     "name": "stdout",
     "output_type": "stream",
     "text": [
      "Enter the string : My name is Vinod Shende\n",
      "Output :  yM eman si doniV ednehS\n"
     ]
    }
   ],
   "source": [
    "s = input(\"Enter the string : \")\n",
    "\n",
    "l = s.split()\n",
    "l1 = []\n",
    "for word in l:\n",
    "    w = word[::-1]\n",
    "    l1.append(w)\n",
    "    \n",
    "print(\"Output : \",\" \".join(l1))\n"
   ]
  },
  {
   "cell_type": "markdown",
   "metadata": {},
   "source": [
    "## 4) Print characters at odd position and even position for the given string"
   ]
  },
  {
   "cell_type": "code",
   "execution_count": 4,
   "metadata": {},
   "outputs": [
    {
     "name": "stdout",
     "output_type": "stream",
     "text": [
      "Enter the string : vinod\n",
      "characters at ODD postion :  vnd\n",
      "\n",
      "characters at Even postion :  io\n"
     ]
    }
   ],
   "source": [
    "s = input(\"Enter the string : \")\n",
    "\n",
    "print(\"characters at ODD postion : \",s[0::2])\n",
    "print(\"\\ncharacters at Even postion : \",s[1::2])"
   ]
  },
  {
   "cell_type": "code",
   "execution_count": 1,
   "metadata": {},
   "outputs": [
    {
     "name": "stdout",
     "output_type": "stream",
     "text": [
      "Enter the string : vinod\n",
      "characters at ODD postion : \n",
      "v n d \n",
      "characters at EVEN postion : \n",
      "i o "
     ]
    }
   ],
   "source": [
    "s = input(\"Enter the string : \")\n",
    "i = 0\n",
    "\n",
    "print(\"characters at ODD postion : \")\n",
    "while i<len(s):\n",
    "    \n",
    "    print(s[i],end=\" \")\n",
    "    i += 2\n",
    "        \n",
    "print(\"\\ncharacters at EVEN postion : \")\n",
    "i = 1\n",
    "while i<len(s):   \n",
    "        print(s[i],end=\" \")\n",
    "        i += 2\n",
    "\n",
    "        \n",
    "    "
   ]
  },
  {
   "cell_type": "markdown",
   "metadata": {},
   "source": [
    "## 5) Merge characters of 2 strings into a single string by taking characters alternatively"
   ]
  },
  {
   "cell_type": "code",
   "execution_count": 10,
   "metadata": {},
   "outputs": [
    {
     "name": "stdout",
     "output_type": "stream",
     "text": [
      "Enter the 1st string : Vndhne\n",
      "Enter the 2nd string : ioSed\n",
      "\n",
      "Output : V i n o d S h e n d e "
     ]
    }
   ],
   "source": [
    "s1 = input(\"Enter the 1st string : \")\n",
    "s2 = input(\"Enter the 2nd string : \")\n",
    "i = 0\n",
    "\n",
    "print(\"\\nOutput :\",end = \" \")\n",
    "for char1 in s1:\n",
    "    print(char1,end = \" \")\n",
    "    while i<=len(s2)-1:\n",
    "        for char2 in s2:\n",
    "            print(s2[i],end = \" \")\n",
    "            i += 1\n",
    "            break\n",
    "        break\n"
   ]
  },
  {
   "cell_type": "code",
   "execution_count": 14,
   "metadata": {},
   "outputs": [
    {
     "name": "stdout",
     "output_type": "stream",
     "text": [
      "Enter the 1st string : Vndhne\n",
      "Enter the 2nd string : ioSed\n",
      "\n",
      "Output : VinodShende\n"
     ]
    }
   ],
   "source": [
    "s1 = input(\"Enter the 1st string : \")\n",
    "s2 = input(\"Enter the 2nd string : \")\n",
    "output = \"\"\n",
    "i,j = 0,0\n",
    "\n",
    "while i<len(s1) or j<len(s2):\n",
    "    if i<len(s1):\n",
    "        output = output + s1[i]\n",
    "        i += 1\n",
    "    if j<len(s2):\n",
    "        output = output + s2[j]\n",
    "        j += 1 \n",
    "print(\"\\nOutput :\",output)"
   ]
  },
  {
   "cell_type": "markdown",
   "metadata": {},
   "source": [
    "## 6) Sort the characters of the string and first alphabet symbols followed by numeric values\n",
    "#### e.g : input : B4A1D3\n",
    "#### output : ABD134            "
   ]
  },
  {
   "cell_type": "code",
   "execution_count": 18,
   "metadata": {},
   "outputs": [
    {
     "name": "stdout",
     "output_type": "stream",
     "text": [
      "Enter the string : V12i34no5d\n",
      "\n",
      "Output : Vinod12345\n"
     ]
    }
   ],
   "source": [
    "s = input(\"Enter the string : \")\n",
    "alphabet = ''\n",
    "num = ''\n",
    "\n",
    "for char in s:\n",
    "    if char.isalpha() == True:\n",
    "        alphabet = alphabet + char\n",
    "    elif char.isdigit() == True:\n",
    "        num = num + char\n",
    "    else:\n",
    "        continue\n",
    "\n",
    "print(\"\\nOutput :\",alphabet+num)"
   ]
  },
  {
   "cell_type": "code",
   "execution_count": 21,
   "metadata": {},
   "outputs": [
    {
     "name": "stdout",
     "output_type": "stream",
     "text": [
      "Enter the string : B4A1D3\n",
      "\n",
      "Output : ABD134\n"
     ]
    }
   ],
   "source": [
    "s = input(\"Enter the string : \")\n",
    "alphabet = num = ''\n",
    "\n",
    "for char in s:\n",
    "    if char.isalpha() == True:\n",
    "        alphabet = alphabet + char\n",
    "        \n",
    "    elif char.isdigit() == True:\n",
    "        num = num + char\n",
    "        \n",
    "    else:\n",
    "        continue\n",
    "        \n",
    "alphabet = ''.join(sorted(alphabet))\n",
    "num = ''.join(sorted(num))\n",
    "\n",
    "print(\"\\nOutput :\",alphabet+num)"
   ]
  },
  {
   "cell_type": "markdown",
   "metadata": {},
   "source": [
    "## 7) Write the program for the following Requirement :\n",
    "#### input : a4b3c2\n",
    "#### output : aaaabbbcc"
   ]
  },
  {
   "cell_type": "code",
   "execution_count": 6,
   "metadata": {},
   "outputs": [
    {
     "name": "stdout",
     "output_type": "stream",
     "text": [
      "Enter the string : a11b5c30\n",
      "\n",
      "Output : aaaaaaaaaaabbbbbcccccccccccccccccccccccccccccc\n",
      "\n",
      "lenth of 'a' string : 11\n",
      "lenth of 'b' string : 5\n",
      "lenth of 'c' string : 30\n"
     ]
    }
   ],
   "source": [
    "s = input(\"Enter the string : \")\n",
    "alphabet = num = output = ''\n",
    "i= 0\n",
    "\n",
    "for char in s:\n",
    "    if char.isalpha()==True:\n",
    "        for x in s[i+1:]:\n",
    "            if x.isdigit()==True:\n",
    "                num += x\n",
    "                i += 1\n",
    "            else:\n",
    "                break\n",
    "        output += char * int(num)\n",
    "        i += 1\n",
    "        num = ''\n",
    "    else:\n",
    "        continue\n",
    "\n",
    "print(\"\\nOutput :\",output)\n",
    "\n",
    "a_string = b_string = c_string = \"\"\n",
    "j = 0\n",
    "\n",
    "while j<=len(output)-1 and output[j] == 'a':\n",
    "    a_string = a_string + \"a\"\n",
    "    j += 1\n",
    "while j<=len(output)-1 and output[j] == 'b':\n",
    "    b_string += \"b\"\n",
    "    j += 1\n",
    "while j<=len(output)-1 and output[j] == 'c' :\n",
    "    c_string += \"c\"\n",
    "    j += 1\n",
    "\n",
    "print(\"\\nlenth of 'a' string :\",len(a_string))\n",
    "print(\"lenth of 'b' string :\",len(b_string))\n",
    "print(\"lenth of 'c' string :\",len(c_string))\n"
   ]
  },
  {
   "cell_type": "code",
   "execution_count": 9,
   "metadata": {},
   "outputs": [
    {
     "name": "stdout",
     "output_type": "stream",
     "text": [
      "Enter the string : a11b5c30\n",
      "\n",
      "Output : abbbbbccc\n",
      "\n",
      "lenth of 'a' string : 1\n",
      "lenth of 'b' string : 5\n",
      "lenth of 'c' string : 3\n"
     ]
    }
   ],
   "source": [
    "s = input(\"Enter the string : \")\n",
    "output = ''\n",
    "\n",
    "for x in s:\n",
    "    if x.isalpha()==True:\n",
    "        output = output + x\n",
    "        previous = x\n",
    "    else:\n",
    "        output = output + previous*(int(x)-1)\n",
    "\n",
    "print(\"\\nOutput :\",output)\n",
    "\n",
    "a_string = b_string = c_string = \"\"\n",
    "j = 0\n",
    "\n",
    "while j<=len(output)-1 and output[j] == 'a':\n",
    "    a_string = a_string + \"a\"\n",
    "    j += 1\n",
    "while j<=len(output)-1 and output[j] == 'b':\n",
    "    b_string += \"b\"\n",
    "    j += 1\n",
    "while j<=len(output)-1 and output[j] == 'c' :\n",
    "    c_string += \"c\"\n",
    "    j += 1\n",
    "\n",
    "print(\"\\nlenth of 'a' string :\",len(a_string))\n",
    "print(\"lenth of 'b' string :\",len(b_string))\n",
    "print(\"lenth of 'c' string :\",len(c_string))\n"
   ]
  },
  {
   "cell_type": "markdown",
   "metadata": {},
   "source": [
    "### chr(unicode) --> The corresponding character\n",
    "### ord(character) --> The corresponding unicode value"
   ]
  },
  {
   "cell_type": "markdown",
   "metadata": {},
   "source": [
    "## 8) Write the program for the following Requirement :\n",
    "#### input : a4k3b2\n",
    "#### output : aeknbd"
   ]
  },
  {
   "cell_type": "code",
   "execution_count": 23,
   "metadata": {},
   "outputs": [
    {
     "name": "stdout",
     "output_type": "stream",
     "text": [
      "Enter the string : a4k3b2\n",
      "\n",
      "Output : aeknbd\n"
     ]
    }
   ],
   "source": [
    "s = input(\"Enter the string : \")\n",
    "output = ''\n",
    "\n",
    "for x in s:\n",
    "    if x.isalpha():\n",
    "        output += x\n",
    "        previous = x\n",
    "    else:\n",
    "        output += chr(ord(previous)+int(x))\n",
    "\n",
    "print(\"\\nOutput :\", output)"
   ]
  },
  {
   "cell_type": "code",
   "execution_count": 5,
   "metadata": {},
   "outputs": [
    {
     "name": "stdout",
     "output_type": "stream",
     "text": [
      "Enter the string :S87A80N73L\n",
      "\n",
      "Output : SWAPNIL\n"
     ]
    }
   ],
   "source": [
    "s = input(\"Enter the string :\")\n",
    "num = output = ''\n",
    "i = 0\n",
    "   \n",
    "for x in s:\n",
    "    if x.isalpha()==True:\n",
    "        output += x\n",
    "        for y in s[i+1:]:\n",
    "            if y.isdigit()==True:\n",
    "                num += y\n",
    "                i += 1\n",
    "            else:\n",
    "                break\n",
    "        #print(num)\n",
    "        if num != '':\n",
    "            output += chr(int(num))    # v105n111d\n",
    "        i += 1\n",
    "        num = ''\n",
    "    else:\n",
    "        continue\n",
    "\n",
    "print(\"\\nOutput :\", output)"
   ]
  },
  {
   "cell_type": "markdown",
   "metadata": {},
   "source": [
    "## 9) Remove duplicate characters from the given input string\n",
    "#### input : AAABBCBBCCCDDEEEAAA\n",
    "#### output : ABCDE"
   ]
  },
  {
   "cell_type": "code",
   "execution_count": 5,
   "metadata": {},
   "outputs": [
    {
     "name": "stdout",
     "output_type": "stream",
     "text": [
      "Enter the string : AAABBCBBCCCDDEEEAAA\n",
      "\n",
      "Output : ABCDE\n"
     ]
    }
   ],
   "source": [
    "s = input(\"Enter the string : \")\n",
    "output = \"\"\n",
    "\n",
    "for char in s:\n",
    "    if char not in output:\n",
    "        output += char\n",
    "    else:\n",
    "        continue\n",
    "        \n",
    "print(\"\\nOutput :\", output)\n",
    "        \n",
    "        "
   ]
  },
  {
   "cell_type": "code",
   "execution_count": 7,
   "metadata": {},
   "outputs": [
    {
     "name": "stdout",
     "output_type": "stream",
     "text": [
      "Enter the string : AAABBCBBCCCDDEEEAAA\n",
      "\n",
      "Output : ABCDE\n"
     ]
    }
   ],
   "source": [
    "s = input(\"Enter the string : \")\n",
    "l = []\n",
    "\n",
    "for char in s:\n",
    "    if char not in l:\n",
    "        l.append(char)\n",
    "output = ''.join(l)\n",
    "print(\"\\nOutput :\", output)"
   ]
  },
  {
   "cell_type": "code",
   "execution_count": null,
   "metadata": {},
   "outputs": [],
   "source": []
  },
  {
   "cell_type": "markdown",
   "metadata": {},
   "source": [
    "## 10) Find the number of occurrences of each character present in the given string"
   ]
  },
  {
   "cell_type": "code",
   "execution_count": 5,
   "metadata": {},
   "outputs": [
    {
     "name": "stdout",
     "output_type": "stream",
     "text": [
      "Enter the string : ABCABCABBCDE\n",
      "\n",
      "No. of occurrences of A in given string : 3\n",
      "No. of occurrences of B in given string : 4\n",
      "No. of occurrences of C in given string : 3\n",
      "No. of occurrences of D in given string : 1\n",
      "No. of occurrences of E in given string : 1\n"
     ]
    }
   ],
   "source": [
    "s = input(\"Enter the string : \")\n",
    "character = \"\"\n",
    "print()\n",
    "for char in s:\n",
    "    if char not in character:\n",
    "        character += char\n",
    "    else:\n",
    "        continue\n",
    "for x in character:\n",
    "    print(f\"No. of occurrences of {x} in given string : {s.count(x)}\")"
   ]
  },
  {
   "cell_type": "code",
   "execution_count": 19,
   "metadata": {},
   "outputs": [
    {
     "name": "stdout",
     "output_type": "stream",
     "text": [
      "Enter the string : ABCABCABBCDE\n",
      "A = 3 times\n",
      "B = 4 times\n",
      "C = 3 times\n",
      "D = 1 times\n",
      "E = 1 times\n"
     ]
    }
   ],
   "source": [
    "s = input(\"Enter the string : \")\n",
    "d = {}\n",
    "\n",
    "for x in s:\n",
    "    if x in d.keys():\n",
    "        d[x]=d[x]+1\n",
    "    else:\n",
    "        d[x] = 1\n",
    "for k,v in d.items():\n",
    "    print(\"{} = {} times\".format(k,v))"
   ]
  },
  {
   "cell_type": "markdown",
   "metadata": {},
   "source": [
    "## 11) Write the program for the following Requirement :\n",
    "#### input : 'one two three four five six seven'\n",
    "#### output : 'one owt three ruof five xis seven'"
   ]
  },
  {
   "cell_type": "code",
   "execution_count": 4,
   "metadata": {},
   "outputs": [
    {
     "name": "stdout",
     "output_type": "stream",
     "text": [
      "Enter the string : one two three four five six seven\n",
      "\n",
      "output:  one owt three ruof five xis seven\n"
     ]
    }
   ],
   "source": [
    "s = input(\"Enter the string : \")\n",
    "output = \"\"\n",
    "i = 0\n",
    "l = s.split()\n",
    "\n",
    "for x in l:\n",
    "    if i%2==0:\n",
    "        output += \" \"+ x\n",
    "        i += 1\n",
    "    else:\n",
    "        \n",
    "        output += \" \"+ x[::-1]\n",
    "        i += 1\n",
    "\n",
    "print(\"\\noutput:\",output)"
   ]
  },
  {
   "cell_type": "code",
   "execution_count": null,
   "metadata": {},
   "outputs": [],
   "source": []
  }
 ],
 "metadata": {
  "kernelspec": {
   "display_name": "Python 3",
   "language": "python",
   "name": "python3"
  },
  "language_info": {
   "codemirror_mode": {
    "name": "ipython",
    "version": 3
   },
   "file_extension": ".py",
   "mimetype": "text/x-python",
   "name": "python",
   "nbconvert_exporter": "python",
   "pygments_lexer": "ipython3",
   "version": "3.8.3"
  }
 },
 "nbformat": 4,
 "nbformat_minor": 4
}
