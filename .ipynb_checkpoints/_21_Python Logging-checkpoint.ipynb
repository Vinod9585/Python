{
 "cells": [
  {
   "cell_type": "markdown",
   "metadata": {},
   "source": [
    "### It is highly recommended to store complete application flow and exceptions information to a file. This process is called logging.\n",
    "### The main advanatages of logging are:\n",
    "### 1. We can use log files while performing debugging\n",
    "### 2. We can provide statistics like number of requests per day etc\n",
    "### To implement logging, Python provides inbuilt module logging."
   ]
  },
  {
   "cell_type": "markdown",
   "metadata": {},
   "source": [
    "                "
   ]
  },
  {
   "cell_type": "markdown",
   "metadata": {},
   "source": [
    "                          "
   ]
  },
  {
   "cell_type": "markdown",
   "metadata": {},
   "source": [
    "# Logging Levels:\n",
    "\n",
    "### Depending on type of information, logging data is divided according to the following 6 levels in python: \n",
    "\n",
    "#### 1. CRITICAL===>50\n",
    "     Represents a very serious problem that needs high attention\n",
    " \n",
    "#### 2. ERROR ===>40\n",
    "     Represents a serious error\n",
    "     \n",
    "#### 3. WARNING ==>30\n",
    "     Represents a warning message, some caution needed. It is alert to the programmer.\n",
    "     \n",
    "#### 4. INFO==>20\n",
    "     Represents a message with some important information\n",
    "     \n",
    "#### 5. DEBUG ===>10\n",
    "     Represents a message with debugging information\n",
    "     \n",
    "#### 6. NOTSET==>0\n",
    "     Represents that level is not set\n",
    "\n",
    "### By default while executing Python program only WARNING and higher level messages will be displayed"
   ]
  },
  {
   "cell_type": "markdown",
   "metadata": {},
   "source": [
    "                "
   ]
  },
  {
   "cell_type": "markdown",
   "metadata": {},
   "source": [
    "                  "
   ]
  },
  {
   "cell_type": "markdown",
   "metadata": {},
   "source": [
    "# How to implement Logging:\n",
    "\n",
    "### To perform logging, first we required to create a file to store messages and we have to specify which level messages required to store.\n",
    "### We can do this by using basicConfig() function of logging module. \n",
    "### logging.basicConfig(filename='log.txt',level=logging.WARNING)\n",
    "### The above line will create a file log.txt and we can store either WARNING level or higher level messages to that file.\n",
    "### After creating log file, we can write messages to that file by using the following methods :\n",
    "    logging.debug(message)\n",
    "    logging.info(message)\n",
    "    logging.warning(message)\n",
    "    logging.error(message)\n",
    "    logging.critical(message)"
   ]
  },
  {
   "cell_type": "markdown",
   "metadata": {},
   "source": [
    "### Q. Write a Python Program to create a log file and write WARNING and Higher level messages?"
   ]
  },
  {
   "cell_type": "code",
   "execution_count": 1,
   "metadata": {},
   "outputs": [
    {
     "name": "stdout",
     "output_type": "stream",
     "text": [
      "Python Logging\n"
     ]
    }
   ],
   "source": [
    "import logging\n",
    "logging.basicConfig(filename='log.txt',level=logging.WARNING)\n",
    "print(\"Python Logging\")\n",
    "logging.debug(\"debug message\")\n",
    "logging.info(\"info message\")\n",
    "logging.warning(\"warning message\")\n",
    "logging.error(\"error message\")\n",
    "logging.critical(\"critical message\")"
   ]
  },
  {
   "cell_type": "markdown",
   "metadata": {},
   "source": [
    "##### Output in log.txt file\n",
    "\n",
    "    WARNING:root:warning message\n",
    "    ERROR:root:error message\n",
    "    CRITICAL:root:critical message"
   ]
  },
  {
   "cell_type": "code",
   "execution_count": 2,
   "metadata": {},
   "outputs": [
    {
     "name": "stdout",
     "output_type": "stream",
     "text": [
      "Python Logging\n"
     ]
    }
   ],
   "source": [
    "import logging\n",
    "logging.basicConfig(filename='log.txt')\n",
    "print(\"Python Logging\")\n",
    "logging.debug(\"debug message\")\n",
    "logging.info(\"info message\")\n",
    "logging.warning(\"warning message\")\n",
    "logging.error(\"error message\")\n",
    "logging.critical(\"critical message\")"
   ]
  },
  {
   "cell_type": "markdown",
   "metadata": {},
   "source": [
    "##### Output in log.txt file\n",
    "\n",
    "    WARNING:root:warning message\n",
    "    ERROR:root:error message\n",
    "    CRITICAL:root:critical message"
   ]
  },
  {
   "cell_type": "markdown",
   "metadata": {},
   "source": [
    "### Note:In the above program only WARNING and higher level messages will be written to the log file. If we set level as DEBUG then all messages will be written to the log file.\n"
   ]
  },
  {
   "cell_type": "code",
   "execution_count": 1,
   "metadata": {},
   "outputs": [
    {
     "name": "stdout",
     "output_type": "stream",
     "text": [
      "Python Logging\n"
     ]
    }
   ],
   "source": [
    "import logging\n",
    "logging.basicConfig(filename='log.txt',level=logging.DEBUG)\n",
    "print(\"Python Logging\")\n",
    "logging.debug(\"debug message\")\n",
    "logging.info(\"info message\")\n",
    "logging.warning(\"warning message\")\n",
    "logging.error(\"error message\")\n",
    "logging.critical(\"critical message\")"
   ]
  },
  {
   "cell_type": "markdown",
   "metadata": {},
   "source": [
    "##### Output in log.txt file\n",
    "\n",
    "    DEBUG:root:debug message\n",
    "    INFO:root:info message\n",
    "    WARNING:root:warning message\n",
    "    ERROR:root:error message\n",
    "    CRITICAL:root:critical message\n"
   ]
  },
  {
   "cell_type": "code",
   "execution_count": 1,
   "metadata": {},
   "outputs": [
    {
     "name": "stdout",
     "output_type": "stream",
     "text": [
      "Enter first number: 12\n",
      "Enter second number: 0\n",
      "cannot divide by zero!!!!\n"
     ]
    }
   ],
   "source": [
    "import logging\n",
    "logging.basicConfig(filename='log.txt',level=logging.INFO)\n",
    "logging.info(\"A new request came\")\n",
    "\n",
    "try:\n",
    "    x = int(input(\"Enter first number: \"))\n",
    "    y = int(input(\"Enter second number: \"))\n",
    "    print(x/y)\n",
    "except ZeroDivisionError as msg:\n",
    "    print(\"cannot divide by zero!!!!\")\n",
    "    logging.exception(msg)\n",
    "except ValueError as msg:\n",
    "    print(\"Enter int values only!!!!\")\n",
    "    logging.exception(msg)\n",
    "logging.info(\"Request processing completed\")"
   ]
  },
  {
   "cell_type": "markdown",
   "metadata": {},
   "source": [
    "##### Output in log.txt file\n",
    "\n",
    "    INFO:root:A new request came\n",
    "    ERROR:root:division by zero\n",
    "    Traceback (most recent call last):\n",
    "      File \"<ipython-input-1-ed8c3fc79459>\", line 8, in <module>\n",
    "        print(x/y)\n",
    "    ZeroDivisionError: division by zero\n",
    "    INFO:root:Request processing completed"
   ]
  },
  {
   "cell_type": "code",
   "execution_count": 2,
   "metadata": {},
   "outputs": [
    {
     "name": "stdout",
     "output_type": "stream",
     "text": [
      "Enter first number: 12\n",
      "Enter second number: ten\n",
      "Enter int values only!!!!\n"
     ]
    }
   ],
   "source": [
    "import logging\n",
    "logging.basicConfig(filename='log.txt',level=logging.INFO)\n",
    "logging.info(\"A new request came\")\n",
    "\n",
    "try:\n",
    "    x = int(input(\"Enter first number: \"))\n",
    "    y = int(input(\"Enter second number: \"))\n",
    "    print(x/y)\n",
    "except ZeroDivisionError as msg:\n",
    "    print(\"cannot divide by zero!!!!\")\n",
    "    logging.exception(msg)\n",
    "except ValueError as msg:\n",
    "    print(\"Enter int values only!!!!\")\n",
    "    logging.exception(msg)\n",
    "logging.info(\"Request processing completed\")\n",
    "logging.info(\"---------------------------------------------------\")"
   ]
  },
  {
   "cell_type": "markdown",
   "metadata": {},
   "source": [
    "##### Output in log.txt file\n",
    "\n",
    "    INFO:root:A new request came\n",
    "    ERROR:root:invalid literal for int() with base 10: 'ten'\n",
    "    Traceback (most recent call last):\n",
    "      File \"<ipython-input-2-ed8c3fc79459>\", line 7, in <module>\n",
    "        y = int(input(\"Enter second number: \"))\n",
    "    ValueError: invalid literal for int() with base 10: 'ten'\n",
    "    INFO:root:Request processing completed"
   ]
  },
  {
   "cell_type": "code",
   "execution_count": null,
   "metadata": {},
   "outputs": [],
   "source": []
  },
  {
   "cell_type": "code",
   "execution_count": null,
   "metadata": {},
   "outputs": [],
   "source": []
  },
  {
   "cell_type": "code",
   "execution_count": null,
   "metadata": {},
   "outputs": [],
   "source": []
  },
  {
   "cell_type": "code",
   "execution_count": null,
   "metadata": {},
   "outputs": [],
   "source": []
  }
 ],
 "metadata": {
  "kernelspec": {
   "display_name": "Python 3",
   "language": "python",
   "name": "python3"
  },
  "language_info": {
   "codemirror_mode": {
    "name": "ipython",
    "version": 3
   },
   "file_extension": ".py",
   "mimetype": "text/x-python",
   "name": "python",
   "nbconvert_exporter": "python",
   "pygments_lexer": "ipython3",
   "version": "3.8.3"
  }
 },
 "nbformat": 4,
 "nbformat_minor": 4
}
